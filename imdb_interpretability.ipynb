{
  "cells": [
    {
      "cell_type": "markdown",
      "metadata": {
        "id": "view-in-github",
        "colab_type": "text"
      },
      "source": [
        "<a href=\"https://colab.research.google.com/github/rahul-ohlan/TWARP/blob/main/imdb_interpretability.ipynb\" target=\"_parent\"><img src=\"https://colab.research.google.com/assets/colab-badge.svg\" alt=\"Open In Colab\"/></a>"
      ]
    },
    {
      "cell_type": "code",
      "execution_count": 1,
      "metadata": {
        "colab": {
          "base_uri": "https://localhost:8080/"
        },
        "id": "5jhM_rClphVV",
        "outputId": "243958e1-380c-47e5-e268-2a77667d66e1"
      },
      "outputs": [
        {
          "output_type": "stream",
          "name": "stdout",
          "text": [
            "Mounted at /gdrive/\n",
            "/gdrive\n"
          ]
        }
      ],
      "source": [
        "from google.colab import drive\n",
        "drive.mount(\"/gdrive/\")\n",
        "%cd \"/gdrive/\""
      ]
    },
    {
      "cell_type": "code",
      "execution_count": 2,
      "metadata": {
        "colab": {
          "base_uri": "https://localhost:8080/"
        },
        "id": "l1TOXykYpxJE",
        "outputId": "c7b12365-dda7-4de2-9eb8-2f27afd7da22"
      },
      "outputs": [
        {
          "output_type": "stream",
          "name": "stdout",
          "text": [
            "\u001b[2K     \u001b[90m━━━━━━━━━━━━━━━━━━━━━━━━━━━━━━━━━━━━━━━━\u001b[0m \u001b[32m6.7/6.7 MB\u001b[0m \u001b[31m71.4 MB/s\u001b[0m eta \u001b[36m0:00:00\u001b[0m\n",
            "\u001b[2K     \u001b[90m━━━━━━━━━━━━━━━━━━━━━━━━━━━━━━━━━━━━━━\u001b[0m \u001b[32m199.2/199.2 KB\u001b[0m \u001b[31m23.0 MB/s\u001b[0m eta \u001b[36m0:00:00\u001b[0m\n",
            "\u001b[2K     \u001b[90m━━━━━━━━━━━━━━━━━━━━━━━━━━━━━━━━━━━━━━━━\u001b[0m \u001b[32m7.6/7.6 MB\u001b[0m \u001b[31m98.7 MB/s\u001b[0m eta \u001b[36m0:00:00\u001b[0m\n",
            "\u001b[?25h"
          ]
        }
      ],
      "source": [
        "!pip install transformers --quiet"
      ]
    },
    {
      "cell_type": "markdown",
      "source": [
        "## Load and Preprocess Data"
      ],
      "metadata": {
        "id": "PQObjrV-PUi-"
      }
    },
    {
      "cell_type": "code",
      "execution_count": 3,
      "metadata": {
        "colab": {
          "base_uri": "https://localhost:8080/"
        },
        "id": "qi_JM7Yfp4j8",
        "outputId": "4b12d09a-02e6-491e-bf5a-884feddae06c"
      },
      "outputs": [
        {
          "output_type": "stream",
          "name": "stderr",
          "text": [
            "[nltk_data] Downloading package punkt to /root/nltk_data...\n",
            "[nltk_data]   Unzipping tokenizers/punkt.zip.\n",
            "[nltk_data] Downloading package stopwords to /root/nltk_data...\n",
            "[nltk_data]   Unzipping corpora/stopwords.zip.\n"
          ]
        }
      ],
      "source": [
        "# import libraries\n",
        "import os\n",
        "import random\n",
        "import pickle\n",
        "from timeit import default_timer as timer\n",
        "\n",
        "import re\n",
        "import nltk\n",
        "nltk.download(\"punkt\")\n",
        "from nltk.corpus import stopwords\n",
        "nltk.download(\"stopwords\")\n",
        "from string import punctuation\n",
        "\n",
        "import pandas as pd\n",
        "import numpy as np\n",
        "import matplotlib.pyplot as plt\n",
        "\n",
        "from sklearn.model_selection import train_test_split\n",
        "from sklearn.preprocessing import OneHotEncoder\n",
        "from sklearn.compose import make_column_transformer\n",
        "from sklearn.utils import class_weight\n",
        "\n",
        "from transformers import TFAutoModel, BertTokenizerFast, BertModel\n",
        "import tensorflow as tf\n",
        "from tensorflow.keras import layers\n",
        "from tensorflow.keras import callbacks as cb\n",
        "from tensorflow.keras.models import Model, Sequential\n",
        "\n",
        "from tensorflow.keras.constraints import MaxNorm\n",
        "import keras\n",
        "from keras.layers import Input, Concatenate, Flatten, Embedding, Dense, Dropout, LSTM\n",
        "from keras.models import Model, Sequential\n",
        "from keras.layers import Lambda"
      ]
    },
    {
      "cell_type": "code",
      "execution_count": 4,
      "metadata": {
        "id": "P8taDrFgqG-u"
      },
      "outputs": [],
      "source": [
        "def SEED_EVERYTHING(seed_val):\n",
        "  random.seed(seed_val)\n",
        "  np.random.seed(seed_val)\n",
        "  # torch.manual_seed(seed_val)\n",
        "  # torch.cuda.manual_seed_all(seed_val)\n",
        "  tf.random.set_seed(seed_val)\n",
        "  return\n",
        "\n",
        "seed = 47\n",
        "SEED_EVERYTHING(seed)"
      ]
    },
    {
      "cell_type": "code",
      "execution_count": 5,
      "metadata": {
        "id": "3VpLpVqvqLfG"
      },
      "outputs": [],
      "source": [
        "def text_preprocessing(text,                                                               # text is a word string ex. 'rahul in ny'\n",
        "                      punctuations = r'''!()-[]{};:'\"\\,<>./?@#$%^&*_“~''',\n",
        "                      stop_words = set(stopwords.words(\"english\"))) -> list:  \n",
        "    \n",
        "        '''\n",
        "        A method to preprocess text\n",
        "        \n",
        "        '''\n",
        "\n",
        "        for x in text.lower():\n",
        "            if x in punctuations:\n",
        "                text = text.replace(x,\"\")\n",
        "                \n",
        "        # removing words that have numbers in them\n",
        "        text = re.sub(r'\\w*\\d\\w*', '', text)\n",
        "        # remove digits\n",
        "        text = re.sub(r'[0-9]+', ' ', text)\n",
        "        \n",
        "        # clean the whitespaces\n",
        "        \n",
        "        text = re.sub(r'\\s+', ' ', text).strip()\n",
        "        \n",
        "        \n",
        "        \n",
        "        # convert all text to a list\n",
        "        \n",
        "        # text = text.split(' ').  # uncomment if list required\n",
        "        emoji_pattern = re.compile(\"[\"\n",
        "                u\"\\U0001F600-\\U0001F64F\"  # emoticons\n",
        "                u\"\\U0001F300-\\U0001F5FF\"  # symbols & pictographs\n",
        "                u\"\\U0001F680-\\U0001F6FF\"  # transport & map symbols\n",
        "                u\"\\U0001F1E0-\\U0001F1FF\"  # flags (iOS)\n",
        "                                  \"]+\", flags=re.UNICODE)\n",
        "        text = emoji_pattern.sub(r'', text) # no emoji\n",
        "\n",
        "        # lowercase eth\n",
        "        \n",
        "        text = text.lower()\n",
        "        \n",
        "        \n",
        "        # drop the stop words\n",
        "        \n",
        "\n",
        "        \n",
        "        # add the tags\n",
        "\n",
        "        return text"
      ]
    },
    {
      "cell_type": "code",
      "execution_count": 6,
      "metadata": {
        "colab": {
          "base_uri": "https://localhost:8080/",
          "height": 424
        },
        "id": "Lrk3kpr3qR12",
        "outputId": "be7295a4-6196-4a10-b0d0-a7023e4fa5d6"
      },
      "outputs": [
        {
          "output_type": "execute_result",
          "data": {
            "text/plain": [
              "                                                  review  sentiment\n",
              "0      cleos second husband is an amateurish attempt ...        0.0\n",
              "1      first of all i would like to clarify that i co...        0.0\n",
              "2      volcano is set in los angeles where a minor ea...        0.0\n",
              "3      this must have been one of chaplins most ambit...        1.0\n",
              "4      military training films are becoming so common...        1.0\n",
              "...                                                  ...        ...\n",
              "49995  happenstance is the most new yorkfeeling paris...        1.0\n",
              "49996  this film tried to capitalize on the much bett...        1.0\n",
              "49997  another of many nearly forgotten movies cranke...        0.0\n",
              "49998  few movies have dashed expectations and upset ...        0.0\n",
              "49999  well well at last a view of this underrated fl...        0.0\n",
              "\n",
              "[50000 rows x 2 columns]"
            ],
            "text/html": [
              "\n",
              "  <div id=\"df-92b07647-b7d6-416b-8164-d52feb877c6e\">\n",
              "    <div class=\"colab-df-container\">\n",
              "      <div>\n",
              "<style scoped>\n",
              "    .dataframe tbody tr th:only-of-type {\n",
              "        vertical-align: middle;\n",
              "    }\n",
              "\n",
              "    .dataframe tbody tr th {\n",
              "        vertical-align: top;\n",
              "    }\n",
              "\n",
              "    .dataframe thead th {\n",
              "        text-align: right;\n",
              "    }\n",
              "</style>\n",
              "<table border=\"1\" class=\"dataframe\">\n",
              "  <thead>\n",
              "    <tr style=\"text-align: right;\">\n",
              "      <th></th>\n",
              "      <th>review</th>\n",
              "      <th>sentiment</th>\n",
              "    </tr>\n",
              "  </thead>\n",
              "  <tbody>\n",
              "    <tr>\n",
              "      <th>0</th>\n",
              "      <td>cleos second husband is an amateurish attempt ...</td>\n",
              "      <td>0.0</td>\n",
              "    </tr>\n",
              "    <tr>\n",
              "      <th>1</th>\n",
              "      <td>first of all i would like to clarify that i co...</td>\n",
              "      <td>0.0</td>\n",
              "    </tr>\n",
              "    <tr>\n",
              "      <th>2</th>\n",
              "      <td>volcano is set in los angeles where a minor ea...</td>\n",
              "      <td>0.0</td>\n",
              "    </tr>\n",
              "    <tr>\n",
              "      <th>3</th>\n",
              "      <td>this must have been one of chaplins most ambit...</td>\n",
              "      <td>1.0</td>\n",
              "    </tr>\n",
              "    <tr>\n",
              "      <th>4</th>\n",
              "      <td>military training films are becoming so common...</td>\n",
              "      <td>1.0</td>\n",
              "    </tr>\n",
              "    <tr>\n",
              "      <th>...</th>\n",
              "      <td>...</td>\n",
              "      <td>...</td>\n",
              "    </tr>\n",
              "    <tr>\n",
              "      <th>49995</th>\n",
              "      <td>happenstance is the most new yorkfeeling paris...</td>\n",
              "      <td>1.0</td>\n",
              "    </tr>\n",
              "    <tr>\n",
              "      <th>49996</th>\n",
              "      <td>this film tried to capitalize on the much bett...</td>\n",
              "      <td>1.0</td>\n",
              "    </tr>\n",
              "    <tr>\n",
              "      <th>49997</th>\n",
              "      <td>another of many nearly forgotten movies cranke...</td>\n",
              "      <td>0.0</td>\n",
              "    </tr>\n",
              "    <tr>\n",
              "      <th>49998</th>\n",
              "      <td>few movies have dashed expectations and upset ...</td>\n",
              "      <td>0.0</td>\n",
              "    </tr>\n",
              "    <tr>\n",
              "      <th>49999</th>\n",
              "      <td>well well at last a view of this underrated fl...</td>\n",
              "      <td>0.0</td>\n",
              "    </tr>\n",
              "  </tbody>\n",
              "</table>\n",
              "<p>50000 rows × 2 columns</p>\n",
              "</div>\n",
              "      <button class=\"colab-df-convert\" onclick=\"convertToInteractive('df-92b07647-b7d6-416b-8164-d52feb877c6e')\"\n",
              "              title=\"Convert this dataframe to an interactive table.\"\n",
              "              style=\"display:none;\">\n",
              "        \n",
              "  <svg xmlns=\"http://www.w3.org/2000/svg\" height=\"24px\"viewBox=\"0 0 24 24\"\n",
              "       width=\"24px\">\n",
              "    <path d=\"M0 0h24v24H0V0z\" fill=\"none\"/>\n",
              "    <path d=\"M18.56 5.44l.94 2.06.94-2.06 2.06-.94-2.06-.94-.94-2.06-.94 2.06-2.06.94zm-11 1L8.5 8.5l.94-2.06 2.06-.94-2.06-.94L8.5 2.5l-.94 2.06-2.06.94zm10 10l.94 2.06.94-2.06 2.06-.94-2.06-.94-.94-2.06-.94 2.06-2.06.94z\"/><path d=\"M17.41 7.96l-1.37-1.37c-.4-.4-.92-.59-1.43-.59-.52 0-1.04.2-1.43.59L10.3 9.45l-7.72 7.72c-.78.78-.78 2.05 0 2.83L4 21.41c.39.39.9.59 1.41.59.51 0 1.02-.2 1.41-.59l7.78-7.78 2.81-2.81c.8-.78.8-2.07 0-2.86zM5.41 20L4 18.59l7.72-7.72 1.47 1.35L5.41 20z\"/>\n",
              "  </svg>\n",
              "      </button>\n",
              "      \n",
              "  <style>\n",
              "    .colab-df-container {\n",
              "      display:flex;\n",
              "      flex-wrap:wrap;\n",
              "      gap: 12px;\n",
              "    }\n",
              "\n",
              "    .colab-df-convert {\n",
              "      background-color: #E8F0FE;\n",
              "      border: none;\n",
              "      border-radius: 50%;\n",
              "      cursor: pointer;\n",
              "      display: none;\n",
              "      fill: #1967D2;\n",
              "      height: 32px;\n",
              "      padding: 0 0 0 0;\n",
              "      width: 32px;\n",
              "    }\n",
              "\n",
              "    .colab-df-convert:hover {\n",
              "      background-color: #E2EBFA;\n",
              "      box-shadow: 0px 1px 2px rgba(60, 64, 67, 0.3), 0px 1px 3px 1px rgba(60, 64, 67, 0.15);\n",
              "      fill: #174EA6;\n",
              "    }\n",
              "\n",
              "    [theme=dark] .colab-df-convert {\n",
              "      background-color: #3B4455;\n",
              "      fill: #D2E3FC;\n",
              "    }\n",
              "\n",
              "    [theme=dark] .colab-df-convert:hover {\n",
              "      background-color: #434B5C;\n",
              "      box-shadow: 0px 1px 3px 1px rgba(0, 0, 0, 0.15);\n",
              "      filter: drop-shadow(0px 1px 2px rgba(0, 0, 0, 0.3));\n",
              "      fill: #FFFFFF;\n",
              "    }\n",
              "  </style>\n",
              "\n",
              "      <script>\n",
              "        const buttonEl =\n",
              "          document.querySelector('#df-92b07647-b7d6-416b-8164-d52feb877c6e button.colab-df-convert');\n",
              "        buttonEl.style.display =\n",
              "          google.colab.kernel.accessAllowed ? 'block' : 'none';\n",
              "\n",
              "        async function convertToInteractive(key) {\n",
              "          const element = document.querySelector('#df-92b07647-b7d6-416b-8164-d52feb877c6e');\n",
              "          const dataTable =\n",
              "            await google.colab.kernel.invokeFunction('convertToInteractive',\n",
              "                                                     [key], {});\n",
              "          if (!dataTable) return;\n",
              "\n",
              "          const docLinkHtml = 'Like what you see? Visit the ' +\n",
              "            '<a target=\"_blank\" href=https://colab.research.google.com/notebooks/data_table.ipynb>data table notebook</a>'\n",
              "            + ' to learn more about interactive tables.';\n",
              "          element.innerHTML = '';\n",
              "          dataTable['output_type'] = 'display_data';\n",
              "          await google.colab.output.renderOutput(dataTable, element);\n",
              "          const docLink = document.createElement('div');\n",
              "          docLink.innerHTML = docLinkHtml;\n",
              "          element.appendChild(docLink);\n",
              "        }\n",
              "      </script>\n",
              "    </div>\n",
              "  </div>\n",
              "  "
            ]
          },
          "metadata": {},
          "execution_count": 6
        }
      ],
      "source": [
        "# IMDB Dataset\n",
        "dataframe = pd.read_csv('/gdrive/Shareddrives/Thesis/datasets/IMDB_Dataset.csv')\n",
        "dataframe[\"sentiment\"] = dataframe[\"sentiment\"].apply(lambda x : 1.0 if x == \"positive\" else 0.0)\n",
        "dataframe = dataframe.sample(frac = 1).reset_index(drop = True)\n",
        "dataframe[\"review\"] = dataframe[\"review\"].apply(lambda x : text_preprocessing(x))\n",
        "dataframe"
      ]
    },
    {
      "cell_type": "code",
      "execution_count": 7,
      "metadata": {
        "colab": {
          "base_uri": "https://localhost:8080/"
        },
        "id": "GNNc-3j1rG3j",
        "outputId": "cc82cf4f-45e3-47da-e604-efec757fd45f"
      },
      "outputs": [
        {
          "output_type": "execute_result",
          "data": {
            "text/plain": [
              "0.0    0.5\n",
              "1.0    0.5\n",
              "Name: sentiment, dtype: float64"
            ]
          },
          "metadata": {},
          "execution_count": 7
        }
      ],
      "source": [
        "# class imbalance?\n",
        "dataframe[\"sentiment\"].value_counts(normalize=True)"
      ]
    },
    {
      "cell_type": "code",
      "execution_count": 8,
      "metadata": {
        "id": "PIZKqFXtrwqn"
      },
      "outputs": [],
      "source": [
        "# NO Apparent Class Imbalance"
      ]
    },
    {
      "cell_type": "code",
      "execution_count": 9,
      "metadata": {
        "colab": {
          "base_uri": "https://localhost:8080/"
        },
        "id": "ogI2F5Z-sUF-",
        "outputId": "76e00ca4-6511-49df-8f1a-52534c08194d"
      },
      "outputs": [
        {
          "output_type": "execute_result",
          "data": {
            "text/plain": [
              "array([ 0.        ,  3.33333333,  6.66666667, 10.        ])"
            ]
          },
          "metadata": {},
          "execution_count": 9
        }
      ],
      "source": [
        "np.linspace(0,10,4)"
      ]
    },
    {
      "cell_type": "code",
      "execution_count": 10,
      "metadata": {
        "colab": {
          "base_uri": "https://localhost:8080/",
          "height": 483
        },
        "id": "EYW93QgIr2Jl",
        "outputId": "d1bb181c-6ae8-4ea9-a67a-32b4ca4162fb"
      },
      "outputs": [
        {
          "output_type": "display_data",
          "data": {
            "text/plain": [
              "<Figure size 1152x576 with 1 Axes>"
            ],
            "image/png": "[encoded data removed]"
          },
          "metadata": {
            "needs_background": "light"
          }
        }
      ],
      "source": [
        "# token lengths distribution in the dataset\n",
        "token_lengths = [len(i.split()) for i in dataframe[\"review\"]]\n",
        "plt.figure(figsize=(16,8))\n",
        "plt.hist(token_lengths,bins = 30,edgecolor=\"black\")\n",
        "plt.xticks(ticks = np.linspace(10,1000,11))\n",
        "plt.show()"
      ]
    },
    {
      "cell_type": "code",
      "execution_count": 11,
      "metadata": {
        "id": "h10AYNt0r9f2"
      },
      "outputs": [],
      "source": [
        "# token_length 128, seems a good fit for data\n",
        "train_df, temp_df = train_test_split(dataframe, test_size= 0.30, stratify= dataframe[\"sentiment\"], random_state = 47)\n",
        "\n",
        "val_df,   test_df   = train_test_split(temp_df, test_size= 0.50, stratify= temp_df[\"sentiment\"],random_state = 47)\n",
        "\n",
        "train_df = train_df.reset_index(drop=True)\n",
        "val_df   = val_df.reset_index(drop  = True)\n",
        "test_df  = test_df.reset_index(drop = True)"
      ]
    },
    {
      "cell_type": "code",
      "execution_count": 12,
      "metadata": {
        "colab": {
          "base_uri": "https://localhost:8080/",
          "height": 286,
          "referenced_widgets": [
            "307874372b744683a5d182f276ad0f72",
            "dd47b7f7580244e5aec3f0fe18bc51cd",
            "32501147ef524d6c8e3eadd3e533d278",
            "30a74a5119e54bdb97ada38db49a7531",
            "086ca121fc0b47f9b34da38f745b1951",
            "7d40a2b8157044d0b9aa7bf83e190baa",
            "eb5c3644cb974ccf807b0fba5629c53c",
            "42516ac8d7ac404da02b70967d4f4475",
            "08f75467cabd4930acb4485e28f30407",
            "d5db204dd7f94f609702e19dc98aae03",
            "44c31bd4fcf74faf991e645aca46448b",
            "2fc02e0ba8b6472dbd4d15b402dd3d08",
            "15c3f17595994707b3c07dd433c5c07e",
            "ad22f383eacc441b9b8ee93846dd4b81",
            "abd1c8f0290c4932b448af570a487dac",
            "bc050c2ad1f343549b7f95cd323dd88c",
            "bcf27b2f96fc4944bb23825944adcd88",
            "26ffe0cef3fb44ef9cff16d0507a292e",
            "b5e7d2e5bd2e41a6a48f69b22a67e50c",
            "82c842cc823a49d5aa87914191298a6b",
            "dbff563aff214cddbe5b41fe2b39d31b",
            "e1e5664576994a22b2bdb14e73b1d13d",
            "2eca2cde77c8430dac50165061759c0d",
            "f51c0b57c69246cd88bb1aad4d3f7212",
            "a36b576896e645289dd5a4e95984045d",
            "e9ab5b03f77b49448bf3043342ed08c1",
            "16d4da46410448909b54519fe56804a2",
            "7d1fe722cc814a20a5610e3530f5d5af",
            "6a2c91585b4245d2b7c68913ef65bed6",
            "4f5a989674e249c982b471f98f1059d6",
            "6397682127674739990ac44ec800c9db",
            "b39f01ea03fa42f5944c68a6677f8f2d",
            "eebe333407d34a478f7deec3d388b1f1",
            "3a1be58c68c84eca9f860f313162aeb8",
            "6887fe191a264d0d860cfa16811fe97f",
            "9c577091845d4b599a3e4f289b7ad1f2",
            "ea6f438e41494e89afa8e49412cdabb9",
            "369a1884181e47efaaa4bc342dadb451",
            "7138807ec64f4c0a97d20b21669fdbcb",
            "304e157a9a2a4c689df85b4c8777f40f",
            "90192e89c33742f8b00c5940d8077673",
            "323263f6c26f4715a5b3a6566d9a45df",
            "66f57f301db64871a3fb9096d4c7e4bd",
            "38d501c06d4a42a990b05d94f7348831",
            "4ba655ec3f5f47c796120cdd71cfb809",
            "1db230b363834f00bc50e517d51e2d5b",
            "14965d57a552423492fc65af37753f0d",
            "2fc65efa14a94c73934452a463514136",
            "71f8a206f7c34edebf1bcc388b38406e",
            "f6ac5ed2937c4a59b64bf9995a7efc80",
            "7230defe631748f78fbf676c8e0403cd",
            "01c99ebc2d06436bbe5c824b6e2c770d",
            "8420d5f732e243faa0d78d66a915d8b4",
            "c0eeff85f32c41eb818de8ee0f30ebf1",
            "6650bf9192cb4898b6d4b28a72d03a29"
          ]
        },
        "id": "cES0lyR5t28d",
        "outputId": "c41e570d-dcc5-4042-d856-b84b00639dba"
      },
      "outputs": [
        {
          "output_type": "display_data",
          "data": {
            "text/plain": [
              "Downloading (…)lve/main/config.json:   0%|          | 0.00/570 [00:00<?, ?B/s]"
            ],
            "application/vnd.jupyter.widget-view+json": {
              "version_major": 2,
              "version_minor": 0,
              "model_id": "307874372b744683a5d182f276ad0f72"
            }
          },
          "metadata": {}
        },
        {
          "output_type": "display_data",
          "data": {
            "text/plain": [
              "Downloading tf_model.h5:   0%|          | 0.00/536M [00:00<?, ?B/s]"
            ],
            "application/vnd.jupyter.widget-view+json": {
              "version_major": 2,
              "version_minor": 0,
              "model_id": "2fc02e0ba8b6472dbd4d15b402dd3d08"
            }
          },
          "metadata": {}
        },
        {
          "output_type": "stream",
          "name": "stderr",
          "text": [
            "Some layers from the model checkpoint at bert-base-uncased were not used when initializing TFBertModel: ['mlm___cls', 'nsp___cls']\n",
            "- This IS expected if you are initializing TFBertModel from the checkpoint of a model trained on another task or with another architecture (e.g. initializing a BertForSequenceClassification model from a BertForPreTraining model).\n",
            "- This IS NOT expected if you are initializing TFBertModel from the checkpoint of a model that you expect to be exactly identical (initializing a BertForSequenceClassification model from a BertForSequenceClassification model).\n",
            "All the layers of TFBertModel were initialized from the model checkpoint at bert-base-uncased.\n",
            "If your task is similar to the task the model of the checkpoint was trained on, you can already use TFBertModel for predictions without further training.\n"
          ]
        },
        {
          "output_type": "display_data",
          "data": {
            "text/plain": [
              "Downloading (…)okenizer_config.json:   0%|          | 0.00/28.0 [00:00<?, ?B/s]"
            ],
            "application/vnd.jupyter.widget-view+json": {
              "version_major": 2,
              "version_minor": 0,
              "model_id": "2eca2cde77c8430dac50165061759c0d"
            }
          },
          "metadata": {}
        },
        {
          "output_type": "display_data",
          "data": {
            "text/plain": [
              "Downloading (…)solve/main/vocab.txt:   0%|          | 0.00/232k [00:00<?, ?B/s]"
            ],
            "application/vnd.jupyter.widget-view+json": {
              "version_major": 2,
              "version_minor": 0,
              "model_id": "3a1be58c68c84eca9f860f313162aeb8"
            }
          },
          "metadata": {}
        },
        {
          "output_type": "display_data",
          "data": {
            "text/plain": [
              "Downloading (…)/main/tokenizer.json:   0%|          | 0.00/466k [00:00<?, ?B/s]"
            ],
            "application/vnd.jupyter.widget-view+json": {
              "version_major": 2,
              "version_minor": 0,
              "model_id": "4ba655ec3f5f47c796120cdd71cfb809"
            }
          },
          "metadata": {}
        }
      ],
      "source": [
        "# load bertModel, bertTokenizer and freeze all layers\n",
        "bertModel = TFAutoModel.from_pretrained(\"bert-base-uncased\")\n",
        "tokenizer = BertTokenizerFast.from_pretrained(\"bert-base-uncased\")\n",
        "bertModel.trainable = False"
      ]
    },
    {
      "cell_type": "code",
      "execution_count": 13,
      "metadata": {
        "colab": {
          "base_uri": "https://localhost:8080/"
        },
        "id": "JkzkoZszt7Hy",
        "outputId": "e6606b51-fff7-40e4-96ac-0a1ec9c988c8"
      },
      "outputs": [
        {
          "output_type": "stream",
          "name": "stdout",
          "text": [
            "Model: \"tf_bert_model\"\n",
            "_________________________________________________________________\n",
            " Layer (type)                Output Shape              Param #   \n",
            "=================================================================\n",
            " bert (TFBertMainLayer)      multiple                  109482240 \n",
            "                                                                 \n",
            "=================================================================\n",
            "Total params: 109,482,240\n",
            "Trainable params: 0\n",
            "Non-trainable params: 109,482,240\n",
            "_________________________________________________________________\n"
          ]
        }
      ],
      "source": [
        "bertModel.summary()"
      ]
    },
    {
      "cell_type": "code",
      "execution_count": 14,
      "metadata": {
        "id": "9NY-2WVGtOSF"
      },
      "outputs": [],
      "source": [
        "# dataset generator (input to tf.data.Dataset.from_generator())\n",
        "class dataset:\n",
        "  \n",
        "  def __init__(self,text,labels,max_length, tokenizer,projection_dim, val = False):\n",
        "\n",
        "    self.text =   text\n",
        "    self.labels = labels\n",
        "    self.max_length = max_length\n",
        "    self.tokenizer = tokenizer\n",
        "    self.flag = val\n",
        "    self.projection_dim = projection_dim\n",
        "\n",
        "  def __len__(self):\n",
        "\n",
        "    return  self.text.shape[0]\n",
        "\n",
        "  def __getitem__(self,index):\n",
        "\n",
        "    sentence = self.text[index]\n",
        "    category = self.labels[index]\n",
        "\n",
        "    return sentence, category\n",
        "    \n",
        "\n",
        "  # shuffle the dataset after each epoch\n",
        "  def on_epoch_end(self):\n",
        "\n",
        "    random_idx = random.sample(list(range(self.__len__())), k = self.__len__())\n",
        "    self.text   = self.text[random_idx]\n",
        "    self.labels = self.labels[random_idx]\n",
        "\n",
        "  def __call__(self):\n",
        "\n",
        "    for i in range(self.__len__()):\n",
        "      sentence, label = self.__getitem__(i)\n",
        "      encodings = self.tokenizer(sentence,\n",
        "                                 max_length = self.max_length,\n",
        "                                 padding = \"max_length\",\n",
        "                                 truncation = True)\n",
        "      \n",
        "      input_ids  = np.array(encodings[\"input_ids\"])\n",
        "      # input_ids2 = input_ids.copy()\n",
        "      masks      = np.array(encodings[\"attention_mask\"])\n",
        "      ttids      = np.array(encodings[\"token_type_ids\"])\n",
        "\n",
        "      embedding_index = np.array([i for i in range(self.projection_dim)])\n",
        "      embedding_index = np.ravel(embedding_index)\n",
        "\n",
        "      embedding_index = np.tile(embedding_index, (input_ids[0:1].shape[0],))\n",
        "\n",
        "      yield {\"input_ids\": input_ids, \"attention_masks\": masks,\"space\": embedding_index}, label\n",
        "      # randomize the dataset on epoch end, only in case of training dataset\n",
        "      if i == self.__len__() -1 and self.flag is False:\n",
        "        self.on_epoch_end()"
      ]
    },
    {
      "cell_type": "markdown",
      "source": [
        "## HYPERPARAMETERS"
      ],
      "metadata": {
        "id": "WLSvLaJ8QjoG"
      }
    },
    {
      "cell_type": "code",
      "source": [
        "MAX_LENGTH = 128\n",
        "BATCH_SIZE = 32\n",
        "PROJECTION_DIM = 300\n",
        "VECTOR_DIM = 768"
      ],
      "metadata": {
        "id": "qkqJK3WqQnG1"
      },
      "execution_count": 15,
      "outputs": []
    },
    {
      "cell_type": "code",
      "execution_count": 16,
      "metadata": {
        "id": "opL4rVNOuchf"
      },
      "outputs": [],
      "source": [
        "# create generators for train and validation\n",
        "train_gen = dataset(train_df[\"review\"].values,train_df[\"sentiment\"].values,max_length = MAX_LENGTH, tokenizer = tokenizer,projection_dim=PROJECTION_DIM)\n",
        "val_gen   = dataset(val_df[\"review\"].values,val_df[\"sentiment\"].values,max_length = MAX_LENGTH, tokenizer = tokenizer, projection_dim=PROJECTION_DIM, val = True)"
      ]
    },
    {
      "cell_type": "code",
      "execution_count": 17,
      "metadata": {
        "id": "K2PS6U6VvTvd"
      },
      "outputs": [],
      "source": [
        "# create tensorflow dataloaders from generators\n",
        "\n",
        "train_ds = tf.data.Dataset.from_generator(train_gen,\n",
        "                                            output_signature = \n",
        "                                           ( {\"input_ids\" : tf.TensorSpec(shape = (MAX_LENGTH,), dtype = tf.int32 ),\"attention_masks\":tf.TensorSpec(shape = (MAX_LENGTH,), dtype = tf.int32),\"space\":tf.TensorSpec(shape = (PROJECTION_DIM,), dtype = tf.int32)},\n",
        "                                            tf.TensorSpec(shape = (), dtype = (tf.float32)))).repeat().batch(batch_size = BATCH_SIZE) # shuffling is already implemented in dataset class\n",
        "\n",
        "val_ds = tf.data.Dataset.from_generator(val_gen,\n",
        "                                            output_signature = \n",
        "                                           ( {\"input_ids\" : tf.TensorSpec(shape = (MAX_LENGTH,), dtype = tf.int32 ),\"attention_masks\":tf.TensorSpec(shape = (MAX_LENGTH,), dtype = tf.int32),\"space\":tf.TensorSpec(shape = (PROJECTION_DIM,), dtype = tf.int32)},\n",
        "                                            tf.TensorSpec(shape = (), dtype = (tf.float32)))).batch(BATCH_SIZE)"
      ]
    },
    {
      "cell_type": "markdown",
      "source": [
        "## DEBUGGING\n",
        "\n",
        "Run the **`AUXILIARY FUNCTIONS`** cell first!"
      ],
      "metadata": {
        "id": "B7EZ4YdLTqGA"
      }
    },
    {
      "cell_type": "code",
      "execution_count": 18,
      "metadata": {
        "id": "hfv70WSmwHwu"
      },
      "outputs": [],
      "source": [
        "# verify tensors\n",
        "\n",
        "for ele in train_ds.take(1):\n",
        "  temp = ele"
      ]
    },
    {
      "cell_type": "code",
      "execution_count": null,
      "metadata": {
        "colab": {
          "base_uri": "https://localhost:8080/"
        },
        "id": "s-X-59WAwOOs",
        "outputId": "ecee2d64-b92f-40ea-bea8-ae94df86190c"
      },
      "outputs": [
        {
          "output_type": "execute_result",
          "data": {
            "text/plain": [
              "({'input_ids': <tf.Tensor: shape=(32, 128), dtype=int32, numpy=\n",
              "  array([[  101,  1999,  1996, ...,  2035,  2023,   102],\n",
              "         [  101,  1037,  4038, ..., 10294,  5846,   102],\n",
              "         [  101,  2023,  3185, ...,     0,     0,     0],\n",
              "         ...,\n",
              "         [  101,  6677, 28014, ...,  2121,  7515,   102],\n",
              "         [  101,  2023,  3185, ...,  1997,  7842,   102],\n",
              "         [  101,  2004,  1045, ...,     0,     0,     0]], dtype=int32)>,\n",
              "  'attention_masks': <tf.Tensor: shape=(32, 128), dtype=int32, numpy=\n",
              "  array([[1, 1, 1, ..., 1, 1, 1],\n",
              "         [1, 1, 1, ..., 1, 1, 1],\n",
              "         [1, 1, 1, ..., 0, 0, 0],\n",
              "         ...,\n",
              "         [1, 1, 1, ..., 1, 1, 1],\n",
              "         [1, 1, 1, ..., 1, 1, 1],\n",
              "         [1, 1, 1, ..., 0, 0, 0]], dtype=int32)>,\n",
              "  'space': <tf.Tensor: shape=(32, 300), dtype=int32, numpy=\n",
              "  array([[  0,   1,   2, ..., 297, 298, 299],\n",
              "         [  0,   1,   2, ..., 297, 298, 299],\n",
              "         [  0,   1,   2, ..., 297, 298, 299],\n",
              "         ...,\n",
              "         [  0,   1,   2, ..., 297, 298, 299],\n",
              "         [  0,   1,   2, ..., 297, 298, 299],\n",
              "         [  0,   1,   2, ..., 297, 298, 299]], dtype=int32)>},\n",
              " <tf.Tensor: shape=(32,), dtype=float32, numpy=\n",
              " array([0., 0., 0., 1., 0., 1., 1., 1., 1., 0., 1., 0., 1., 0., 1., 0., 1.,\n",
              "        1., 0., 0., 0., 1., 1., 1., 1., 0., 0., 0., 1., 0., 1., 1.],\n",
              "       dtype=float32)>)"
            ]
          },
          "metadata": {},
          "execution_count": 19
        }
      ],
      "source": [
        "temp"
      ]
    },
    {
      "cell_type": "code",
      "execution_count": null,
      "metadata": {
        "id": "llE25PLLwnLr"
      },
      "outputs": [],
      "source": [
        "# input_ids\n",
        "# each sentence always starts with the [CLS] token, which has an input id 101\n",
        "# if number of tokens in the sentence are less < MAX_LENGTH , then, a [SEP] token ends the input ids and is followed by [PAD] tokens (zeros)\n",
        "# if number of tokens are greater than 128, then input ids just end witih [SEP] with input id 112"
      ]
    },
    {
      "cell_type": "code",
      "source": [
        "temp_iids = temp[0][\"input_ids\"]\n",
        "temp_mask = temp[0][\"attention_masks\"]"
      ],
      "metadata": {
        "id": "WZkQW3OyOjgD"
      },
      "execution_count": null,
      "outputs": []
    },
    {
      "cell_type": "code",
      "source": [
        "# now we have 32 input_ids and 32 masks"
      ],
      "metadata": {
        "id": "f6iWP434Ov-3"
      },
      "execution_count": null,
      "outputs": []
    },
    {
      "cell_type": "code",
      "source": [
        "# let's examine some embeddings\n",
        "temp_embeddings = bertModel(temp_iids, attention_mask = temp_mask)[0]   # pooled outputs give embeddings of each token\n",
        "temp_embeddings.shape"
      ],
      "metadata": {
        "colab": {
          "base_uri": "https://localhost:8080/"
        },
        "id": "Leg7WPKAOXLz",
        "outputId": "48844056-9a72-4644-9561-5414e921cbc6"
      },
      "execution_count": null,
      "outputs": [
        {
          "output_type": "execute_result",
          "data": {
            "text/plain": [
              "TensorShape([32, 128, 768])"
            ]
          },
          "metadata": {},
          "execution_count": 23
        }
      ]
    },
    {
      "cell_type": "code",
      "source": [
        "# embeddings are non zero for any kind of token, [CLS], [PAD], [SEP], [Any TOKEN]"
      ],
      "metadata": {
        "id": "x3WnG1XAPqBt"
      },
      "execution_count": null,
      "outputs": []
    },
    {
      "cell_type": "code",
      "source": [
        "# let's take a dummy keras embedding layer, and get embeddings of 32 sentences with 300 tokens in it\n",
        "# Then for each sentence, take cosine similarity of embeddings of 128 tokens with those 300 tokens for 32 sentences from the dataset\n",
        "# resulting in  32,128,300 cosine similarity vectors\n",
        "# then get masks for those 128 input ids for each of the sentences using a keras embedding layer\n",
        "# ideally when we multiply those cosine similarity vectors with zeros (in masks) resulting cosine similarities for corresponding should be ZERO"
      ],
      "metadata": {
        "id": "XRUbaLH0QIPG"
      },
      "execution_count": null,
      "outputs": []
    },
    {
      "cell_type": "code",
      "source": [
        "space_input_ids = temp[0][\"space\"]\n",
        "space_input_ids"
      ],
      "metadata": {
        "colab": {
          "base_uri": "https://localhost:8080/"
        },
        "id": "2RaEEadURSM0",
        "outputId": "baded651-d9c2-4fe9-83a6-2d7564f52fe0"
      },
      "execution_count": null,
      "outputs": [
        {
          "output_type": "execute_result",
          "data": {
            "text/plain": [
              "<tf.Tensor: shape=(32, 300), dtype=int32, numpy=\n",
              "array([[  0,   1,   2, ..., 297, 298, 299],\n",
              "       [  0,   1,   2, ..., 297, 298, 299],\n",
              "       [  0,   1,   2, ..., 297, 298, 299],\n",
              "       ...,\n",
              "       [  0,   1,   2, ..., 297, 298, 299],\n",
              "       [  0,   1,   2, ..., 297, 298, 299],\n",
              "       [  0,   1,   2, ..., 297, 298, 299]], dtype=int32)>"
            ]
          },
          "metadata": {},
          "execution_count": 26
        }
      ]
    },
    {
      "cell_type": "code",
      "source": [
        "x = layers.Embedding(name = \"positive_embedding\",\n",
        "                                   input_dim = PROJECTION_DIM, \n",
        "                                   output_dim=VECTOR_DIM, \n",
        "                                   embeddings_initializer=tf.random_uniform_initializer(minval=-1., maxval=1.), \n",
        "                                   input_length = PROJECTION_DIM , \n",
        "                                   trainable=True, \n",
        "                                   mask_zero=False)\n",
        "x = x(space_input_ids)\n",
        "# x will now be embeddings tensor of shape (32,300,768)\n",
        "# we want to take cosine similarity of these 300 embeddings with 128 embeddings of a sentence from our dataset\n",
        "# also for each of the 32 sentences, these 300 embeddings will be IDENTICAL since input ids are same {1..299}\n",
        "# we call x \"positive embedding\" in our model\n",
        " "
      ],
      "metadata": {
        "id": "urr_657gRm_B"
      },
      "execution_count": null,
      "outputs": []
    },
    {
      "cell_type": "code",
      "source": [
        "x = layers.Permute((2, 1), input_shape=(PROJECTION_DIM, VECTOR_DIM))(x)\n",
        "x.shape"
      ],
      "metadata": {
        "colab": {
          "base_uri": "https://localhost:8080/"
        },
        "id": "tz-QlyuWR-dS",
        "outputId": "f0a241a7-4a22-482e-e49e-66c613731622"
      },
      "execution_count": null,
      "outputs": [
        {
          "output_type": "execute_result",
          "data": {
            "text/plain": [
              "TensorShape([32, 768, 300])"
            ]
          },
          "metadata": {},
          "execution_count": 28
        }
      ]
    },
    {
      "cell_type": "code",
      "source": [
        "# now we want to take cosine similarities of temp_embeddings(32,128,768) with the positive embedding transposed (32,768,300)\n",
        "# we defined a cosine similarity function manually to handle this operation using a lambda layer"
      ],
      "metadata": {
        "id": "TLbF9E7KUtCi"
      },
      "execution_count": null,
      "outputs": []
    },
    {
      "cell_type": "code",
      "source": [
        "cosine_sim_Positive = layers.Lambda(function=cosine_similarity_projected, \n",
        "                      name='cosine_positive')([temp_embeddings, x])   # (32,128,300)"
      ],
      "metadata": {
        "id": "1QTjQOgvSYIt"
      },
      "execution_count": null,
      "outputs": []
    },
    {
      "cell_type": "code",
      "source": [
        "cosine_sim_Positive.shape"
      ],
      "metadata": {
        "colab": {
          "base_uri": "https://localhost:8080/"
        },
        "id": "8fPe7FRCVuEP",
        "outputId": "ee15648d-fa00-46c5-e7ca-81724198565f"
      },
      "execution_count": null,
      "outputs": [
        {
          "output_type": "execute_result",
          "data": {
            "text/plain": [
              "TensorShape([32, 128, 300])"
            ]
          },
          "metadata": {},
          "execution_count": 34
        }
      ]
    },
    {
      "cell_type": "code",
      "source": [
        "temp_iids[2]"
      ],
      "metadata": {
        "colab": {
          "base_uri": "https://localhost:8080/"
        },
        "id": "NJuuYU6gbv-_",
        "outputId": "0c2aa428-c45a-4ba8-e040-d7669b42e7ab"
      },
      "execution_count": null,
      "outputs": [
        {
          "output_type": "execute_result",
          "data": {
            "text/plain": [
              "<tf.Tensor: shape=(128,), dtype=int32, numpy=\n",
              "array([  101,  2023,  3185,  4076,  1999,  1996,  3162,  1997,  1996,\n",
              "       21834,  2005,  2019,  2035,  2732,  2329,  3459,  1999,  1037,\n",
              "        2091, 15950,  9643,  3185,  3532,  1039,  5856,  3896,  3532,\n",
              "        9260,  3532,  3257,  1037,  3459,  2008,  1045,  3246,  2020,\n",
              "        2092,  3825,  2004,  2023,  2097,  2022,  1037, 13774,  1999,\n",
              "        2116,  1037, 10922, 13123, 19892,  7987, 12829,  4946,  2099,\n",
              "        2323,  3726,  2123,  7228,  2010,  6606, 24405,  2320,  2062,\n",
              "        2908,  2041,  2007,  1037,  4756,  2012,  2560, 19892,  7987,\n",
              "        2009,  2001,  2066,  1037,  3391,  2146,  4567,  2041,  2792,\n",
              "        1997, 12723,  3702,  2021,  2302,  1996,  3409,  8275,  3010,\n",
              "        3460,  3062,  4886,  2102,  2018,  1996,  2168, 15241,  6918,\n",
              "        2189,  2295, 18870,  2135,  5567,  1999,  1037, 15784,  3535,\n",
              "        2000,  6943,  2039,  2070,  6980, 19892,  7987,  2821,  1996,\n",
              "        8438,   102,     0,     0,     0,     0,     0,     0,     0,\n",
              "           0,     0], dtype=int32)>"
            ]
          },
          "metadata": {},
          "execution_count": 35
        }
      ]
    },
    {
      "cell_type": "code",
      "source": [
        "temp_iids"
      ],
      "metadata": {
        "colab": {
          "base_uri": "https://localhost:8080/"
        },
        "id": "JrOsz55wEUgZ",
        "outputId": "6a6e7852-5420-4e44-c61c-a538f476028f"
      },
      "execution_count": null,
      "outputs": [
        {
          "output_type": "execute_result",
          "data": {
            "text/plain": [
              "<tf.Tensor: shape=(32, 128), dtype=int32, numpy=\n",
              "array([[  101,  1999,  1996, ...,  2035,  2023,   102],\n",
              "       [  101,  1037,  4038, ..., 10294,  5846,   102],\n",
              "       [  101,  2023,  3185, ...,     0,     0,     0],\n",
              "       ...,\n",
              "       [  101,  6677, 28014, ...,  2121,  7515,   102],\n",
              "       [  101,  2023,  3185, ...,  1997,  7842,   102],\n",
              "       [  101,  2004,  1045, ...,     0,     0,     0]], dtype=int32)>"
            ]
          },
          "metadata": {},
          "execution_count": 36
        }
      ]
    },
    {
      "cell_type": "code",
      "source": [
        "# now update the cosine similarities of [CLS], [PAD] and [SEP] vectors to ZERO\n",
        "# first(0) and last(127) token's embedding of each sentence should have zero cosine similarity with each of 300 tokens in projection space\n",
        "remove_padsV2()([cosine_sim_Positive, temp_iids])[13][-1]       # 13th sentence, 0th token"
      ],
      "metadata": {
        "colab": {
          "base_uri": "https://localhost:8080/"
        },
        "id": "V2-hsKoKUd2b",
        "outputId": "e8eb356e-c914-4ab8-85a2-fb60640ef8b7"
      },
      "execution_count": null,
      "outputs": [
        {
          "output_type": "execute_result",
          "data": {
            "text/plain": [
              "<tf.Tensor: shape=(300,), dtype=float32, numpy=\n",
              "array([ 0., -0.,  0.,  0.,  0.,  0.,  0., -0.,  0., -0., -0., -0., -0.,\n",
              "       -0., -0., -0.,  0., -0.,  0.,  0.,  0.,  0., -0.,  0.,  0.,  0.,\n",
              "        0., -0., -0., -0.,  0.,  0., -0.,  0.,  0.,  0.,  0., -0., -0.,\n",
              "        0., -0., -0.,  0., -0., -0., -0.,  0., -0.,  0.,  0., -0., -0.,\n",
              "       -0.,  0., -0., -0.,  0., -0., -0., -0., -0., -0.,  0., -0., -0.,\n",
              "        0.,  0., -0.,  0.,  0., -0., -0., -0.,  0., -0., -0.,  0.,  0.,\n",
              "       -0.,  0.,  0.,  0.,  0.,  0.,  0.,  0.,  0.,  0., -0.,  0., -0.,\n",
              "        0., -0.,  0.,  0.,  0., -0., -0., -0.,  0., -0.,  0.,  0.,  0.,\n",
              "        0., -0., -0., -0.,  0., -0.,  0.,  0., -0., -0.,  0.,  0.,  0.,\n",
              "       -0.,  0.,  0.,  0.,  0.,  0., -0.,  0., -0., -0., -0.,  0.,  0.,\n",
              "        0.,  0., -0., -0.,  0.,  0.,  0., -0.,  0.,  0.,  0., -0.,  0.,\n",
              "       -0.,  0., -0., -0., -0.,  0., -0.,  0.,  0., -0., -0.,  0.,  0.,\n",
              "        0.,  0., -0.,  0.,  0., -0.,  0., -0.,  0., -0., -0., -0., -0.,\n",
              "       -0.,  0.,  0., -0.,  0., -0., -0.,  0., -0., -0., -0., -0., -0.,\n",
              "        0.,  0., -0., -0., -0., -0., -0., -0., -0.,  0.,  0., -0., -0.,\n",
              "       -0.,  0.,  0., -0.,  0., -0.,  0.,  0.,  0.,  0.,  0., -0.,  0.,\n",
              "        0., -0., -0., -0., -0.,  0., -0., -0.,  0.,  0., -0., -0.,  0.,\n",
              "       -0.,  0., -0.,  0., -0.,  0., -0.,  0., -0., -0., -0.,  0.,  0.,\n",
              "        0.,  0., -0., -0.,  0.,  0., -0.,  0., -0., -0., -0., -0., -0.,\n",
              "       -0.,  0.,  0., -0., -0., -0., -0.,  0.,  0., -0., -0., -0., -0.,\n",
              "        0., -0.,  0.,  0., -0., -0., -0.,  0., -0.,  0.,  0., -0., -0.,\n",
              "       -0., -0.,  0.,  0.,  0., -0.,  0.,  0.,  0.,  0.,  0.,  0.,  0.,\n",
              "       -0.,  0.,  0., -0., -0.,  0., -0., -0.,  0.,  0., -0.,  0.,  0.,\n",
              "        0.], dtype=float32)>"
            ]
          },
          "metadata": {},
          "execution_count": 37
        }
      ]
    },
    {
      "cell_type": "code",
      "source": [
        "remove_padsV2()([cosine_sim_Positive, temp_iids]).shape"
      ],
      "metadata": {
        "colab": {
          "base_uri": "https://localhost:8080/"
        },
        "id": "o6N0_VzjS-Rj",
        "outputId": "e5ea1cbf-77ee-4fee-fb52-6675a1a3137d"
      },
      "execution_count": null,
      "outputs": [
        {
          "output_type": "execute_result",
          "data": {
            "text/plain": [
              "TensorShape([32, 128, 300])"
            ]
          },
          "metadata": {},
          "execution_count": 38
        }
      ]
    },
    {
      "cell_type": "code",
      "source": [
        "tokensZerod = tf.where(tf.equal(temp_iids,101) | tf.equal(temp_iids,102),0,temp_iids)"
      ],
      "metadata": {
        "id": "K1yPEd2dEWla"
      },
      "execution_count": null,
      "outputs": []
    },
    {
      "cell_type": "code",
      "source": [
        "masking_layer = layers.Embedding(input_dim = 35000, output_dim = 16, mask_zero = True)"
      ],
      "metadata": {
        "id": "Pfe-72hZ-NL0"
      },
      "execution_count": null,
      "outputs": []
    },
    {
      "cell_type": "code",
      "source": [
        "temp_masks = masking_layer.compute_mask(tokensZerod)"
      ],
      "metadata": {
        "id": "rh827nxYFrGS"
      },
      "execution_count": null,
      "outputs": []
    },
    {
      "cell_type": "code",
      "source": [
        "temp_masks = tf.cast(temp_masks,tf.float32)"
      ],
      "metadata": {
        "id": "xa2tO0XLGnC5"
      },
      "execution_count": null,
      "outputs": []
    },
    {
      "cell_type": "code",
      "source": [
        "temp_masks = tf.expand_dims(temp_masks,axis=-1)"
      ],
      "metadata": {
        "id": "omM1wRClKgR_"
      },
      "execution_count": null,
      "outputs": []
    },
    {
      "cell_type": "code",
      "source": [
        "temp_masks"
      ],
      "metadata": {
        "colab": {
          "base_uri": "https://localhost:8080/"
        },
        "id": "OuhZH3VeTSbg",
        "outputId": "1ef8ee3d-24ee-4d1b-9e47-850e69144e19"
      },
      "execution_count": null,
      "outputs": [
        {
          "output_type": "execute_result",
          "data": {
            "text/plain": [
              "<tf.Tensor: shape=(32, 128, 1), dtype=float32, numpy=\n",
              "array([[[0.],\n",
              "        [1.],\n",
              "        [1.],\n",
              "        ...,\n",
              "        [1.],\n",
              "        [1.],\n",
              "        [0.]],\n",
              "\n",
              "       [[0.],\n",
              "        [1.],\n",
              "        [1.],\n",
              "        ...,\n",
              "        [1.],\n",
              "        [1.],\n",
              "        [0.]],\n",
              "\n",
              "       [[0.],\n",
              "        [1.],\n",
              "        [1.],\n",
              "        ...,\n",
              "        [0.],\n",
              "        [0.],\n",
              "        [0.]],\n",
              "\n",
              "       ...,\n",
              "\n",
              "       [[0.],\n",
              "        [1.],\n",
              "        [1.],\n",
              "        ...,\n",
              "        [1.],\n",
              "        [1.],\n",
              "        [0.]],\n",
              "\n",
              "       [[0.],\n",
              "        [1.],\n",
              "        [1.],\n",
              "        ...,\n",
              "        [1.],\n",
              "        [1.],\n",
              "        [0.]],\n",
              "\n",
              "       [[0.],\n",
              "        [1.],\n",
              "        [1.],\n",
              "        ...,\n",
              "        [0.],\n",
              "        [0.],\n",
              "        [0.]]], dtype=float32)>"
            ]
          },
          "metadata": {},
          "execution_count": 44
        }
      ]
    },
    {
      "cell_type": "code",
      "source": [
        "maskedSimilarities = tf.multiply(cosine_sim_Positive, temp_masks)"
      ],
      "metadata": {
        "id": "cBDyXAt9G7Ok"
      },
      "execution_count": null,
      "outputs": []
    },
    {
      "cell_type": "code",
      "source": [
        "maskedSimilarities.shape     # it should be the output of remove_padsV2 layer"
      ],
      "metadata": {
        "colab": {
          "base_uri": "https://localhost:8080/"
        },
        "id": "-AVhgpCtKss0",
        "outputId": "49a4d81e-04e8-4dd0-ab0e-a18bede4b1f3"
      },
      "execution_count": null,
      "outputs": [
        {
          "output_type": "execute_result",
          "data": {
            "text/plain": [
              "TensorShape([32, 128, 300])"
            ]
          },
          "metadata": {},
          "execution_count": 46
        }
      ]
    },
    {
      "cell_type": "code",
      "source": [
        "maskedSimilarities[2]  # 3rd sentence"
      ],
      "metadata": {
        "colab": {
          "base_uri": "https://localhost:8080/"
        },
        "id": "f0nZagRrTpxm",
        "outputId": "69566022-fc67-402f-ee53-4867b5c8633d"
      },
      "execution_count": null,
      "outputs": [
        {
          "output_type": "execute_result",
          "data": {
            "text/plain": [
              "<tf.Tensor: shape=(128, 300), dtype=float32, numpy=\n",
              "array([[ 0.0000000e+00, -0.0000000e+00,  0.0000000e+00, ...,\n",
              "        -0.0000000e+00,  0.0000000e+00, -0.0000000e+00],\n",
              "       [ 4.7151562e-02,  2.6714013e-05,  2.7474608e-02, ...,\n",
              "         6.7676619e-02,  4.2231656e-03,  2.3051014e-02],\n",
              "       [ 3.6819156e-02, -3.1738762e-02,  5.5642895e-02, ...,\n",
              "         3.6211878e-02,  4.6735842e-02, -3.7118081e-02],\n",
              "       ...,\n",
              "       [ 0.0000000e+00, -0.0000000e+00,  0.0000000e+00, ...,\n",
              "        -0.0000000e+00,  0.0000000e+00, -0.0000000e+00],\n",
              "       [ 0.0000000e+00, -0.0000000e+00,  0.0000000e+00, ...,\n",
              "        -0.0000000e+00,  0.0000000e+00, -0.0000000e+00],\n",
              "       [ 0.0000000e+00, -0.0000000e+00,  0.0000000e+00, ...,\n",
              "        -0.0000000e+00,  0.0000000e+00, -0.0000000e+00]], dtype=float32)>"
            ]
          },
          "metadata": {},
          "execution_count": 47
        }
      ]
    },
    {
      "cell_type": "code",
      "source": [
        "a = tf.constant([[[1,2,3]],[[4,5,6]]])\n",
        "b = tf.constant([[[2]],[[3]]])\n",
        "tf.divide(a,b)"
      ],
      "metadata": {
        "colab": {
          "base_uri": "https://localhost:8080/"
        },
        "id": "fSfgDYDLa0n_",
        "outputId": "09a97341-1c86-4e77-b048-ca0f921df19e"
      },
      "execution_count": null,
      "outputs": [
        {
          "output_type": "execute_result",
          "data": {
            "text/plain": [
              "<tf.Tensor: shape=(2, 1, 3), dtype=float64, numpy=\n",
              "array([[[0.5       , 1.        , 1.5       ]],\n",
              "\n",
              "       [[1.33333333, 1.66666667, 2.        ]]])>"
            ]
          },
          "metadata": {},
          "execution_count": 48
        }
      ]
    },
    {
      "cell_type": "code",
      "source": [
        "tokensZerod"
      ],
      "metadata": {
        "colab": {
          "base_uri": "https://localhost:8080/"
        },
        "id": "d_M7Ug9LUu7G",
        "outputId": "b9cd263a-8bd8-4310-a69f-bed6bb668d11"
      },
      "execution_count": null,
      "outputs": [
        {
          "output_type": "execute_result",
          "data": {
            "text/plain": [
              "<tf.Tensor: shape=(32, 128), dtype=int32, numpy=\n",
              "array([[    0,  1999,  1996, ...,  2035,  2023,     0],\n",
              "       [    0,  1037,  4038, ..., 10294,  5846,     0],\n",
              "       [    0,  2023,  3185, ...,     0,     0,     0],\n",
              "       ...,\n",
              "       [    0,  6677, 28014, ...,  2121,  7515,     0],\n",
              "       [    0,  2023,  3185, ...,  1997,  7842,     0],\n",
              "       [    0,  2004,  1045, ...,     0,     0,     0]], dtype=int32)>"
            ]
          },
          "metadata": {},
          "execution_count": 49
        }
      ]
    },
    {
      "cell_type": "code",
      "source": [
        "tf.math.count_nonzero(tokensZerod, axis=1)"
      ],
      "metadata": {
        "colab": {
          "base_uri": "https://localhost:8080/"
        },
        "id": "cMXCX2ZqUVqb",
        "outputId": "a4538d0c-0f94-44e5-9913-a9de00ed726e"
      },
      "execution_count": null,
      "outputs": [
        {
          "output_type": "execute_result",
          "data": {
            "text/plain": [
              "<tf.Tensor: shape=(32,), dtype=int64, numpy=\n",
              "array([126, 126, 117, 126, 126, 126, 126, 126, 126, 126, 126, 126,  87,\n",
              "        74, 126, 126, 126, 107, 126, 126, 126, 126, 126,  53, 126, 126,\n",
              "        96, 126, 126, 126, 126, 105])>"
            ]
          },
          "metadata": {},
          "execution_count": 50
        }
      ]
    },
    {
      "cell_type": "code",
      "source": [
        "# count number of non zero rows in maskedSimilarites\n",
        "# how --> take sum along the third axis, which are 300 cosine similarites of each of the 128 tokens\n",
        "# if all those similarites are zeros, then the sum will be reduced to zero\n",
        "# still, retain the dimension for futher computation\n",
        "length = tf.math.count_nonzero(tf.math.reduce_sum(maskedSimilarities, axis=2,keepdims=True), axis=1, keepdims=True, dtype = tf.float32)\n",
        "length\n",
        "\n",
        "# it should ideally be identical to tf.math.count_nonzero(tokensZerod, axis=1)"
      ],
      "metadata": {
        "colab": {
          "base_uri": "https://localhost:8080/"
        },
        "id": "47t6byP1YdFb",
        "outputId": "55c5f255-6ca0-440c-933e-a0cc071effbf"
      },
      "execution_count": null,
      "outputs": [
        {
          "output_type": "execute_result",
          "data": {
            "text/plain": [
              "<tf.Tensor: shape=(32, 1, 1), dtype=float32, numpy=\n",
              "array([[[126.]],\n",
              "\n",
              "       [[126.]],\n",
              "\n",
              "       [[117.]],\n",
              "\n",
              "       [[126.]],\n",
              "\n",
              "       [[126.]],\n",
              "\n",
              "       [[126.]],\n",
              "\n",
              "       [[126.]],\n",
              "\n",
              "       [[126.]],\n",
              "\n",
              "       [[126.]],\n",
              "\n",
              "       [[126.]],\n",
              "\n",
              "       [[126.]],\n",
              "\n",
              "       [[126.]],\n",
              "\n",
              "       [[ 87.]],\n",
              "\n",
              "       [[ 74.]],\n",
              "\n",
              "       [[126.]],\n",
              "\n",
              "       [[126.]],\n",
              "\n",
              "       [[126.]],\n",
              "\n",
              "       [[107.]],\n",
              "\n",
              "       [[126.]],\n",
              "\n",
              "       [[126.]],\n",
              "\n",
              "       [[126.]],\n",
              "\n",
              "       [[126.]],\n",
              "\n",
              "       [[126.]],\n",
              "\n",
              "       [[ 53.]],\n",
              "\n",
              "       [[126.]],\n",
              "\n",
              "       [[126.]],\n",
              "\n",
              "       [[ 96.]],\n",
              "\n",
              "       [[126.]],\n",
              "\n",
              "       [[126.]],\n",
              "\n",
              "       [[126.]],\n",
              "\n",
              "       [[126.]],\n",
              "\n",
              "       [[105.]]], dtype=float32)>"
            ]
          },
          "metadata": {},
          "execution_count": 51
        }
      ]
    },
    {
      "cell_type": "code",
      "source": [
        "temp_masks = masking_layer.compute_mask(temp_iids)"
      ],
      "metadata": {
        "id": "EEM2tLJb-eYW"
      },
      "execution_count": null,
      "outputs": []
    },
    {
      "cell_type": "code",
      "source": [
        "# masks are being computed right\n",
        "temp_masks = tf.cast(temp_masks, tf.float32)"
      ],
      "metadata": {
        "id": "KmrpOX3J-sfn"
      },
      "execution_count": null,
      "outputs": []
    },
    {
      "cell_type": "code",
      "source": [
        "-8.92650187e-02 / 126"
      ],
      "metadata": {
        "colab": {
          "base_uri": "https://localhost:8080/"
        },
        "id": "M17MmayFOHXe",
        "outputId": "471f6232-3e8a-4fa4-ea6c-81237944a0e7"
      },
      "execution_count": null,
      "outputs": [
        {
          "output_type": "execute_result",
          "data": {
            "text/plain": [
              "-0.0007084525293650794"
            ]
          },
          "metadata": {},
          "execution_count": 54
        }
      ]
    },
    {
      "cell_type": "code",
      "source": [
        "maskedSimilarities.shape"
      ],
      "metadata": {
        "colab": {
          "base_uri": "https://localhost:8080/"
        },
        "id": "4badUM43NsH9",
        "outputId": "66491908-dc5d-4c44-cb5e-43d0c1c32963"
      },
      "execution_count": null,
      "outputs": [
        {
          "output_type": "execute_result",
          "data": {
            "text/plain": [
              "TensorShape([32, 128, 300])"
            ]
          },
          "metadata": {},
          "execution_count": 55
        }
      ]
    },
    {
      "cell_type": "code",
      "source": [
        "tf.math.reduce_sum(maskedSimilarities, axis = 1, keepdims=True)"
      ],
      "metadata": {
        "colab": {
          "base_uri": "https://localhost:8080/"
        },
        "id": "4oSC3J6LfqNf",
        "outputId": "8d5837fa-4fa0-466c-9281-fa234923284b"
      },
      "execution_count": null,
      "outputs": [
        {
          "output_type": "execute_result",
          "data": {
            "text/plain": [
              "<tf.Tensor: shape=(32, 1, 300), dtype=float32, numpy=\n",
              "array([[[ 1.6082245e+00, -2.7990963e+00,  1.4814855e+00, ...,\n",
              "         -1.0152058e-01,  6.4606094e-01, -7.3166937e-04]],\n",
              "\n",
              "       [[ 2.5497396e+00, -9.9858433e-01,  1.0547057e+00, ...,\n",
              "          8.3426249e-01,  1.5994912e+00, -8.0551225e-01]],\n",
              "\n",
              "       [[ 3.1264396e+00, -9.4534677e-01,  2.7649124e+00, ...,\n",
              "          4.1108221e-01,  6.8218803e-01,  5.8777136e-01]],\n",
              "\n",
              "       ...,\n",
              "\n",
              "       [[ 3.8997493e+00, -1.4940039e+00,  1.6734692e+00, ...,\n",
              "          2.7651560e+00,  7.7111739e-01,  9.0662652e-01]],\n",
              "\n",
              "       [[ 1.9109577e+00, -7.0657301e-01,  2.0998018e+00, ...,\n",
              "          3.3330061e+00,  2.7980776e+00,  1.8652966e+00]],\n",
              "\n",
              "       [[ 2.5964110e+00, -1.2536980e+00,  9.5523018e-01, ...,\n",
              "          2.3417432e+00,  1.7659192e+00, -3.7240869e-01]]], dtype=float32)>"
            ]
          },
          "metadata": {},
          "execution_count": 56
        }
      ]
    },
    {
      "cell_type": "code",
      "source": [
        "averageMaskedSimilarities = tf.divide(tf.math.reduce_sum(maskedSimilarities, axis = 1, keepdims=True), length)"
      ],
      "metadata": {
        "id": "AjgU-3sARl09"
      },
      "execution_count": null,
      "outputs": []
    },
    {
      "cell_type": "code",
      "source": [
        "averageMaskedSimilarities"
      ],
      "metadata": {
        "colab": {
          "base_uri": "https://localhost:8080/"
        },
        "id": "Wr310Zq0V1Kh",
        "outputId": "d97cdbe8-824d-4739-9436-cc19257bf46f"
      },
      "execution_count": null,
      "outputs": [
        {
          "output_type": "execute_result",
          "data": {
            "text/plain": [
              "<tf.Tensor: shape=(32, 1, 300), dtype=float32, numpy=\n",
              "array([[[ 1.27636865e-02, -2.22150497e-02,  1.17578218e-02, ...,\n",
              "         -8.05718941e-04,  5.12746768e-03, -5.80689994e-06]],\n",
              "\n",
              "       [[ 2.02360284e-02, -7.92527292e-03,  8.37068073e-03, ...,\n",
              "          6.62113074e-03,  1.26943747e-02, -6.39295438e-03]],\n",
              "\n",
              "       [[ 2.67217066e-02, -8.07988737e-03,  2.36317292e-02, ...,\n",
              "          3.51352314e-03,  5.83066698e-03,  5.02368668e-03]],\n",
              "\n",
              "       ...,\n",
              "\n",
              "       [[ 3.09503917e-02, -1.18571734e-02,  1.32815018e-02, ...,\n",
              "          2.19456833e-02,  6.11997908e-03,  7.19544850e-03]],\n",
              "\n",
              "       [[ 1.51663311e-02, -5.60772233e-03,  1.66650936e-02, ...,\n",
              "          2.64524296e-02,  2.22069658e-02,  1.48039414e-02]],\n",
              "\n",
              "       [[ 2.47277245e-02, -1.19399810e-02,  9.09742992e-03, ...,\n",
              "          2.23023165e-02,  1.68182775e-02, -3.54674947e-03]]],\n",
              "      dtype=float32)>"
            ]
          },
          "metadata": {},
          "execution_count": 58
        }
      ]
    },
    {
      "cell_type": "code",
      "source": [
        "# finally we can just concatenate and return the vectors from both positive_cosine and negative_cosine vectors"
      ],
      "metadata": {
        "id": "0V_thSNLN970"
      },
      "execution_count": null,
      "outputs": []
    },
    {
      "cell_type": "code",
      "source": [
        "# HOW TO REPLACE A VALUE WITHIN A TENSOR BY INDICES OR BY VALUE\n",
        "# https://stackoverflow.com/questions/42883415/how-to-replace-a-value-within-a-tensor-by-indices?noredirect=1&lq=1\n",
        "\n",
        "# import tensorflow as tf\n",
        "\n",
        "# x = tf.constant([[4.0, 43.0, 45.0],\n",
        "#                  [2.0, 22.0, 6664.0],\n",
        "#                  [-4543.0, 0.0, 43.0]])\n",
        "# value = 45.0\n",
        "# indices = [1, 1]\n",
        "\n",
        "# by_indices = tf.tensor_scatter_nd_update(x, [indices], [value])\n",
        "# tf.print('Using indices\\n', by_indices, '\\n')\n",
        "\n",
        "# by_value = tf.where(tf.equal(x, 22.0), value, x)\n",
        "# tf.print('Using value\\n', by_value)"
      ],
      "metadata": {
        "id": "65v1_nEUIT0I"
      },
      "execution_count": null,
      "outputs": []
    },
    {
      "cell_type": "code",
      "source": [
        "a = np.array([[[1,2,3]],[[5,2,8]]])\n",
        "b = np.array([[[8]],[[8]]])\n",
        "a * b"
      ],
      "metadata": {
        "colab": {
          "base_uri": "https://localhost:8080/"
        },
        "id": "r1iQesmDjBP2",
        "outputId": "39e329d5-5863-4c26-d5d8-9fe7fc12ed1b"
      },
      "execution_count": null,
      "outputs": [
        {
          "output_type": "execute_result",
          "data": {
            "text/plain": [
              "array([[[ 8, 16, 24]],\n",
              "\n",
              "       [[40, 16, 64]]])"
            ]
          },
          "metadata": {},
          "execution_count": 62
        }
      ]
    },
    {
      "cell_type": "code",
      "source": [
        "# DEBUGGING remove_pads layer\n",
        "class remove_pads(tf.keras.layers.Layer):\n",
        "\n",
        "  def __init__(self,**kwargs):\n",
        "\n",
        "    super(remove_pads,self).__init__(**kwargs)\n",
        "    self.mask_generator = layers.Embedding(input_dim = 35000,output_dim = 32, mask_zero=True)  # bert has vocabulary of 30522 words\n",
        "\n",
        "  \n",
        "  \n",
        "  def call(self,listInputs):   # inputs(None,128,300)  input_ids(None,64)  [101, 234 , 43545, ..  0, 0, 0, ]\n",
        "\n",
        "    inputs = listInputs[0]\n",
        "    # print(\"inputs\",inputs)\n",
        "    input_ids = listInputs[1]\n",
        "    # print(\"input_ids\",input_ids)\n",
        "    masks = self.mask_generator.compute_mask(input_ids)     # (None,64) [1,1, ... 0, 0]\n",
        "    masks = tf.cast(masks,tf.float32)\n",
        "    masks = masks.numpy()\n",
        "    # print(tf.math.reduce_sum(masks,axis=1))\n",
        "    masks[:,0] = 0    # look for tf implementation\n",
        "    print(masks.shape)\n",
        "    # print(tf.math.reduce_sum(masks,axis=1))\n",
        "    # now for each token we want correspoding 1 or 0 in same dimension\n",
        "\n",
        "    masks = tf.expand_dims(masks,axis=-1)    # (None,64,1)\n",
        "    print(masks.shape)\n",
        "    # temp = tf.unstack(masks,axis=1)\n",
        "    # del temp[0]\n",
        "    # temp.insert(0,tf.zeros_like(temp[0]))\n",
        "    # print(temp)\n",
        "    # masks = tf.stack(temp,axis=1)\n",
        "    # length = tf.math.reduce_sum(masks,axis = 1, keepdims=True)     # (None,1,1)\n",
        "    # print(length)\n",
        "\n",
        "    # # mask the embeddings corresponding to zero input id ==0\n",
        "    masked_embeddings = inputs * masks    # (None,128,300) * (None,128) = (None,64,300) -- Cosine similarites with CLS and PAD tokens will be zero\n",
        "    print(masked_embeddings)\n",
        "    # # take SUM, (not mean)\n",
        "    # masked_embeddings = tf.math.reduce_sum(masked_embeddings, axis = 1, keepdims=True)   # (None,1,501)\n",
        "    # # now just divide each by the length to get mean of non zero embeddings\n",
        "    # masked_embeddings = masked_embeddings / length    # -- now masked embeddings represents average cosine similarity of input \n",
        "    #                                                   #    sentence with each token of projection space\n",
        "\n",
        "    # return masked_embeddings"
      ],
      "metadata": {
        "id": "Cu4JH0Fbb7su"
      },
      "execution_count": null,
      "outputs": []
    },
    {
      "cell_type": "code",
      "source": [
        "# this layer converts cosine similarites corresponding to [CLS], [PAD], and [SEP] tokens to ZERO\n",
        "# USE THIS FUNCTION NOW!\n",
        "class remove_padsV2(tf.keras.layers.Layer):\n",
        "\n",
        "  def __init__(self,**kwargs):\n",
        "\n",
        "    super(remove_padsV2,self).__init__(**kwargs)\n",
        "    self.mask_generator = layers.Embedding(input_dim = 35000,output_dim = 32, mask_zero=True)  # bert has vocabulary of 30522 words\n",
        "\n",
        "  \n",
        "  \n",
        "  def call(self,listInputs):   # inputs(None,64,300)  input_ids(None,64)  [101, 234 , 43545, ..  0, 0, 0, ]\n",
        "\n",
        "    inputs = listInputs[0]\n",
        "    input_ids = listInputs[1]\n",
        "    # convert token ids 101 and 102 to 0\n",
        "    filteredInputIds = tf.where(tf.equal(input_ids,101) | tf.equal(input_ids,102),0,input_ids)\n",
        "    masks = self.mask_generator.compute_mask(filteredInputIds)     # (None,64) [0,1, ... 0, 0]\n",
        "    masks = tf.cast(masks,tf.float32)\n",
        "    masks = tf.expand_dims(masks,axis=-1)    # (None,64,1)\n",
        "\n",
        "    # mask the embeddings corresponding to zero input id ==0\n",
        "    masked_embeddings = inputs * masks    # (None,64,300) * (None,64,1) = (None,64,300) -- Cosine similarites with CLS and PAD tokens will be zero\n",
        "\n",
        "    # masked_embeddings = tf.math.reduce_sum(masked_embeddings, axis = 1, keepdims=True)   # (None,1,501)\n",
        "\n",
        "\n",
        "    return masked_embeddings"
      ],
      "metadata": {
        "id": "zK8wwsblIyrc"
      },
      "execution_count": null,
      "outputs": []
    },
    {
      "cell_type": "markdown",
      "source": [
        "## AUXILIARY FUNCTIONS"
      ],
      "metadata": {
        "id": "kigUaefzTmKG"
      }
    },
    {
      "cell_type": "code",
      "execution_count": 19,
      "metadata": {
        "id": "jJv-biSGw0_S"
      },
      "outputs": [],
      "source": [
        "# Auxiliaries\n",
        "\n",
        "# import tensorflow.compat.v1 as tf\n",
        "# from keras import layers\n",
        "# import numpy as np\n",
        "# import matplotlib.pyplot as plt\n",
        "\n",
        "def return_embedding_index(x_train,count):\n",
        "  \n",
        "  embedding_index=np.array([i for i in range(count)])\n",
        "  # embeding_index=np.array([[0,1,2]])\n",
        "  embeding_index=np.ravel(embedding_index) # flattens the array\n",
        "\n",
        "  rank = len(x_train.shape)\n",
        "  if rank < 3:\n",
        "    embedding_index = np.tile(embedding_index,(x_train[0:1].shape[0],1,))    # embeddings equalling number of examples\n",
        "  else:\n",
        "    embedding_index = np.tile(embedding_index,(x_train.shape[0],1,))\n",
        "\n",
        "  return embedding_index\n",
        "\n",
        "def cosine_similarity_projected(vects):\n",
        "  # print(\"COSINE-SIMILARITY\")\n",
        "  x,w=vects                                  # so we pass two tensors here (None,64,768) and (None,768,501)    # in both cases, None is same, i.e no of examples in input dataset\n",
        "                                                                                                               # None = 1000 in our case\n",
        "  dp = tf.matmul(x, w)    # cosine similarities of each token in a sentence with all tokens of projection space\n",
        "                          # (None,64,768).(None,768,501) --> (None,64,501)\n",
        "  \n",
        "  x_mag = tf.norm(x, axis=2, keepdims = True)   # made a change here\n",
        "\n",
        "  w_mag = tf.norm(w,axis = 1, keepdims = True)\n",
        "\n",
        "  denominator = dp / x_mag\n",
        "  cosine = denominator / w_mag\n",
        "\n",
        "  return cosine\n",
        "\n",
        "\n",
        "def compare_cosine(vector):\n",
        "\n",
        "  peace,violent=vector     # peace = (None,64,501) ; violent = (None,64,501)   --> these vectors are exactly identical during first phase.\n",
        "\n",
        "  peace=tf.math.reduce_mean(peace, axis=1)       # it represents, on average,how similar is each word of the projection space, with the complete input sentence , --> (None,501) \n",
        "  violent=tf.math.reduce_mean(violent, axis=1)   # 501 represents the 501 similarities of the projection space with the input sentence, same thing for second projection space\n",
        "  out=tf.concat([peace,violent],axis=-1)       \n",
        "  print(\"COMPARE-COSINE\")\n",
        "  print('out.shape')\n",
        "  print(out.shape)    # should be (None, 1002)\n",
        "\n",
        "  # out= out.reshape[-1,1]\n",
        "\n",
        "  return out   \n",
        "\n",
        "class remove_pads(tf.keras.layers.Layer):\n",
        "\n",
        "  def __init__(self,**kwargs):\n",
        "\n",
        "    super(remove_pads,self).__init__(**kwargs)\n",
        "    self.mask_generator = layers.Embedding(input_dim = 35000,output_dim = 32, mask_zero=True)  # bert has vocabulary of 30522 words\n",
        "\n",
        "  \n",
        "  \n",
        "  def call(self,listInputs):   # inputs(None,64,300)  input_ids(None,64)  [101, 234 , 43545, ..  0, 0, 0, ]\n",
        "\n",
        "    inputs = listInputs[0]\n",
        "    input_ids = listInputs[1]\n",
        "    masks = self.mask_generator.compute_mask(input_ids)     # (None,64) [0,1, ... 0, 0]\n",
        "    masks = tf.cast(masks,tf.float32)\n",
        "    # now for each token we want correspoding 1 or 0 in same dimension\n",
        "    masks = tf.expand_dims(masks,axis=-1)    # (None,64,1)\n",
        "    temp = tf.unstack(masks,axis=1)\n",
        "    del temp[0]\n",
        "    temp.insert(0,tf.zeros_like(temp[0]))\n",
        "    masks = tf.stack(temp,axis=1)\n",
        "    length = tf.math.reduce_sum(masks,axis = 1, keepdims=True)     # (None,1,1)\n",
        "    # mask the embeddings corresponding to zero input id ==0\n",
        "    masked_embeddings = inputs * masks    # (None,64,300) * (None,64,1) = (None,64,300) -- Cosine similarites with CLS and PAD tokens will be zero\n",
        "    # take SUM, (not mean)\n",
        "    masked_embeddings = tf.math.reduce_sum(masked_embeddings, axis = 1, keepdims=True)   # (None,1,501)\n",
        "    # now just divide each by the length to get mean of non zero embeddings\n",
        "    masked_embeddings = masked_embeddings / length    # -- now masked embeddings represents average cosine similarity of input \n",
        "                                                      #    sentence with each token of projection space\n",
        "\n",
        "    return masked_embeddings\n",
        "\n",
        "class remove_padsV2(tf.keras.layers.Layer):\n",
        "\n",
        "  def __init__(self,**kwargs):\n",
        "\n",
        "    super(remove_padsV2,self).__init__(**kwargs)\n",
        "    self.mask_generator = layers.Embedding(input_dim = 35000,output_dim = 32, mask_zero=True)  # bert has vocabulary of 30522 words\n",
        "\n",
        "  \n",
        "  \n",
        "  def call(self,listInputs):   # inputs(None,64,300)  input_ids(None,64)  [101, 234 , 43545, ..  0, 0, 0, ]\n",
        "\n",
        "    inputs = listInputs[0]\n",
        "    input_ids = listInputs[1]\n",
        "    # convert token ids 101 and 102 to 0\n",
        "    filteredInputIds = tf.where(tf.equal(input_ids,101) | tf.equal(input_ids,102),0,input_ids)\n",
        "    masks = self.mask_generator.compute_mask(filteredInputIds)     # (None,64) [0,1, ... 0, 0]\n",
        "    masks = tf.cast(masks,tf.float32)\n",
        "    masks = tf.expand_dims(masks,axis=-1)    # (None,64,1)\n",
        "\n",
        "    # mask the embeddings corresponding to zero input id ==0\n",
        "    masked_embeddings = inputs * masks    # (None,64,300) * (None,64,1) = (None,64,300) -- Cosine similarites with CLS and PAD tokens will be zero\n",
        "\n",
        "    # masked_embeddings = tf.math.reduce_sum(masked_embeddings, axis = 1, keepdims=True)   # (None,1,501)\n",
        "\n",
        "\n",
        "    return masked_embeddings\n",
        "\n",
        "def merge_function(vects):\n",
        "\n",
        "  positive, negative = vects[0], vects[1]    # each cosine similarity vector is (None,MAX_LENGTH,PROJECTION_DIM) i.e (None,128,300)\n",
        "  # of these 128 vectors, those corresponding to tokens [cls, pad, sep] are 0\n",
        "  # we sum them up and then divide with number of non-zeros to get average cosine similarities\n",
        "  # get length of non zero rows in both cosine similarity vectors\n",
        "  positiveLength = tf.math.count_nonzero(tf.math.reduce_sum(positive, axis=2,keepdims=True), axis=1, keepdims=True,dtype = tf.float32)   # (None,1,1)\n",
        "  negativeLength = tf.math.count_nonzero(tf.math.reduce_sum(negative, axis=2,keepdims=True), axis=1, keepdims=True,dtype = tf.float32)\n",
        "\n",
        "  # now obtain average of cosine similarities\n",
        "  positive = tf.math.reduce_sum(positive,axis=1, keepdims=True)    # (None,1,300)\n",
        "  positiveAverage = tf.divide(positive, positiveLength)\n",
        "\n",
        "  negative = tf.math.reduce_sum(negative,axis=1, keepdims=True)    # (None,1,300)\n",
        "  negativeAverage = tf.divide(negative, negativeLength)\n",
        "\n",
        "\n",
        "    \n",
        "  # input_shape = (None,1,Projection_DIM)\n",
        "  res = tf.concat([positiveAverage,negativeAverage], axis = -1)                  # (None,1,600)\n",
        "\n",
        "  return res"
      ]
    },
    {
      "cell_type": "code",
      "execution_count": 20,
      "metadata": {
        "colab": {
          "base_uri": "https://localhost:8080/"
        },
        "id": "TEa-j__zxIfH",
        "outputId": "7db788c2-70a3-4b13-d6af-2149ee070e3c"
      },
      "outputs": [
        {
          "output_type": "execute_result",
          "data": {
            "text/plain": [
              "(12, 4)"
            ]
          },
          "metadata": {},
          "execution_count": 20
        }
      ],
      "source": [
        "# sanity check\n",
        "return_embedding_index(np.ones(shape=(12,64,768)),4).shape\n",
        "\n",
        "# Although this function is not required anymore"
      ]
    },
    {
      "cell_type": "markdown",
      "source": [
        "## MODEL ARCHITECTURE"
      ],
      "metadata": {
        "id": "PBtqqh4lbUFy"
      }
    },
    {
      "cell_type": "code",
      "execution_count": 72,
      "metadata": {
        "id": "A-tUkKCa2wST"
      },
      "outputs": [],
      "source": [
        "\n",
        "# Model Debugging - Rahul\n",
        "DEBUG = \"DEBUG\"\n",
        "\n",
        "# for input we have\n",
        "# 1. input ids\n",
        "# 2. attention_masks\n",
        "# 3. embedding_index (projection_dim)\n",
        "\n",
        "# 4. label (second part of tuple) \n",
        "\n",
        "# parameters\n",
        "# BATCH_SIZE = 64\n",
        "# PROJECTION_DIM = 300\n",
        "# MAX_LENGTH = 128\n",
        "# VECTOR_DIM = 768\n",
        "\n",
        "# first two will go to bert as input\n",
        "ids = layers.Input(shape = (MAX_LENGTH,), dtype = tf.int32, name = \"input_ids\")\n",
        "mks = layers.Input(shape = (MAX_LENGTH,), dtype = tf.int32, name = \"attention_masks\")\n",
        "projection_space = layers.Input(name = \"space\", shape = (PROJECTION_DIM,))\n",
        "# pad_ids = layers.Input(shape = (MAX_LENGTH,), dtype = tf.int32, name = \"pad_ids\")\n",
        "\n",
        "input_sentence = bertModel(ids, attention_mask = mks)[0]   # bertModel layers freezed, last_hidden_state_output\n",
        "\n",
        "\n",
        "positive_embedding_layer =  layers.Embedding(name = \"positive_embedding\",\n",
        "                                   input_dim = PROJECTION_DIM, \n",
        "                                   output_dim=VECTOR_DIM, \n",
        "                                   embeddings_initializer=tf.random_uniform_initializer(minval=-1., maxval=1.), \n",
        "                                   input_length = PROJECTION_DIM , \n",
        "                                   trainable=True, \n",
        "                                   mask_zero=True)\n",
        "\n",
        "\n",
        "negative_embedding_layer =  layers.Embedding(name = \"negative_embedding\",\n",
        "                                   input_dim=PROJECTION_DIM, \n",
        "                                   output_dim=VECTOR_DIM, \n",
        "                                   embeddings_initializer=tf.random_uniform_initializer(minval=-1., maxval=1.), \n",
        "                                   input_length = PROJECTION_DIM , \n",
        "                                   trainable=True, \n",
        "                                   mask_zero=True)\n",
        "\n",
        "\n",
        "# embeddings for projection space\n",
        "positive_embedding_np = positive_embedding_layer(projection_space) #np.array([0, 1, 2, 3, 4 , ... 500]) input_dim = 501       # (None,501,768)\n",
        "negative_embedding_np = negative_embedding_layer(projection_space) #np.array([0, 1, 2])                                       # (None,501,768)\n",
        "\n",
        "#Permute\n",
        "positive_embedding= layers.Permute((2, 1), input_shape=(PROJECTION_DIM, VECTOR_DIM))(positive_embedding_np)           # (None,768, 501)\n",
        "negative_embedding= layers.Permute((2, 1), input_shape=(PROJECTION_DIM, VECTOR_DIM))(negative_embedding_np)           # (None,768, 501)\n",
        "\n",
        "'''\n",
        "1. cosine_similary\n",
        "if you find PAD then just appen -math.INF to the array of cosine\n",
        "find the cosine between each word and its average projection\n",
        "it should a list of cosine\n",
        "'''\n",
        "\n",
        "positive_cosine = layers.Lambda(function=cosine_similarity_projected, \n",
        "                      name='cosine_positive')([input_sentence, positive_embedding])     # (None,64,501)\n",
        "\n",
        "# input sentence is = len of sentence* 768\n",
        "# positive embedding=  64*768\n",
        "\n",
        "negative_cosine = layers.Lambda(function=cosine_similarity_projected, \n",
        "                         name='cosine_negative')([input_sentence, negative_embedding])   # (None,64,501)\n",
        "              \n",
        "\n",
        "\n",
        "# remove paddings from cosines from both layers\n",
        "\n",
        "positive_cosine = remove_padsV2(name=\"remove_cls_pad_positive\")([positive_cosine, ids])   # (None,64,501)\n",
        "negative_cosine = remove_padsV2(name=\"remove_cls_pad_negative\")([negative_cosine, ids])   # (None,64,501) -- average CosineSim of each sentence with all tokens in proj space\n",
        "\n",
        "\n",
        "# negative embedding = 64*768\n",
        "'''\n",
        "2. compare_cosine\n",
        "if you find -math.INF then do not count it\n",
        "return average cosines from two space\n",
        "'''\n",
        "# averaged and merged\n",
        "merged = layers.Lambda(function=merge_function, \n",
        "                name='AverageMergeAndCompare')([positive_cosine, negative_cosine])  # (None,1,1002)    # !these values are not really identical beacause both embedding layers had different random weights\n",
        "\n",
        "# Use variable_compare_cosine(vector, length) in regards sentence\n",
        "merged = layers.Flatten(data_format = \"channels_first\")(merged)             # \"compare\" layer has no weights of its own\n",
        "\n",
        "hidden = layers.Dense(256, activation='relu', name = \"hidden-1\", kernel_constraint=MaxNorm(3),\n",
        "               kernel_initializer = \"he_normal\")(merged)                                  # output = (None,1,256)\n",
        "\n",
        "hidden = layers.Dropout(0.25, name=\"drop-1\")(hidden)\n",
        "hidden = layers.Dense(64, activation='relu', name = \"hidden-2\", kernel_constraint=MaxNorm(3),\n",
        "               kernel_initializer = \"he_normal\")(hidden)\n",
        "hidden = layers.Dropout(0.25, name=\"drop-2\")(hidden)\n",
        "hidden = layers.Dense(16, activation='relu', name = \"hidden-3\", kernel_constraint=MaxNorm(3),\n",
        "               kernel_initializer= \"he_normal\")(hidden)\n",
        "hidden = layers.Dropout(0.25, name=\"drop-3\")(hidden)\n",
        "\n",
        "\n",
        "predictions = layers.Dense(1, activation= \"sigmoid\" , name='classification_layer')(hidden)            # (None,1,1)      \n",
        "\n",
        "model = Model(inputs=[ids, mks, projection_space],outputs= predictions)"
      ]
    },
    {
      "cell_type": "code",
      "source": [
        "model.summary()"
      ],
      "metadata": {
        "colab": {
          "base_uri": "https://localhost:8080/"
        },
        "id": "RGZtAEwlcbxa",
        "outputId": "5af97277-be09-47ac-9118-db02f3077083"
      },
      "execution_count": 73,
      "outputs": [
        {
          "output_type": "stream",
          "name": "stdout",
          "text": [
            "Model: \"model_7\"\n",
            "__________________________________________________________________________________________________\n",
            " Layer (type)                   Output Shape         Param #     Connected to                     \n",
            "==================================================================================================\n",
            " space (InputLayer)             [(None, 300)]        0           []                               \n",
            "                                                                                                  \n",
            " input_ids (InputLayer)         [(None, 128)]        0           []                               \n",
            "                                                                                                  \n",
            " attention_masks (InputLayer)   [(None, 128)]        0           []                               \n",
            "                                                                                                  \n",
            " positive_embedding (Embedding)  (None, 300, 768)    230400      ['space[0][0]']                  \n",
            "                                                                                                  \n",
            " negative_embedding (Embedding)  (None, 300, 768)    230400      ['space[0][0]']                  \n",
            "                                                                                                  \n",
            " tf_bert_model (TFBertModel)    TFBaseModelOutputWi  109482240   ['input_ids[0][0]',              \n",
            "                                thPoolingAndCrossAt               'attention_masks[0][0]']        \n",
            "                                tentions(last_hidde                                               \n",
            "                                n_state=(None, 128,                                               \n",
            "                                 768),                                                            \n",
            "                                 pooler_output=(Non                                               \n",
            "                                e, 768),                                                          \n",
            "                                 past_key_values=No                                               \n",
            "                                ne, hidden_states=N                                               \n",
            "                                one, attentions=Non                                               \n",
            "                                e, cross_attentions                                               \n",
            "                                =None)                                                            \n",
            "                                                                                                  \n",
            " permute_4 (Permute)            (None, 768, 300)     0           ['positive_embedding[0][0]']     \n",
            "                                                                                                  \n",
            " permute_5 (Permute)            (None, 768, 300)     0           ['negative_embedding[0][0]']     \n",
            "                                                                                                  \n",
            " cosine_positive (Lambda)       (None, 128, 300)     0           ['tf_bert_model[2][0]',          \n",
            "                                                                  'permute_4[0][0]']              \n",
            "                                                                                                  \n",
            " cosine_negative (Lambda)       (None, 128, 300)     0           ['tf_bert_model[2][0]',          \n",
            "                                                                  'permute_5[0][0]']              \n",
            "                                                                                                  \n",
            " remove_cls_pad_positive (remov  (None, 128, 300)    0           ['cosine_positive[0][0]',        \n",
            " e_padsV2)                                                        'input_ids[0][0]']              \n",
            "                                                                                                  \n",
            " remove_cls_pad_negative (remov  (None, 128, 300)    0           ['cosine_negative[0][0]',        \n",
            " e_padsV2)                                                        'input_ids[0][0]']              \n",
            "                                                                                                  \n",
            " AverageMergeAndCompare (Lambda  (None, 1, 600)      0           ['remove_cls_pad_positive[0][0]',\n",
            " )                                                                'remove_cls_pad_negative[0][0]']\n",
            "                                                                                                  \n",
            " flatten_2 (Flatten)            (None, 600)          0           ['AverageMergeAndCompare[0][0]'] \n",
            "                                                                                                  \n",
            " hidden-1 (Dense)               (None, 256)          153856      ['flatten_2[0][0]']              \n",
            "                                                                                                  \n",
            " drop-1 (Dropout)               (None, 256)          0           ['hidden-1[0][0]']               \n",
            "                                                                                                  \n",
            " hidden-2 (Dense)               (None, 64)           16448       ['drop-1[0][0]']                 \n",
            "                                                                                                  \n",
            " drop-2 (Dropout)               (None, 64)           0           ['hidden-2[0][0]']               \n",
            "                                                                                                  \n",
            " hidden-3 (Dense)               (None, 16)           1040        ['drop-2[0][0]']                 \n",
            "                                                                                                  \n",
            " drop-3 (Dropout)               (None, 16)           0           ['hidden-3[0][0]']               \n",
            "                                                                                                  \n",
            " classification_layer (Dense)   (None, 1)            17          ['drop-3[0][0]']                 \n",
            "                                                                                                  \n",
            "==================================================================================================\n",
            "Total params: 110,114,401\n",
            "Trainable params: 632,161\n",
            "Non-trainable params: 109,482,240\n",
            "__________________________________________________________________________________________________\n"
          ]
        }
      ]
    },
    {
      "cell_type": "code",
      "source": [
        "from keras.utils import plot_model\n",
        "tf.keras.utils.plot_model(model,to_file = \"/content/sample_data/something.png\", show_shapes=False)"
      ],
      "metadata": {
        "colab": {
          "base_uri": "https://localhost:8080/",
          "height": 1000
        },
        "id": "xMUGhq99cfUm",
        "outputId": "cdf19bd2-ff1e-4fcb-bb98-8d9ced4cf3c8"
      },
      "execution_count": 74,
      "outputs": [
        {
          "output_type": "execute_result",
          "data": {
            "image/png": "[encoded data removed]",
            "text/plain": [
              "<IPython.core.display.Image object>"
            ]
          },
          "metadata": {},
          "execution_count": 74
        }
      ]
    },
    {
      "cell_type": "markdown",
      "source": [
        "## Model Training"
      ],
      "metadata": {
        "id": "pMy4t2KSiIzJ"
      }
    },
    {
      "cell_type": "code",
      "execution_count": 75,
      "metadata": {
        "id": "F2xwDI426PAO"
      },
      "outputs": [],
      "source": [
        "# loss functions\n",
        "\n",
        "# subtract this loss to decrease cosine similarity\n",
        "# space_loss = tf.keras.losses.CosineSimilarity()(positive_embedding_np, negative_embedding_np)\n",
        "\n",
        "# model.add_loss(-1*space_loss)\n",
        "\n",
        "projection_loss = tf.keras.losses.CosineSimilarity()(tf.math.reduce_mean(positive_cosine, axis=1), tf.math.reduce_mean(negative_cosine, axis=1))\n",
        "model.add_loss((1.0/(1.01 + projection_loss)))"
      ]
    },
    {
      "cell_type": "code",
      "execution_count": 76,
      "metadata": {
        "id": "BzlDlnaR7nwh"
      },
      "outputs": [],
      "source": [
        "# cross entropy loss\n",
        "crossEntropLoss = tf.keras.losses.BinaryCrossentropy(from_logits = False)\n",
        "\n",
        "optimizer = tf.keras.optimizers.Adam(learning_rate = 1e-3)\n",
        "\n",
        "model.compile(loss = crossEntropLoss , optimizer = optimizer, metrics=[\"accuracy\"])"
      ]
    },
    {
      "cell_type": "code",
      "execution_count": 77,
      "metadata": {
        "colab": {
          "base_uri": "https://localhost:8080/"
        },
        "id": "GxgqZav88z6N",
        "outputId": "5374200d-a5bb-42d4-90b7-0574c69787bb"
      },
      "outputs": [
        {
          "output_type": "execute_result",
          "data": {
            "text/plain": [
              "1093"
            ]
          },
          "metadata": {},
          "execution_count": 77
        }
      ],
      "source": [
        "len(train_gen) // BATCH_SIZE"
      ]
    },
    {
      "cell_type": "code",
      "execution_count": 78,
      "metadata": {
        "id": "CmL8xYGKl6QS"
      },
      "outputs": [],
      "source": [
        "# callbacks\n",
        "\n",
        "BASE_PATH = \"/gdrive/Shareddrives/Thesis/\"\n",
        "\n",
        "modelcheckpoint = tf.keras.callbacks.ModelCheckpoint(\n",
        "    filepath= BASE_PATH + \"imdb_bestWeights.h5\",\n",
        "    monitor = \"val_loss\",\n",
        "    verbose = 1,\n",
        "    save_best_only = True,\n",
        "    save_weights_only = True,\n",
        "    mode = \"auto\",\n",
        ")\n",
        "\n",
        "earlystopping = tf.keras.callbacks.EarlyStopping(\n",
        "    monitor=\"val_loss\",\n",
        "    min_delta=0,\n",
        "    patience=5,\n",
        "    verbose=1,\n",
        "    mode=\"auto\",\n",
        "    restore_best_weights=True)"
      ]
    },
    {
      "cell_type": "code",
      "execution_count": 79,
      "metadata": {
        "id": "jgXNL30V8Isl",
        "colab": {
          "base_uri": "https://localhost:8080/"
        },
        "outputId": "4a8834a9-5373-4b2d-f7b5-68e6c5aa685b"
      },
      "outputs": [
        {
          "output_type": "stream",
          "name": "stdout",
          "text": [
            "Epoch 1/3\n",
            "1093/1093 [==============================] - ETA: 0s - loss: 0.9921 - accuracy: 0.7753\n",
            "Epoch 1: val_loss improved from inf to 0.90549, saving model to /gdrive/Shareddrives/Thesis/imdb_bestWeights.h5\n",
            "1093/1093 [==============================] - 439s 385ms/step - loss: 0.9921 - accuracy: 0.7753 - val_loss: 0.9055 - val_accuracy: 0.8177\n",
            "Epoch 2/3\n",
            "1093/1093 [==============================] - ETA: 0s - loss: 0.9246 - accuracy: 0.8103\n",
            "Epoch 2: val_loss improved from 0.90549 to 0.89352, saving model to /gdrive/Shareddrives/Thesis/imdb_bestWeights.h5\n",
            "1093/1093 [==============================] - 420s 384ms/step - loss: 0.9246 - accuracy: 0.8103 - val_loss: 0.8935 - val_accuracy: 0.8243\n",
            "Epoch 3/3\n",
            "1093/1093 [==============================] - ETA: 0s - loss: 0.9139 - accuracy: 0.8148\n",
            "Epoch 3: val_loss improved from 0.89352 to 0.88206, saving model to /gdrive/Shareddrives/Thesis/imdb_bestWeights.h5\n",
            "1093/1093 [==============================] - 433s 396ms/step - loss: 0.9139 - accuracy: 0.8148 - val_loss: 0.8821 - val_accuracy: 0.8281\n"
          ]
        }
      ],
      "source": [
        "EPOCHS = 3\n",
        "history = model.fit(\n",
        "    train_ds,\n",
        "    steps_per_epoch = len(train_gen) // BATCH_SIZE,\n",
        "    validation_data = val_ds,\n",
        "    epochs = EPOCHS,\n",
        "    callbacks = [modelcheckpoint]\n",
        ")"
      ]
    },
    {
      "cell_type": "code",
      "execution_count": 81,
      "metadata": {
        "id": "WWWXuWk9oCWM"
      },
      "outputs": [],
      "source": [
        "# UNCOMMENT THIS CELL AFTER MODEL TRAINING\n",
        "\n",
        "# save model history\n",
        "\n",
        "with open(f\"{BASE_PATH}/imdb_training_history.pkl\",\"wb\") as hist:\n",
        "  pickle.dump(history.history,hist)\n",
        "\n",
        "# load best weights\n",
        "model.load_weights(f\"{BASE_PATH}imdb_bestWeights.h5\")"
      ]
    },
    {
      "cell_type": "code",
      "source": [
        "# prepare test data for evaluation:\n",
        "test_gen   = dataset(test_df[\"review\"].values,test_df[\"sentiment\"].values,max_length = MAX_LENGTH, tokenizer = tokenizer, projection_dim=PROJECTION_DIM, val = True)\n",
        "test_ds = tf.data.Dataset.from_generator(test_gen,\n",
        "                                            output_signature = \n",
        "                                           ({\"input_ids\" : tf.TensorSpec(shape = (MAX_LENGTH,), dtype = tf.int32 ),\"attention_masks\":tf.TensorSpec(shape = (MAX_LENGTH,), dtype = tf.int32),\"space\":tf.TensorSpec(shape = (PROJECTION_DIM,), dtype = tf.int32)},\n",
        "                                            tf.TensorSpec(shape = (), dtype = (tf.float32)))).batch(BATCH_SIZE)"
      ],
      "metadata": {
        "id": "e9RDYfqzLhPE"
      },
      "execution_count": 31,
      "outputs": []
    },
    {
      "cell_type": "code",
      "source": [
        "test_df"
      ],
      "metadata": {
        "colab": {
          "base_uri": "https://localhost:8080/",
          "height": 424
        },
        "id": "C1wHWqLVOdX5",
        "outputId": "70cdfdf1-6cc8-47bf-e1c6-799891c1670a"
      },
      "execution_count": 32,
      "outputs": [
        {
          "output_type": "execute_result",
          "data": {
            "text/plain": [
              "                                                 review  sentiment\n",
              "0     with a little dressing up this movie could be ...        0.0\n",
              "1     i just want to comment to the woman above that...        1.0\n",
              "2     ever since i first encountered the divine ms m...        1.0\n",
              "3     first off im an american i havent seen any com...        1.0\n",
              "4     soap opera about a small town married woman ka...        1.0\n",
              "...                                                 ...        ...\n",
              "7495  dont waste your time one of those coollooking ...        0.0\n",
              "7496  robin williams does his best to combine comedy...        1.0\n",
              "7497  when you see the cover of the dvd youre convin...        1.0\n",
              "7498  heart pounding erotic drama are the words that...        1.0\n",
              "7499  film noir is an overused expression when it co...        1.0\n",
              "\n",
              "[7500 rows x 2 columns]"
            ],
            "text/html": [
              "\n",
              "  <div id=\"df-2d045c58-9c0e-43a1-9b9e-e387272bb445\">\n",
              "    <div class=\"colab-df-container\">\n",
              "      <div>\n",
              "<style scoped>\n",
              "    .dataframe tbody tr th:only-of-type {\n",
              "        vertical-align: middle;\n",
              "    }\n",
              "\n",
              "    .dataframe tbody tr th {\n",
              "        vertical-align: top;\n",
              "    }\n",
              "\n",
              "    .dataframe thead th {\n",
              "        text-align: right;\n",
              "    }\n",
              "</style>\n",
              "<table border=\"1\" class=\"dataframe\">\n",
              "  <thead>\n",
              "    <tr style=\"text-align: right;\">\n",
              "      <th></th>\n",
              "      <th>review</th>\n",
              "      <th>sentiment</th>\n",
              "    </tr>\n",
              "  </thead>\n",
              "  <tbody>\n",
              "    <tr>\n",
              "      <th>0</th>\n",
              "      <td>with a little dressing up this movie could be ...</td>\n",
              "      <td>0.0</td>\n",
              "    </tr>\n",
              "    <tr>\n",
              "      <th>1</th>\n",
              "      <td>i just want to comment to the woman above that...</td>\n",
              "      <td>1.0</td>\n",
              "    </tr>\n",
              "    <tr>\n",
              "      <th>2</th>\n",
              "      <td>ever since i first encountered the divine ms m...</td>\n",
              "      <td>1.0</td>\n",
              "    </tr>\n",
              "    <tr>\n",
              "      <th>3</th>\n",
              "      <td>first off im an american i havent seen any com...</td>\n",
              "      <td>1.0</td>\n",
              "    </tr>\n",
              "    <tr>\n",
              "      <th>4</th>\n",
              "      <td>soap opera about a small town married woman ka...</td>\n",
              "      <td>1.0</td>\n",
              "    </tr>\n",
              "    <tr>\n",
              "      <th>...</th>\n",
              "      <td>...</td>\n",
              "      <td>...</td>\n",
              "    </tr>\n",
              "    <tr>\n",
              "      <th>7495</th>\n",
              "      <td>dont waste your time one of those coollooking ...</td>\n",
              "      <td>0.0</td>\n",
              "    </tr>\n",
              "    <tr>\n",
              "      <th>7496</th>\n",
              "      <td>robin williams does his best to combine comedy...</td>\n",
              "      <td>1.0</td>\n",
              "    </tr>\n",
              "    <tr>\n",
              "      <th>7497</th>\n",
              "      <td>when you see the cover of the dvd youre convin...</td>\n",
              "      <td>1.0</td>\n",
              "    </tr>\n",
              "    <tr>\n",
              "      <th>7498</th>\n",
              "      <td>heart pounding erotic drama are the words that...</td>\n",
              "      <td>1.0</td>\n",
              "    </tr>\n",
              "    <tr>\n",
              "      <th>7499</th>\n",
              "      <td>film noir is an overused expression when it co...</td>\n",
              "      <td>1.0</td>\n",
              "    </tr>\n",
              "  </tbody>\n",
              "</table>\n",
              "<p>7500 rows × 2 columns</p>\n",
              "</div>\n",
              "      <button class=\"colab-df-convert\" onclick=\"convertToInteractive('df-2d045c58-9c0e-43a1-9b9e-e387272bb445')\"\n",
              "              title=\"Convert this dataframe to an interactive table.\"\n",
              "              style=\"display:none;\">\n",
              "        \n",
              "  <svg xmlns=\"http://www.w3.org/2000/svg\" height=\"24px\"viewBox=\"0 0 24 24\"\n",
              "       width=\"24px\">\n",
              "    <path d=\"M0 0h24v24H0V0z\" fill=\"none\"/>\n",
              "    <path d=\"M18.56 5.44l.94 2.06.94-2.06 2.06-.94-2.06-.94-.94-2.06-.94 2.06-2.06.94zm-11 1L8.5 8.5l.94-2.06 2.06-.94-2.06-.94L8.5 2.5l-.94 2.06-2.06.94zm10 10l.94 2.06.94-2.06 2.06-.94-2.06-.94-.94-2.06-.94 2.06-2.06.94z\"/><path d=\"M17.41 7.96l-1.37-1.37c-.4-.4-.92-.59-1.43-.59-.52 0-1.04.2-1.43.59L10.3 9.45l-7.72 7.72c-.78.78-.78 2.05 0 2.83L4 21.41c.39.39.9.59 1.41.59.51 0 1.02-.2 1.41-.59l7.78-7.78 2.81-2.81c.8-.78.8-2.07 0-2.86zM5.41 20L4 18.59l7.72-7.72 1.47 1.35L5.41 20z\"/>\n",
              "  </svg>\n",
              "      </button>\n",
              "      \n",
              "  <style>\n",
              "    .colab-df-container {\n",
              "      display:flex;\n",
              "      flex-wrap:wrap;\n",
              "      gap: 12px;\n",
              "    }\n",
              "\n",
              "    .colab-df-convert {\n",
              "      background-color: #E8F0FE;\n",
              "      border: none;\n",
              "      border-radius: 50%;\n",
              "      cursor: pointer;\n",
              "      display: none;\n",
              "      fill: #1967D2;\n",
              "      height: 32px;\n",
              "      padding: 0 0 0 0;\n",
              "      width: 32px;\n",
              "    }\n",
              "\n",
              "    .colab-df-convert:hover {\n",
              "      background-color: #E2EBFA;\n",
              "      box-shadow: 0px 1px 2px rgba(60, 64, 67, 0.3), 0px 1px 3px 1px rgba(60, 64, 67, 0.15);\n",
              "      fill: #174EA6;\n",
              "    }\n",
              "\n",
              "    [theme=dark] .colab-df-convert {\n",
              "      background-color: #3B4455;\n",
              "      fill: #D2E3FC;\n",
              "    }\n",
              "\n",
              "    [theme=dark] .colab-df-convert:hover {\n",
              "      background-color: #434B5C;\n",
              "      box-shadow: 0px 1px 3px 1px rgba(0, 0, 0, 0.15);\n",
              "      filter: drop-shadow(0px 1px 2px rgba(0, 0, 0, 0.3));\n",
              "      fill: #FFFFFF;\n",
              "    }\n",
              "  </style>\n",
              "\n",
              "      <script>\n",
              "        const buttonEl =\n",
              "          document.querySelector('#df-2d045c58-9c0e-43a1-9b9e-e387272bb445 button.colab-df-convert');\n",
              "        buttonEl.style.display =\n",
              "          google.colab.kernel.accessAllowed ? 'block' : 'none';\n",
              "\n",
              "        async function convertToInteractive(key) {\n",
              "          const element = document.querySelector('#df-2d045c58-9c0e-43a1-9b9e-e387272bb445');\n",
              "          const dataTable =\n",
              "            await google.colab.kernel.invokeFunction('convertToInteractive',\n",
              "                                                     [key], {});\n",
              "          if (!dataTable) return;\n",
              "\n",
              "          const docLinkHtml = 'Like what you see? Visit the ' +\n",
              "            '<a target=\"_blank\" href=https://colab.research.google.com/notebooks/data_table.ipynb>data table notebook</a>'\n",
              "            + ' to learn more about interactive tables.';\n",
              "          element.innerHTML = '';\n",
              "          dataTable['output_type'] = 'display_data';\n",
              "          await google.colab.output.renderOutput(dataTable, element);\n",
              "          const docLink = document.createElement('div');\n",
              "          docLink.innerHTML = docLinkHtml;\n",
              "          element.appendChild(docLink);\n",
              "        }\n",
              "      </script>\n",
              "    </div>\n",
              "  </div>\n",
              "  "
            ]
          },
          "metadata": {},
          "execution_count": 32
        }
      ]
    },
    {
      "cell_type": "code",
      "source": [
        "# get performance metrics\n",
        "predictions = model.predict(test_ds)"
      ],
      "metadata": {
        "colab": {
          "base_uri": "https://localhost:8080/"
        },
        "id": "pr74ysiHN1cA",
        "outputId": "3710f8ea-ed4b-4978-adcb-ff5bdbfd1a9a"
      },
      "execution_count": 82,
      "outputs": [
        {
          "output_type": "stream",
          "name": "stdout",
          "text": [
            "235/235 [==============================] - 71s 287ms/step\n"
          ]
        }
      ]
    },
    {
      "cell_type": "code",
      "source": [
        "def predictionLabels(i):\n",
        "\n",
        "  if i < 0.5:\n",
        "    return 0.0\n",
        "  else:\n",
        "    return 1.0\n",
        "\n",
        "getLabels = np.vectorize(predictionLabels)"
      ],
      "metadata": {
        "id": "eXAPHAN-PUMc"
      },
      "execution_count": 83,
      "outputs": []
    },
    {
      "cell_type": "code",
      "source": [
        "predictedLabels = getLabels(predictions)\n",
        "predictedLabels.shape"
      ],
      "metadata": {
        "id": "wuWeJKK7QO4w",
        "colab": {
          "base_uri": "https://localhost:8080/"
        },
        "outputId": "abda0b13-a5ba-4d23-8bed-2981cab49ee1"
      },
      "execution_count": 84,
      "outputs": [
        {
          "output_type": "execute_result",
          "data": {
            "text/plain": [
              "(7500, 1)"
            ]
          },
          "metadata": {},
          "execution_count": 84
        }
      ]
    },
    {
      "cell_type": "code",
      "source": [
        "from sklearn.metrics import confusion_matrix, ConfusionMatrixDisplay, classification_report\n",
        "\n",
        "confusion_matrix(test_df.sentiment.values, predictedLabels)\n",
        "ConfusionMatrixDisplay.from_predictions(test_df.sentiment.values, predictedLabels)"
      ],
      "metadata": {
        "colab": {
          "base_uri": "https://localhost:8080/",
          "height": 297
        },
        "id": "ukBTUzO1QVj0",
        "outputId": "0dde9448-b490-44ff-cf0b-7f79f4c6c5dd"
      },
      "execution_count": 85,
      "outputs": [
        {
          "output_type": "execute_result",
          "data": {
            "text/plain": [
              "<sklearn.metrics._plot.confusion_matrix.ConfusionMatrixDisplay at 0x7f5586046a60>"
            ]
          },
          "metadata": {},
          "execution_count": 85
        },
        {
          "output_type": "display_data",
          "data": {
            "text/plain": [
              "<Figure size 432x288 with 2 Axes>"
            ],
            "image/png": "[encoded data removed]"
          },
          "metadata": {
            "needs_background": "light"
          }
        }
      ]
    },
    {
      "cell_type": "code",
      "source": [
        "print(classification_report(test_df.sentiment.values, predictedLabels))"
      ],
      "metadata": {
        "colab": {
          "base_uri": "https://localhost:8080/"
        },
        "id": "DKUqHxqtS-VN",
        "outputId": "fb123450-caae-4101-fa7f-e8a93ea29081"
      },
      "execution_count": 86,
      "outputs": [
        {
          "output_type": "stream",
          "name": "stdout",
          "text": [
            "              precision    recall  f1-score   support\n",
            "\n",
            "         0.0       0.83      0.85      0.84      3750\n",
            "         1.0       0.84      0.83      0.84      3750\n",
            "\n",
            "    accuracy                           0.84      7500\n",
            "   macro avg       0.84      0.84      0.84      7500\n",
            "weighted avg       0.84      0.84      0.84      7500\n",
            "\n"
          ]
        }
      ]
    },
    {
      "cell_type": "markdown",
      "source": [
        "## Model Interpretability Using LINE"
      ],
      "metadata": {
        "id": "Tr_ycIMdLWq1"
      }
    },
    {
      "cell_type": "code",
      "source": [
        "# ..."
      ],
      "metadata": {
        "id": "PVUQczH7LQTH"
      },
      "execution_count": 87,
      "outputs": []
    },
    {
      "cell_type": "markdown",
      "metadata": {
        "id": "7duseDZHVwau"
      },
      "source": [
        "## Model interpretability Using Dynamic Projections"
      ]
    },
    {
      "cell_type": "code",
      "execution_count": 88,
      "metadata": {
        "id": "l_B4E819ST5m"
      },
      "outputs": [],
      "source": [
        "# SETUP:\n",
        "# take a sentence, get 64 tokens, choose tokens that have maximum cosine similarity score\n",
        "# from already trained model\n",
        "# take such words from both classes \n",
        "# plot them on a tsne plot\n",
        "# [PAD] and [CLS] should not be a problem since they'll result in 0 cosine similarity (already take care in remove_pads)"
      ]
    },
    {
      "cell_type": "code",
      "source": [
        "neg_reviews = test_df.loc[test_df.sentiment == 0.0].reset_index(drop=True)\n",
        "pos_reviews = test_df.loc[test_df.sentiment == 1.0].reset_index(drop=True)"
      ],
      "metadata": {
        "id": "Dtc-8J7-T0np"
      },
      "execution_count": 89,
      "outputs": []
    },
    {
      "cell_type": "code",
      "source": [
        "pos_reviews"
      ],
      "metadata": {
        "colab": {
          "base_uri": "https://localhost:8080/",
          "height": 424
        },
        "id": "T7Lsblq7T4XJ",
        "outputId": "9ad0e9af-b3a1-4c20-9f0c-5c0a5aa07120"
      },
      "execution_count": 90,
      "outputs": [
        {
          "output_type": "execute_result",
          "data": {
            "text/plain": [
              "                                                 review  sentiment\n",
              "0     i just want to comment to the woman above that...        1.0\n",
              "1     ever since i first encountered the divine ms m...        1.0\n",
              "2     first off im an american i havent seen any com...        1.0\n",
              "3     soap opera about a small town married woman ka...        1.0\n",
              "4     ive heard a lot of different opinions about th...        1.0\n",
              "...                                                 ...        ...\n",
              "3745  i second the motion to make this into a movie ...        1.0\n",
              "3746  robin williams does his best to combine comedy...        1.0\n",
              "3747  when you see the cover of the dvd youre convin...        1.0\n",
              "3748  heart pounding erotic drama are the words that...        1.0\n",
              "3749  film noir is an overused expression when it co...        1.0\n",
              "\n",
              "[3750 rows x 2 columns]"
            ],
            "text/html": [
              "\n",
              "  <div id=\"df-0b44100a-351e-4677-9d1f-eb123f6acef9\">\n",
              "    <div class=\"colab-df-container\">\n",
              "      <div>\n",
              "<style scoped>\n",
              "    .dataframe tbody tr th:only-of-type {\n",
              "        vertical-align: middle;\n",
              "    }\n",
              "\n",
              "    .dataframe tbody tr th {\n",
              "        vertical-align: top;\n",
              "    }\n",
              "\n",
              "    .dataframe thead th {\n",
              "        text-align: right;\n",
              "    }\n",
              "</style>\n",
              "<table border=\"1\" class=\"dataframe\">\n",
              "  <thead>\n",
              "    <tr style=\"text-align: right;\">\n",
              "      <th></th>\n",
              "      <th>review</th>\n",
              "      <th>sentiment</th>\n",
              "    </tr>\n",
              "  </thead>\n",
              "  <tbody>\n",
              "    <tr>\n",
              "      <th>0</th>\n",
              "      <td>i just want to comment to the woman above that...</td>\n",
              "      <td>1.0</td>\n",
              "    </tr>\n",
              "    <tr>\n",
              "      <th>1</th>\n",
              "      <td>ever since i first encountered the divine ms m...</td>\n",
              "      <td>1.0</td>\n",
              "    </tr>\n",
              "    <tr>\n",
              "      <th>2</th>\n",
              "      <td>first off im an american i havent seen any com...</td>\n",
              "      <td>1.0</td>\n",
              "    </tr>\n",
              "    <tr>\n",
              "      <th>3</th>\n",
              "      <td>soap opera about a small town married woman ka...</td>\n",
              "      <td>1.0</td>\n",
              "    </tr>\n",
              "    <tr>\n",
              "      <th>4</th>\n",
              "      <td>ive heard a lot of different opinions about th...</td>\n",
              "      <td>1.0</td>\n",
              "    </tr>\n",
              "    <tr>\n",
              "      <th>...</th>\n",
              "      <td>...</td>\n",
              "      <td>...</td>\n",
              "    </tr>\n",
              "    <tr>\n",
              "      <th>3745</th>\n",
              "      <td>i second the motion to make this into a movie ...</td>\n",
              "      <td>1.0</td>\n",
              "    </tr>\n",
              "    <tr>\n",
              "      <th>3746</th>\n",
              "      <td>robin williams does his best to combine comedy...</td>\n",
              "      <td>1.0</td>\n",
              "    </tr>\n",
              "    <tr>\n",
              "      <th>3747</th>\n",
              "      <td>when you see the cover of the dvd youre convin...</td>\n",
              "      <td>1.0</td>\n",
              "    </tr>\n",
              "    <tr>\n",
              "      <th>3748</th>\n",
              "      <td>heart pounding erotic drama are the words that...</td>\n",
              "      <td>1.0</td>\n",
              "    </tr>\n",
              "    <tr>\n",
              "      <th>3749</th>\n",
              "      <td>film noir is an overused expression when it co...</td>\n",
              "      <td>1.0</td>\n",
              "    </tr>\n",
              "  </tbody>\n",
              "</table>\n",
              "<p>3750 rows × 2 columns</p>\n",
              "</div>\n",
              "      <button class=\"colab-df-convert\" onclick=\"convertToInteractive('df-0b44100a-351e-4677-9d1f-eb123f6acef9')\"\n",
              "              title=\"Convert this dataframe to an interactive table.\"\n",
              "              style=\"display:none;\">\n",
              "        \n",
              "  <svg xmlns=\"http://www.w3.org/2000/svg\" height=\"24px\"viewBox=\"0 0 24 24\"\n",
              "       width=\"24px\">\n",
              "    <path d=\"M0 0h24v24H0V0z\" fill=\"none\"/>\n",
              "    <path d=\"M18.56 5.44l.94 2.06.94-2.06 2.06-.94-2.06-.94-.94-2.06-.94 2.06-2.06.94zm-11 1L8.5 8.5l.94-2.06 2.06-.94-2.06-.94L8.5 2.5l-.94 2.06-2.06.94zm10 10l.94 2.06.94-2.06 2.06-.94-2.06-.94-.94-2.06-.94 2.06-2.06.94z\"/><path d=\"M17.41 7.96l-1.37-1.37c-.4-.4-.92-.59-1.43-.59-.52 0-1.04.2-1.43.59L10.3 9.45l-7.72 7.72c-.78.78-.78 2.05 0 2.83L4 21.41c.39.39.9.59 1.41.59.51 0 1.02-.2 1.41-.59l7.78-7.78 2.81-2.81c.8-.78.8-2.07 0-2.86zM5.41 20L4 18.59l7.72-7.72 1.47 1.35L5.41 20z\"/>\n",
              "  </svg>\n",
              "      </button>\n",
              "      \n",
              "  <style>\n",
              "    .colab-df-container {\n",
              "      display:flex;\n",
              "      flex-wrap:wrap;\n",
              "      gap: 12px;\n",
              "    }\n",
              "\n",
              "    .colab-df-convert {\n",
              "      background-color: #E8F0FE;\n",
              "      border: none;\n",
              "      border-radius: 50%;\n",
              "      cursor: pointer;\n",
              "      display: none;\n",
              "      fill: #1967D2;\n",
              "      height: 32px;\n",
              "      padding: 0 0 0 0;\n",
              "      width: 32px;\n",
              "    }\n",
              "\n",
              "    .colab-df-convert:hover {\n",
              "      background-color: #E2EBFA;\n",
              "      box-shadow: 0px 1px 2px rgba(60, 64, 67, 0.3), 0px 1px 3px 1px rgba(60, 64, 67, 0.15);\n",
              "      fill: #174EA6;\n",
              "    }\n",
              "\n",
              "    [theme=dark] .colab-df-convert {\n",
              "      background-color: #3B4455;\n",
              "      fill: #D2E3FC;\n",
              "    }\n",
              "\n",
              "    [theme=dark] .colab-df-convert:hover {\n",
              "      background-color: #434B5C;\n",
              "      box-shadow: 0px 1px 3px 1px rgba(0, 0, 0, 0.15);\n",
              "      filter: drop-shadow(0px 1px 2px rgba(0, 0, 0, 0.3));\n",
              "      fill: #FFFFFF;\n",
              "    }\n",
              "  </style>\n",
              "\n",
              "      <script>\n",
              "        const buttonEl =\n",
              "          document.querySelector('#df-0b44100a-351e-4677-9d1f-eb123f6acef9 button.colab-df-convert');\n",
              "        buttonEl.style.display =\n",
              "          google.colab.kernel.accessAllowed ? 'block' : 'none';\n",
              "\n",
              "        async function convertToInteractive(key) {\n",
              "          const element = document.querySelector('#df-0b44100a-351e-4677-9d1f-eb123f6acef9');\n",
              "          const dataTable =\n",
              "            await google.colab.kernel.invokeFunction('convertToInteractive',\n",
              "                                                     [key], {});\n",
              "          if (!dataTable) return;\n",
              "\n",
              "          const docLinkHtml = 'Like what you see? Visit the ' +\n",
              "            '<a target=\"_blank\" href=https://colab.research.google.com/notebooks/data_table.ipynb>data table notebook</a>'\n",
              "            + ' to learn more about interactive tables.';\n",
              "          element.innerHTML = '';\n",
              "          dataTable['output_type'] = 'display_data';\n",
              "          await google.colab.output.renderOutput(dataTable, element);\n",
              "          const docLink = document.createElement('div');\n",
              "          docLink.innerHTML = docLinkHtml;\n",
              "          element.appendChild(docLink);\n",
              "        }\n",
              "      </script>\n",
              "    </div>\n",
              "  </div>\n",
              "  "
            ]
          },
          "metadata": {},
          "execution_count": 90
        }
      ]
    },
    {
      "cell_type": "code",
      "source": [
        "model.layers"
      ],
      "metadata": {
        "id": "czjTWtJFaF21",
        "colab": {
          "base_uri": "https://localhost:8080/"
        },
        "outputId": "2f8cf12e-b3c1-4a19-ac13-be80e4a97a09"
      },
      "execution_count": 91,
      "outputs": [
        {
          "output_type": "execute_result",
          "data": {
            "text/plain": [
              "[<keras.engine.input_layer.InputLayer at 0x7f552bea9fa0>,\n",
              " <keras.engine.input_layer.InputLayer at 0x7f556cf12c40>,\n",
              " <keras.engine.input_layer.InputLayer at 0x7f552bb63400>,\n",
              " <keras.layers.core.embedding.Embedding at 0x7f5598dc6b50>,\n",
              " <keras.layers.core.embedding.Embedding at 0x7f552ba0dfd0>,\n",
              " <transformers.models.bert.modeling_tf_bert.TFBertModel at 0x7f560d3109a0>,\n",
              " <keras.layers.reshaping.permute.Permute at 0x7f5598dc6c10>,\n",
              " <keras.layers.reshaping.permute.Permute at 0x7f559418e100>,\n",
              " <keras.layers.core.lambda_layer.Lambda at 0x7f55692d15e0>,\n",
              " <keras.layers.core.lambda_layer.Lambda at 0x7f552b4cc640>,\n",
              " <__main__.remove_padsV2 at 0x7f5598bd0bb0>,\n",
              " <__main__.remove_padsV2 at 0x7f55687f1cd0>,\n",
              " <keras.layers.core.lambda_layer.Lambda at 0x7f5598bb9f10>,\n",
              " <keras.layers.reshaping.flatten.Flatten at 0x7f5569566970>,\n",
              " <keras.layers.core.dense.Dense at 0x7f5598bd9310>,\n",
              " <keras.layers.regularization.dropout.Dropout at 0x7f55f4de7ee0>,\n",
              " <keras.layers.core.dense.Dense at 0x7f5569547d30>,\n",
              " <keras.layers.regularization.dropout.Dropout at 0x7f5569547d00>,\n",
              " <keras.layers.core.dense.Dense at 0x7f5598bd0970>,\n",
              " <keras.layers.regularization.dropout.Dropout at 0x7f559412e430>,\n",
              " <keras.layers.core.dense.Dense at 0x7f5594476670>,\n",
              " <keras.layers.core.tf_op_layer.TFOpLambda at 0x7f5594057910>,\n",
              " <keras.layers.core.tf_op_layer.TFOpLambda at 0x7f55944910d0>,\n",
              " <keras.layers.core.tf_op_layer.TFOpLambda at 0x7f5598dabbb0>,\n",
              " <keras.layers.core.tf_op_layer.TFOpLambda at 0x7f5598dabd30>,\n",
              " <keras.layers.core.tf_op_layer.TFOpLambda at 0x7f5594491fd0>,\n",
              " <keras.layers.core.tf_op_layer.TFOpLambda at 0x7f5598dab640>,\n",
              " <keras.layers.core.tf_op_layer.TFOpLambda at 0x7f5594053520>,\n",
              " <keras.layers.core.tf_op_layer.TFOpLambda at 0x7f5594053fd0>,\n",
              " <keras.layers.core.tf_op_layer.TFOpLambda at 0x7f5594053af0>,\n",
              " <keras.layers.core.tf_op_layer.TFOpLambda at 0x7f5594491ca0>,\n",
              " <keras.layers.core.tf_op_layer.TFOpLambda at 0x7f5568820820>,\n",
              " <keras.layers.core.tf_op_layer.TFOpLambda at 0x7f5594055d00>,\n",
              " <keras.layers.core.tf_op_layer.TFOpLambda at 0x7f5568820070>,\n",
              " <keras.layers.core.tf_op_layer.TFOpLambda at 0x7f55940577f0>,\n",
              " <keras.layers.core.tf_op_layer.TFOpLambda at 0x7f5594060dc0>,\n",
              " <keras.engine.base_layer.AddLoss at 0x7f5598dab490>]"
            ]
          },
          "metadata": {},
          "execution_count": 91
        }
      ]
    },
    {
      "cell_type": "code",
      "source": [
        "len(model.layers)"
      ],
      "metadata": {
        "colab": {
          "base_uri": "https://localhost:8080/"
        },
        "id": "xU4-NV6MYp96",
        "outputId": "f2840b38-9054-4ecc-8d58-bef9877502c0"
      },
      "execution_count": 92,
      "outputs": [
        {
          "output_type": "execute_result",
          "data": {
            "text/plain": [
              "37"
            ]
          },
          "metadata": {},
          "execution_count": 92
        }
      ]
    },
    {
      "cell_type": "code",
      "source": [
        "layer_outputs = [layer.output for layer in model.layers]\n",
        "len(layer_outputs)"
      ],
      "metadata": {
        "colab": {
          "base_uri": "https://localhost:8080/"
        },
        "id": "UxjMZMpMT_7U",
        "outputId": "9c3e0a06-c456-4db5-bd28-981db902e00a"
      },
      "execution_count": 93,
      "outputs": [
        {
          "output_type": "execute_result",
          "data": {
            "text/plain": [
              "37"
            ]
          },
          "metadata": {},
          "execution_count": 93
        }
      ]
    },
    {
      "cell_type": "code",
      "source": [
        "layer_outputs[2]"
      ],
      "metadata": {
        "colab": {
          "base_uri": "https://localhost:8080/"
        },
        "id": "QTv3tuFmUImw",
        "outputId": "1088e868-a21e-4444-9c66-16900805c8f8"
      },
      "execution_count": 94,
      "outputs": [
        {
          "output_type": "execute_result",
          "data": {
            "text/plain": [
              "<KerasTensor: shape=(None, 128) dtype=int32 (created by layer 'attention_masks')>"
            ]
          },
          "metadata": {},
          "execution_count": 94
        }
      ]
    },
    {
      "cell_type": "code",
      "source": [
        "# get latent vector representations -- 7th layer of model2\n",
        "layer_outputs = [layer.output for layer in model.layers]\n",
        "\n",
        "activation_model_pos = Model(inputs = model.input, outputs = model.get_layer(\"remove_cls_pad_positive\").output)   # (None,128,300)\n",
        "activation_model_neg = Model(inputs = model.input, outputs = model.get_layer(\"remove_cls_pad_negative\").output)   # (None,128,300)"
      ],
      "metadata": {
        "id": "j3v2pT2YUQ7n"
      },
      "execution_count": 95,
      "outputs": []
    },
    {
      "cell_type": "code",
      "source": [
        "cpostitives = activation_model_pos.predict(test_ds)"
      ],
      "metadata": {
        "colab": {
          "base_uri": "https://localhost:8080/"
        },
        "id": "sWNfgTLrd0Yp",
        "outputId": "e5cd1f73-bbe3-465f-90b0-de0d865b8fbd"
      },
      "execution_count": 96,
      "outputs": [
        {
          "output_type": "stream",
          "name": "stdout",
          "text": [
            "235/235 [==============================] - 71s 289ms/step\n"
          ]
        }
      ]
    },
    {
      "cell_type": "code",
      "source": [
        "cpostitives.shape"
      ],
      "metadata": {
        "colab": {
          "base_uri": "https://localhost:8080/"
        },
        "id": "aJcNHzhog-q5",
        "outputId": "ac2ed881-100a-44aa-a5c8-2e2ae1c06623"
      },
      "execution_count": 97,
      "outputs": [
        {
          "output_type": "execute_result",
          "data": {
            "text/plain": [
              "(7500, 128, 300)"
            ]
          },
          "metadata": {},
          "execution_count": 97
        }
      ]
    },
    {
      "cell_type": "code",
      "source": [
        "# testing again\n",
        "for ele in test_ds.take(1):\n",
        "  tempout = ele"
      ],
      "metadata": {
        "id": "xjzzfw1ji17f"
      },
      "execution_count": 98,
      "outputs": []
    },
    {
      "cell_type": "code",
      "source": [
        "t_ids = tempout[0][\"input_ids\"]\n",
        "t_attmasks = tempout[0][\"attention_masks\"]\n",
        "t_spaceids = tempout[0][\"space\"]"
      ],
      "metadata": {
        "id": "oLimy5-ei9yK"
      },
      "execution_count": 99,
      "outputs": []
    },
    {
      "cell_type": "code",
      "source": [
        "t_ids"
      ],
      "metadata": {
        "colab": {
          "base_uri": "https://localhost:8080/"
        },
        "id": "dmRNPYh7jhOG",
        "outputId": "be47e53c-1d95-40e2-a37a-3dcd4b9b1290"
      },
      "execution_count": 100,
      "outputs": [
        {
          "output_type": "execute_result",
          "data": {
            "text/plain": [
              "<tf.Tensor: shape=(32, 128), dtype=int32, numpy=\n",
              "array([[  101,  2007,  1037, ...,     0,     0,     0],\n",
              "       [  101,  1045,  2074, ...,  3427,  2023,   102],\n",
              "       [  101,  2412,  2144, ...,  1998,  1997,   102],\n",
              "       ...,\n",
              "       [  101,  2004,  1045, ...,  2453,  2022,   102],\n",
              "       [  101,  4914,  2135, ..., 10667,  8303,   102],\n",
              "       [  101,  1045,  2145, ...,     0,     0,     0]], dtype=int32)>"
            ]
          },
          "metadata": {},
          "execution_count": 100
        }
      ]
    },
    {
      "cell_type": "code",
      "source": [
        "t_idsZerod = tf.where(tf.equal(t_ids,101) | tf.equal(t_ids,102),0,t_ids)\n",
        "t_idsZerod"
      ],
      "metadata": {
        "colab": {
          "base_uri": "https://localhost:8080/"
        },
        "id": "opjFVyTOkQEE",
        "outputId": "553f9489-67e1-4a3b-9143-0b381de4cf7f"
      },
      "execution_count": 101,
      "outputs": [
        {
          "output_type": "execute_result",
          "data": {
            "text/plain": [
              "<tf.Tensor: shape=(32, 128), dtype=int32, numpy=\n",
              "array([[    0,  2007,  1037, ...,     0,     0,     0],\n",
              "       [    0,  1045,  2074, ...,  3427,  2023,     0],\n",
              "       [    0,  2412,  2144, ...,  1998,  1997,     0],\n",
              "       ...,\n",
              "       [    0,  2004,  1045, ...,  2453,  2022,     0],\n",
              "       [    0,  4914,  2135, ..., 10667,  8303,     0],\n",
              "       [    0,  1045,  2145, ...,     0,     0,     0]], dtype=int32)>"
            ]
          },
          "metadata": {},
          "execution_count": 101
        }
      ]
    },
    {
      "cell_type": "code",
      "source": [
        "t_idsZerod[0]"
      ],
      "metadata": {
        "colab": {
          "base_uri": "https://localhost:8080/"
        },
        "id": "6ZGwM9GUkppi",
        "outputId": "14aba243-6cb3-4dfc-bb90-fdf28e7d1a89"
      },
      "execution_count": 102,
      "outputs": [
        {
          "output_type": "execute_result",
          "data": {
            "text/plain": [
              "<tf.Tensor: shape=(128,), dtype=int32, numpy=\n",
              "array([    0,  2007,  1037,  2210, 11225,  2039,  2023,  3185,  2071,\n",
              "        2022,  2366,  2005, 15060,  4596,  2025,  2069,  2003,  2003,\n",
              "       11771, 17727, 28128,  7028,  7145, 24949,  1998,  9996,  2856,\n",
              "        1996,  2190,  5889,  2020,  1996,  2978,  2867,  3701,  2138,\n",
              "        2027,  2018,  2061,  2261,  3210,  2000,  2360,  1037,  5949,\n",
              "        1997,  2051,  2130,  2005,  2162,  5470, 17592,     0,     0,\n",
              "           0,     0,     0,     0,     0,     0,     0,     0,     0,\n",
              "           0,     0,     0,     0,     0,     0,     0,     0,     0,\n",
              "           0,     0,     0,     0,     0,     0,     0,     0,     0,\n",
              "           0,     0,     0,     0,     0,     0,     0,     0,     0,\n",
              "           0,     0,     0,     0,     0,     0,     0,     0,     0,\n",
              "           0,     0,     0,     0,     0,     0,     0,     0,     0,\n",
              "           0,     0,     0,     0,     0,     0,     0,     0,     0,\n",
              "           0,     0,     0,     0,     0,     0,     0,     0,     0,\n",
              "           0,     0], dtype=int32)>"
            ]
          },
          "metadata": {},
          "execution_count": 102
        }
      ]
    },
    {
      "cell_type": "code",
      "source": [
        "cpostitives[0][-76]"
      ],
      "metadata": {
        "colab": {
          "base_uri": "https://localhost:8080/"
        },
        "id": "DhtGSIHLhlFq",
        "outputId": "91d8f9e9-9009-44cf-91d1-293a531b8565"
      },
      "execution_count": 103,
      "outputs": [
        {
          "output_type": "execute_result",
          "data": {
            "text/plain": [
              "array([-0., -0.,  0.,  0.,  0.,  0., -0.,  0.,  0.,  0.,  0.,  0., -0.,\n",
              "        0., -0., -0., -0.,  0., -0.,  0.,  0., -0., -0., -0., -0., -0.,\n",
              "       -0.,  0.,  0., -0.,  0.,  0.,  0.,  0., -0.,  0.,  0., -0.,  0.,\n",
              "        0., -0., -0.,  0.,  0.,  0.,  0.,  0.,  0.,  0.,  0.,  0.,  0.,\n",
              "       -0., -0., -0., -0., -0.,  0.,  0.,  0., -0.,  0., -0., -0.,  0.,\n",
              "       -0.,  0., -0., -0., -0., -0.,  0.,  0.,  0.,  0.,  0.,  0.,  0.,\n",
              "       -0.,  0., -0., -0.,  0., -0.,  0., -0.,  0.,  0., -0.,  0.,  0.,\n",
              "        0., -0., -0., -0.,  0.,  0.,  0., -0., -0.,  0., -0., -0., -0.,\n",
              "       -0., -0.,  0., -0., -0.,  0.,  0., -0., -0., -0.,  0.,  0.,  0.,\n",
              "        0.,  0., -0.,  0.,  0., -0.,  0., -0.,  0.,  0.,  0.,  0., -0.,\n",
              "       -0., -0., -0., -0.,  0., -0.,  0.,  0.,  0.,  0.,  0., -0., -0.,\n",
              "       -0.,  0.,  0., -0., -0., -0., -0., -0.,  0.,  0., -0.,  0.,  0.,\n",
              "       -0.,  0.,  0.,  0.,  0.,  0., -0., -0., -0., -0.,  0., -0.,  0.,\n",
              "        0.,  0., -0., -0.,  0.,  0., -0., -0., -0., -0.,  0.,  0., -0.,\n",
              "       -0., -0., -0., -0., -0., -0.,  0.,  0.,  0.,  0.,  0.,  0., -0.,\n",
              "       -0., -0.,  0., -0.,  0., -0.,  0.,  0.,  0.,  0., -0.,  0.,  0.,\n",
              "       -0.,  0., -0., -0., -0., -0., -0., -0.,  0., -0., -0.,  0.,  0.,\n",
              "       -0.,  0., -0.,  0.,  0.,  0., -0., -0.,  0.,  0.,  0.,  0.,  0.,\n",
              "       -0.,  0.,  0.,  0., -0., -0., -0., -0.,  0.,  0.,  0.,  0., -0.,\n",
              "        0.,  0., -0.,  0., -0.,  0., -0., -0., -0., -0., -0., -0., -0.,\n",
              "        0., -0.,  0., -0.,  0.,  0., -0.,  0., -0.,  0.,  0.,  0., -0.,\n",
              "       -0., -0.,  0.,  0., -0.,  0., -0.,  0.,  0., -0., -0.,  0.,  0.,\n",
              "        0., -0., -0., -0.,  0., -0.,  0.,  0., -0., -0.,  0.,  0., -0.,\n",
              "        0.], dtype=float32)"
            ]
          },
          "metadata": {},
          "execution_count": 103
        }
      ]
    },
    {
      "cell_type": "code",
      "source": [
        "# clearly cpostitives is getting us the correct output corresponding to an example"
      ],
      "metadata": {
        "id": "c6kOxUw0k9Hf"
      },
      "execution_count": 53,
      "outputs": []
    },
    {
      "cell_type": "code",
      "source": [
        "# take 32 examples from positive class and 32 from negative class (i.e a batch)\n",
        "# then for each batch, get cpostitives and cnegatitives\n",
        "# for postive batch:\n",
        "# take first example and get top 10 tokens from it ranked in order of highest cosine similarites with 300  tokens from positive projection vector\n",
        "# for same example take top 10 tokens from it ranked in order of highest average cosine simlarity with 300 tokens from negative projection vector\n",
        "\n",
        "# now get their the embeddings of all 20 from bert, separately for 10\n",
        "# plot all embeddings on a tSNE chart with differenct colors corresponding to projection spaces"
      ],
      "metadata": {
        "id": "pIQv0i8YIH0P"
      },
      "execution_count": 54,
      "outputs": []
    },
    {
      "cell_type": "code",
      "source": [
        "def get_TFDataset(dataframe):\n",
        "\n",
        "  data_gen   = dataset(dataframe[\"review\"].values,dataframe[\"sentiment\"].values,max_length = MAX_LENGTH, tokenizer = tokenizer, projection_dim=PROJECTION_DIM, val = True)\n",
        "  data_ds = tf.data.Dataset.from_generator(data_gen,\n",
        "                                            output_signature = \n",
        "                                           ({\"input_ids\" : tf.TensorSpec(shape = (MAX_LENGTH,), dtype = tf.int32 ),\"attention_masks\":tf.TensorSpec(shape = (MAX_LENGTH,), dtype = tf.int32),\"space\":tf.TensorSpec(shape = (PROJECTION_DIM,), dtype = tf.int32)},\n",
        "                                            tf.TensorSpec(shape = (), dtype = (tf.float32)))).batch(BATCH_SIZE)\n",
        "\n",
        "  return data_ds\n",
        "\n",
        "def getCosineSimlarities(MODEL, ds_object):\n",
        "\n",
        "  activation_model_pos = Model(inputs = MODEL.input, outputs = MODEL.get_layer(\"remove_cls_pad_positive\").output)   # (None,1,300)\n",
        "  activation_model_neg = Model(inputs = MODEL.input, outputs = MODEL.get_layer(\"remove_cls_pad_negative\").output)   # (None,1,300)\n",
        "  # activation_model_bertEmbeddings = Model(inputs = MODEL.input, outputs = MODEL.get_layer(\"tf_bert_model\").output[0])\n",
        "\n",
        "  pos_cosine = activation_model_pos.predict(ds_object)\n",
        "  neg_cosine = activation_model_neg.predict(ds_object)\n",
        "  # bertEmbeddings = activation_model_bertEmbeddings.predict(ds_object)\n",
        "  bertEmbeddings = None\n",
        "\n",
        "  return pos_cosine, neg_cosine, bertEmbeddings"
      ],
      "metadata": {
        "id": "q5zatu59mw9H"
      },
      "execution_count": 104,
      "outputs": []
    },
    {
      "cell_type": "code",
      "source": [
        "# get the dataset object to be fed as input to model for making predictions\n",
        "pos_ds = get_TFDataset(pos_reviews[0:100])"
      ],
      "metadata": {
        "id": "-G11TmyInCVO"
      },
      "execution_count": 105,
      "outputs": []
    },
    {
      "cell_type": "code",
      "source": [
        "# sanity check\n",
        "for ele in pos_ds.take(1):\n",
        "  t_pos = ele\n",
        "t_pos"
      ],
      "metadata": {
        "colab": {
          "base_uri": "https://localhost:8080/"
        },
        "id": "rBfcUwDNnKeP",
        "outputId": "9acee297-1b1f-4466-9ed8-3ef2273afe69"
      },
      "execution_count": 106,
      "outputs": [
        {
          "output_type": "execute_result",
          "data": {
            "text/plain": [
              "({'input_ids': <tf.Tensor: shape=(32, 128), dtype=int32, numpy=\n",
              "  array([[  101,  1045,  2074, ...,  3427,  2023,   102],\n",
              "         [  101,  2412,  2144, ...,  1998,  1997,   102],\n",
              "         [  101,  2034,  2125, ...,  2028,  2838,   102],\n",
              "         ...,\n",
              "         [  101, 11430,  2358, ..., 16827,  1996,   102],\n",
              "         [  101,  2178,  2742, ...,     0,     0,     0],\n",
              "         [  101,  2123,  2102, ...,  2228,  1996,   102]], dtype=int32)>,\n",
              "  'attention_masks': <tf.Tensor: shape=(32, 128), dtype=int32, numpy=\n",
              "  array([[1, 1, 1, ..., 1, 1, 1],\n",
              "         [1, 1, 1, ..., 1, 1, 1],\n",
              "         [1, 1, 1, ..., 1, 1, 1],\n",
              "         ...,\n",
              "         [1, 1, 1, ..., 1, 1, 1],\n",
              "         [1, 1, 1, ..., 0, 0, 0],\n",
              "         [1, 1, 1, ..., 1, 1, 1]], dtype=int32)>,\n",
              "  'space': <tf.Tensor: shape=(32, 300), dtype=int32, numpy=\n",
              "  array([[  0,   1,   2, ..., 297, 298, 299],\n",
              "         [  0,   1,   2, ..., 297, 298, 299],\n",
              "         [  0,   1,   2, ..., 297, 298, 299],\n",
              "         ...,\n",
              "         [  0,   1,   2, ..., 297, 298, 299],\n",
              "         [  0,   1,   2, ..., 297, 298, 299],\n",
              "         [  0,   1,   2, ..., 297, 298, 299]], dtype=int32)>},\n",
              " <tf.Tensor: shape=(32,), dtype=float32, numpy=\n",
              " array([1., 1., 1., 1., 1., 1., 1., 1., 1., 1., 1., 1., 1., 1., 1., 1., 1.,\n",
              "        1., 1., 1., 1., 1., 1., 1., 1., 1., 1., 1., 1., 1., 1., 1.],\n",
              "       dtype=float32)>)"
            ]
          },
          "metadata": {},
          "execution_count": 106
        }
      ]
    },
    {
      "cell_type": "code",
      "source": [
        "# get cosine similarites of first batch of positive reviews with both projection spaces\n",
        "posData_posProjSpace, posData_negProjSpace, posBertEmbeddings = getCosineSimlarities(model, pos_ds)"
      ],
      "metadata": {
        "colab": {
          "base_uri": "https://localhost:8080/"
        },
        "id": "Xlu3SyKonTbE",
        "outputId": "b8345524-642a-4b79-ad73-17b96ad54581"
      },
      "execution_count": 107,
      "outputs": [
        {
          "output_type": "stream",
          "name": "stdout",
          "text": [
            "4/4 [==============================] - 12s 265ms/step\n",
            "4/4 [==============================] - 7s 237ms/step\n"
          ]
        }
      ]
    },
    {
      "cell_type": "code",
      "source": [
        "posData_posProjSpace.shape, posData_negProjSpace.shape"
      ],
      "metadata": {
        "colab": {
          "base_uri": "https://localhost:8080/"
        },
        "id": "gOrFxZrwnUEO",
        "outputId": "e5a0b670-3461-4ecc-e46d-df0e0fd65561"
      },
      "execution_count": 108,
      "outputs": [
        {
          "output_type": "execute_result",
          "data": {
            "text/plain": [
              "((100, 128, 300), (100, 128, 300))"
            ]
          },
          "metadata": {},
          "execution_count": 108
        }
      ]
    },
    {
      "cell_type": "code",
      "source": [
        "posData_posProjSpace[0]"
      ],
      "metadata": {
        "colab": {
          "base_uri": "https://localhost:8080/"
        },
        "id": "C-w3HJtPwkkM",
        "outputId": "cd26a445-0909-4e52-b0b6-a813ba946c7c"
      },
      "execution_count": 109,
      "outputs": [
        {
          "output_type": "execute_result",
          "data": {
            "text/plain": [
              "array([[-0.        ,  0.        ,  0.        , ..., -0.        ,\n",
              "        -0.        , -0.        ],\n",
              "       [-0.0715225 , -0.00956883, -0.01232964, ..., -0.07310642,\n",
              "        -0.09911183, -0.0124768 ],\n",
              "       [-0.11685545, -0.00163144, -0.04583045, ..., -0.01127035,\n",
              "        -0.03595766,  0.00952253],\n",
              "       ...,\n",
              "       [-0.10675836,  0.04376175, -0.0087338 , ...,  0.01289652,\n",
              "         0.01648336, -0.02451405],\n",
              "       [-0.14829452, -0.01848528, -0.04395801, ...,  0.04163829,\n",
              "         0.03269952, -0.01197457],\n",
              "       [-0.        ,  0.        ,  0.        , ..., -0.        ,\n",
              "        -0.        ,  0.        ]], dtype=float32)"
            ]
          },
          "metadata": {},
          "execution_count": 109
        }
      ]
    },
    {
      "cell_type": "code",
      "source": [
        "posData_posProjSpace.shape"
      ],
      "metadata": {
        "colab": {
          "base_uri": "https://localhost:8080/"
        },
        "id": "UPh13iN-vkiu",
        "outputId": "50917f45-417a-4013-fe8b-3d9b4893cf0c"
      },
      "execution_count": 110,
      "outputs": [
        {
          "output_type": "execute_result",
          "data": {
            "text/plain": [
              "(100, 128, 300)"
            ]
          },
          "metadata": {},
          "execution_count": 110
        }
      ]
    },
    {
      "cell_type": "code",
      "source": [
        "def AverageSentenceEmbedding(matrix):\n",
        "\n",
        "\n",
        "  Length = tf.math.count_nonzero(tf.math.reduce_sum(matrix, axis=2,keepdims=True), axis=1, keepdims=True,dtype = np.float32)   # (None,1,1)\n",
        "\n",
        "  # now obtain average of cosine similarities\n",
        "  matrixSum = np.sum(matrix,axis=1, keepdims=True)    # (None,1,300)\n",
        "  matrixAverage = np.divide(matrixSum, Length)\n",
        "\n",
        "\n",
        "  return matrixAverage"
      ],
      "metadata": {
        "id": "CRq_YodDvnh5"
      },
      "execution_count": 111,
      "outputs": []
    },
    {
      "cell_type": "code",
      "source": [
        "posProjectionSpace  = AverageSentenceEmbedding(posData_posProjSpace)\n",
        "negProjectionSpace = AverageSentenceEmbedding(posData_negProjSpace)"
      ],
      "metadata": {
        "id": "8YKCXZEswppT"
      },
      "execution_count": 120,
      "outputs": []
    },
    {
      "cell_type": "code",
      "source": [
        "# we have access to each sentence's input ids, as well as their bert embeddings right now\n",
        "# we want to see which tokens from a sentence have maximum cosine similarity with pos_projection space\n",
        "# get those indices, and we have those token ids\n",
        "# now we want to fetch the words corresponding to those token ids"
      ],
      "metadata": {
        "id": "sK7FkQdTpL3e"
      },
      "execution_count": null,
      "outputs": []
    },
    {
      "cell_type": "code",
      "source": [
        "np.squeeze(posProjectionSpace).shape"
      ],
      "metadata": {
        "colab": {
          "base_uri": "https://localhost:8080/"
        },
        "id": "ls7dK2XuxLSF",
        "outputId": "b06cb973-728e-4bac-eb42-2277b835d3a0"
      },
      "execution_count": 121,
      "outputs": [
        {
          "output_type": "execute_result",
          "data": {
            "text/plain": [
              "(100, 300)"
            ]
          },
          "metadata": {},
          "execution_count": 121
        }
      ]
    },
    {
      "cell_type": "code",
      "source": [
        "from sklearn.manifold import TSNE\n",
        "m = TSNE(n_components=2, learning_rate= 50,\n",
        "                   init='pca', perplexity=3, n_iter= 2500)"
      ],
      "metadata": {
        "id": "OdcRRMZfvjkO"
      },
      "execution_count": 115,
      "outputs": []
    },
    {
      "cell_type": "code",
      "source": [
        "combined = np.vstack([np.squeeze(posProjectionSpace), np.squeeze(negProjectionSpace)])"
      ],
      "metadata": {
        "id": "A62A6ybPxBkr"
      },
      "execution_count": 123,
      "outputs": []
    },
    {
      "cell_type": "code",
      "source": [
        "combined.shape"
      ],
      "metadata": {
        "colab": {
          "base_uri": "https://localhost:8080/"
        },
        "id": "m6-0i2_0xkYN",
        "outputId": "ed27511c-abd4-4607-dc18-2029f869ce9d"
      },
      "execution_count": 124,
      "outputs": [
        {
          "output_type": "execute_result",
          "data": {
            "text/plain": [
              "(200, 300)"
            ]
          },
          "metadata": {},
          "execution_count": 124
        }
      ]
    },
    {
      "cell_type": "code",
      "source": [
        "tSNE_combined = m.fit_transform(combined)"
      ],
      "metadata": {
        "id": "_aVapM-_xvCH"
      },
      "execution_count": 125,
      "outputs": []
    },
    {
      "cell_type": "code",
      "source": [
        "tSNE_combined.shape"
      ],
      "metadata": {
        "colab": {
          "base_uri": "https://localhost:8080/"
        },
        "id": "g-MVEJP7yHte",
        "outputId": "32046d20-cfe0-4b2e-9a39-773ac00ac9bf"
      },
      "execution_count": 126,
      "outputs": [
        {
          "output_type": "execute_result",
          "data": {
            "text/plain": [
              "(200, 2)"
            ]
          },
          "metadata": {},
          "execution_count": 126
        }
      ]
    },
    {
      "cell_type": "code",
      "source": [
        "fig, ax = plt.subplots(figsize = (10,5))\n",
        "\n",
        "for color in ['RED', 'tab:GREEN']:\n",
        "    n = 750\n",
        "    if color == \"RED\":\n",
        "      x, y = tSNE_combined[:100,0], tSNE_combined[:100,1]\n",
        "\n",
        "    else:\n",
        "      x, y = tSNE_combined[100:,0], tSNE_combined[100:,1]\n",
        "\n",
        "    ax.scatter(x, y, c=color, label= \"Positive\" if color == \"RED\" else \"Negative\",\n",
        "               alpha=0.9, edgecolors='none')\n",
        "\n",
        "ax.legend()\n",
        "ax.set_xlabel(\"dim1\")\n",
        "ax.set_ylabel(\"dim2\")\n",
        "ax.set_title(\"tSNE Representation of Projection Spaces\")\n",
        "\n",
        "plt.show()"
      ],
      "metadata": {
        "colab": {
          "base_uri": "https://localhost:8080/",
          "height": 350
        },
        "id": "0Cn4luyPxzui",
        "outputId": "e4031df9-d4ce-47ed-f3b7-447225da7d77"
      },
      "execution_count": 127,
      "outputs": [
        {
          "output_type": "display_data",
          "data": {
            "text/plain": [
              "<Figure size 720x360 with 1 Axes>"
            ],
            "image/png": "[encoded data removed]"
          },
          "metadata": {
            "needs_background": "light"
          }
        }
      ]
    },
    {
      "cell_type": "code",
      "source": [],
      "metadata": {
        "id": "p89NeCm-yYdi"
      },
      "execution_count": null,
      "outputs": []
    }
  ],
  "metadata": {
    "colab": {
      "provenance": [],
      "include_colab_link": true
    },
    "gpuClass": "standard",
    "kernelspec": {
      "display_name": "Python 3",
      "name": "python3"
    },
    "language_info": {
      "name": "python"
    },
    "widgets": {
      "application/vnd.jupyter.widget-state+json": {
        "307874372b744683a5d182f276ad0f72": {
          "model_module": "@jupyter-widgets/controls",
          "model_name": "HBoxModel",
          "model_module_version": "1.5.0",
          "state": {
            "_dom_classes": [],
            "_model_module": "@jupyter-widgets/controls",
            "_model_module_version": "1.5.0",
            "_model_name": "HBoxModel",
            "_view_count": null,
            "_view_module": "@jupyter-widgets/controls",
            "_view_module_version": "1.5.0",
            "_view_name": "HBoxView",
            "box_style": "",
            "children": [
              "IPY_MODEL_dd47b7f7580244e5aec3f0fe18bc51cd",
              "IPY_MODEL_32501147ef524d6c8e3eadd3e533d278",
              "IPY_MODEL_30a74a5119e54bdb97ada38db49a7531"
            ],
            "layout": "IPY_MODEL_086ca121fc0b47f9b34da38f745b1951"
          }
        },
        "dd47b7f7580244e5aec3f0fe18bc51cd": {
          "model_module": "@jupyter-widgets/controls",
          "model_name": "HTMLModel",
          "model_module_version": "1.5.0",
          "state": {
            "_dom_classes": [],
            "_model_module": "@jupyter-widgets/controls",
            "_model_module_version": "1.5.0",
            "_model_name": "HTMLModel",
            "_view_count": null,
            "_view_module": "@jupyter-widgets/controls",
            "_view_module_version": "1.5.0",
            "_view_name": "HTMLView",
            "description": "",
            "description_tooltip": null,
            "layout": "IPY_MODEL_7d40a2b8157044d0b9aa7bf83e190baa",
            "placeholder": "​",
            "style": "IPY_MODEL_eb5c3644cb974ccf807b0fba5629c53c",
            "value": "Downloading (…)lve/main/config.json: 100%"
          }
        },
        "32501147ef524d6c8e3eadd3e533d278": {
          "model_module": "@jupyter-widgets/controls",
          "model_name": "FloatProgressModel",
          "model_module_version": "1.5.0",
          "state": {
            "_dom_classes": [],
            "_model_module": "@jupyter-widgets/controls",
            "_model_module_version": "1.5.0",
            "_model_name": "FloatProgressModel",
            "_view_count": null,
            "_view_module": "@jupyter-widgets/controls",
            "_view_module_version": "1.5.0",
            "_view_name": "ProgressView",
            "bar_style": "success",
            "description": "",
            "description_tooltip": null,
            "layout": "IPY_MODEL_42516ac8d7ac404da02b70967d4f4475",
            "max": 570,
            "min": 0,
            "orientation": "horizontal",
            "style": "IPY_MODEL_08f75467cabd4930acb4485e28f30407",
            "value": 570
          }
        },
        "30a74a5119e54bdb97ada38db49a7531": {
          "model_module": "@jupyter-widgets/controls",
          "model_name": "HTMLModel",
          "model_module_version": "1.5.0",
          "state": {
            "_dom_classes": [],
            "_model_module": "@jupyter-widgets/controls",
            "_model_module_version": "1.5.0",
            "_model_name": "HTMLModel",
            "_view_count": null,
            "_view_module": "@jupyter-widgets/controls",
            "_view_module_version": "1.5.0",
            "_view_name": "HTMLView",
            "description": "",
            "description_tooltip": null,
            "layout": "IPY_MODEL_d5db204dd7f94f609702e19dc98aae03",
            "placeholder": "​",
            "style": "IPY_MODEL_44c31bd4fcf74faf991e645aca46448b",
            "value": " 570/570 [00:00&lt;00:00, 19.2kB/s]"
          }
        },
        "086ca121fc0b47f9b34da38f745b1951": {
          "model_module": "@jupyter-widgets/base",
          "model_name": "LayoutModel",
          "model_module_version": "1.2.0",
          "state": {
            "_model_module": "@jupyter-widgets/base",
            "_model_module_version": "1.2.0",
            "_model_name": "LayoutModel",
            "_view_count": null,
            "_view_module": "@jupyter-widgets/base",
            "_view_module_version": "1.2.0",
            "_view_name": "LayoutView",
            "align_content": null,
            "align_items": null,
            "align_self": null,
            "border": null,
            "bottom": null,
            "display": null,
            "flex": null,
            "flex_flow": null,
            "grid_area": null,
            "grid_auto_columns": null,
            "grid_auto_flow": null,
            "grid_auto_rows": null,
            "grid_column": null,
            "grid_gap": null,
            "grid_row": null,
            "grid_template_areas": null,
            "grid_template_columns": null,
            "grid_template_rows": null,
            "height": null,
            "justify_content": null,
            "justify_items": null,
            "left": null,
            "margin": null,
            "max_height": null,
            "max_width": null,
            "min_height": null,
            "min_width": null,
            "object_fit": null,
            "object_position": null,
            "order": null,
            "overflow": null,
            "overflow_x": null,
            "overflow_y": null,
            "padding": null,
            "right": null,
            "top": null,
            "visibility": null,
            "width": null
          }
        },
        "7d40a2b8157044d0b9aa7bf83e190baa": {
          "model_module": "@jupyter-widgets/base",
          "model_name": "LayoutModel",
          "model_module_version": "1.2.0",
          "state": {
            "_model_module": "@jupyter-widgets/base",
            "_model_module_version": "1.2.0",
            "_model_name": "LayoutModel",
            "_view_count": null,
            "_view_module": "@jupyter-widgets/base",
            "_view_module_version": "1.2.0",
            "_view_name": "LayoutView",
            "align_content": null,
            "align_items": null,
            "align_self": null,
            "border": null,
            "bottom": null,
            "display": null,
            "flex": null,
            "flex_flow": null,
            "grid_area": null,
            "grid_auto_columns": null,
            "grid_auto_flow": null,
            "grid_auto_rows": null,
            "grid_column": null,
            "grid_gap": null,
            "grid_row": null,
            "grid_template_areas": null,
            "grid_template_columns": null,
            "grid_template_rows": null,
            "height": null,
            "justify_content": null,
            "justify_items": null,
            "left": null,
            "margin": null,
            "max_height": null,
            "max_width": null,
            "min_height": null,
            "min_width": null,
            "object_fit": null,
            "object_position": null,
            "order": null,
            "overflow": null,
            "overflow_x": null,
            "overflow_y": null,
            "padding": null,
            "right": null,
            "top": null,
            "visibility": null,
            "width": null
          }
        },
        "eb5c3644cb974ccf807b0fba5629c53c": {
          "model_module": "@jupyter-widgets/controls",
          "model_name": "DescriptionStyleModel",
          "model_module_version": "1.5.0",
          "state": {
            "_model_module": "@jupyter-widgets/controls",
            "_model_module_version": "1.5.0",
            "_model_name": "DescriptionStyleModel",
            "_view_count": null,
            "_view_module": "@jupyter-widgets/base",
            "_view_module_version": "1.2.0",
            "_view_name": "StyleView",
            "description_width": ""
          }
        },
        "42516ac8d7ac404da02b70967d4f4475": {
          "model_module": "@jupyter-widgets/base",
          "model_name": "LayoutModel",
          "model_module_version": "1.2.0",
          "state": {
            "_model_module": "@jupyter-widgets/base",
            "_model_module_version": "1.2.0",
            "_model_name": "LayoutModel",
            "_view_count": null,
            "_view_module": "@jupyter-widgets/base",
            "_view_module_version": "1.2.0",
            "_view_name": "LayoutView",
            "align_content": null,
            "align_items": null,
            "align_self": null,
            "border": null,
            "bottom": null,
            "display": null,
            "flex": null,
            "flex_flow": null,
            "grid_area": null,
            "grid_auto_columns": null,
            "grid_auto_flow": null,
            "grid_auto_rows": null,
            "grid_column": null,
            "grid_gap": null,
            "grid_row": null,
            "grid_template_areas": null,
            "grid_template_columns": null,
            "grid_template_rows": null,
            "height": null,
            "justify_content": null,
            "justify_items": null,
            "left": null,
            "margin": null,
            "max_height": null,
            "max_width": null,
            "min_height": null,
            "min_width": null,
            "object_fit": null,
            "object_position": null,
            "order": null,
            "overflow": null,
            "overflow_x": null,
            "overflow_y": null,
            "padding": null,
            "right": null,
            "top": null,
            "visibility": null,
            "width": null
          }
        },
        "08f75467cabd4930acb4485e28f30407": {
          "model_module": "@jupyter-widgets/controls",
          "model_name": "ProgressStyleModel",
          "model_module_version": "1.5.0",
          "state": {
            "_model_module": "@jupyter-widgets/controls",
            "_model_module_version": "1.5.0",
            "_model_name": "ProgressStyleModel",
            "_view_count": null,
            "_view_module": "@jupyter-widgets/base",
            "_view_module_version": "1.2.0",
            "_view_name": "StyleView",
            "bar_color": null,
            "description_width": ""
          }
        },
        "d5db204dd7f94f609702e19dc98aae03": {
          "model_module": "@jupyter-widgets/base",
          "model_name": "LayoutModel",
          "model_module_version": "1.2.0",
          "state": {
            "_model_module": "@jupyter-widgets/base",
            "_model_module_version": "1.2.0",
            "_model_name": "LayoutModel",
            "_view_count": null,
            "_view_module": "@jupyter-widgets/base",
            "_view_module_version": "1.2.0",
            "_view_name": "LayoutView",
            "align_content": null,
            "align_items": null,
            "align_self": null,
            "border": null,
            "bottom": null,
            "display": null,
            "flex": null,
            "flex_flow": null,
            "grid_area": null,
            "grid_auto_columns": null,
            "grid_auto_flow": null,
            "grid_auto_rows": null,
            "grid_column": null,
            "grid_gap": null,
            "grid_row": null,
            "grid_template_areas": null,
            "grid_template_columns": null,
            "grid_template_rows": null,
            "height": null,
            "justify_content": null,
            "justify_items": null,
            "left": null,
            "margin": null,
            "max_height": null,
            "max_width": null,
            "min_height": null,
            "min_width": null,
            "object_fit": null,
            "object_position": null,
            "order": null,
            "overflow": null,
            "overflow_x": null,
            "overflow_y": null,
            "padding": null,
            "right": null,
            "top": null,
            "visibility": null,
            "width": null
          }
        },
        "44c31bd4fcf74faf991e645aca46448b": {
          "model_module": "@jupyter-widgets/controls",
          "model_name": "DescriptionStyleModel",
          "model_module_version": "1.5.0",
          "state": {
            "_model_module": "@jupyter-widgets/controls",
            "_model_module_version": "1.5.0",
            "_model_name": "DescriptionStyleModel",
            "_view_count": null,
            "_view_module": "@jupyter-widgets/base",
            "_view_module_version": "1.2.0",
            "_view_name": "StyleView",
            "description_width": ""
          }
        },
        "2fc02e0ba8b6472dbd4d15b402dd3d08": {
          "model_module": "@jupyter-widgets/controls",
          "model_name": "HBoxModel",
          "model_module_version": "1.5.0",
          "state": {
            "_dom_classes": [],
            "_model_module": "@jupyter-widgets/controls",
            "_model_module_version": "1.5.0",
            "_model_name": "HBoxModel",
            "_view_count": null,
            "_view_module": "@jupyter-widgets/controls",
            "_view_module_version": "1.5.0",
            "_view_name": "HBoxView",
            "box_style": "",
            "children": [
              "IPY_MODEL_15c3f17595994707b3c07dd433c5c07e",
              "IPY_MODEL_ad22f383eacc441b9b8ee93846dd4b81",
              "IPY_MODEL_abd1c8f0290c4932b448af570a487dac"
            ],
            "layout": "IPY_MODEL_bc050c2ad1f343549b7f95cd323dd88c"
          }
        },
        "15c3f17595994707b3c07dd433c5c07e": {
          "model_module": "@jupyter-widgets/controls",
          "model_name": "HTMLModel",
          "model_module_version": "1.5.0",
          "state": {
            "_dom_classes": [],
            "_model_module": "@jupyter-widgets/controls",
            "_model_module_version": "1.5.0",
            "_model_name": "HTMLModel",
            "_view_count": null,
            "_view_module": "@jupyter-widgets/controls",
            "_view_module_version": "1.5.0",
            "_view_name": "HTMLView",
            "description": "",
            "description_tooltip": null,
            "layout": "IPY_MODEL_bcf27b2f96fc4944bb23825944adcd88",
            "placeholder": "​",
            "style": "IPY_MODEL_26ffe0cef3fb44ef9cff16d0507a292e",
            "value": "Downloading tf_model.h5: 100%"
          }
        },
        "ad22f383eacc441b9b8ee93846dd4b81": {
          "model_module": "@jupyter-widgets/controls",
          "model_name": "FloatProgressModel",
          "model_module_version": "1.5.0",
          "state": {
            "_dom_classes": [],
            "_model_module": "@jupyter-widgets/controls",
            "_model_module_version": "1.5.0",
            "_model_name": "FloatProgressModel",
            "_view_count": null,
            "_view_module": "@jupyter-widgets/controls",
            "_view_module_version": "1.5.0",
            "_view_name": "ProgressView",
            "bar_style": "success",
            "description": "",
            "description_tooltip": null,
            "layout": "IPY_MODEL_b5e7d2e5bd2e41a6a48f69b22a67e50c",
            "max": 536063208,
            "min": 0,
            "orientation": "horizontal",
            "style": "IPY_MODEL_82c842cc823a49d5aa87914191298a6b",
            "value": 536063208
          }
        },
        "abd1c8f0290c4932b448af570a487dac": {
          "model_module": "@jupyter-widgets/controls",
          "model_name": "HTMLModel",
          "model_module_version": "1.5.0",
          "state": {
            "_dom_classes": [],
            "_model_module": "@jupyter-widgets/controls",
            "_model_module_version": "1.5.0",
            "_model_name": "HTMLModel",
            "_view_count": null,
            "_view_module": "@jupyter-widgets/controls",
            "_view_module_version": "1.5.0",
            "_view_name": "HTMLView",
            "description": "",
            "description_tooltip": null,
            "layout": "IPY_MODEL_dbff563aff214cddbe5b41fe2b39d31b",
            "placeholder": "​",
            "style": "IPY_MODEL_e1e5664576994a22b2bdb14e73b1d13d",
            "value": " 536M/536M [00:01&lt;00:00, 278MB/s]"
          }
        },
        "bc050c2ad1f343549b7f95cd323dd88c": {
          "model_module": "@jupyter-widgets/base",
          "model_name": "LayoutModel",
          "model_module_version": "1.2.0",
          "state": {
            "_model_module": "@jupyter-widgets/base",
            "_model_module_version": "1.2.0",
            "_model_name": "LayoutModel",
            "_view_count": null,
            "_view_module": "@jupyter-widgets/base",
            "_view_module_version": "1.2.0",
            "_view_name": "LayoutView",
            "align_content": null,
            "align_items": null,
            "align_self": null,
            "border": null,
            "bottom": null,
            "display": null,
            "flex": null,
            "flex_flow": null,
            "grid_area": null,
            "grid_auto_columns": null,
            "grid_auto_flow": null,
            "grid_auto_rows": null,
            "grid_column": null,
            "grid_gap": null,
            "grid_row": null,
            "grid_template_areas": null,
            "grid_template_columns": null,
            "grid_template_rows": null,
            "height": null,
            "justify_content": null,
            "justify_items": null,
            "left": null,
            "margin": null,
            "max_height": null,
            "max_width": null,
            "min_height": null,
            "min_width": null,
            "object_fit": null,
            "object_position": null,
            "order": null,
            "overflow": null,
            "overflow_x": null,
            "overflow_y": null,
            "padding": null,
            "right": null,
            "top": null,
            "visibility": null,
            "width": null
          }
        },
        "bcf27b2f96fc4944bb23825944adcd88": {
          "model_module": "@jupyter-widgets/base",
          "model_name": "LayoutModel",
          "model_module_version": "1.2.0",
          "state": {
            "_model_module": "@jupyter-widgets/base",
            "_model_module_version": "1.2.0",
            "_model_name": "LayoutModel",
            "_view_count": null,
            "_view_module": "@jupyter-widgets/base",
            "_view_module_version": "1.2.0",
            "_view_name": "LayoutView",
            "align_content": null,
            "align_items": null,
            "align_self": null,
            "border": null,
            "bottom": null,
            "display": null,
            "flex": null,
            "flex_flow": null,
            "grid_area": null,
            "grid_auto_columns": null,
            "grid_auto_flow": null,
            "grid_auto_rows": null,
            "grid_column": null,
            "grid_gap": null,
            "grid_row": null,
            "grid_template_areas": null,
            "grid_template_columns": null,
            "grid_template_rows": null,
            "height": null,
            "justify_content": null,
            "justify_items": null,
            "left": null,
            "margin": null,
            "max_height": null,
            "max_width": null,
            "min_height": null,
            "min_width": null,
            "object_fit": null,
            "object_position": null,
            "order": null,
            "overflow": null,
            "overflow_x": null,
            "overflow_y": null,
            "padding": null,
            "right": null,
            "top": null,
            "visibility": null,
            "width": null
          }
        },
        "26ffe0cef3fb44ef9cff16d0507a292e": {
          "model_module": "@jupyter-widgets/controls",
          "model_name": "DescriptionStyleModel",
          "model_module_version": "1.5.0",
          "state": {
            "_model_module": "@jupyter-widgets/controls",
            "_model_module_version": "1.5.0",
            "_model_name": "DescriptionStyleModel",
            "_view_count": null,
            "_view_module": "@jupyter-widgets/base",
            "_view_module_version": "1.2.0",
            "_view_name": "StyleView",
            "description_width": ""
          }
        },
        "b5e7d2e5bd2e41a6a48f69b22a67e50c": {
          "model_module": "@jupyter-widgets/base",
          "model_name": "LayoutModel",
          "model_module_version": "1.2.0",
          "state": {
            "_model_module": "@jupyter-widgets/base",
            "_model_module_version": "1.2.0",
            "_model_name": "LayoutModel",
            "_view_count": null,
            "_view_module": "@jupyter-widgets/base",
            "_view_module_version": "1.2.0",
            "_view_name": "LayoutView",
            "align_content": null,
            "align_items": null,
            "align_self": null,
            "border": null,
            "bottom": null,
            "display": null,
            "flex": null,
            "flex_flow": null,
            "grid_area": null,
            "grid_auto_columns": null,
            "grid_auto_flow": null,
            "grid_auto_rows": null,
            "grid_column": null,
            "grid_gap": null,
            "grid_row": null,
            "grid_template_areas": null,
            "grid_template_columns": null,
            "grid_template_rows": null,
            "height": null,
            "justify_content": null,
            "justify_items": null,
            "left": null,
            "margin": null,
            "max_height": null,
            "max_width": null,
            "min_height": null,
            "min_width": null,
            "object_fit": null,
            "object_position": null,
            "order": null,
            "overflow": null,
            "overflow_x": null,
            "overflow_y": null,
            "padding": null,
            "right": null,
            "top": null,
            "visibility": null,
            "width": null
          }
        },
        "82c842cc823a49d5aa87914191298a6b": {
          "model_module": "@jupyter-widgets/controls",
          "model_name": "ProgressStyleModel",
          "model_module_version": "1.5.0",
          "state": {
            "_model_module": "@jupyter-widgets/controls",
            "_model_module_version": "1.5.0",
            "_model_name": "ProgressStyleModel",
            "_view_count": null,
            "_view_module": "@jupyter-widgets/base",
            "_view_module_version": "1.2.0",
            "_view_name": "StyleView",
            "bar_color": null,
            "description_width": ""
          }
        },
        "dbff563aff214cddbe5b41fe2b39d31b": {
          "model_module": "@jupyter-widgets/base",
          "model_name": "LayoutModel",
          "model_module_version": "1.2.0",
          "state": {
            "_model_module": "@jupyter-widgets/base",
            "_model_module_version": "1.2.0",
            "_model_name": "LayoutModel",
            "_view_count": null,
            "_view_module": "@jupyter-widgets/base",
            "_view_module_version": "1.2.0",
            "_view_name": "LayoutView",
            "align_content": null,
            "align_items": null,
            "align_self": null,
            "border": null,
            "bottom": null,
            "display": null,
            "flex": null,
            "flex_flow": null,
            "grid_area": null,
            "grid_auto_columns": null,
            "grid_auto_flow": null,
            "grid_auto_rows": null,
            "grid_column": null,
            "grid_gap": null,
            "grid_row": null,
            "grid_template_areas": null,
            "grid_template_columns": null,
            "grid_template_rows": null,
            "height": null,
            "justify_content": null,
            "justify_items": null,
            "left": null,
            "margin": null,
            "max_height": null,
            "max_width": null,
            "min_height": null,
            "min_width": null,
            "object_fit": null,
            "object_position": null,
            "order": null,
            "overflow": null,
            "overflow_x": null,
            "overflow_y": null,
            "padding": null,
            "right": null,
            "top": null,
            "visibility": null,
            "width": null
          }
        },
        "e1e5664576994a22b2bdb14e73b1d13d": {
          "model_module": "@jupyter-widgets/controls",
          "model_name": "DescriptionStyleModel",
          "model_module_version": "1.5.0",
          "state": {
            "_model_module": "@jupyter-widgets/controls",
            "_model_module_version": "1.5.0",
            "_model_name": "DescriptionStyleModel",
            "_view_count": null,
            "_view_module": "@jupyter-widgets/base",
            "_view_module_version": "1.2.0",
            "_view_name": "StyleView",
            "description_width": ""
          }
        },
        "2eca2cde77c8430dac50165061759c0d": {
          "model_module": "@jupyter-widgets/controls",
          "model_name": "HBoxModel",
          "model_module_version": "1.5.0",
          "state": {
            "_dom_classes": [],
            "_model_module": "@jupyter-widgets/controls",
            "_model_module_version": "1.5.0",
            "_model_name": "HBoxModel",
            "_view_count": null,
            "_view_module": "@jupyter-widgets/controls",
            "_view_module_version": "1.5.0",
            "_view_name": "HBoxView",
            "box_style": "",
            "children": [
              "IPY_MODEL_f51c0b57c69246cd88bb1aad4d3f7212",
              "IPY_MODEL_a36b576896e645289dd5a4e95984045d",
              "IPY_MODEL_e9ab5b03f77b49448bf3043342ed08c1"
            ],
            "layout": "IPY_MODEL_16d4da46410448909b54519fe56804a2"
          }
        },
        "f51c0b57c69246cd88bb1aad4d3f7212": {
          "model_module": "@jupyter-widgets/controls",
          "model_name": "HTMLModel",
          "model_module_version": "1.5.0",
          "state": {
            "_dom_classes": [],
            "_model_module": "@jupyter-widgets/controls",
            "_model_module_version": "1.5.0",
            "_model_name": "HTMLModel",
            "_view_count": null,
            "_view_module": "@jupyter-widgets/controls",
            "_view_module_version": "1.5.0",
            "_view_name": "HTMLView",
            "description": "",
            "description_tooltip": null,
            "layout": "IPY_MODEL_7d1fe722cc814a20a5610e3530f5d5af",
            "placeholder": "​",
            "style": "IPY_MODEL_6a2c91585b4245d2b7c68913ef65bed6",
            "value": "Downloading (…)okenizer_config.json: 100%"
          }
        },
        "a36b576896e645289dd5a4e95984045d": {
          "model_module": "@jupyter-widgets/controls",
          "model_name": "FloatProgressModel",
          "model_module_version": "1.5.0",
          "state": {
            "_dom_classes": [],
            "_model_module": "@jupyter-widgets/controls",
            "_model_module_version": "1.5.0",
            "_model_name": "FloatProgressModel",
            "_view_count": null,
            "_view_module": "@jupyter-widgets/controls",
            "_view_module_version": "1.5.0",
            "_view_name": "ProgressView",
            "bar_style": "success",
            "description": "",
            "description_tooltip": null,
            "layout": "IPY_MODEL_4f5a989674e249c982b471f98f1059d6",
            "max": 28,
            "min": 0,
            "orientation": "horizontal",
            "style": "IPY_MODEL_6397682127674739990ac44ec800c9db",
            "value": 28
          }
        },
        "e9ab5b03f77b49448bf3043342ed08c1": {
          "model_module": "@jupyter-widgets/controls",
          "model_name": "HTMLModel",
          "model_module_version": "1.5.0",
          "state": {
            "_dom_classes": [],
            "_model_module": "@jupyter-widgets/controls",
            "_model_module_version": "1.5.0",
            "_model_name": "HTMLModel",
            "_view_count": null,
            "_view_module": "@jupyter-widgets/controls",
            "_view_module_version": "1.5.0",
            "_view_name": "HTMLView",
            "description": "",
            "description_tooltip": null,
            "layout": "IPY_MODEL_b39f01ea03fa42f5944c68a6677f8f2d",
            "placeholder": "​",
            "style": "IPY_MODEL_eebe333407d34a478f7deec3d388b1f1",
            "value": " 28.0/28.0 [00:00&lt;00:00, 1.36kB/s]"
          }
        },
        "16d4da46410448909b54519fe56804a2": {
          "model_module": "@jupyter-widgets/base",
          "model_name": "LayoutModel",
          "model_module_version": "1.2.0",
          "state": {
            "_model_module": "@jupyter-widgets/base",
            "_model_module_version": "1.2.0",
            "_model_name": "LayoutModel",
            "_view_count": null,
            "_view_module": "@jupyter-widgets/base",
            "_view_module_version": "1.2.0",
            "_view_name": "LayoutView",
            "align_content": null,
            "align_items": null,
            "align_self": null,
            "border": null,
            "bottom": null,
            "display": null,
            "flex": null,
            "flex_flow": null,
            "grid_area": null,
            "grid_auto_columns": null,
            "grid_auto_flow": null,
            "grid_auto_rows": null,
            "grid_column": null,
            "grid_gap": null,
            "grid_row": null,
            "grid_template_areas": null,
            "grid_template_columns": null,
            "grid_template_rows": null,
            "height": null,
            "justify_content": null,
            "justify_items": null,
            "left": null,
            "margin": null,
            "max_height": null,
            "max_width": null,
            "min_height": null,
            "min_width": null,
            "object_fit": null,
            "object_position": null,
            "order": null,
            "overflow": null,
            "overflow_x": null,
            "overflow_y": null,
            "padding": null,
            "right": null,
            "top": null,
            "visibility": null,
            "width": null
          }
        },
        "7d1fe722cc814a20a5610e3530f5d5af": {
          "model_module": "@jupyter-widgets/base",
          "model_name": "LayoutModel",
          "model_module_version": "1.2.0",
          "state": {
            "_model_module": "@jupyter-widgets/base",
            "_model_module_version": "1.2.0",
            "_model_name": "LayoutModel",
            "_view_count": null,
            "_view_module": "@jupyter-widgets/base",
            "_view_module_version": "1.2.0",
            "_view_name": "LayoutView",
            "align_content": null,
            "align_items": null,
            "align_self": null,
            "border": null,
            "bottom": null,
            "display": null,
            "flex": null,
            "flex_flow": null,
            "grid_area": null,
            "grid_auto_columns": null,
            "grid_auto_flow": null,
            "grid_auto_rows": null,
            "grid_column": null,
            "grid_gap": null,
            "grid_row": null,
            "grid_template_areas": null,
            "grid_template_columns": null,
            "grid_template_rows": null,
            "height": null,
            "justify_content": null,
            "justify_items": null,
            "left": null,
            "margin": null,
            "max_height": null,
            "max_width": null,
            "min_height": null,
            "min_width": null,
            "object_fit": null,
            "object_position": null,
            "order": null,
            "overflow": null,
            "overflow_x": null,
            "overflow_y": null,
            "padding": null,
            "right": null,
            "top": null,
            "visibility": null,
            "width": null
          }
        },
        "6a2c91585b4245d2b7c68913ef65bed6": {
          "model_module": "@jupyter-widgets/controls",
          "model_name": "DescriptionStyleModel",
          "model_module_version": "1.5.0",
          "state": {
            "_model_module": "@jupyter-widgets/controls",
            "_model_module_version": "1.5.0",
            "_model_name": "DescriptionStyleModel",
            "_view_count": null,
            "_view_module": "@jupyter-widgets/base",
            "_view_module_version": "1.2.0",
            "_view_name": "StyleView",
            "description_width": ""
          }
        },
        "4f5a989674e249c982b471f98f1059d6": {
          "model_module": "@jupyter-widgets/base",
          "model_name": "LayoutModel",
          "model_module_version": "1.2.0",
          "state": {
            "_model_module": "@jupyter-widgets/base",
            "_model_module_version": "1.2.0",
            "_model_name": "LayoutModel",
            "_view_count": null,
            "_view_module": "@jupyter-widgets/base",
            "_view_module_version": "1.2.0",
            "_view_name": "LayoutView",
            "align_content": null,
            "align_items": null,
            "align_self": null,
            "border": null,
            "bottom": null,
            "display": null,
            "flex": null,
            "flex_flow": null,
            "grid_area": null,
            "grid_auto_columns": null,
            "grid_auto_flow": null,
            "grid_auto_rows": null,
            "grid_column": null,
            "grid_gap": null,
            "grid_row": null,
            "grid_template_areas": null,
            "grid_template_columns": null,
            "grid_template_rows": null,
            "height": null,
            "justify_content": null,
            "justify_items": null,
            "left": null,
            "margin": null,
            "max_height": null,
            "max_width": null,
            "min_height": null,
            "min_width": null,
            "object_fit": null,
            "object_position": null,
            "order": null,
            "overflow": null,
            "overflow_x": null,
            "overflow_y": null,
            "padding": null,
            "right": null,
            "top": null,
            "visibility": null,
            "width": null
          }
        },
        "6397682127674739990ac44ec800c9db": {
          "model_module": "@jupyter-widgets/controls",
          "model_name": "ProgressStyleModel",
          "model_module_version": "1.5.0",
          "state": {
            "_model_module": "@jupyter-widgets/controls",
            "_model_module_version": "1.5.0",
            "_model_name": "ProgressStyleModel",
            "_view_count": null,
            "_view_module": "@jupyter-widgets/base",
            "_view_module_version": "1.2.0",
            "_view_name": "StyleView",
            "bar_color": null,
            "description_width": ""
          }
        },
        "b39f01ea03fa42f5944c68a6677f8f2d": {
          "model_module": "@jupyter-widgets/base",
          "model_name": "LayoutModel",
          "model_module_version": "1.2.0",
          "state": {
            "_model_module": "@jupyter-widgets/base",
            "_model_module_version": "1.2.0",
            "_model_name": "LayoutModel",
            "_view_count": null,
            "_view_module": "@jupyter-widgets/base",
            "_view_module_version": "1.2.0",
            "_view_name": "LayoutView",
            "align_content": null,
            "align_items": null,
            "align_self": null,
            "border": null,
            "bottom": null,
            "display": null,
            "flex": null,
            "flex_flow": null,
            "grid_area": null,
            "grid_auto_columns": null,
            "grid_auto_flow": null,
            "grid_auto_rows": null,
            "grid_column": null,
            "grid_gap": null,
            "grid_row": null,
            "grid_template_areas": null,
            "grid_template_columns": null,
            "grid_template_rows": null,
            "height": null,
            "justify_content": null,
            "justify_items": null,
            "left": null,
            "margin": null,
            "max_height": null,
            "max_width": null,
            "min_height": null,
            "min_width": null,
            "object_fit": null,
            "object_position": null,
            "order": null,
            "overflow": null,
            "overflow_x": null,
            "overflow_y": null,
            "padding": null,
            "right": null,
            "top": null,
            "visibility": null,
            "width": null
          }
        },
        "eebe333407d34a478f7deec3d388b1f1": {
          "model_module": "@jupyter-widgets/controls",
          "model_name": "DescriptionStyleModel",
          "model_module_version": "1.5.0",
          "state": {
            "_model_module": "@jupyter-widgets/controls",
            "_model_module_version": "1.5.0",
            "_model_name": "DescriptionStyleModel",
            "_view_count": null,
            "_view_module": "@jupyter-widgets/base",
            "_view_module_version": "1.2.0",
            "_view_name": "StyleView",
            "description_width": ""
          }
        },
        "3a1be58c68c84eca9f860f313162aeb8": {
          "model_module": "@jupyter-widgets/controls",
          "model_name": "HBoxModel",
          "model_module_version": "1.5.0",
          "state": {
            "_dom_classes": [],
            "_model_module": "@jupyter-widgets/controls",
            "_model_module_version": "1.5.0",
            "_model_name": "HBoxModel",
            "_view_count": null,
            "_view_module": "@jupyter-widgets/controls",
            "_view_module_version": "1.5.0",
            "_view_name": "HBoxView",
            "box_style": "",
            "children": [
              "IPY_MODEL_6887fe191a264d0d860cfa16811fe97f",
              "IPY_MODEL_9c577091845d4b599a3e4f289b7ad1f2",
              "IPY_MODEL_ea6f438e41494e89afa8e49412cdabb9"
            ],
            "layout": "IPY_MODEL_369a1884181e47efaaa4bc342dadb451"
          }
        },
        "6887fe191a264d0d860cfa16811fe97f": {
          "model_module": "@jupyter-widgets/controls",
          "model_name": "HTMLModel",
          "model_module_version": "1.5.0",
          "state": {
            "_dom_classes": [],
            "_model_module": "@jupyter-widgets/controls",
            "_model_module_version": "1.5.0",
            "_model_name": "HTMLModel",
            "_view_count": null,
            "_view_module": "@jupyter-widgets/controls",
            "_view_module_version": "1.5.0",
            "_view_name": "HTMLView",
            "description": "",
            "description_tooltip": null,
            "layout": "IPY_MODEL_7138807ec64f4c0a97d20b21669fdbcb",
            "placeholder": "​",
            "style": "IPY_MODEL_304e157a9a2a4c689df85b4c8777f40f",
            "value": "Downloading (…)solve/main/vocab.txt: 100%"
          }
        },
        "9c577091845d4b599a3e4f289b7ad1f2": {
          "model_module": "@jupyter-widgets/controls",
          "model_name": "FloatProgressModel",
          "model_module_version": "1.5.0",
          "state": {
            "_dom_classes": [],
            "_model_module": "@jupyter-widgets/controls",
            "_model_module_version": "1.5.0",
            "_model_name": "FloatProgressModel",
            "_view_count": null,
            "_view_module": "@jupyter-widgets/controls",
            "_view_module_version": "1.5.0",
            "_view_name": "ProgressView",
            "bar_style": "success",
            "description": "",
            "description_tooltip": null,
            "layout": "IPY_MODEL_90192e89c33742f8b00c5940d8077673",
            "max": 231508,
            "min": 0,
            "orientation": "horizontal",
            "style": "IPY_MODEL_323263f6c26f4715a5b3a6566d9a45df",
            "value": 231508
          }
        },
        "ea6f438e41494e89afa8e49412cdabb9": {
          "model_module": "@jupyter-widgets/controls",
          "model_name": "HTMLModel",
          "model_module_version": "1.5.0",
          "state": {
            "_dom_classes": [],
            "_model_module": "@jupyter-widgets/controls",
            "_model_module_version": "1.5.0",
            "_model_name": "HTMLModel",
            "_view_count": null,
            "_view_module": "@jupyter-widgets/controls",
            "_view_module_version": "1.5.0",
            "_view_name": "HTMLView",
            "description": "",
            "description_tooltip": null,
            "layout": "IPY_MODEL_66f57f301db64871a3fb9096d4c7e4bd",
            "placeholder": "​",
            "style": "IPY_MODEL_38d501c06d4a42a990b05d94f7348831",
            "value": " 232k/232k [00:00&lt;00:00, 900kB/s]"
          }
        },
        "369a1884181e47efaaa4bc342dadb451": {
          "model_module": "@jupyter-widgets/base",
          "model_name": "LayoutModel",
          "model_module_version": "1.2.0",
          "state": {
            "_model_module": "@jupyter-widgets/base",
            "_model_module_version": "1.2.0",
            "_model_name": "LayoutModel",
            "_view_count": null,
            "_view_module": "@jupyter-widgets/base",
            "_view_module_version": "1.2.0",
            "_view_name": "LayoutView",
            "align_content": null,
            "align_items": null,
            "align_self": null,
            "border": null,
            "bottom": null,
            "display": null,
            "flex": null,
            "flex_flow": null,
            "grid_area": null,
            "grid_auto_columns": null,
            "grid_auto_flow": null,
            "grid_auto_rows": null,
            "grid_column": null,
            "grid_gap": null,
            "grid_row": null,
            "grid_template_areas": null,
            "grid_template_columns": null,
            "grid_template_rows": null,
            "height": null,
            "justify_content": null,
            "justify_items": null,
            "left": null,
            "margin": null,
            "max_height": null,
            "max_width": null,
            "min_height": null,
            "min_width": null,
            "object_fit": null,
            "object_position": null,
            "order": null,
            "overflow": null,
            "overflow_x": null,
            "overflow_y": null,
            "padding": null,
            "right": null,
            "top": null,
            "visibility": null,
            "width": null
          }
        },
        "7138807ec64f4c0a97d20b21669fdbcb": {
          "model_module": "@jupyter-widgets/base",
          "model_name": "LayoutModel",
          "model_module_version": "1.2.0",
          "state": {
            "_model_module": "@jupyter-widgets/base",
            "_model_module_version": "1.2.0",
            "_model_name": "LayoutModel",
            "_view_count": null,
            "_view_module": "@jupyter-widgets/base",
            "_view_module_version": "1.2.0",
            "_view_name": "LayoutView",
            "align_content": null,
            "align_items": null,
            "align_self": null,
            "border": null,
            "bottom": null,
            "display": null,
            "flex": null,
            "flex_flow": null,
            "grid_area": null,
            "grid_auto_columns": null,
            "grid_auto_flow": null,
            "grid_auto_rows": null,
            "grid_column": null,
            "grid_gap": null,
            "grid_row": null,
            "grid_template_areas": null,
            "grid_template_columns": null,
            "grid_template_rows": null,
            "height": null,
            "justify_content": null,
            "justify_items": null,
            "left": null,
            "margin": null,
            "max_height": null,
            "max_width": null,
            "min_height": null,
            "min_width": null,
            "object_fit": null,
            "object_position": null,
            "order": null,
            "overflow": null,
            "overflow_x": null,
            "overflow_y": null,
            "padding": null,
            "right": null,
            "top": null,
            "visibility": null,
            "width": null
          }
        },
        "304e157a9a2a4c689df85b4c8777f40f": {
          "model_module": "@jupyter-widgets/controls",
          "model_name": "DescriptionStyleModel",
          "model_module_version": "1.5.0",
          "state": {
            "_model_module": "@jupyter-widgets/controls",
            "_model_module_version": "1.5.0",
            "_model_name": "DescriptionStyleModel",
            "_view_count": null,
            "_view_module": "@jupyter-widgets/base",
            "_view_module_version": "1.2.0",
            "_view_name": "StyleView",
            "description_width": ""
          }
        },
        "90192e89c33742f8b00c5940d8077673": {
          "model_module": "@jupyter-widgets/base",
          "model_name": "LayoutModel",
          "model_module_version": "1.2.0",
          "state": {
            "_model_module": "@jupyter-widgets/base",
            "_model_module_version": "1.2.0",
            "_model_name": "LayoutModel",
            "_view_count": null,
            "_view_module": "@jupyter-widgets/base",
            "_view_module_version": "1.2.0",
            "_view_name": "LayoutView",
            "align_content": null,
            "align_items": null,
            "align_self": null,
            "border": null,
            "bottom": null,
            "display": null,
            "flex": null,
            "flex_flow": null,
            "grid_area": null,
            "grid_auto_columns": null,
            "grid_auto_flow": null,
            "grid_auto_rows": null,
            "grid_column": null,
            "grid_gap": null,
            "grid_row": null,
            "grid_template_areas": null,
            "grid_template_columns": null,
            "grid_template_rows": null,
            "height": null,
            "justify_content": null,
            "justify_items": null,
            "left": null,
            "margin": null,
            "max_height": null,
            "max_width": null,
            "min_height": null,
            "min_width": null,
            "object_fit": null,
            "object_position": null,
            "order": null,
            "overflow": null,
            "overflow_x": null,
            "overflow_y": null,
            "padding": null,
            "right": null,
            "top": null,
            "visibility": null,
            "width": null
          }
        },
        "323263f6c26f4715a5b3a6566d9a45df": {
          "model_module": "@jupyter-widgets/controls",
          "model_name": "ProgressStyleModel",
          "model_module_version": "1.5.0",
          "state": {
            "_model_module": "@jupyter-widgets/controls",
            "_model_module_version": "1.5.0",
            "_model_name": "ProgressStyleModel",
            "_view_count": null,
            "_view_module": "@jupyter-widgets/base",
            "_view_module_version": "1.2.0",
            "_view_name": "StyleView",
            "bar_color": null,
            "description_width": ""
          }
        },
        "66f57f301db64871a3fb9096d4c7e4bd": {
          "model_module": "@jupyter-widgets/base",
          "model_name": "LayoutModel",
          "model_module_version": "1.2.0",
          "state": {
            "_model_module": "@jupyter-widgets/base",
            "_model_module_version": "1.2.0",
            "_model_name": "LayoutModel",
            "_view_count": null,
            "_view_module": "@jupyter-widgets/base",
            "_view_module_version": "1.2.0",
            "_view_name": "LayoutView",
            "align_content": null,
            "align_items": null,
            "align_self": null,
            "border": null,
            "bottom": null,
            "display": null,
            "flex": null,
            "flex_flow": null,
            "grid_area": null,
            "grid_auto_columns": null,
            "grid_auto_flow": null,
            "grid_auto_rows": null,
            "grid_column": null,
            "grid_gap": null,
            "grid_row": null,
            "grid_template_areas": null,
            "grid_template_columns": null,
            "grid_template_rows": null,
            "height": null,
            "justify_content": null,
            "justify_items": null,
            "left": null,
            "margin": null,
            "max_height": null,
            "max_width": null,
            "min_height": null,
            "min_width": null,
            "object_fit": null,
            "object_position": null,
            "order": null,
            "overflow": null,
            "overflow_x": null,
            "overflow_y": null,
            "padding": null,
            "right": null,
            "top": null,
            "visibility": null,
            "width": null
          }
        },
        "38d501c06d4a42a990b05d94f7348831": {
          "model_module": "@jupyter-widgets/controls",
          "model_name": "DescriptionStyleModel",
          "model_module_version": "1.5.0",
          "state": {
            "_model_module": "@jupyter-widgets/controls",
            "_model_module_version": "1.5.0",
            "_model_name": "DescriptionStyleModel",
            "_view_count": null,
            "_view_module": "@jupyter-widgets/base",
            "_view_module_version": "1.2.0",
            "_view_name": "StyleView",
            "description_width": ""
          }
        },
        "4ba655ec3f5f47c796120cdd71cfb809": {
          "model_module": "@jupyter-widgets/controls",
          "model_name": "HBoxModel",
          "model_module_version": "1.5.0",
          "state": {
            "_dom_classes": [],
            "_model_module": "@jupyter-widgets/controls",
            "_model_module_version": "1.5.0",
            "_model_name": "HBoxModel",
            "_view_count": null,
            "_view_module": "@jupyter-widgets/controls",
            "_view_module_version": "1.5.0",
            "_view_name": "HBoxView",
            "box_style": "",
            "children": [
              "IPY_MODEL_1db230b363834f00bc50e517d51e2d5b",
              "IPY_MODEL_14965d57a552423492fc65af37753f0d",
              "IPY_MODEL_2fc65efa14a94c73934452a463514136"
            ],
            "layout": "IPY_MODEL_71f8a206f7c34edebf1bcc388b38406e"
          }
        },
        "1db230b363834f00bc50e517d51e2d5b": {
          "model_module": "@jupyter-widgets/controls",
          "model_name": "HTMLModel",
          "model_module_version": "1.5.0",
          "state": {
            "_dom_classes": [],
            "_model_module": "@jupyter-widgets/controls",
            "_model_module_version": "1.5.0",
            "_model_name": "HTMLModel",
            "_view_count": null,
            "_view_module": "@jupyter-widgets/controls",
            "_view_module_version": "1.5.0",
            "_view_name": "HTMLView",
            "description": "",
            "description_tooltip": null,
            "layout": "IPY_MODEL_f6ac5ed2937c4a59b64bf9995a7efc80",
            "placeholder": "​",
            "style": "IPY_MODEL_7230defe631748f78fbf676c8e0403cd",
            "value": "Downloading (…)/main/tokenizer.json: 100%"
          }
        },
        "14965d57a552423492fc65af37753f0d": {
          "model_module": "@jupyter-widgets/controls",
          "model_name": "FloatProgressModel",
          "model_module_version": "1.5.0",
          "state": {
            "_dom_classes": [],
            "_model_module": "@jupyter-widgets/controls",
            "_model_module_version": "1.5.0",
            "_model_name": "FloatProgressModel",
            "_view_count": null,
            "_view_module": "@jupyter-widgets/controls",
            "_view_module_version": "1.5.0",
            "_view_name": "ProgressView",
            "bar_style": "success",
            "description": "",
            "description_tooltip": null,
            "layout": "IPY_MODEL_01c99ebc2d06436bbe5c824b6e2c770d",
            "max": 466062,
            "min": 0,
            "orientation": "horizontal",
            "style": "IPY_MODEL_8420d5f732e243faa0d78d66a915d8b4",
            "value": 466062
          }
        },
        "2fc65efa14a94c73934452a463514136": {
          "model_module": "@jupyter-widgets/controls",
          "model_name": "HTMLModel",
          "model_module_version": "1.5.0",
          "state": {
            "_dom_classes": [],
            "_model_module": "@jupyter-widgets/controls",
            "_model_module_version": "1.5.0",
            "_model_name": "HTMLModel",
            "_view_count": null,
            "_view_module": "@jupyter-widgets/controls",
            "_view_module_version": "1.5.0",
            "_view_name": "HTMLView",
            "description": "",
            "description_tooltip": null,
            "layout": "IPY_MODEL_c0eeff85f32c41eb818de8ee0f30ebf1",
            "placeholder": "​",
            "style": "IPY_MODEL_6650bf9192cb4898b6d4b28a72d03a29",
            "value": " 466k/466k [00:00&lt;00:00, 1.36MB/s]"
          }
        },
        "71f8a206f7c34edebf1bcc388b38406e": {
          "model_module": "@jupyter-widgets/base",
          "model_name": "LayoutModel",
          "model_module_version": "1.2.0",
          "state": {
            "_model_module": "@jupyter-widgets/base",
            "_model_module_version": "1.2.0",
            "_model_name": "LayoutModel",
            "_view_count": null,
            "_view_module": "@jupyter-widgets/base",
            "_view_module_version": "1.2.0",
            "_view_name": "LayoutView",
            "align_content": null,
            "align_items": null,
            "align_self": null,
            "border": null,
            "bottom": null,
            "display": null,
            "flex": null,
            "flex_flow": null,
            "grid_area": null,
            "grid_auto_columns": null,
            "grid_auto_flow": null,
            "grid_auto_rows": null,
            "grid_column": null,
            "grid_gap": null,
            "grid_row": null,
            "grid_template_areas": null,
            "grid_template_columns": null,
            "grid_template_rows": null,
            "height": null,
            "justify_content": null,
            "justify_items": null,
            "left": null,
            "margin": null,
            "max_height": null,
            "max_width": null,
            "min_height": null,
            "min_width": null,
            "object_fit": null,
            "object_position": null,
            "order": null,
            "overflow": null,
            "overflow_x": null,
            "overflow_y": null,
            "padding": null,
            "right": null,
            "top": null,
            "visibility": null,
            "width": null
          }
        },
        "f6ac5ed2937c4a59b64bf9995a7efc80": {
          "model_module": "@jupyter-widgets/base",
          "model_name": "LayoutModel",
          "model_module_version": "1.2.0",
          "state": {
            "_model_module": "@jupyter-widgets/base",
            "_model_module_version": "1.2.0",
            "_model_name": "LayoutModel",
            "_view_count": null,
            "_view_module": "@jupyter-widgets/base",
            "_view_module_version": "1.2.0",
            "_view_name": "LayoutView",
            "align_content": null,
            "align_items": null,
            "align_self": null,
            "border": null,
            "bottom": null,
            "display": null,
            "flex": null,
            "flex_flow": null,
            "grid_area": null,
            "grid_auto_columns": null,
            "grid_auto_flow": null,
            "grid_auto_rows": null,
            "grid_column": null,
            "grid_gap": null,
            "grid_row": null,
            "grid_template_areas": null,
            "grid_template_columns": null,
            "grid_template_rows": null,
            "height": null,
            "justify_content": null,
            "justify_items": null,
            "left": null,
            "margin": null,
            "max_height": null,
            "max_width": null,
            "min_height": null,
            "min_width": null,
            "object_fit": null,
            "object_position": null,
            "order": null,
            "overflow": null,
            "overflow_x": null,
            "overflow_y": null,
            "padding": null,
            "right": null,
            "top": null,
            "visibility": null,
            "width": null
          }
        },
        "7230defe631748f78fbf676c8e0403cd": {
          "model_module": "@jupyter-widgets/controls",
          "model_name": "DescriptionStyleModel",
          "model_module_version": "1.5.0",
          "state": {
            "_model_module": "@jupyter-widgets/controls",
            "_model_module_version": "1.5.0",
            "_model_name": "DescriptionStyleModel",
            "_view_count": null,
            "_view_module": "@jupyter-widgets/base",
            "_view_module_version": "1.2.0",
            "_view_name": "StyleView",
            "description_width": ""
          }
        },
        "01c99ebc2d06436bbe5c824b6e2c770d": {
          "model_module": "@jupyter-widgets/base",
          "model_name": "LayoutModel",
          "model_module_version": "1.2.0",
          "state": {
            "_model_module": "@jupyter-widgets/base",
            "_model_module_version": "1.2.0",
            "_model_name": "LayoutModel",
            "_view_count": null,
            "_view_module": "@jupyter-widgets/base",
            "_view_module_version": "1.2.0",
            "_view_name": "LayoutView",
            "align_content": null,
            "align_items": null,
            "align_self": null,
            "border": null,
            "bottom": null,
            "display": null,
            "flex": null,
            "flex_flow": null,
            "grid_area": null,
            "grid_auto_columns": null,
            "grid_auto_flow": null,
            "grid_auto_rows": null,
            "grid_column": null,
            "grid_gap": null,
            "grid_row": null,
            "grid_template_areas": null,
            "grid_template_columns": null,
            "grid_template_rows": null,
            "height": null,
            "justify_content": null,
            "justify_items": null,
            "left": null,
            "margin": null,
            "max_height": null,
            "max_width": null,
            "min_height": null,
            "min_width": null,
            "object_fit": null,
            "object_position": null,
            "order": null,
            "overflow": null,
            "overflow_x": null,
            "overflow_y": null,
            "padding": null,
            "right": null,
            "top": null,
            "visibility": null,
            "width": null
          }
        },
        "8420d5f732e243faa0d78d66a915d8b4": {
          "model_module": "@jupyter-widgets/controls",
          "model_name": "ProgressStyleModel",
          "model_module_version": "1.5.0",
          "state": {
            "_model_module": "@jupyter-widgets/controls",
            "_model_module_version": "1.5.0",
            "_model_name": "ProgressStyleModel",
            "_view_count": null,
            "_view_module": "@jupyter-widgets/base",
            "_view_module_version": "1.2.0",
            "_view_name": "StyleView",
            "bar_color": null,
            "description_width": ""
          }
        },
        "c0eeff85f32c41eb818de8ee0f30ebf1": {
          "model_module": "@jupyter-widgets/base",
          "model_name": "LayoutModel",
          "model_module_version": "1.2.0",
          "state": {
            "_model_module": "@jupyter-widgets/base",
            "_model_module_version": "1.2.0",
            "_model_name": "LayoutModel",
            "_view_count": null,
            "_view_module": "@jupyter-widgets/base",
            "_view_module_version": "1.2.0",
            "_view_name": "LayoutView",
            "align_content": null,
            "align_items": null,
            "align_self": null,
            "border": null,
            "bottom": null,
            "display": null,
            "flex": null,
            "flex_flow": null,
            "grid_area": null,
            "grid_auto_columns": null,
            "grid_auto_flow": null,
            "grid_auto_rows": null,
            "grid_column": null,
            "grid_gap": null,
            "grid_row": null,
            "grid_template_areas": null,
            "grid_template_columns": null,
            "grid_template_rows": null,
            "height": null,
            "justify_content": null,
            "justify_items": null,
            "left": null,
            "margin": null,
            "max_height": null,
            "max_width": null,
            "min_height": null,
            "min_width": null,
            "object_fit": null,
            "object_position": null,
            "order": null,
            "overflow": null,
            "overflow_x": null,
            "overflow_y": null,
            "padding": null,
            "right": null,
            "top": null,
            "visibility": null,
            "width": null
          }
        },
        "6650bf9192cb4898b6d4b28a72d03a29": {
          "model_module": "@jupyter-widgets/controls",
          "model_name": "DescriptionStyleModel",
          "model_module_version": "1.5.0",
          "state": {
            "_model_module": "@jupyter-widgets/controls",
            "_model_module_version": "1.5.0",
            "_model_name": "DescriptionStyleModel",
            "_view_count": null,
            "_view_module": "@jupyter-widgets/base",
            "_view_module_version": "1.2.0",
            "_view_name": "StyleView",
            "description_width": ""
          }
        }
      }
    },
    "accelerator": "GPU"
  },
  "nbformat": 4,
  "nbformat_minor": 0
}
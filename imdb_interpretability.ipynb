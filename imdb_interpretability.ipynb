{
  "cells": [
    {
      "cell_type": "markdown",
      "metadata": {
        "id": "view-in-github",
        "colab_type": "text"
      },
      "source": [
        "<a href=\"https://colab.research.google.com/github/rahul-ohlan/TWARP/blob/main/imdb_interpretability.ipynb\" target=\"_parent\"><img src=\"https://colab.research.google.com/assets/colab-badge.svg\" alt=\"Open In Colab\"/></a>"
      ]
    },
    {
      "cell_type": "code",
      "execution_count": 1,
      "metadata": {
        "colab": {
          "base_uri": "https://localhost:8080/"
        },
        "id": "5jhM_rClphVV",
        "outputId": "49be3117-64f9-4d79-df08-1ca12d2b97c9"
      },
      "outputs": [
        {
          "output_type": "stream",
          "name": "stdout",
          "text": [
            "Mounted at /gdrive/\n",
            "/gdrive\n"
          ]
        }
      ],
      "source": [
        "from google.colab import drive\n",
        "drive.mount(\"/gdrive/\")\n",
        "%cd \"/gdrive/\""
      ]
    },
    {
      "cell_type": "code",
      "execution_count": 2,
      "metadata": {
        "colab": {
          "base_uri": "https://localhost:8080/"
        },
        "id": "l1TOXykYpxJE",
        "outputId": "4912e71d-b9fb-4072-986d-eedf0049fd70"
      },
      "outputs": [
        {
          "output_type": "stream",
          "name": "stdout",
          "text": [
            "\u001b[2K     \u001b[90m━━━━━━━━━━━━━━━━━━━━━━━━━━━━━━━━━━━━━━━━\u001b[0m \u001b[32m6.7/6.7 MB\u001b[0m \u001b[31m59.8 MB/s\u001b[0m eta \u001b[36m0:00:00\u001b[0m\n",
            "\u001b[2K     \u001b[90m━━━━━━━━━━━━━━━━━━━━━━━━━━━━━━━━━━━━━━\u001b[0m \u001b[32m199.2/199.2 KB\u001b[0m \u001b[31m23.1 MB/s\u001b[0m eta \u001b[36m0:00:00\u001b[0m\n",
            "\u001b[2K     \u001b[90m━━━━━━━━━━━━━━━━━━━━━━━━━━━━━━━━━━━━━━━━\u001b[0m \u001b[32m7.6/7.6 MB\u001b[0m \u001b[31m99.5 MB/s\u001b[0m eta \u001b[36m0:00:00\u001b[0m\n",
            "\u001b[?25h"
          ]
        }
      ],
      "source": [
        "!pip install transformers --quiet"
      ]
    },
    {
      "cell_type": "markdown",
      "source": [
        "## Load and Preprocess Data"
      ],
      "metadata": {
        "id": "PQObjrV-PUi-"
      }
    },
    {
      "cell_type": "code",
      "execution_count": 3,
      "metadata": {
        "colab": {
          "base_uri": "https://localhost:8080/"
        },
        "id": "qi_JM7Yfp4j8",
        "outputId": "3cd81370-26c9-4a92-a268-2e774321e26e"
      },
      "outputs": [
        {
          "output_type": "stream",
          "name": "stderr",
          "text": [
            "[nltk_data] Downloading package punkt to /root/nltk_data...\n",
            "[nltk_data]   Unzipping tokenizers/punkt.zip.\n",
            "[nltk_data] Downloading package stopwords to /root/nltk_data...\n",
            "[nltk_data]   Unzipping corpora/stopwords.zip.\n"
          ]
        }
      ],
      "source": [
        "# import libraries\n",
        "import os\n",
        "import random\n",
        "import pickle\n",
        "from timeit import default_timer as timer\n",
        "\n",
        "import re\n",
        "import nltk\n",
        "nltk.download(\"punkt\")\n",
        "from nltk.corpus import stopwords\n",
        "nltk.download(\"stopwords\")\n",
        "from string import punctuation\n",
        "\n",
        "import pandas as pd\n",
        "import numpy as np\n",
        "import matplotlib.pyplot as plt\n",
        "\n",
        "from sklearn.model_selection import train_test_split\n",
        "from sklearn.preprocessing import OneHotEncoder\n",
        "from sklearn.compose import make_column_transformer\n",
        "from sklearn.utils import class_weight\n",
        "\n",
        "from transformers import TFAutoModel, BertTokenizerFast, BertModel\n",
        "import tensorflow as tf\n",
        "from tensorflow.keras import layers\n",
        "from tensorflow.keras import callbacks as cb\n",
        "from tensorflow.keras.models import Model, Sequential\n",
        "\n",
        "from tensorflow.keras.constraints import MaxNorm\n",
        "import keras\n",
        "from keras.layers import Input, Concatenate, Flatten, Embedding, Dense, Dropout, LSTM\n",
        "from keras.models import Model, Sequential\n",
        "from keras.layers import Lambda"
      ]
    },
    {
      "cell_type": "code",
      "execution_count": 4,
      "metadata": {
        "id": "P8taDrFgqG-u"
      },
      "outputs": [],
      "source": [
        "def SEED_EVERYTHING(seed_val):\n",
        "  random.seed(seed_val)\n",
        "  np.random.seed(seed_val)\n",
        "  # torch.manual_seed(seed_val)\n",
        "  # torch.cuda.manual_seed_all(seed_val)\n",
        "  tf.random.set_seed(seed_val)\n",
        "  return\n",
        "\n",
        "seed = 47\n",
        "SEED_EVERYTHING(seed)"
      ]
    },
    {
      "cell_type": "code",
      "execution_count": 5,
      "metadata": {
        "id": "3VpLpVqvqLfG"
      },
      "outputs": [],
      "source": [
        "def text_preprocessing(text,                                                               # text is a word string ex. 'rahul in ny'\n",
        "                      punctuations = r'''!()-[]{};:'\"\\,<>./?@#$%^&*_“~''',\n",
        "                      stop_words = set(stopwords.words(\"english\"))) -> list:  \n",
        "    \n",
        "        '''\n",
        "        A method to preprocess text\n",
        "        \n",
        "        '''\n",
        "\n",
        "        for x in text.lower():\n",
        "            if x in punctuations:\n",
        "                text = text.replace(x,\"\")\n",
        "                \n",
        "        # removing words that have numbers in them\n",
        "        text = re.sub(r'\\w*\\d\\w*', '', text)\n",
        "        # remove digits\n",
        "        text = re.sub(r'[0-9]+', ' ', text)\n",
        "        \n",
        "        # clean the whitespaces\n",
        "        \n",
        "        text = re.sub(r'\\s+', ' ', text).strip()\n",
        "        \n",
        "        \n",
        "        \n",
        "        # convert all text to a list\n",
        "        \n",
        "        # text = text.split(' ').  # uncomment if list required\n",
        "        emoji_pattern = re.compile(\"[\"\n",
        "                u\"\\U0001F600-\\U0001F64F\"  # emoticons\n",
        "                u\"\\U0001F300-\\U0001F5FF\"  # symbols & pictographs\n",
        "                u\"\\U0001F680-\\U0001F6FF\"  # transport & map symbols\n",
        "                u\"\\U0001F1E0-\\U0001F1FF\"  # flags (iOS)\n",
        "                                  \"]+\", flags=re.UNICODE)\n",
        "        text = emoji_pattern.sub(r'', text) # no emoji\n",
        "\n",
        "        # lowercase eth\n",
        "        \n",
        "        text = text.lower()\n",
        "        \n",
        "        \n",
        "        # drop the stop words\n",
        "        \n",
        "\n",
        "        \n",
        "        # add the tags\n",
        "\n",
        "        return text"
      ]
    },
    {
      "cell_type": "code",
      "execution_count": 6,
      "metadata": {
        "colab": {
          "base_uri": "https://localhost:8080/",
          "height": 424
        },
        "id": "Lrk3kpr3qR12",
        "outputId": "b96dbbe5-4b4e-4f49-9ab8-1f465d5fcc55"
      },
      "outputs": [
        {
          "output_type": "execute_result",
          "data": {
            "text/plain": [
              "                                                  review  sentiment\n",
              "0      cleos second husband is an amateurish attempt ...        0.0\n",
              "1      first of all i would like to clarify that i co...        0.0\n",
              "2      volcano is set in los angeles where a minor ea...        0.0\n",
              "3      this must have been one of chaplins most ambit...        1.0\n",
              "4      military training films are becoming so common...        1.0\n",
              "...                                                  ...        ...\n",
              "49995  happenstance is the most new yorkfeeling paris...        1.0\n",
              "49996  this film tried to capitalize on the much bett...        1.0\n",
              "49997  another of many nearly forgotten movies cranke...        0.0\n",
              "49998  few movies have dashed expectations and upset ...        0.0\n",
              "49999  well well at last a view of this underrated fl...        0.0\n",
              "\n",
              "[50000 rows x 2 columns]"
            ],
            "text/html": [
              "\n",
              "  <div id=\"df-81fa80b7-e724-44b6-80d1-e5f5d32723cb\">\n",
              "    <div class=\"colab-df-container\">\n",
              "      <div>\n",
              "<style scoped>\n",
              "    .dataframe tbody tr th:only-of-type {\n",
              "        vertical-align: middle;\n",
              "    }\n",
              "\n",
              "    .dataframe tbody tr th {\n",
              "        vertical-align: top;\n",
              "    }\n",
              "\n",
              "    .dataframe thead th {\n",
              "        text-align: right;\n",
              "    }\n",
              "</style>\n",
              "<table border=\"1\" class=\"dataframe\">\n",
              "  <thead>\n",
              "    <tr style=\"text-align: right;\">\n",
              "      <th></th>\n",
              "      <th>review</th>\n",
              "      <th>sentiment</th>\n",
              "    </tr>\n",
              "  </thead>\n",
              "  <tbody>\n",
              "    <tr>\n",
              "      <th>0</th>\n",
              "      <td>cleos second husband is an amateurish attempt ...</td>\n",
              "      <td>0.0</td>\n",
              "    </tr>\n",
              "    <tr>\n",
              "      <th>1</th>\n",
              "      <td>first of all i would like to clarify that i co...</td>\n",
              "      <td>0.0</td>\n",
              "    </tr>\n",
              "    <tr>\n",
              "      <th>2</th>\n",
              "      <td>volcano is set in los angeles where a minor ea...</td>\n",
              "      <td>0.0</td>\n",
              "    </tr>\n",
              "    <tr>\n",
              "      <th>3</th>\n",
              "      <td>this must have been one of chaplins most ambit...</td>\n",
              "      <td>1.0</td>\n",
              "    </tr>\n",
              "    <tr>\n",
              "      <th>4</th>\n",
              "      <td>military training films are becoming so common...</td>\n",
              "      <td>1.0</td>\n",
              "    </tr>\n",
              "    <tr>\n",
              "      <th>...</th>\n",
              "      <td>...</td>\n",
              "      <td>...</td>\n",
              "    </tr>\n",
              "    <tr>\n",
              "      <th>49995</th>\n",
              "      <td>happenstance is the most new yorkfeeling paris...</td>\n",
              "      <td>1.0</td>\n",
              "    </tr>\n",
              "    <tr>\n",
              "      <th>49996</th>\n",
              "      <td>this film tried to capitalize on the much bett...</td>\n",
              "      <td>1.0</td>\n",
              "    </tr>\n",
              "    <tr>\n",
              "      <th>49997</th>\n",
              "      <td>another of many nearly forgotten movies cranke...</td>\n",
              "      <td>0.0</td>\n",
              "    </tr>\n",
              "    <tr>\n",
              "      <th>49998</th>\n",
              "      <td>few movies have dashed expectations and upset ...</td>\n",
              "      <td>0.0</td>\n",
              "    </tr>\n",
              "    <tr>\n",
              "      <th>49999</th>\n",
              "      <td>well well at last a view of this underrated fl...</td>\n",
              "      <td>0.0</td>\n",
              "    </tr>\n",
              "  </tbody>\n",
              "</table>\n",
              "<p>50000 rows × 2 columns</p>\n",
              "</div>\n",
              "      <button class=\"colab-df-convert\" onclick=\"convertToInteractive('df-81fa80b7-e724-44b6-80d1-e5f5d32723cb')\"\n",
              "              title=\"Convert this dataframe to an interactive table.\"\n",
              "              style=\"display:none;\">\n",
              "        \n",
              "  <svg xmlns=\"http://www.w3.org/2000/svg\" height=\"24px\"viewBox=\"0 0 24 24\"\n",
              "       width=\"24px\">\n",
              "    <path d=\"M0 0h24v24H0V0z\" fill=\"none\"/>\n",
              "    <path d=\"M18.56 5.44l.94 2.06.94-2.06 2.06-.94-2.06-.94-.94-2.06-.94 2.06-2.06.94zm-11 1L8.5 8.5l.94-2.06 2.06-.94-2.06-.94L8.5 2.5l-.94 2.06-2.06.94zm10 10l.94 2.06.94-2.06 2.06-.94-2.06-.94-.94-2.06-.94 2.06-2.06.94z\"/><path d=\"M17.41 7.96l-1.37-1.37c-.4-.4-.92-.59-1.43-.59-.52 0-1.04.2-1.43.59L10.3 9.45l-7.72 7.72c-.78.78-.78 2.05 0 2.83L4 21.41c.39.39.9.59 1.41.59.51 0 1.02-.2 1.41-.59l7.78-7.78 2.81-2.81c.8-.78.8-2.07 0-2.86zM5.41 20L4 18.59l7.72-7.72 1.47 1.35L5.41 20z\"/>\n",
              "  </svg>\n",
              "      </button>\n",
              "      \n",
              "  <style>\n",
              "    .colab-df-container {\n",
              "      display:flex;\n",
              "      flex-wrap:wrap;\n",
              "      gap: 12px;\n",
              "    }\n",
              "\n",
              "    .colab-df-convert {\n",
              "      background-color: #E8F0FE;\n",
              "      border: none;\n",
              "      border-radius: 50%;\n",
              "      cursor: pointer;\n",
              "      display: none;\n",
              "      fill: #1967D2;\n",
              "      height: 32px;\n",
              "      padding: 0 0 0 0;\n",
              "      width: 32px;\n",
              "    }\n",
              "\n",
              "    .colab-df-convert:hover {\n",
              "      background-color: #E2EBFA;\n",
              "      box-shadow: 0px 1px 2px rgba(60, 64, 67, 0.3), 0px 1px 3px 1px rgba(60, 64, 67, 0.15);\n",
              "      fill: #174EA6;\n",
              "    }\n",
              "\n",
              "    [theme=dark] .colab-df-convert {\n",
              "      background-color: #3B4455;\n",
              "      fill: #D2E3FC;\n",
              "    }\n",
              "\n",
              "    [theme=dark] .colab-df-convert:hover {\n",
              "      background-color: #434B5C;\n",
              "      box-shadow: 0px 1px 3px 1px rgba(0, 0, 0, 0.15);\n",
              "      filter: drop-shadow(0px 1px 2px rgba(0, 0, 0, 0.3));\n",
              "      fill: #FFFFFF;\n",
              "    }\n",
              "  </style>\n",
              "\n",
              "      <script>\n",
              "        const buttonEl =\n",
              "          document.querySelector('#df-81fa80b7-e724-44b6-80d1-e5f5d32723cb button.colab-df-convert');\n",
              "        buttonEl.style.display =\n",
              "          google.colab.kernel.accessAllowed ? 'block' : 'none';\n",
              "\n",
              "        async function convertToInteractive(key) {\n",
              "          const element = document.querySelector('#df-81fa80b7-e724-44b6-80d1-e5f5d32723cb');\n",
              "          const dataTable =\n",
              "            await google.colab.kernel.invokeFunction('convertToInteractive',\n",
              "                                                     [key], {});\n",
              "          if (!dataTable) return;\n",
              "\n",
              "          const docLinkHtml = 'Like what you see? Visit the ' +\n",
              "            '<a target=\"_blank\" href=https://colab.research.google.com/notebooks/data_table.ipynb>data table notebook</a>'\n",
              "            + ' to learn more about interactive tables.';\n",
              "          element.innerHTML = '';\n",
              "          dataTable['output_type'] = 'display_data';\n",
              "          await google.colab.output.renderOutput(dataTable, element);\n",
              "          const docLink = document.createElement('div');\n",
              "          docLink.innerHTML = docLinkHtml;\n",
              "          element.appendChild(docLink);\n",
              "        }\n",
              "      </script>\n",
              "    </div>\n",
              "  </div>\n",
              "  "
            ]
          },
          "metadata": {},
          "execution_count": 6
        }
      ],
      "source": [
        "# IMDB Dataset\n",
        "dataframe = pd.read_csv('/gdrive/Shareddrives/Thesis/datasets/IMDB_Dataset.csv')\n",
        "dataframe[\"sentiment\"] = dataframe[\"sentiment\"].apply(lambda x : 1.0 if x == \"positive\" else 0.0)\n",
        "dataframe = dataframe.sample(frac = 1).reset_index(drop = True)\n",
        "dataframe[\"review\"] = dataframe[\"review\"].apply(lambda x : text_preprocessing(x))\n",
        "dataframe"
      ]
    },
    {
      "cell_type": "code",
      "execution_count": 7,
      "metadata": {
        "colab": {
          "base_uri": "https://localhost:8080/"
        },
        "id": "GNNc-3j1rG3j",
        "outputId": "11dac65c-1eef-48c3-f460-ef6486732858"
      },
      "outputs": [
        {
          "output_type": "execute_result",
          "data": {
            "text/plain": [
              "0.0    0.5\n",
              "1.0    0.5\n",
              "Name: sentiment, dtype: float64"
            ]
          },
          "metadata": {},
          "execution_count": 7
        }
      ],
      "source": [
        "# class imbalance?\n",
        "dataframe[\"sentiment\"].value_counts(normalize=True)"
      ]
    },
    {
      "cell_type": "code",
      "execution_count": 8,
      "metadata": {
        "id": "PIZKqFXtrwqn"
      },
      "outputs": [],
      "source": [
        "# NO Apparent Class Imbalance"
      ]
    },
    {
      "cell_type": "code",
      "execution_count": 9,
      "metadata": {
        "colab": {
          "base_uri": "https://localhost:8080/"
        },
        "id": "ogI2F5Z-sUF-",
        "outputId": "3eec8192-f2bc-4dbe-ceb5-d56281736913"
      },
      "outputs": [
        {
          "output_type": "execute_result",
          "data": {
            "text/plain": [
              "array([ 0.        ,  3.33333333,  6.66666667, 10.        ])"
            ]
          },
          "metadata": {},
          "execution_count": 9
        }
      ],
      "source": [
        "np.linspace(0,10,4)"
      ]
    },
    {
      "cell_type": "code",
      "execution_count": 10,
      "metadata": {
        "colab": {
          "base_uri": "https://localhost:8080/",
          "height": 483
        },
        "id": "EYW93QgIr2Jl",
        "outputId": "672c589c-6201-4f73-bc04-51b928b0a237"
      },
      "outputs": [
        {
          "output_type": "display_data",
          "data": {
            "text/plain": [
              "<Figure size 1152x576 with 1 Axes>"
            ],
            "image/png": "[encoded data removed]"
          },
          "metadata": {
            "needs_background": "light"
          }
        }
      ],
      "source": [
        "# token lengths distribution in the dataset\n",
        "token_lengths = [len(i.split()) for i in dataframe[\"review\"]]\n",
        "plt.figure(figsize=(16,8))\n",
        "plt.hist(token_lengths,bins = 30,edgecolor=\"black\")\n",
        "plt.xticks(ticks = np.linspace(10,1000,11))\n",
        "plt.show()"
      ]
    },
    {
      "cell_type": "code",
      "execution_count": 11,
      "metadata": {
        "id": "h10AYNt0r9f2"
      },
      "outputs": [],
      "source": [
        "# token_length 128, seems a good fit for data\n",
        "train_df, temp_df = train_test_split(dataframe, test_size= 0.30, stratify= dataframe[\"sentiment\"], random_state = 47)\n",
        "\n",
        "val_df,   test_df   = train_test_split(temp_df, test_size= 0.50, stratify= temp_df[\"sentiment\"],random_state = 47)\n",
        "\n",
        "train_df = train_df.reset_index(drop=True)\n",
        "val_df   = val_df.reset_index(drop  = True)\n",
        "test_df  = test_df.reset_index(drop = True)"
      ]
    },
    {
      "cell_type": "code",
      "execution_count": 12,
      "metadata": {
        "colab": {
          "base_uri": "https://localhost:8080/",
          "height": 286,
          "referenced_widgets": [
            "f4f27f6c12b14dc4b3985198c1c0802f",
            "356bb7c3e8054a1f8cc11d155a0f3d38",
            "2fb911aff8af4a1291e41fcaa4d29ff3",
            "bdb43ab015ad46e3aaed689c6bfe121d",
            "2e48c0c7789e4be69658114aafb90825",
            "00a0186c78c14cfaa52d2e73dd0e9076",
            "882baad8fc9d48edae51bb700b6bd1d6",
            "2e158dec1fe14976a6a0ba4f24667f91",
            "453e163ff57f4f1ba6e5abaf7e3d7eca",
            "b3e9f955b16249ae80a0db63abc67afc",
            "81bb30bd59c14dde8f3e954c1bc31dbb",
            "aabb8842d0d44d8ebbd3e2a15be13579",
            "5ebdb540d0394bbf9d3d81696f289efb",
            "55fccaabf9ac422abe9dbe09e7fc72bb",
            "37382e7d1ff14461a49b2ab8d3d40352",
            "050cdb67691e48afbfb334138423369b",
            "6cd717ecb53c4f378e79d66a999fdbef",
            "10deceb294154ae48d7e28fe6631a3d4",
            "e3c008f683af490aa607ade0f76fc956",
            "b3c6b43323514eac846c102c0efa2571",
            "f8000cbbffec42758ee3e36eb1a0ff48",
            "cb71aec7f3c54a13886f1046eb257e7c",
            "0a0149f2621c40b1a6583a34ccbd5913",
            "ede06c1e078a4f4a9faf995255cfa737",
            "cef0d9990ca1461b8b67ca53a2e7fafd",
            "fa4af4bf6ed44bc4bfb14be2a1745cfb",
            "8dffaea2b8974fd4b1b65123bc36d227",
            "bc47d7f0d76a4ac280b6bffd97ff8393",
            "bf6528f87fb94ab8be0081cd4d87a9e1",
            "087c61e82876401899c80957197d1e92",
            "58d8b3ed567947d6acb5c6c22366befa",
            "1b72ef69e4e44fb1a6841ed3c343fd2d",
            "7dc89ad8881e448f90a95a5e634372d5",
            "2d6c843609c843a8bfef11cb060283b8",
            "0d504cb45017401e9d40d960dead3d8a",
            "3836dbb3a7524203b200a5aa10a20aa5",
            "39b6950f86d14a6bad2f6955490b5e5d",
            "010f929f028941139c948c18b38021f4",
            "0a155a29e1fe4355951e55958f036cf8",
            "0f8dcc64238746c09c2c8e2636bbb92f",
            "f6aeb8eef437444c9fff90848552e0fa",
            "14fbed00d2a64add9fef63327a8e33c6",
            "83b3f0bc298a478490c60cf8f304f635",
            "56c893f41bd34a96b158dcfe239dd105",
            "7c87641d242d4c80be8bd0c12adcd8c2",
            "46e2d54376404d7d8d4c629c7320ee25",
            "06a8edbe885c4b51a7e5ac3b6171ce94",
            "ebd3af6fdc99436c959495025cf00025",
            "613b3cdda6d14487912997938dc354b7",
            "4c75bd6448bf42f89099414f940771d6",
            "c41dc47a1fb54878abec748bdb7ed439",
            "3e488100ddbf4113be100dd7c7aa1494",
            "b59d5a799fc149ee858a0fd44f3859a2",
            "641aace3c24747479da334441d0605ae",
            "f8e987c749c54bf8af319d5ca657b268"
          ]
        },
        "id": "cES0lyR5t28d",
        "outputId": "2c84d94e-ddd8-4a6a-857f-1188ac64e608"
      },
      "outputs": [
        {
          "output_type": "display_data",
          "data": {
            "text/plain": [
              "Downloading (…)lve/main/config.json:   0%|          | 0.00/570 [00:00<?, ?B/s]"
            ],
            "application/vnd.jupyter.widget-view+json": {
              "version_major": 2,
              "version_minor": 0,
              "model_id": "f4f27f6c12b14dc4b3985198c1c0802f"
            }
          },
          "metadata": {}
        },
        {
          "output_type": "display_data",
          "data": {
            "text/plain": [
              "Downloading tf_model.h5:   0%|          | 0.00/536M [00:00<?, ?B/s]"
            ],
            "application/vnd.jupyter.widget-view+json": {
              "version_major": 2,
              "version_minor": 0,
              "model_id": "aabb8842d0d44d8ebbd3e2a15be13579"
            }
          },
          "metadata": {}
        },
        {
          "output_type": "stream",
          "name": "stderr",
          "text": [
            "Some layers from the model checkpoint at bert-base-uncased were not used when initializing TFBertModel: ['mlm___cls', 'nsp___cls']\n",
            "- This IS expected if you are initializing TFBertModel from the checkpoint of a model trained on another task or with another architecture (e.g. initializing a BertForSequenceClassification model from a BertForPreTraining model).\n",
            "- This IS NOT expected if you are initializing TFBertModel from the checkpoint of a model that you expect to be exactly identical (initializing a BertForSequenceClassification model from a BertForSequenceClassification model).\n",
            "All the layers of TFBertModel were initialized from the model checkpoint at bert-base-uncased.\n",
            "If your task is similar to the task the model of the checkpoint was trained on, you can already use TFBertModel for predictions without further training.\n"
          ]
        },
        {
          "output_type": "display_data",
          "data": {
            "text/plain": [
              "Downloading (…)okenizer_config.json:   0%|          | 0.00/28.0 [00:00<?, ?B/s]"
            ],
            "application/vnd.jupyter.widget-view+json": {
              "version_major": 2,
              "version_minor": 0,
              "model_id": "0a0149f2621c40b1a6583a34ccbd5913"
            }
          },
          "metadata": {}
        },
        {
          "output_type": "display_data",
          "data": {
            "text/plain": [
              "Downloading (…)solve/main/vocab.txt:   0%|          | 0.00/232k [00:00<?, ?B/s]"
            ],
            "application/vnd.jupyter.widget-view+json": {
              "version_major": 2,
              "version_minor": 0,
              "model_id": "2d6c843609c843a8bfef11cb060283b8"
            }
          },
          "metadata": {}
        },
        {
          "output_type": "display_data",
          "data": {
            "text/plain": [
              "Downloading (…)/main/tokenizer.json:   0%|          | 0.00/466k [00:00<?, ?B/s]"
            ],
            "application/vnd.jupyter.widget-view+json": {
              "version_major": 2,
              "version_minor": 0,
              "model_id": "7c87641d242d4c80be8bd0c12adcd8c2"
            }
          },
          "metadata": {}
        }
      ],
      "source": [
        "# load bertModel, bertTokenizer and freeze all layers\n",
        "bertModel = TFAutoModel.from_pretrained(\"bert-base-uncased\")\n",
        "tokenizer = BertTokenizerFast.from_pretrained(\"bert-base-uncased\")\n",
        "bertModel.trainable = False"
      ]
    },
    {
      "cell_type": "code",
      "execution_count": 18,
      "metadata": {
        "colab": {
          "base_uri": "https://localhost:8080/"
        },
        "id": "JkzkoZszt7Hy",
        "outputId": "68f83ca5-30ec-4331-ca0c-e5dead77f5f2"
      },
      "outputs": [
        {
          "output_type": "stream",
          "name": "stdout",
          "text": [
            "Model: \"tf_bert_model\"\n",
            "_________________________________________________________________\n",
            " Layer (type)                Output Shape              Param #   \n",
            "=================================================================\n",
            " bert (TFBertMainLayer)      multiple                  109482240 \n",
            "                                                                 \n",
            "=================================================================\n",
            "Total params: 109,482,240\n",
            "Trainable params: 0\n",
            "Non-trainable params: 109,482,240\n",
            "_________________________________________________________________\n"
          ]
        }
      ],
      "source": [
        "bertModel.summary()"
      ]
    },
    {
      "cell_type": "code",
      "execution_count": 19,
      "metadata": {
        "id": "9NY-2WVGtOSF"
      },
      "outputs": [],
      "source": [
        "# dataset generator (input to tf.data.Dataset.from_generator())\n",
        "class dataset:\n",
        "  \n",
        "  def __init__(self,text,labels,max_length, tokenizer,projection_dim, val = False):\n",
        "\n",
        "    self.text =   text\n",
        "    self.labels = labels\n",
        "    self.max_length = max_length\n",
        "    self.tokenizer = tokenizer\n",
        "    self.flag = val\n",
        "    self.projection_dim = projection_dim\n",
        "\n",
        "  def __len__(self):\n",
        "\n",
        "    return  self.text.shape[0]\n",
        "\n",
        "  def __getitem__(self,index):\n",
        "\n",
        "    sentence = self.text[index]\n",
        "    category = self.labels[index]\n",
        "\n",
        "    return sentence, category\n",
        "    \n",
        "\n",
        "  # shuffle the dataset after each epoch\n",
        "  def on_epoch_end(self):\n",
        "\n",
        "    random_idx = random.sample(list(range(self.__len__())), k = self.__len__())\n",
        "    self.text   = self.text[random_idx]\n",
        "    self.labels = self.labels[random_idx]\n",
        "\n",
        "  def __call__(self):\n",
        "\n",
        "    for i in range(self.__len__()):\n",
        "      sentence, label = self.__getitem__(i)\n",
        "      encodings = self.tokenizer(sentence,\n",
        "                                 max_length = self.max_length,\n",
        "                                 padding = \"max_length\",\n",
        "                                 truncation = True)\n",
        "      \n",
        "      input_ids  = np.array(encodings[\"input_ids\"])\n",
        "      # input_ids2 = input_ids.copy()\n",
        "      masks      = np.array(encodings[\"attention_mask\"])\n",
        "      ttids      = np.array(encodings[\"token_type_ids\"])\n",
        "\n",
        "      embedding_index = np.array([i for i in range(self.projection_dim)])\n",
        "      embedding_index = np.ravel(embedding_index)\n",
        "\n",
        "      embedding_index = np.tile(embedding_index, (input_ids[0:1].shape[0],))\n",
        "\n",
        "      yield {\"input_ids\": input_ids, \"attention_masks\": masks,\"space\": embedding_index}, label\n",
        "      # randomize the dataset on epoch end, only in case of training dataset\n",
        "      if i == self.__len__() -1 and self.flag is False:\n",
        "        self.on_epoch_end()"
      ]
    },
    {
      "cell_type": "markdown",
      "source": [
        "## HYPERPARAMETERS"
      ],
      "metadata": {
        "id": "WLSvLaJ8QjoG"
      }
    },
    {
      "cell_type": "code",
      "source": [
        "MAX_LENGTH = 128\n",
        "BATCH_SIZE = 32\n",
        "PROJECTION_DIM = 300\n",
        "VECTOR_DIM = 768"
      ],
      "metadata": {
        "id": "qkqJK3WqQnG1"
      },
      "execution_count": 20,
      "outputs": []
    },
    {
      "cell_type": "code",
      "execution_count": 21,
      "metadata": {
        "id": "opL4rVNOuchf"
      },
      "outputs": [],
      "source": [
        "# create generators for train and validation\n",
        "train_gen = dataset(train_df[\"review\"].values,train_df[\"sentiment\"].values,max_length = MAX_LENGTH, tokenizer = tokenizer,projection_dim=PROJECTION_DIM)\n",
        "val_gen   = dataset(val_df[\"review\"].values,val_df[\"sentiment\"].values,max_length = MAX_LENGTH, tokenizer = tokenizer, projection_dim=PROJECTION_DIM, val = True)"
      ]
    },
    {
      "cell_type": "code",
      "execution_count": 22,
      "metadata": {
        "id": "K2PS6U6VvTvd"
      },
      "outputs": [],
      "source": [
        "# create tensorflow dataloaders from generators\n",
        "\n",
        "train_ds = tf.data.Dataset.from_generator(train_gen,\n",
        "                                            output_signature = \n",
        "                                           ( {\"input_ids\" : tf.TensorSpec(shape = (MAX_LENGTH,), dtype = tf.int32 ),\"attention_masks\":tf.TensorSpec(shape = (MAX_LENGTH,), dtype = tf.int32),\"space\":tf.TensorSpec(shape = (PROJECTION_DIM,), dtype = tf.int32)},\n",
        "                                            tf.TensorSpec(shape = (), dtype = (tf.float32)))).repeat().batch(batch_size = BATCH_SIZE) # shuffling is already implemented in dataset class\n",
        "\n",
        "val_ds = tf.data.Dataset.from_generator(val_gen,\n",
        "                                            output_signature = \n",
        "                                           ( {\"input_ids\" : tf.TensorSpec(shape = (MAX_LENGTH,), dtype = tf.int32 ),\"attention_masks\":tf.TensorSpec(shape = (MAX_LENGTH,), dtype = tf.int32),\"space\":tf.TensorSpec(shape = (PROJECTION_DIM,), dtype = tf.int32)},\n",
        "                                            tf.TensorSpec(shape = (), dtype = (tf.float32)))).batch(BATCH_SIZE)"
      ]
    },
    {
      "cell_type": "markdown",
      "source": [
        "## DEBUGGING\n",
        "\n",
        "Run the **`AUXILIARY FUNCTIONS`** cell first!"
      ],
      "metadata": {
        "id": "B7EZ4YdLTqGA"
      }
    },
    {
      "cell_type": "code",
      "execution_count": 18,
      "metadata": {
        "id": "hfv70WSmwHwu"
      },
      "outputs": [],
      "source": [
        "# verify tensors\n",
        "\n",
        "for ele in train_ds.take(1):\n",
        "  temp = ele"
      ]
    },
    {
      "cell_type": "code",
      "execution_count": 19,
      "metadata": {
        "colab": {
          "base_uri": "https://localhost:8080/"
        },
        "id": "s-X-59WAwOOs",
        "outputId": "ecee2d64-b92f-40ea-bea8-ae94df86190c"
      },
      "outputs": [
        {
          "output_type": "execute_result",
          "data": {
            "text/plain": [
              "({'input_ids': <tf.Tensor: shape=(32, 128), dtype=int32, numpy=\n",
              "  array([[  101,  1999,  1996, ...,  2035,  2023,   102],\n",
              "         [  101,  1037,  4038, ..., 10294,  5846,   102],\n",
              "         [  101,  2023,  3185, ...,     0,     0,     0],\n",
              "         ...,\n",
              "         [  101,  6677, 28014, ...,  2121,  7515,   102],\n",
              "         [  101,  2023,  3185, ...,  1997,  7842,   102],\n",
              "         [  101,  2004,  1045, ...,     0,     0,     0]], dtype=int32)>,\n",
              "  'attention_masks': <tf.Tensor: shape=(32, 128), dtype=int32, numpy=\n",
              "  array([[1, 1, 1, ..., 1, 1, 1],\n",
              "         [1, 1, 1, ..., 1, 1, 1],\n",
              "         [1, 1, 1, ..., 0, 0, 0],\n",
              "         ...,\n",
              "         [1, 1, 1, ..., 1, 1, 1],\n",
              "         [1, 1, 1, ..., 1, 1, 1],\n",
              "         [1, 1, 1, ..., 0, 0, 0]], dtype=int32)>,\n",
              "  'space': <tf.Tensor: shape=(32, 300), dtype=int32, numpy=\n",
              "  array([[  0,   1,   2, ..., 297, 298, 299],\n",
              "         [  0,   1,   2, ..., 297, 298, 299],\n",
              "         [  0,   1,   2, ..., 297, 298, 299],\n",
              "         ...,\n",
              "         [  0,   1,   2, ..., 297, 298, 299],\n",
              "         [  0,   1,   2, ..., 297, 298, 299],\n",
              "         [  0,   1,   2, ..., 297, 298, 299]], dtype=int32)>},\n",
              " <tf.Tensor: shape=(32,), dtype=float32, numpy=\n",
              " array([0., 0., 0., 1., 0., 1., 1., 1., 1., 0., 1., 0., 1., 0., 1., 0., 1.,\n",
              "        1., 0., 0., 0., 1., 1., 1., 1., 0., 0., 0., 1., 0., 1., 1.],\n",
              "       dtype=float32)>)"
            ]
          },
          "metadata": {},
          "execution_count": 19
        }
      ],
      "source": [
        "temp"
      ]
    },
    {
      "cell_type": "code",
      "execution_count": 20,
      "metadata": {
        "id": "llE25PLLwnLr"
      },
      "outputs": [],
      "source": [
        "# input_ids\n",
        "# each sentence always starts with the [CLS] token, which has an input id 101\n",
        "# if number of tokens in the sentence are less < MAX_LENGTH , then, a [SEP] token ends the input ids and is followed by [PAD] tokens (zeros)\n",
        "# if number of tokens are greater than 128, then input ids just end witih [SEP] with input id 112"
      ]
    },
    {
      "cell_type": "code",
      "source": [
        "temp_iids = temp[0][\"input_ids\"]\n",
        "temp_mask = temp[0][\"attention_masks\"]"
      ],
      "metadata": {
        "id": "WZkQW3OyOjgD"
      },
      "execution_count": 21,
      "outputs": []
    },
    {
      "cell_type": "code",
      "source": [
        "# now we have 32 input_ids and 32 masks"
      ],
      "metadata": {
        "id": "f6iWP434Ov-3"
      },
      "execution_count": 22,
      "outputs": []
    },
    {
      "cell_type": "code",
      "source": [
        "# let's examine some embeddings\n",
        "temp_embeddings = bertModel(temp_iids, attention_mask = temp_mask)[0]   # pooled outputs give embeddings of each token\n",
        "temp_embeddings.shape"
      ],
      "metadata": {
        "colab": {
          "base_uri": "https://localhost:8080/"
        },
        "id": "Leg7WPKAOXLz",
        "outputId": "48844056-9a72-4644-9561-5414e921cbc6"
      },
      "execution_count": 23,
      "outputs": [
        {
          "output_type": "execute_result",
          "data": {
            "text/plain": [
              "TensorShape([32, 128, 768])"
            ]
          },
          "metadata": {},
          "execution_count": 23
        }
      ]
    },
    {
      "cell_type": "code",
      "source": [
        "# embeddings are non zero for any kind of token, [CLS], [PAD], [SEP], [Any TOKEN]"
      ],
      "metadata": {
        "id": "x3WnG1XAPqBt"
      },
      "execution_count": 24,
      "outputs": []
    },
    {
      "cell_type": "code",
      "source": [
        "# let's take a dummy keras embedding layer, and get embeddings of 32 sentences with 300 tokens in it\n",
        "# Then for each sentence, take cosine similarity of embeddings of 128 tokens with those 300 tokens for 32 sentences from the dataset\n",
        "# resulting in  32,128,300 cosine similarity vectors\n",
        "# then get masks for those 128 input ids for each of the sentences using a keras embedding layer\n",
        "# ideally when we multiply those cosine similarity vectors with zeros (in masks) resulting cosine similarities for corresponding should be ZERO"
      ],
      "metadata": {
        "id": "XRUbaLH0QIPG"
      },
      "execution_count": 25,
      "outputs": []
    },
    {
      "cell_type": "code",
      "source": [
        "space_input_ids = temp[0][\"space\"]\n",
        "space_input_ids"
      ],
      "metadata": {
        "colab": {
          "base_uri": "https://localhost:8080/"
        },
        "id": "2RaEEadURSM0",
        "outputId": "baded651-d9c2-4fe9-83a6-2d7564f52fe0"
      },
      "execution_count": 26,
      "outputs": [
        {
          "output_type": "execute_result",
          "data": {
            "text/plain": [
              "<tf.Tensor: shape=(32, 300), dtype=int32, numpy=\n",
              "array([[  0,   1,   2, ..., 297, 298, 299],\n",
              "       [  0,   1,   2, ..., 297, 298, 299],\n",
              "       [  0,   1,   2, ..., 297, 298, 299],\n",
              "       ...,\n",
              "       [  0,   1,   2, ..., 297, 298, 299],\n",
              "       [  0,   1,   2, ..., 297, 298, 299],\n",
              "       [  0,   1,   2, ..., 297, 298, 299]], dtype=int32)>"
            ]
          },
          "metadata": {},
          "execution_count": 26
        }
      ]
    },
    {
      "cell_type": "code",
      "source": [
        "x = layers.Embedding(name = \"positive_embedding\",\n",
        "                                   input_dim = PROJECTION_DIM, \n",
        "                                   output_dim=VECTOR_DIM, \n",
        "                                   embeddings_initializer=tf.random_uniform_initializer(minval=-1., maxval=1.), \n",
        "                                   input_length = PROJECTION_DIM , \n",
        "                                   trainable=True, \n",
        "                                   mask_zero=False)\n",
        "x = x(space_input_ids)\n",
        "# x will now be embeddings tensor of shape (32,300,768)\n",
        "# we want to take cosine similarity of these 300 embeddings with 128 embeddings of a sentence from our dataset\n",
        "# also for each of the 32 sentences, these 300 embeddings will be IDENTICAL since input ids are same {1..299}\n",
        "# we call x \"positive embedding\" in our model\n",
        " "
      ],
      "metadata": {
        "id": "urr_657gRm_B"
      },
      "execution_count": 27,
      "outputs": []
    },
    {
      "cell_type": "code",
      "source": [
        "x = layers.Permute((2, 1), input_shape=(PROJECTION_DIM, VECTOR_DIM))(x)\n",
        "x.shape"
      ],
      "metadata": {
        "colab": {
          "base_uri": "https://localhost:8080/"
        },
        "id": "tz-QlyuWR-dS",
        "outputId": "f0a241a7-4a22-482e-e49e-66c613731622"
      },
      "execution_count": 28,
      "outputs": [
        {
          "output_type": "execute_result",
          "data": {
            "text/plain": [
              "TensorShape([32, 768, 300])"
            ]
          },
          "metadata": {},
          "execution_count": 28
        }
      ]
    },
    {
      "cell_type": "code",
      "source": [
        "# now we want to take cosine similarities of temp_embeddings(32,128,768) with the positive embedding transposed (32,768,300)\n",
        "# we defined a cosine similarity function manually to handle this operation using a lambda layer"
      ],
      "metadata": {
        "id": "TLbF9E7KUtCi"
      },
      "execution_count": 32,
      "outputs": []
    },
    {
      "cell_type": "code",
      "source": [
        "cosine_sim_Positive = layers.Lambda(function=cosine_similarity_projected, \n",
        "                      name='cosine_positive')([temp_embeddings, x])   # (32,128,300)"
      ],
      "metadata": {
        "id": "1QTjQOgvSYIt"
      },
      "execution_count": 33,
      "outputs": []
    },
    {
      "cell_type": "code",
      "source": [
        "cosine_sim_Positive.shape"
      ],
      "metadata": {
        "colab": {
          "base_uri": "https://localhost:8080/"
        },
        "id": "8fPe7FRCVuEP",
        "outputId": "ee15648d-fa00-46c5-e7ca-81724198565f"
      },
      "execution_count": 34,
      "outputs": [
        {
          "output_type": "execute_result",
          "data": {
            "text/plain": [
              "TensorShape([32, 128, 300])"
            ]
          },
          "metadata": {},
          "execution_count": 34
        }
      ]
    },
    {
      "cell_type": "code",
      "source": [
        "temp_iids[2]"
      ],
      "metadata": {
        "colab": {
          "base_uri": "https://localhost:8080/"
        },
        "id": "NJuuYU6gbv-_",
        "outputId": "0c2aa428-c45a-4ba8-e040-d7669b42e7ab"
      },
      "execution_count": 35,
      "outputs": [
        {
          "output_type": "execute_result",
          "data": {
            "text/plain": [
              "<tf.Tensor: shape=(128,), dtype=int32, numpy=\n",
              "array([  101,  2023,  3185,  4076,  1999,  1996,  3162,  1997,  1996,\n",
              "       21834,  2005,  2019,  2035,  2732,  2329,  3459,  1999,  1037,\n",
              "        2091, 15950,  9643,  3185,  3532,  1039,  5856,  3896,  3532,\n",
              "        9260,  3532,  3257,  1037,  3459,  2008,  1045,  3246,  2020,\n",
              "        2092,  3825,  2004,  2023,  2097,  2022,  1037, 13774,  1999,\n",
              "        2116,  1037, 10922, 13123, 19892,  7987, 12829,  4946,  2099,\n",
              "        2323,  3726,  2123,  7228,  2010,  6606, 24405,  2320,  2062,\n",
              "        2908,  2041,  2007,  1037,  4756,  2012,  2560, 19892,  7987,\n",
              "        2009,  2001,  2066,  1037,  3391,  2146,  4567,  2041,  2792,\n",
              "        1997, 12723,  3702,  2021,  2302,  1996,  3409,  8275,  3010,\n",
              "        3460,  3062,  4886,  2102,  2018,  1996,  2168, 15241,  6918,\n",
              "        2189,  2295, 18870,  2135,  5567,  1999,  1037, 15784,  3535,\n",
              "        2000,  6943,  2039,  2070,  6980, 19892,  7987,  2821,  1996,\n",
              "        8438,   102,     0,     0,     0,     0,     0,     0,     0,\n",
              "           0,     0], dtype=int32)>"
            ]
          },
          "metadata": {},
          "execution_count": 35
        }
      ]
    },
    {
      "cell_type": "code",
      "source": [
        "temp_iids"
      ],
      "metadata": {
        "colab": {
          "base_uri": "https://localhost:8080/"
        },
        "id": "JrOsz55wEUgZ",
        "outputId": "6a6e7852-5420-4e44-c61c-a538f476028f"
      },
      "execution_count": 36,
      "outputs": [
        {
          "output_type": "execute_result",
          "data": {
            "text/plain": [
              "<tf.Tensor: shape=(32, 128), dtype=int32, numpy=\n",
              "array([[  101,  1999,  1996, ...,  2035,  2023,   102],\n",
              "       [  101,  1037,  4038, ..., 10294,  5846,   102],\n",
              "       [  101,  2023,  3185, ...,     0,     0,     0],\n",
              "       ...,\n",
              "       [  101,  6677, 28014, ...,  2121,  7515,   102],\n",
              "       [  101,  2023,  3185, ...,  1997,  7842,   102],\n",
              "       [  101,  2004,  1045, ...,     0,     0,     0]], dtype=int32)>"
            ]
          },
          "metadata": {},
          "execution_count": 36
        }
      ]
    },
    {
      "cell_type": "code",
      "source": [
        "# now update the cosine similarities of [CLS], [PAD] and [SEP] vectors to ZERO\n",
        "# first(0) and last(127) token's embedding of each sentence should have zero cosine similarity with each of 300 tokens in projection space\n",
        "remove_padsV2()([cosine_sim_Positive, temp_iids])[13][-1]       # 13th sentence, 0th token"
      ],
      "metadata": {
        "colab": {
          "base_uri": "https://localhost:8080/"
        },
        "id": "V2-hsKoKUd2b",
        "outputId": "e8eb356e-c914-4ab8-85a2-fb60640ef8b7"
      },
      "execution_count": 37,
      "outputs": [
        {
          "output_type": "execute_result",
          "data": {
            "text/plain": [
              "<tf.Tensor: shape=(300,), dtype=float32, numpy=\n",
              "array([ 0., -0.,  0.,  0.,  0.,  0.,  0., -0.,  0., -0., -0., -0., -0.,\n",
              "       -0., -0., -0.,  0., -0.,  0.,  0.,  0.,  0., -0.,  0.,  0.,  0.,\n",
              "        0., -0., -0., -0.,  0.,  0., -0.,  0.,  0.,  0.,  0., -0., -0.,\n",
              "        0., -0., -0.,  0., -0., -0., -0.,  0., -0.,  0.,  0., -0., -0.,\n",
              "       -0.,  0., -0., -0.,  0., -0., -0., -0., -0., -0.,  0., -0., -0.,\n",
              "        0.,  0., -0.,  0.,  0., -0., -0., -0.,  0., -0., -0.,  0.,  0.,\n",
              "       -0.,  0.,  0.,  0.,  0.,  0.,  0.,  0.,  0.,  0., -0.,  0., -0.,\n",
              "        0., -0.,  0.,  0.,  0., -0., -0., -0.,  0., -0.,  0.,  0.,  0.,\n",
              "        0., -0., -0., -0.,  0., -0.,  0.,  0., -0., -0.,  0.,  0.,  0.,\n",
              "       -0.,  0.,  0.,  0.,  0.,  0., -0.,  0., -0., -0., -0.,  0.,  0.,\n",
              "        0.,  0., -0., -0.,  0.,  0.,  0., -0.,  0.,  0.,  0., -0.,  0.,\n",
              "       -0.,  0., -0., -0., -0.,  0., -0.,  0.,  0., -0., -0.,  0.,  0.,\n",
              "        0.,  0., -0.,  0.,  0., -0.,  0., -0.,  0., -0., -0., -0., -0.,\n",
              "       -0.,  0.,  0., -0.,  0., -0., -0.,  0., -0., -0., -0., -0., -0.,\n",
              "        0.,  0., -0., -0., -0., -0., -0., -0., -0.,  0.,  0., -0., -0.,\n",
              "       -0.,  0.,  0., -0.,  0., -0.,  0.,  0.,  0.,  0.,  0., -0.,  0.,\n",
              "        0., -0., -0., -0., -0.,  0., -0., -0.,  0.,  0., -0., -0.,  0.,\n",
              "       -0.,  0., -0.,  0., -0.,  0., -0.,  0., -0., -0., -0.,  0.,  0.,\n",
              "        0.,  0., -0., -0.,  0.,  0., -0.,  0., -0., -0., -0., -0., -0.,\n",
              "       -0.,  0.,  0., -0., -0., -0., -0.,  0.,  0., -0., -0., -0., -0.,\n",
              "        0., -0.,  0.,  0., -0., -0., -0.,  0., -0.,  0.,  0., -0., -0.,\n",
              "       -0., -0.,  0.,  0.,  0., -0.,  0.,  0.,  0.,  0.,  0.,  0.,  0.,\n",
              "       -0.,  0.,  0., -0., -0.,  0., -0., -0.,  0.,  0., -0.,  0.,  0.,\n",
              "        0.], dtype=float32)>"
            ]
          },
          "metadata": {},
          "execution_count": 37
        }
      ]
    },
    {
      "cell_type": "code",
      "source": [
        "remove_padsV2()([cosine_sim_Positive, temp_iids]).shape"
      ],
      "metadata": {
        "colab": {
          "base_uri": "https://localhost:8080/"
        },
        "id": "o6N0_VzjS-Rj",
        "outputId": "e5ea1cbf-77ee-4fee-fb52-6675a1a3137d"
      },
      "execution_count": 38,
      "outputs": [
        {
          "output_type": "execute_result",
          "data": {
            "text/plain": [
              "TensorShape([32, 128, 300])"
            ]
          },
          "metadata": {},
          "execution_count": 38
        }
      ]
    },
    {
      "cell_type": "code",
      "source": [
        "tokensZerod = tf.where(tf.equal(temp_iids,101) | tf.equal(temp_iids,102),0,temp_iids)"
      ],
      "metadata": {
        "id": "K1yPEd2dEWla"
      },
      "execution_count": 39,
      "outputs": []
    },
    {
      "cell_type": "code",
      "source": [
        "masking_layer = layers.Embedding(input_dim = 35000, output_dim = 16, mask_zero = True)"
      ],
      "metadata": {
        "id": "Pfe-72hZ-NL0"
      },
      "execution_count": 40,
      "outputs": []
    },
    {
      "cell_type": "code",
      "source": [
        "temp_masks = masking_layer.compute_mask(tokensZerod)"
      ],
      "metadata": {
        "id": "rh827nxYFrGS"
      },
      "execution_count": 41,
      "outputs": []
    },
    {
      "cell_type": "code",
      "source": [
        "temp_masks = tf.cast(temp_masks,tf.float32)"
      ],
      "metadata": {
        "id": "xa2tO0XLGnC5"
      },
      "execution_count": 42,
      "outputs": []
    },
    {
      "cell_type": "code",
      "source": [
        "temp_masks = tf.expand_dims(temp_masks,axis=-1)"
      ],
      "metadata": {
        "id": "omM1wRClKgR_"
      },
      "execution_count": 43,
      "outputs": []
    },
    {
      "cell_type": "code",
      "source": [
        "temp_masks"
      ],
      "metadata": {
        "colab": {
          "base_uri": "https://localhost:8080/"
        },
        "id": "OuhZH3VeTSbg",
        "outputId": "1ef8ee3d-24ee-4d1b-9e47-850e69144e19"
      },
      "execution_count": 44,
      "outputs": [
        {
          "output_type": "execute_result",
          "data": {
            "text/plain": [
              "<tf.Tensor: shape=(32, 128, 1), dtype=float32, numpy=\n",
              "array([[[0.],\n",
              "        [1.],\n",
              "        [1.],\n",
              "        ...,\n",
              "        [1.],\n",
              "        [1.],\n",
              "        [0.]],\n",
              "\n",
              "       [[0.],\n",
              "        [1.],\n",
              "        [1.],\n",
              "        ...,\n",
              "        [1.],\n",
              "        [1.],\n",
              "        [0.]],\n",
              "\n",
              "       [[0.],\n",
              "        [1.],\n",
              "        [1.],\n",
              "        ...,\n",
              "        [0.],\n",
              "        [0.],\n",
              "        [0.]],\n",
              "\n",
              "       ...,\n",
              "\n",
              "       [[0.],\n",
              "        [1.],\n",
              "        [1.],\n",
              "        ...,\n",
              "        [1.],\n",
              "        [1.],\n",
              "        [0.]],\n",
              "\n",
              "       [[0.],\n",
              "        [1.],\n",
              "        [1.],\n",
              "        ...,\n",
              "        [1.],\n",
              "        [1.],\n",
              "        [0.]],\n",
              "\n",
              "       [[0.],\n",
              "        [1.],\n",
              "        [1.],\n",
              "        ...,\n",
              "        [0.],\n",
              "        [0.],\n",
              "        [0.]]], dtype=float32)>"
            ]
          },
          "metadata": {},
          "execution_count": 44
        }
      ]
    },
    {
      "cell_type": "code",
      "source": [
        "maskedSimilarities = tf.multiply(cosine_sim_Positive, temp_masks)"
      ],
      "metadata": {
        "id": "cBDyXAt9G7Ok"
      },
      "execution_count": 45,
      "outputs": []
    },
    {
      "cell_type": "code",
      "source": [
        "maskedSimilarities.shape     # it should be the output of remove_padsV2 layer"
      ],
      "metadata": {
        "colab": {
          "base_uri": "https://localhost:8080/"
        },
        "id": "-AVhgpCtKss0",
        "outputId": "49a4d81e-04e8-4dd0-ab0e-a18bede4b1f3"
      },
      "execution_count": 46,
      "outputs": [
        {
          "output_type": "execute_result",
          "data": {
            "text/plain": [
              "TensorShape([32, 128, 300])"
            ]
          },
          "metadata": {},
          "execution_count": 46
        }
      ]
    },
    {
      "cell_type": "code",
      "source": [
        "maskedSimilarities[2]  # 3rd sentence"
      ],
      "metadata": {
        "colab": {
          "base_uri": "https://localhost:8080/"
        },
        "id": "f0nZagRrTpxm",
        "outputId": "69566022-fc67-402f-ee53-4867b5c8633d"
      },
      "execution_count": 47,
      "outputs": [
        {
          "output_type": "execute_result",
          "data": {
            "text/plain": [
              "<tf.Tensor: shape=(128, 300), dtype=float32, numpy=\n",
              "array([[ 0.0000000e+00, -0.0000000e+00,  0.0000000e+00, ...,\n",
              "        -0.0000000e+00,  0.0000000e+00, -0.0000000e+00],\n",
              "       [ 4.7151562e-02,  2.6714013e-05,  2.7474608e-02, ...,\n",
              "         6.7676619e-02,  4.2231656e-03,  2.3051014e-02],\n",
              "       [ 3.6819156e-02, -3.1738762e-02,  5.5642895e-02, ...,\n",
              "         3.6211878e-02,  4.6735842e-02, -3.7118081e-02],\n",
              "       ...,\n",
              "       [ 0.0000000e+00, -0.0000000e+00,  0.0000000e+00, ...,\n",
              "        -0.0000000e+00,  0.0000000e+00, -0.0000000e+00],\n",
              "       [ 0.0000000e+00, -0.0000000e+00,  0.0000000e+00, ...,\n",
              "        -0.0000000e+00,  0.0000000e+00, -0.0000000e+00],\n",
              "       [ 0.0000000e+00, -0.0000000e+00,  0.0000000e+00, ...,\n",
              "        -0.0000000e+00,  0.0000000e+00, -0.0000000e+00]], dtype=float32)>"
            ]
          },
          "metadata": {},
          "execution_count": 47
        }
      ]
    },
    {
      "cell_type": "code",
      "source": [
        "a = tf.constant([[[1,2,3]],[[4,5,6]]])\n",
        "b = tf.constant([[[2]],[[3]]])\n",
        "tf.divide(a,b)"
      ],
      "metadata": {
        "colab": {
          "base_uri": "https://localhost:8080/"
        },
        "id": "fSfgDYDLa0n_",
        "outputId": "09a97341-1c86-4e77-b048-ca0f921df19e"
      },
      "execution_count": 48,
      "outputs": [
        {
          "output_type": "execute_result",
          "data": {
            "text/plain": [
              "<tf.Tensor: shape=(2, 1, 3), dtype=float64, numpy=\n",
              "array([[[0.5       , 1.        , 1.5       ]],\n",
              "\n",
              "       [[1.33333333, 1.66666667, 2.        ]]])>"
            ]
          },
          "metadata": {},
          "execution_count": 48
        }
      ]
    },
    {
      "cell_type": "code",
      "source": [
        "tokensZerod"
      ],
      "metadata": {
        "colab": {
          "base_uri": "https://localhost:8080/"
        },
        "id": "d_M7Ug9LUu7G",
        "outputId": "b9cd263a-8bd8-4310-a69f-bed6bb668d11"
      },
      "execution_count": 49,
      "outputs": [
        {
          "output_type": "execute_result",
          "data": {
            "text/plain": [
              "<tf.Tensor: shape=(32, 128), dtype=int32, numpy=\n",
              "array([[    0,  1999,  1996, ...,  2035,  2023,     0],\n",
              "       [    0,  1037,  4038, ..., 10294,  5846,     0],\n",
              "       [    0,  2023,  3185, ...,     0,     0,     0],\n",
              "       ...,\n",
              "       [    0,  6677, 28014, ...,  2121,  7515,     0],\n",
              "       [    0,  2023,  3185, ...,  1997,  7842,     0],\n",
              "       [    0,  2004,  1045, ...,     0,     0,     0]], dtype=int32)>"
            ]
          },
          "metadata": {},
          "execution_count": 49
        }
      ]
    },
    {
      "cell_type": "code",
      "source": [
        "tf.math.count_nonzero(tokensZerod, axis=1)"
      ],
      "metadata": {
        "colab": {
          "base_uri": "https://localhost:8080/"
        },
        "id": "cMXCX2ZqUVqb",
        "outputId": "a4538d0c-0f94-44e5-9913-a9de00ed726e"
      },
      "execution_count": 50,
      "outputs": [
        {
          "output_type": "execute_result",
          "data": {
            "text/plain": [
              "<tf.Tensor: shape=(32,), dtype=int64, numpy=\n",
              "array([126, 126, 117, 126, 126, 126, 126, 126, 126, 126, 126, 126,  87,\n",
              "        74, 126, 126, 126, 107, 126, 126, 126, 126, 126,  53, 126, 126,\n",
              "        96, 126, 126, 126, 126, 105])>"
            ]
          },
          "metadata": {},
          "execution_count": 50
        }
      ]
    },
    {
      "cell_type": "code",
      "source": [
        "# count number of non zero rows in maskedSimilarites\n",
        "# how --> take sum along the third axis, which are 300 cosine similarites of each of the 128 tokens\n",
        "# if all those similarites are zeros, then the sum will be reduced to zero\n",
        "# still, retain the dimension for futher computation\n",
        "length = tf.math.count_nonzero(tf.math.reduce_sum(maskedSimilarities, axis=2,keepdims=True), axis=1, keepdims=True, dtype = tf.float32)\n",
        "length\n",
        "\n",
        "# it should ideally be identical to tf.math.count_nonzero(tokensZerod, axis=1)"
      ],
      "metadata": {
        "colab": {
          "base_uri": "https://localhost:8080/"
        },
        "id": "47t6byP1YdFb",
        "outputId": "55c5f255-6ca0-440c-933e-a0cc071effbf"
      },
      "execution_count": 51,
      "outputs": [
        {
          "output_type": "execute_result",
          "data": {
            "text/plain": [
              "<tf.Tensor: shape=(32, 1, 1), dtype=float32, numpy=\n",
              "array([[[126.]],\n",
              "\n",
              "       [[126.]],\n",
              "\n",
              "       [[117.]],\n",
              "\n",
              "       [[126.]],\n",
              "\n",
              "       [[126.]],\n",
              "\n",
              "       [[126.]],\n",
              "\n",
              "       [[126.]],\n",
              "\n",
              "       [[126.]],\n",
              "\n",
              "       [[126.]],\n",
              "\n",
              "       [[126.]],\n",
              "\n",
              "       [[126.]],\n",
              "\n",
              "       [[126.]],\n",
              "\n",
              "       [[ 87.]],\n",
              "\n",
              "       [[ 74.]],\n",
              "\n",
              "       [[126.]],\n",
              "\n",
              "       [[126.]],\n",
              "\n",
              "       [[126.]],\n",
              "\n",
              "       [[107.]],\n",
              "\n",
              "       [[126.]],\n",
              "\n",
              "       [[126.]],\n",
              "\n",
              "       [[126.]],\n",
              "\n",
              "       [[126.]],\n",
              "\n",
              "       [[126.]],\n",
              "\n",
              "       [[ 53.]],\n",
              "\n",
              "       [[126.]],\n",
              "\n",
              "       [[126.]],\n",
              "\n",
              "       [[ 96.]],\n",
              "\n",
              "       [[126.]],\n",
              "\n",
              "       [[126.]],\n",
              "\n",
              "       [[126.]],\n",
              "\n",
              "       [[126.]],\n",
              "\n",
              "       [[105.]]], dtype=float32)>"
            ]
          },
          "metadata": {},
          "execution_count": 51
        }
      ]
    },
    {
      "cell_type": "code",
      "source": [
        "temp_masks = masking_layer.compute_mask(temp_iids)"
      ],
      "metadata": {
        "id": "EEM2tLJb-eYW"
      },
      "execution_count": 52,
      "outputs": []
    },
    {
      "cell_type": "code",
      "source": [
        "# masks are being computed right\n",
        "temp_masks = tf.cast(temp_masks, tf.float32)"
      ],
      "metadata": {
        "id": "KmrpOX3J-sfn"
      },
      "execution_count": 53,
      "outputs": []
    },
    {
      "cell_type": "code",
      "source": [
        "-8.92650187e-02 / 126"
      ],
      "metadata": {
        "colab": {
          "base_uri": "https://localhost:8080/"
        },
        "id": "M17MmayFOHXe",
        "outputId": "471f6232-3e8a-4fa4-ea6c-81237944a0e7"
      },
      "execution_count": 54,
      "outputs": [
        {
          "output_type": "execute_result",
          "data": {
            "text/plain": [
              "-0.0007084525293650794"
            ]
          },
          "metadata": {},
          "execution_count": 54
        }
      ]
    },
    {
      "cell_type": "code",
      "source": [
        "maskedSimilarities.shape"
      ],
      "metadata": {
        "colab": {
          "base_uri": "https://localhost:8080/"
        },
        "id": "4badUM43NsH9",
        "outputId": "66491908-dc5d-4c44-cb5e-43d0c1c32963"
      },
      "execution_count": 55,
      "outputs": [
        {
          "output_type": "execute_result",
          "data": {
            "text/plain": [
              "TensorShape([32, 128, 300])"
            ]
          },
          "metadata": {},
          "execution_count": 55
        }
      ]
    },
    {
      "cell_type": "code",
      "source": [
        "tf.math.reduce_sum(maskedSimilarities, axis = 1, keepdims=True)"
      ],
      "metadata": {
        "colab": {
          "base_uri": "https://localhost:8080/"
        },
        "id": "4oSC3J6LfqNf",
        "outputId": "8d5837fa-4fa0-466c-9281-fa234923284b"
      },
      "execution_count": 56,
      "outputs": [
        {
          "output_type": "execute_result",
          "data": {
            "text/plain": [
              "<tf.Tensor: shape=(32, 1, 300), dtype=float32, numpy=\n",
              "array([[[ 1.6082245e+00, -2.7990963e+00,  1.4814855e+00, ...,\n",
              "         -1.0152058e-01,  6.4606094e-01, -7.3166937e-04]],\n",
              "\n",
              "       [[ 2.5497396e+00, -9.9858433e-01,  1.0547057e+00, ...,\n",
              "          8.3426249e-01,  1.5994912e+00, -8.0551225e-01]],\n",
              "\n",
              "       [[ 3.1264396e+00, -9.4534677e-01,  2.7649124e+00, ...,\n",
              "          4.1108221e-01,  6.8218803e-01,  5.8777136e-01]],\n",
              "\n",
              "       ...,\n",
              "\n",
              "       [[ 3.8997493e+00, -1.4940039e+00,  1.6734692e+00, ...,\n",
              "          2.7651560e+00,  7.7111739e-01,  9.0662652e-01]],\n",
              "\n",
              "       [[ 1.9109577e+00, -7.0657301e-01,  2.0998018e+00, ...,\n",
              "          3.3330061e+00,  2.7980776e+00,  1.8652966e+00]],\n",
              "\n",
              "       [[ 2.5964110e+00, -1.2536980e+00,  9.5523018e-01, ...,\n",
              "          2.3417432e+00,  1.7659192e+00, -3.7240869e-01]]], dtype=float32)>"
            ]
          },
          "metadata": {},
          "execution_count": 56
        }
      ]
    },
    {
      "cell_type": "code",
      "source": [
        "averageMaskedSimilarities = tf.divide(tf.math.reduce_sum(maskedSimilarities, axis = 1, keepdims=True), length)"
      ],
      "metadata": {
        "id": "AjgU-3sARl09"
      },
      "execution_count": 57,
      "outputs": []
    },
    {
      "cell_type": "code",
      "source": [
        "averageMaskedSimilarities"
      ],
      "metadata": {
        "colab": {
          "base_uri": "https://localhost:8080/"
        },
        "id": "Wr310Zq0V1Kh",
        "outputId": "d97cdbe8-824d-4739-9436-cc19257bf46f"
      },
      "execution_count": 58,
      "outputs": [
        {
          "output_type": "execute_result",
          "data": {
            "text/plain": [
              "<tf.Tensor: shape=(32, 1, 300), dtype=float32, numpy=\n",
              "array([[[ 1.27636865e-02, -2.22150497e-02,  1.17578218e-02, ...,\n",
              "         -8.05718941e-04,  5.12746768e-03, -5.80689994e-06]],\n",
              "\n",
              "       [[ 2.02360284e-02, -7.92527292e-03,  8.37068073e-03, ...,\n",
              "          6.62113074e-03,  1.26943747e-02, -6.39295438e-03]],\n",
              "\n",
              "       [[ 2.67217066e-02, -8.07988737e-03,  2.36317292e-02, ...,\n",
              "          3.51352314e-03,  5.83066698e-03,  5.02368668e-03]],\n",
              "\n",
              "       ...,\n",
              "\n",
              "       [[ 3.09503917e-02, -1.18571734e-02,  1.32815018e-02, ...,\n",
              "          2.19456833e-02,  6.11997908e-03,  7.19544850e-03]],\n",
              "\n",
              "       [[ 1.51663311e-02, -5.60772233e-03,  1.66650936e-02, ...,\n",
              "          2.64524296e-02,  2.22069658e-02,  1.48039414e-02]],\n",
              "\n",
              "       [[ 2.47277245e-02, -1.19399810e-02,  9.09742992e-03, ...,\n",
              "          2.23023165e-02,  1.68182775e-02, -3.54674947e-03]]],\n",
              "      dtype=float32)>"
            ]
          },
          "metadata": {},
          "execution_count": 58
        }
      ]
    },
    {
      "cell_type": "code",
      "source": [
        "# finally we can just concatenate and return the vectors from both positive_cosine and negative_cosine vectors"
      ],
      "metadata": {
        "id": "0V_thSNLN970"
      },
      "execution_count": 59,
      "outputs": []
    },
    {
      "cell_type": "code",
      "source": [
        "# HOW TO REPLACE A VALUE WITHIN A TENSOR BY INDICES OR BY VALUE\n",
        "# https://stackoverflow.com/questions/42883415/how-to-replace-a-value-within-a-tensor-by-indices?noredirect=1&lq=1\n",
        "\n",
        "# import tensorflow as tf\n",
        "\n",
        "# x = tf.constant([[4.0, 43.0, 45.0],\n",
        "#                  [2.0, 22.0, 6664.0],\n",
        "#                  [-4543.0, 0.0, 43.0]])\n",
        "# value = 45.0\n",
        "# indices = [1, 1]\n",
        "\n",
        "# by_indices = tf.tensor_scatter_nd_update(x, [indices], [value])\n",
        "# tf.print('Using indices\\n', by_indices, '\\n')\n",
        "\n",
        "# by_value = tf.where(tf.equal(x, 22.0), value, x)\n",
        "# tf.print('Using value\\n', by_value)"
      ],
      "metadata": {
        "id": "65v1_nEUIT0I"
      },
      "execution_count": 61,
      "outputs": []
    },
    {
      "cell_type": "code",
      "source": [
        "a = np.array([[[1,2,3]],[[5,2,8]]])\n",
        "b = np.array([[[8]],[[8]]])\n",
        "a * b"
      ],
      "metadata": {
        "colab": {
          "base_uri": "https://localhost:8080/"
        },
        "id": "r1iQesmDjBP2",
        "outputId": "39e329d5-5863-4c26-d5d8-9fe7fc12ed1b"
      },
      "execution_count": 62,
      "outputs": [
        {
          "output_type": "execute_result",
          "data": {
            "text/plain": [
              "array([[[ 8, 16, 24]],\n",
              "\n",
              "       [[40, 16, 64]]])"
            ]
          },
          "metadata": {},
          "execution_count": 62
        }
      ]
    },
    {
      "cell_type": "code",
      "source": [
        "# DEBUGGING remove_pads layer\n",
        "class remove_pads(tf.keras.layers.Layer):\n",
        "\n",
        "  def __init__(self,**kwargs):\n",
        "\n",
        "    super(remove_pads,self).__init__(**kwargs)\n",
        "    self.mask_generator = layers.Embedding(input_dim = 35000,output_dim = 32, mask_zero=True)  # bert has vocabulary of 30522 words\n",
        "\n",
        "  \n",
        "  \n",
        "  def call(self,listInputs):   # inputs(None,128,300)  input_ids(None,64)  [101, 234 , 43545, ..  0, 0, 0, ]\n",
        "\n",
        "    inputs = listInputs[0]\n",
        "    # print(\"inputs\",inputs)\n",
        "    input_ids = listInputs[1]\n",
        "    # print(\"input_ids\",input_ids)\n",
        "    masks = self.mask_generator.compute_mask(input_ids)     # (None,64) [1,1, ... 0, 0]\n",
        "    masks = tf.cast(masks,tf.float32)\n",
        "    masks = masks.numpy()\n",
        "    # print(tf.math.reduce_sum(masks,axis=1))\n",
        "    masks[:,0] = 0    # look for tf implementation\n",
        "    print(masks.shape)\n",
        "    # print(tf.math.reduce_sum(masks,axis=1))\n",
        "    # now for each token we want correspoding 1 or 0 in same dimension\n",
        "\n",
        "    masks = tf.expand_dims(masks,axis=-1)    # (None,64,1)\n",
        "    print(masks.shape)\n",
        "    # temp = tf.unstack(masks,axis=1)\n",
        "    # del temp[0]\n",
        "    # temp.insert(0,tf.zeros_like(temp[0]))\n",
        "    # print(temp)\n",
        "    # masks = tf.stack(temp,axis=1)\n",
        "    # length = tf.math.reduce_sum(masks,axis = 1, keepdims=True)     # (None,1,1)\n",
        "    # print(length)\n",
        "\n",
        "    # # mask the embeddings corresponding to zero input id ==0\n",
        "    masked_embeddings = inputs * masks    # (None,128,300) * (None,128) = (None,64,300) -- Cosine similarites with CLS and PAD tokens will be zero\n",
        "    print(masked_embeddings)\n",
        "    # # take SUM, (not mean)\n",
        "    # masked_embeddings = tf.math.reduce_sum(masked_embeddings, axis = 1, keepdims=True)   # (None,1,501)\n",
        "    # # now just divide each by the length to get mean of non zero embeddings\n",
        "    # masked_embeddings = masked_embeddings / length    # -- now masked embeddings represents average cosine similarity of input \n",
        "    #                                                   #    sentence with each token of projection space\n",
        "\n",
        "    # return masked_embeddings"
      ],
      "metadata": {
        "id": "Cu4JH0Fbb7su"
      },
      "execution_count": 63,
      "outputs": []
    },
    {
      "cell_type": "code",
      "source": [
        "# this layer converts cosine similarites corresponding to [CLS], [PAD], and [SEP] tokens to ZERO\n",
        "# USE THIS FUNCTION NOW!\n",
        "class remove_padsV2(tf.keras.layers.Layer):\n",
        "\n",
        "  def __init__(self,**kwargs):\n",
        "\n",
        "    super(remove_padsV2,self).__init__(**kwargs)\n",
        "    self.mask_generator = layers.Embedding(input_dim = 35000,output_dim = 32, mask_zero=True)  # bert has vocabulary of 30522 words\n",
        "\n",
        "  \n",
        "  \n",
        "  def call(self,listInputs):   # inputs(None,64,300)  input_ids(None,64)  [101, 234 , 43545, ..  0, 0, 0, ]\n",
        "\n",
        "    inputs = listInputs[0]\n",
        "    input_ids = listInputs[1]\n",
        "    # convert token ids 101 and 102 to 0\n",
        "    filteredInputIds = tf.where(tf.equal(input_ids,101) | tf.equal(input_ids,102),0,input_ids)\n",
        "    masks = self.mask_generator.compute_mask(filteredInputIds)     # (None,64) [0,1, ... 0, 0]\n",
        "    masks = tf.cast(masks,tf.float32)\n",
        "    masks = tf.expand_dims(masks,axis=-1)    # (None,64,1)\n",
        "\n",
        "    # mask the embeddings corresponding to zero input id ==0\n",
        "    masked_embeddings = inputs * masks    # (None,64,300) * (None,64,1) = (None,64,300) -- Cosine similarites with CLS and PAD tokens will be zero\n",
        "\n",
        "    # masked_embeddings = tf.math.reduce_sum(masked_embeddings, axis = 1, keepdims=True)   # (None,1,501)\n",
        "\n",
        "\n",
        "    return masked_embeddings"
      ],
      "metadata": {
        "id": "zK8wwsblIyrc"
      },
      "execution_count": 64,
      "outputs": []
    },
    {
      "cell_type": "markdown",
      "source": [
        "## AUXILIARY FUNCTIONS"
      ],
      "metadata": {
        "id": "kigUaefzTmKG"
      }
    },
    {
      "cell_type": "code",
      "execution_count": 23,
      "metadata": {
        "id": "jJv-biSGw0_S"
      },
      "outputs": [],
      "source": [
        "# Auxiliaries\n",
        "\n",
        "# import tensorflow.compat.v1 as tf\n",
        "# from keras import layers\n",
        "# import numpy as np\n",
        "# import matplotlib.pyplot as plt\n",
        "\n",
        "def return_embedding_index(x_train,count):\n",
        "  \n",
        "  embedding_index=np.array([i for i in range(count)])\n",
        "  # embeding_index=np.array([[0,1,2]])\n",
        "  embeding_index=np.ravel(embedding_index) # flattens the array\n",
        "\n",
        "  rank = len(x_train.shape)\n",
        "  if rank < 3:\n",
        "    embedding_index = np.tile(embedding_index,(x_train[0:1].shape[0],1,))    # embeddings equalling number of examples\n",
        "  else:\n",
        "    embedding_index = np.tile(embedding_index,(x_train.shape[0],1,))\n",
        "\n",
        "  return embedding_index\n",
        "\n",
        "def cosine_similarity_projected(vects):\n",
        "  # print(\"COSINE-SIMILARITY\")\n",
        "  x,w=vects                                  # so we pass two tensors here (None,64,768) and (None,768,501)    # in both cases, None is same, i.e no of examples in input dataset\n",
        "                                                                                                               # None = 1000 in our case\n",
        "  dp = tf.matmul(x, w)    # cosine similarities of each token in a sentence with all tokens of projection space\n",
        "                          # (None,64,768).(None,768,501) --> (None,64,501)\n",
        "  \n",
        "  x_mag = tf.norm(x, axis=2, keepdims = True)   # made a change here\n",
        "\n",
        "  w_mag = tf.norm(w,axis = 1, keepdims = True)\n",
        "\n",
        "  denominator = dp / x_mag\n",
        "  cosine = denominator / w_mag\n",
        "\n",
        "  return cosine\n",
        "\n",
        "\n",
        "def compare_cosine(vector):\n",
        "\n",
        "  peace,violent=vector     # peace = (None,64,501) ; violent = (None,64,501)   --> these vectors are exactly identical during first phase.\n",
        "\n",
        "  peace=tf.math.reduce_mean(peace, axis=1)       # it represents, on average,how similar is each word of the projection space, with the complete input sentence , --> (None,501) \n",
        "  violent=tf.math.reduce_mean(violent, axis=1)   # 501 represents the 501 similarities of the projection space with the input sentence, same thing for second projection space\n",
        "  out=tf.concat([peace,violent],axis=-1)       \n",
        "  print(\"COMPARE-COSINE\")\n",
        "  print('out.shape')\n",
        "  print(out.shape)    # should be (None, 1002)\n",
        "\n",
        "  # out= out.reshape[-1,1]\n",
        "\n",
        "  return out   \n",
        "\n",
        "class remove_pads(tf.keras.layers.Layer):\n",
        "\n",
        "  def __init__(self,**kwargs):\n",
        "\n",
        "    super(remove_pads,self).__init__(**kwargs)\n",
        "    self.mask_generator = layers.Embedding(input_dim = 35000,output_dim = 32, mask_zero=True)  # bert has vocabulary of 30522 words\n",
        "\n",
        "  \n",
        "  \n",
        "  def call(self,listInputs):   # inputs(None,64,300)  input_ids(None,64)  [101, 234 , 43545, ..  0, 0, 0, ]\n",
        "\n",
        "    inputs = listInputs[0]\n",
        "    input_ids = listInputs[1]\n",
        "    masks = self.mask_generator.compute_mask(input_ids)     # (None,64) [0,1, ... 0, 0]\n",
        "    masks = tf.cast(masks,tf.float32)\n",
        "    # now for each token we want correspoding 1 or 0 in same dimension\n",
        "    masks = tf.expand_dims(masks,axis=-1)    # (None,64,1)\n",
        "    temp = tf.unstack(masks,axis=1)\n",
        "    del temp[0]\n",
        "    temp.insert(0,tf.zeros_like(temp[0]))\n",
        "    masks = tf.stack(temp,axis=1)\n",
        "    length = tf.math.reduce_sum(masks,axis = 1, keepdims=True)     # (None,1,1)\n",
        "    # mask the embeddings corresponding to zero input id ==0\n",
        "    masked_embeddings = inputs * masks    # (None,64,300) * (None,64,1) = (None,64,300) -- Cosine similarites with CLS and PAD tokens will be zero\n",
        "    # take SUM, (not mean)\n",
        "    masked_embeddings = tf.math.reduce_sum(masked_embeddings, axis = 1, keepdims=True)   # (None,1,501)\n",
        "    # now just divide each by the length to get mean of non zero embeddings\n",
        "    masked_embeddings = masked_embeddings / length    # -- now masked embeddings represents average cosine similarity of input \n",
        "                                                      #    sentence with each token of projection space\n",
        "\n",
        "    return masked_embeddings\n",
        "\n",
        "class remove_padsV2(tf.keras.layers.Layer):\n",
        "\n",
        "  def __init__(self,**kwargs):\n",
        "\n",
        "    super(remove_padsV2,self).__init__(**kwargs)\n",
        "    self.mask_generator = layers.Embedding(input_dim = 35000,output_dim = 32, mask_zero=True)  # bert has vocabulary of 30522 words\n",
        "\n",
        "  \n",
        "  \n",
        "  def call(self,listInputs):   # inputs(None,64,300)  input_ids(None,64)  [101, 234 , 43545, ..  0, 0, 0, ]\n",
        "\n",
        "    inputs = listInputs[0]\n",
        "    input_ids = listInputs[1]\n",
        "    # convert token ids 101 and 102 to 0\n",
        "    filteredInputIds = tf.where(tf.equal(input_ids,101) | tf.equal(input_ids,102),0,input_ids)\n",
        "    masks = self.mask_generator.compute_mask(filteredInputIds)     # (None,64) [0,1, ... 0, 0]\n",
        "    masks = tf.cast(masks,tf.float32)\n",
        "    masks = tf.expand_dims(masks,axis=-1)    # (None,64,1)\n",
        "\n",
        "    # mask the embeddings corresponding to zero input id ==0\n",
        "    masked_embeddings = inputs * masks    # (None,64,300) * (None,64,1) = (None,64,300) -- Cosine similarites with CLS and PAD tokens will be zero\n",
        "\n",
        "    # masked_embeddings = tf.math.reduce_sum(masked_embeddings, axis = 1, keepdims=True)   # (None,1,501)\n",
        "\n",
        "\n",
        "    return masked_embeddings\n",
        "\n",
        "def merge_function(vects):\n",
        "\n",
        "  positive, negative = vects[0], vects[1]    # each cosine similarity vector is (None,MAX_LENGTH,PROJECTION_DIM) i.e (None,128,300)\n",
        "  # of these 128 vectors, those corresponding to tokens [cls, pad, sep] are 0\n",
        "  # we sum them up and then divide with number of non-zeros to get average cosine similarities\n",
        "  # get length of non zero rows in both cosine similarity vectors\n",
        "  positiveLength = tf.math.count_nonzero(tf.math.reduce_sum(positive, axis=2,keepdims=True), axis=1, keepdims=True,dtype = tf.float32)   # (None,1,1)\n",
        "  negativeLength = tf.math.count_nonzero(tf.math.reduce_sum(negative, axis=2,keepdims=True), axis=1, keepdims=True,dtype = tf.float32)\n",
        "\n",
        "  # now obtain average of cosine similarities\n",
        "  positive = tf.math.reduce_sum(positive,axis=1, keepdims=True)    # (None,1,300)\n",
        "  positiveAverage = tf.divide(positive, positiveLength)\n",
        "\n",
        "  negative = tf.math.reduce_sum(negative,axis=1, keepdims=True)    # (None,1,300)\n",
        "  negativeAverage = tf.divide(negative, negativeLength)\n",
        "\n",
        "\n",
        "    \n",
        "  # input_shape = (None,1,Projection_DIM)\n",
        "  res = tf.concat([positiveAverage,negativeAverage], axis = -1)                  # (None,1,600)\n",
        "\n",
        "  return res"
      ]
    },
    {
      "cell_type": "code",
      "execution_count": 24,
      "metadata": {
        "colab": {
          "base_uri": "https://localhost:8080/"
        },
        "id": "TEa-j__zxIfH",
        "outputId": "978b61f5-1319-459a-9913-c269c6c70eed"
      },
      "outputs": [
        {
          "output_type": "execute_result",
          "data": {
            "text/plain": [
              "(12, 4)"
            ]
          },
          "metadata": {},
          "execution_count": 24
        }
      ],
      "source": [
        "# sanity check\n",
        "return_embedding_index(np.ones(shape=(12,64,768)),4).shape\n",
        "\n",
        "# Although this function is not required anymore"
      ]
    },
    {
      "cell_type": "markdown",
      "source": [
        "## MODEL ARCHITECTURE"
      ],
      "metadata": {
        "id": "PBtqqh4lbUFy"
      }
    },
    {
      "cell_type": "code",
      "execution_count": 25,
      "metadata": {
        "id": "A-tUkKCa2wST"
      },
      "outputs": [],
      "source": [
        "\n",
        "# Model Debugging - Rahul\n",
        "DEBUG = \"DEBUG\"\n",
        "\n",
        "# for input we have\n",
        "# 1. input ids\n",
        "# 2. attention_masks\n",
        "# 3. embedding_index (projection_dim)\n",
        "\n",
        "# 4. label (second part of tuple) \n",
        "\n",
        "# parameters\n",
        "# BATCH_SIZE = 64\n",
        "# PROJECTION_DIM = 300\n",
        "# MAX_LENGTH = 128\n",
        "# VECTOR_DIM = 768\n",
        "\n",
        "# first two will go to bert as input\n",
        "ids = layers.Input(shape = (MAX_LENGTH,), dtype = tf.int32, name = \"input_ids\")\n",
        "mks = layers.Input(shape = (MAX_LENGTH,), dtype = tf.int32, name = \"attention_masks\")\n",
        "projection_space = layers.Input(name = \"space\", shape = (PROJECTION_DIM,))\n",
        "# pad_ids = layers.Input(shape = (MAX_LENGTH,), dtype = tf.int32, name = \"pad_ids\")\n",
        "\n",
        "input_sentence = bertModel(ids, attention_mask = mks)[0]   # bertModel layers freezed, last_hidden_state_output\n",
        "\n",
        "\n",
        "positive_embedding_layer =  layers.Embedding(name = \"positive_embedding\",\n",
        "                                   input_dim = PROJECTION_DIM, \n",
        "                                   output_dim=VECTOR_DIM, \n",
        "                                   embeddings_initializer=tf.random_uniform_initializer(minval=-1., maxval=1.), \n",
        "                                   input_length = PROJECTION_DIM , \n",
        "                                   trainable=True, \n",
        "                                   mask_zero=True)\n",
        "\n",
        "\n",
        "negative_embedding_layer =  layers.Embedding(name = \"negative_embedding\",\n",
        "                                   input_dim=PROJECTION_DIM, \n",
        "                                   output_dim=VECTOR_DIM, \n",
        "                                   embeddings_initializer=tf.random_uniform_initializer(minval=-1., maxval=1.), \n",
        "                                   input_length = PROJECTION_DIM , \n",
        "                                   trainable=True, \n",
        "                                   mask_zero=True)\n",
        "\n",
        "\n",
        "# embeddings for projection space\n",
        "positive_embedding_np = positive_embedding_layer(projection_space) #np.array([0, 1, 2, 3, 4 , ... 500]) input_dim = 501       # (None,501,768)\n",
        "negative_embedding_np = negative_embedding_layer(projection_space) #np.array([0, 1, 2])                                       # (None,501,768)\n",
        "\n",
        "#Permute\n",
        "positive_embedding= layers.Permute((2, 1), input_shape=(PROJECTION_DIM, VECTOR_DIM))(positive_embedding_np)           # (None,768, 501)\n",
        "negative_embedding= layers.Permute((2, 1), input_shape=(PROJECTION_DIM, VECTOR_DIM))(negative_embedding_np)           # (None,768, 501)\n",
        "\n",
        "'''\n",
        "1. cosine_similary\n",
        "if you find PAD then just appen -math.INF to the array of cosine\n",
        "find the cosine between each word and its average projection\n",
        "it should a list of cosine\n",
        "'''\n",
        "\n",
        "positive_cosine = layers.Lambda(function=cosine_similarity_projected, \n",
        "                      name='cosine_positive')([input_sentence, positive_embedding])     # (None,64,501)\n",
        "\n",
        "# input sentence is = len of sentence* 768\n",
        "# positive embedding=  64*768\n",
        "\n",
        "negative_cosine = layers.Lambda(function=cosine_similarity_projected, \n",
        "                         name='cosine_negative')([input_sentence, negative_embedding])   # (None,64,501)\n",
        "              \n",
        "\n",
        "\n",
        "# remove paddings from cosines from both layers\n",
        "\n",
        "positive_cosine = remove_padsV2(name=\"remove_cls_pad_positive\")([positive_cosine, ids])   # (None,64,501)\n",
        "negative_cosine = remove_padsV2(name=\"remove_cls_pad_negative\")([negative_cosine, ids])   # (None,64,501) -- average CosineSim of each sentence with all tokens in proj space\n",
        "\n",
        "\n",
        "# negative embedding = 64*768\n",
        "'''\n",
        "2. compare_cosine\n",
        "if you find -math.INF then do not count it\n",
        "return average cosines from two space\n",
        "'''\n",
        "# averaged and merged\n",
        "merged = layers.Lambda(function=merge_function, \n",
        "                name='AverageMergeAndCompare')([positive_cosine, negative_cosine])  # (None,1,1002)    # !these values are not really identical beacause both embedding layers had different random weights\n",
        "\n",
        "# Use variable_compare_cosine(vector, length) in regards sentence\n",
        "merged = layers.Flatten(data_format = \"channels_first\")(merged)             # \"compare\" layer has no weights of its own\n",
        "\n",
        "hidden = layers.Dense(256, activation='relu', name = \"hidden-1\", kernel_constraint=MaxNorm(3),\n",
        "               kernel_initializer = \"he_normal\")(merged)                                  # output = (None,1,256)\n",
        "\n",
        "hidden = layers.Dropout(0.25, name=\"drop-1\")(hidden)\n",
        "hidden = layers.Dense(64, activation='relu', name = \"hidden-2\", kernel_constraint=MaxNorm(3),\n",
        "               kernel_initializer = \"he_normal\")(hidden)\n",
        "hidden = layers.Dropout(0.25, name=\"drop-2\")(hidden)\n",
        "hidden = layers.Dense(16, activation='relu', name = \"hidden-3\", kernel_constraint=MaxNorm(3),\n",
        "               kernel_initializer= \"he_normal\")(hidden)\n",
        "hidden = layers.Dropout(0.25, name=\"drop-3\")(hidden)\n",
        "\n",
        "\n",
        "predictions = layers.Dense(1, activation= \"sigmoid\" , name='classification_layer')(hidden)            # (None,1,1)      \n",
        "\n",
        "model = Model(inputs=[ids, mks, projection_space],outputs= predictions)"
      ]
    },
    {
      "cell_type": "code",
      "source": [
        "model.summary()"
      ],
      "metadata": {
        "colab": {
          "base_uri": "https://localhost:8080/"
        },
        "id": "RGZtAEwlcbxa",
        "outputId": "ada024df-e028-4d3e-920a-2ce2057419b4"
      },
      "execution_count": 26,
      "outputs": [
        {
          "output_type": "stream",
          "name": "stdout",
          "text": [
            "Model: \"model\"\n",
            "__________________________________________________________________________________________________\n",
            " Layer (type)                   Output Shape         Param #     Connected to                     \n",
            "==================================================================================================\n",
            " space (InputLayer)             [(None, 300)]        0           []                               \n",
            "                                                                                                  \n",
            " input_ids (InputLayer)         [(None, 128)]        0           []                               \n",
            "                                                                                                  \n",
            " attention_masks (InputLayer)   [(None, 128)]        0           []                               \n",
            "                                                                                                  \n",
            " positive_embedding (Embedding)  (None, 300, 768)    230400      ['space[0][0]']                  \n",
            "                                                                                                  \n",
            " negative_embedding (Embedding)  (None, 300, 768)    230400      ['space[0][0]']                  \n",
            "                                                                                                  \n",
            " tf_bert_model (TFBertModel)    TFBaseModelOutputWi  109482240   ['input_ids[0][0]',              \n",
            "                                thPoolingAndCrossAt               'attention_masks[0][0]']        \n",
            "                                tentions(last_hidde                                               \n",
            "                                n_state=(None, 128,                                               \n",
            "                                 768),                                                            \n",
            "                                 pooler_output=(Non                                               \n",
            "                                e, 768),                                                          \n",
            "                                 past_key_values=No                                               \n",
            "                                ne, hidden_states=N                                               \n",
            "                                one, attentions=Non                                               \n",
            "                                e, cross_attentions                                               \n",
            "                                =None)                                                            \n",
            "                                                                                                  \n",
            " permute (Permute)              (None, 768, 300)     0           ['positive_embedding[0][0]']     \n",
            "                                                                                                  \n",
            " permute_1 (Permute)            (None, 768, 300)     0           ['negative_embedding[0][0]']     \n",
            "                                                                                                  \n",
            " cosine_positive (Lambda)       (None, 128, 300)     0           ['tf_bert_model[0][0]',          \n",
            "                                                                  'permute[0][0]']                \n",
            "                                                                                                  \n",
            " cosine_negative (Lambda)       (None, 128, 300)     0           ['tf_bert_model[0][0]',          \n",
            "                                                                  'permute_1[0][0]']              \n",
            "                                                                                                  \n",
            " remove_cls_pad_positive (remov  (None, 128, 300)    0           ['cosine_positive[0][0]',        \n",
            " e_padsV2)                                                        'input_ids[0][0]']              \n",
            "                                                                                                  \n",
            " remove_cls_pad_negative (remov  (None, 128, 300)    0           ['cosine_negative[0][0]',        \n",
            " e_padsV2)                                                        'input_ids[0][0]']              \n",
            "                                                                                                  \n",
            " AverageMergeAndCompare (Lambda  (None, 1, 600)      0           ['remove_cls_pad_positive[0][0]',\n",
            " )                                                                'remove_cls_pad_negative[0][0]']\n",
            "                                                                                                  \n",
            " flatten (Flatten)              (None, 600)          0           ['AverageMergeAndCompare[0][0]'] \n",
            "                                                                                                  \n",
            " hidden-1 (Dense)               (None, 256)          153856      ['flatten[0][0]']                \n",
            "                                                                                                  \n",
            " drop-1 (Dropout)               (None, 256)          0           ['hidden-1[0][0]']               \n",
            "                                                                                                  \n",
            " hidden-2 (Dense)               (None, 64)           16448       ['drop-1[0][0]']                 \n",
            "                                                                                                  \n",
            " drop-2 (Dropout)               (None, 64)           0           ['hidden-2[0][0]']               \n",
            "                                                                                                  \n",
            " hidden-3 (Dense)               (None, 16)           1040        ['drop-2[0][0]']                 \n",
            "                                                                                                  \n",
            " drop-3 (Dropout)               (None, 16)           0           ['hidden-3[0][0]']               \n",
            "                                                                                                  \n",
            " classification_layer (Dense)   (None, 1)            17          ['drop-3[0][0]']                 \n",
            "                                                                                                  \n",
            "==================================================================================================\n",
            "Total params: 110,114,401\n",
            "Trainable params: 632,161\n",
            "Non-trainable params: 109,482,240\n",
            "__________________________________________________________________________________________________\n"
          ]
        }
      ]
    },
    {
      "cell_type": "code",
      "source": [
        "from keras.utils import plot_model\n",
        "tf.keras.utils.plot_model(model,to_file = \"/content/sample_data/something.png\")"
      ],
      "metadata": {
        "colab": {
          "base_uri": "https://localhost:8080/",
          "height": 1000
        },
        "id": "xMUGhq99cfUm",
        "outputId": "3cb2d748-0b4c-44c4-f4de-01fe596ef288"
      },
      "execution_count": 27,
      "outputs": [
        {
          "output_type": "execute_result",
          "data": {
            "image/png": "[encoded data removed]",
            "text/plain": [
              "<IPython.core.display.Image object>"
            ]
          },
          "metadata": {},
          "execution_count": 27
        }
      ]
    },
    {
      "cell_type": "markdown",
      "source": [
        "## Model Training"
      ],
      "metadata": {
        "id": "pMy4t2KSiIzJ"
      }
    },
    {
      "cell_type": "code",
      "execution_count": 28,
      "metadata": {
        "id": "F2xwDI426PAO"
      },
      "outputs": [],
      "source": [
        "# loss functions\n",
        "\n",
        "# subtract this loss to decrease cosine similarity\n",
        "# space_loss = tf.keras.losses.CosineSimilarity()(positive_embedding_np, negative_embedding_np)\n",
        "\n",
        "# model.add_loss(-1*space_loss)\n",
        "\n",
        "projection_loss = tf.keras.losses.CosineSimilarity()(tf.math.reduce_mean(positive_cosine, axis=1), tf.math.reduce_mean(negative_cosine, axis=1))\n",
        "model.add_loss((1.0/(1.01 + projection_loss)))"
      ]
    },
    {
      "cell_type": "code",
      "execution_count": 29,
      "metadata": {
        "id": "BzlDlnaR7nwh"
      },
      "outputs": [],
      "source": [
        "# cross entropy loss\n",
        "crossEntropLoss = tf.keras.losses.BinaryCrossentropy(from_logits = False)\n",
        "\n",
        "optimizer = tf.keras.optimizers.Adam(learning_rate = 1e-3)\n",
        "\n",
        "model.compile(loss = crossEntropLoss , optimizer = optimizer, metrics=[\"accuracy\"])"
      ]
    },
    {
      "cell_type": "code",
      "execution_count": 30,
      "metadata": {
        "colab": {
          "base_uri": "https://localhost:8080/"
        },
        "id": "GxgqZav88z6N",
        "outputId": "7cac3ecb-9c9c-4b40-ae87-baf52c973b8b"
      },
      "outputs": [
        {
          "output_type": "execute_result",
          "data": {
            "text/plain": [
              "1093"
            ]
          },
          "metadata": {},
          "execution_count": 30
        }
      ],
      "source": [
        "len(train_gen) // BATCH_SIZE"
      ]
    },
    {
      "cell_type": "code",
      "execution_count": 73,
      "metadata": {
        "id": "CmL8xYGKl6QS"
      },
      "outputs": [],
      "source": [
        "# callbacks\n",
        "\n",
        "BASE_PATH = \"/gdrive/Shareddrives/Thesis/\"\n",
        "# modelcheckpoint = tf.keras.callbacks.ModelCheckpoint(\n",
        "#     filepath= BASE_PATH + \"imdb_bestWeights.h5\",\n",
        "#     monitor = \"val_loss\",\n",
        "#     verbose = 1,\n",
        "#     save_best_only = True,\n",
        "#     save_weights_only = True,\n",
        "#     mode = \"auto\",\n",
        "# )\n",
        "\n",
        "# earlystopping = tf.keras.callbacks.EarlyStopping(\n",
        "#     monitor=\"val_loss\",\n",
        "#     min_delta=0,\n",
        "#     patience=5,\n",
        "#     verbose=1,\n",
        "#     mode=\"auto\",\n",
        "#     restore_best_weights=True)"
      ]
    },
    {
      "cell_type": "code",
      "execution_count": null,
      "metadata": {
        "id": "jgXNL30V8Isl"
      },
      "outputs": [],
      "source": [
        "EPOCHS = 1\n",
        "history = model.fit(\n",
        "    train_ds,\n",
        "    steps_per_epoch = len(train_gen) // BATCH_SIZE,\n",
        "    validation_data = val_ds,\n",
        "    epochs = EPOCHS,\n",
        "    # callbacks = [modelcheckpoint,earlystopping]\n",
        ")"
      ]
    },
    {
      "cell_type": "code",
      "execution_count": null,
      "metadata": {
        "id": "WWWXuWk9oCWM"
      },
      "outputs": [],
      "source": [
        "# save model history\n",
        "with open(f\"{BASE_PATH}/imdb_training_history.pkl\",\"wb\") as hist:\n",
        "  pickle.dump(history.history,hist)"
      ]
    },
    {
      "cell_type": "code",
      "source": [
        "# prepare test data for evaluation:\n",
        "test_gen   = dataset(test_df[\"review\"].values,test_df[\"sentiment\"].values,max_length = MAX_LENGTH, tokenizer = tokenizer, projection_dim=PROJECTION_DIM, val = True)\n",
        "test_ds = tf.data.Dataset.from_generator(test_gen,\n",
        "                                            output_signature = \n",
        "                                           ({\"input_ids\" : tf.TensorSpec(shape = (MAX_LENGTH,), dtype = tf.int32 ),\"attention_masks\":tf.TensorSpec(shape = (MAX_LENGTH,), dtype = tf.int32),\"space\":tf.TensorSpec(shape = (PROJECTION_DIM,), dtype = tf.int32)},\n",
        "                                            tf.TensorSpec(shape = (), dtype = (tf.float32)))).batch(BATCH_SIZE)"
      ],
      "metadata": {
        "id": "e9RDYfqzLhPE"
      },
      "execution_count": 31,
      "outputs": []
    },
    {
      "cell_type": "code",
      "source": [
        "test_df"
      ],
      "metadata": {
        "colab": {
          "base_uri": "https://localhost:8080/",
          "height": 424
        },
        "id": "C1wHWqLVOdX5",
        "outputId": "18bd9a16-1202-4b55-90d2-0d6ea1702ad8"
      },
      "execution_count": 32,
      "outputs": [
        {
          "output_type": "execute_result",
          "data": {
            "text/plain": [
              "                                                 review  sentiment\n",
              "0     with a little dressing up this movie could be ...        0.0\n",
              "1     i just want to comment to the woman above that...        1.0\n",
              "2     ever since i first encountered the divine ms m...        1.0\n",
              "3     first off im an american i havent seen any com...        1.0\n",
              "4     soap opera about a small town married woman ka...        1.0\n",
              "...                                                 ...        ...\n",
              "7495  dont waste your time one of those coollooking ...        0.0\n",
              "7496  robin williams does his best to combine comedy...        1.0\n",
              "7497  when you see the cover of the dvd youre convin...        1.0\n",
              "7498  heart pounding erotic drama are the words that...        1.0\n",
              "7499  film noir is an overused expression when it co...        1.0\n",
              "\n",
              "[7500 rows x 2 columns]"
            ],
            "text/html": [
              "\n",
              "  <div id=\"df-3aedb227-e60d-4305-bb6e-9ae2ee837550\">\n",
              "    <div class=\"colab-df-container\">\n",
              "      <div>\n",
              "<style scoped>\n",
              "    .dataframe tbody tr th:only-of-type {\n",
              "        vertical-align: middle;\n",
              "    }\n",
              "\n",
              "    .dataframe tbody tr th {\n",
              "        vertical-align: top;\n",
              "    }\n",
              "\n",
              "    .dataframe thead th {\n",
              "        text-align: right;\n",
              "    }\n",
              "</style>\n",
              "<table border=\"1\" class=\"dataframe\">\n",
              "  <thead>\n",
              "    <tr style=\"text-align: right;\">\n",
              "      <th></th>\n",
              "      <th>review</th>\n",
              "      <th>sentiment</th>\n",
              "    </tr>\n",
              "  </thead>\n",
              "  <tbody>\n",
              "    <tr>\n",
              "      <th>0</th>\n",
              "      <td>with a little dressing up this movie could be ...</td>\n",
              "      <td>0.0</td>\n",
              "    </tr>\n",
              "    <tr>\n",
              "      <th>1</th>\n",
              "      <td>i just want to comment to the woman above that...</td>\n",
              "      <td>1.0</td>\n",
              "    </tr>\n",
              "    <tr>\n",
              "      <th>2</th>\n",
              "      <td>ever since i first encountered the divine ms m...</td>\n",
              "      <td>1.0</td>\n",
              "    </tr>\n",
              "    <tr>\n",
              "      <th>3</th>\n",
              "      <td>first off im an american i havent seen any com...</td>\n",
              "      <td>1.0</td>\n",
              "    </tr>\n",
              "    <tr>\n",
              "      <th>4</th>\n",
              "      <td>soap opera about a small town married woman ka...</td>\n",
              "      <td>1.0</td>\n",
              "    </tr>\n",
              "    <tr>\n",
              "      <th>...</th>\n",
              "      <td>...</td>\n",
              "      <td>...</td>\n",
              "    </tr>\n",
              "    <tr>\n",
              "      <th>7495</th>\n",
              "      <td>dont waste your time one of those coollooking ...</td>\n",
              "      <td>0.0</td>\n",
              "    </tr>\n",
              "    <tr>\n",
              "      <th>7496</th>\n",
              "      <td>robin williams does his best to combine comedy...</td>\n",
              "      <td>1.0</td>\n",
              "    </tr>\n",
              "    <tr>\n",
              "      <th>7497</th>\n",
              "      <td>when you see the cover of the dvd youre convin...</td>\n",
              "      <td>1.0</td>\n",
              "    </tr>\n",
              "    <tr>\n",
              "      <th>7498</th>\n",
              "      <td>heart pounding erotic drama are the words that...</td>\n",
              "      <td>1.0</td>\n",
              "    </tr>\n",
              "    <tr>\n",
              "      <th>7499</th>\n",
              "      <td>film noir is an overused expression when it co...</td>\n",
              "      <td>1.0</td>\n",
              "    </tr>\n",
              "  </tbody>\n",
              "</table>\n",
              "<p>7500 rows × 2 columns</p>\n",
              "</div>\n",
              "      <button class=\"colab-df-convert\" onclick=\"convertToInteractive('df-3aedb227-e60d-4305-bb6e-9ae2ee837550')\"\n",
              "              title=\"Convert this dataframe to an interactive table.\"\n",
              "              style=\"display:none;\">\n",
              "        \n",
              "  <svg xmlns=\"http://www.w3.org/2000/svg\" height=\"24px\"viewBox=\"0 0 24 24\"\n",
              "       width=\"24px\">\n",
              "    <path d=\"M0 0h24v24H0V0z\" fill=\"none\"/>\n",
              "    <path d=\"M18.56 5.44l.94 2.06.94-2.06 2.06-.94-2.06-.94-.94-2.06-.94 2.06-2.06.94zm-11 1L8.5 8.5l.94-2.06 2.06-.94-2.06-.94L8.5 2.5l-.94 2.06-2.06.94zm10 10l.94 2.06.94-2.06 2.06-.94-2.06-.94-.94-2.06-.94 2.06-2.06.94z\"/><path d=\"M17.41 7.96l-1.37-1.37c-.4-.4-.92-.59-1.43-.59-.52 0-1.04.2-1.43.59L10.3 9.45l-7.72 7.72c-.78.78-.78 2.05 0 2.83L4 21.41c.39.39.9.59 1.41.59.51 0 1.02-.2 1.41-.59l7.78-7.78 2.81-2.81c.8-.78.8-2.07 0-2.86zM5.41 20L4 18.59l7.72-7.72 1.47 1.35L5.41 20z\"/>\n",
              "  </svg>\n",
              "      </button>\n",
              "      \n",
              "  <style>\n",
              "    .colab-df-container {\n",
              "      display:flex;\n",
              "      flex-wrap:wrap;\n",
              "      gap: 12px;\n",
              "    }\n",
              "\n",
              "    .colab-df-convert {\n",
              "      background-color: #E8F0FE;\n",
              "      border: none;\n",
              "      border-radius: 50%;\n",
              "      cursor: pointer;\n",
              "      display: none;\n",
              "      fill: #1967D2;\n",
              "      height: 32px;\n",
              "      padding: 0 0 0 0;\n",
              "      width: 32px;\n",
              "    }\n",
              "\n",
              "    .colab-df-convert:hover {\n",
              "      background-color: #E2EBFA;\n",
              "      box-shadow: 0px 1px 2px rgba(60, 64, 67, 0.3), 0px 1px 3px 1px rgba(60, 64, 67, 0.15);\n",
              "      fill: #174EA6;\n",
              "    }\n",
              "\n",
              "    [theme=dark] .colab-df-convert {\n",
              "      background-color: #3B4455;\n",
              "      fill: #D2E3FC;\n",
              "    }\n",
              "\n",
              "    [theme=dark] .colab-df-convert:hover {\n",
              "      background-color: #434B5C;\n",
              "      box-shadow: 0px 1px 3px 1px rgba(0, 0, 0, 0.15);\n",
              "      filter: drop-shadow(0px 1px 2px rgba(0, 0, 0, 0.3));\n",
              "      fill: #FFFFFF;\n",
              "    }\n",
              "  </style>\n",
              "\n",
              "      <script>\n",
              "        const buttonEl =\n",
              "          document.querySelector('#df-3aedb227-e60d-4305-bb6e-9ae2ee837550 button.colab-df-convert');\n",
              "        buttonEl.style.display =\n",
              "          google.colab.kernel.accessAllowed ? 'block' : 'none';\n",
              "\n",
              "        async function convertToInteractive(key) {\n",
              "          const element = document.querySelector('#df-3aedb227-e60d-4305-bb6e-9ae2ee837550');\n",
              "          const dataTable =\n",
              "            await google.colab.kernel.invokeFunction('convertToInteractive',\n",
              "                                                     [key], {});\n",
              "          if (!dataTable) return;\n",
              "\n",
              "          const docLinkHtml = 'Like what you see? Visit the ' +\n",
              "            '<a target=\"_blank\" href=https://colab.research.google.com/notebooks/data_table.ipynb>data table notebook</a>'\n",
              "            + ' to learn more about interactive tables.';\n",
              "          element.innerHTML = '';\n",
              "          dataTable['output_type'] = 'display_data';\n",
              "          await google.colab.output.renderOutput(dataTable, element);\n",
              "          const docLink = document.createElement('div');\n",
              "          docLink.innerHTML = docLinkHtml;\n",
              "          element.appendChild(docLink);\n",
              "        }\n",
              "      </script>\n",
              "    </div>\n",
              "  </div>\n",
              "  "
            ]
          },
          "metadata": {},
          "execution_count": 32
        }
      ]
    },
    {
      "cell_type": "code",
      "source": [
        "# get performance metrics\n",
        "predictions = model.predict(test_ds)"
      ],
      "metadata": {
        "colab": {
          "base_uri": "https://localhost:8080/"
        },
        "id": "pr74ysiHN1cA",
        "outputId": "bd2b25b5-3c71-4d1e-bb41-494da95386d8"
      },
      "execution_count": 33,
      "outputs": [
        {
          "output_type": "stream",
          "name": "stdout",
          "text": [
            "235/235 [==============================] - 72s 287ms/step\n"
          ]
        }
      ]
    },
    {
      "cell_type": "code",
      "source": [
        "def predictionLabels(i):\n",
        "\n",
        "  if i < 0.5:\n",
        "    return 0.0\n",
        "  else:\n",
        "    return 1.0\n",
        "\n",
        "getLabels = np.vectorize(predictionLabels)"
      ],
      "metadata": {
        "id": "eXAPHAN-PUMc"
      },
      "execution_count": 34,
      "outputs": []
    },
    {
      "cell_type": "code",
      "source": [
        "predictedLabels = getLabels(predictions)\n",
        "predictedLabels.shape"
      ],
      "metadata": {
        "id": "wuWeJKK7QO4w",
        "colab": {
          "base_uri": "https://localhost:8080/"
        },
        "outputId": "f44bbc9b-3d49-438c-f3cd-ecb905c9db94"
      },
      "execution_count": 35,
      "outputs": [
        {
          "output_type": "execute_result",
          "data": {
            "text/plain": [
              "(7500, 1)"
            ]
          },
          "metadata": {},
          "execution_count": 35
        }
      ]
    },
    {
      "cell_type": "code",
      "source": [
        "from sklearn.metrics import confusion_matrix, ConfusionMatrixDisplay, classification_report\n",
        "\n",
        "confusion_matrix(test_df.sentiment.values, predictedLabels)\n",
        "ConfusionMatrixDisplay.from_predictions(test_df.sentiment.values, predictedLabels)"
      ],
      "metadata": {
        "colab": {
          "base_uri": "https://localhost:8080/",
          "height": 299
        },
        "id": "ukBTUzO1QVj0",
        "outputId": "2346a253-455a-4a19-fe59-64461203f96d"
      },
      "execution_count": 36,
      "outputs": [
        {
          "output_type": "execute_result",
          "data": {
            "text/plain": [
              "<sklearn.metrics._plot.confusion_matrix.ConfusionMatrixDisplay at 0x7fdbf17dbc10>"
            ]
          },
          "metadata": {},
          "execution_count": 36
        },
        {
          "output_type": "display_data",
          "data": {
            "text/plain": [
              "<Figure size 432x288 with 2 Axes>"
            ],
            "image/png": "[encoded data removed]"
          },
          "metadata": {
            "needs_background": "light"
          }
        }
      ]
    },
    {
      "cell_type": "code",
      "source": [
        "print(classification_report(test_df.sentiment.values, predictedLabels))"
      ],
      "metadata": {
        "colab": {
          "base_uri": "https://localhost:8080/"
        },
        "id": "DKUqHxqtS-VN",
        "outputId": "1f04704a-8688-4ed4-ef09-3cf2b83c701a"
      },
      "execution_count": 37,
      "outputs": [
        {
          "output_type": "stream",
          "name": "stdout",
          "text": [
            "              precision    recall  f1-score   support\n",
            "\n",
            "         0.0       0.40      0.19      0.26      3750\n",
            "         1.0       0.47      0.71      0.57      3750\n",
            "\n",
            "    accuracy                           0.45      7500\n",
            "   macro avg       0.44      0.45      0.41      7500\n",
            "weighted avg       0.44      0.45      0.41      7500\n",
            "\n"
          ]
        }
      ]
    },
    {
      "cell_type": "markdown",
      "source": [
        "## Model Interpretability Using LINE"
      ],
      "metadata": {
        "id": "Tr_ycIMdLWq1"
      }
    },
    {
      "cell_type": "code",
      "source": [
        "# ..."
      ],
      "metadata": {
        "id": "PVUQczH7LQTH"
      },
      "execution_count": 38,
      "outputs": []
    },
    {
      "cell_type": "markdown",
      "metadata": {
        "id": "7duseDZHVwau"
      },
      "source": [
        "## Model interpretability Using Dynamic Projections"
      ]
    },
    {
      "cell_type": "code",
      "execution_count": 39,
      "metadata": {
        "id": "l_B4E819ST5m"
      },
      "outputs": [],
      "source": [
        "# SETUP:\n",
        "# take a sentence, get 64 tokens, choose tokens that have maximum cosine similarity score\n",
        "# from already trained model\n",
        "# take such words from both classes \n",
        "# plot them on a tsne plot\n",
        "# [PAD] and [CLS] should not be a problem since they'll result in 0 cosine similarity (already take care in remove_pads)"
      ]
    },
    {
      "cell_type": "code",
      "source": [
        "neg_reviews = test_df.loc[test_df.sentiment == 0.0].reset_index(drop=True)\n",
        "pos_reviews = test_df.loc[test_df.sentiment == 1.0].reset_index(drop=True)"
      ],
      "metadata": {
        "id": "Dtc-8J7-T0np"
      },
      "execution_count": 40,
      "outputs": []
    },
    {
      "cell_type": "code",
      "source": [
        "pos_reviews"
      ],
      "metadata": {
        "colab": {
          "base_uri": "https://localhost:8080/",
          "height": 424
        },
        "id": "T7Lsblq7T4XJ",
        "outputId": "965a09c9-2050-493a-bd5d-05b9144b78de"
      },
      "execution_count": 41,
      "outputs": [
        {
          "output_type": "execute_result",
          "data": {
            "text/plain": [
              "                                                 review  sentiment\n",
              "0     i just want to comment to the woman above that...        1.0\n",
              "1     ever since i first encountered the divine ms m...        1.0\n",
              "2     first off im an american i havent seen any com...        1.0\n",
              "3     soap opera about a small town married woman ka...        1.0\n",
              "4     ive heard a lot of different opinions about th...        1.0\n",
              "...                                                 ...        ...\n",
              "3745  i second the motion to make this into a movie ...        1.0\n",
              "3746  robin williams does his best to combine comedy...        1.0\n",
              "3747  when you see the cover of the dvd youre convin...        1.0\n",
              "3748  heart pounding erotic drama are the words that...        1.0\n",
              "3749  film noir is an overused expression when it co...        1.0\n",
              "\n",
              "[3750 rows x 2 columns]"
            ],
            "text/html": [
              "\n",
              "  <div id=\"df-daf40ba5-962c-4279-9fdf-9e09ad580c38\">\n",
              "    <div class=\"colab-df-container\">\n",
              "      <div>\n",
              "<style scoped>\n",
              "    .dataframe tbody tr th:only-of-type {\n",
              "        vertical-align: middle;\n",
              "    }\n",
              "\n",
              "    .dataframe tbody tr th {\n",
              "        vertical-align: top;\n",
              "    }\n",
              "\n",
              "    .dataframe thead th {\n",
              "        text-align: right;\n",
              "    }\n",
              "</style>\n",
              "<table border=\"1\" class=\"dataframe\">\n",
              "  <thead>\n",
              "    <tr style=\"text-align: right;\">\n",
              "      <th></th>\n",
              "      <th>review</th>\n",
              "      <th>sentiment</th>\n",
              "    </tr>\n",
              "  </thead>\n",
              "  <tbody>\n",
              "    <tr>\n",
              "      <th>0</th>\n",
              "      <td>i just want to comment to the woman above that...</td>\n",
              "      <td>1.0</td>\n",
              "    </tr>\n",
              "    <tr>\n",
              "      <th>1</th>\n",
              "      <td>ever since i first encountered the divine ms m...</td>\n",
              "      <td>1.0</td>\n",
              "    </tr>\n",
              "    <tr>\n",
              "      <th>2</th>\n",
              "      <td>first off im an american i havent seen any com...</td>\n",
              "      <td>1.0</td>\n",
              "    </tr>\n",
              "    <tr>\n",
              "      <th>3</th>\n",
              "      <td>soap opera about a small town married woman ka...</td>\n",
              "      <td>1.0</td>\n",
              "    </tr>\n",
              "    <tr>\n",
              "      <th>4</th>\n",
              "      <td>ive heard a lot of different opinions about th...</td>\n",
              "      <td>1.0</td>\n",
              "    </tr>\n",
              "    <tr>\n",
              "      <th>...</th>\n",
              "      <td>...</td>\n",
              "      <td>...</td>\n",
              "    </tr>\n",
              "    <tr>\n",
              "      <th>3745</th>\n",
              "      <td>i second the motion to make this into a movie ...</td>\n",
              "      <td>1.0</td>\n",
              "    </tr>\n",
              "    <tr>\n",
              "      <th>3746</th>\n",
              "      <td>robin williams does his best to combine comedy...</td>\n",
              "      <td>1.0</td>\n",
              "    </tr>\n",
              "    <tr>\n",
              "      <th>3747</th>\n",
              "      <td>when you see the cover of the dvd youre convin...</td>\n",
              "      <td>1.0</td>\n",
              "    </tr>\n",
              "    <tr>\n",
              "      <th>3748</th>\n",
              "      <td>heart pounding erotic drama are the words that...</td>\n",
              "      <td>1.0</td>\n",
              "    </tr>\n",
              "    <tr>\n",
              "      <th>3749</th>\n",
              "      <td>film noir is an overused expression when it co...</td>\n",
              "      <td>1.0</td>\n",
              "    </tr>\n",
              "  </tbody>\n",
              "</table>\n",
              "<p>3750 rows × 2 columns</p>\n",
              "</div>\n",
              "      <button class=\"colab-df-convert\" onclick=\"convertToInteractive('df-daf40ba5-962c-4279-9fdf-9e09ad580c38')\"\n",
              "              title=\"Convert this dataframe to an interactive table.\"\n",
              "              style=\"display:none;\">\n",
              "        \n",
              "  <svg xmlns=\"http://www.w3.org/2000/svg\" height=\"24px\"viewBox=\"0 0 24 24\"\n",
              "       width=\"24px\">\n",
              "    <path d=\"M0 0h24v24H0V0z\" fill=\"none\"/>\n",
              "    <path d=\"M18.56 5.44l.94 2.06.94-2.06 2.06-.94-2.06-.94-.94-2.06-.94 2.06-2.06.94zm-11 1L8.5 8.5l.94-2.06 2.06-.94-2.06-.94L8.5 2.5l-.94 2.06-2.06.94zm10 10l.94 2.06.94-2.06 2.06-.94-2.06-.94-.94-2.06-.94 2.06-2.06.94z\"/><path d=\"M17.41 7.96l-1.37-1.37c-.4-.4-.92-.59-1.43-.59-.52 0-1.04.2-1.43.59L10.3 9.45l-7.72 7.72c-.78.78-.78 2.05 0 2.83L4 21.41c.39.39.9.59 1.41.59.51 0 1.02-.2 1.41-.59l7.78-7.78 2.81-2.81c.8-.78.8-2.07 0-2.86zM5.41 20L4 18.59l7.72-7.72 1.47 1.35L5.41 20z\"/>\n",
              "  </svg>\n",
              "      </button>\n",
              "      \n",
              "  <style>\n",
              "    .colab-df-container {\n",
              "      display:flex;\n",
              "      flex-wrap:wrap;\n",
              "      gap: 12px;\n",
              "    }\n",
              "\n",
              "    .colab-df-convert {\n",
              "      background-color: #E8F0FE;\n",
              "      border: none;\n",
              "      border-radius: 50%;\n",
              "      cursor: pointer;\n",
              "      display: none;\n",
              "      fill: #1967D2;\n",
              "      height: 32px;\n",
              "      padding: 0 0 0 0;\n",
              "      width: 32px;\n",
              "    }\n",
              "\n",
              "    .colab-df-convert:hover {\n",
              "      background-color: #E2EBFA;\n",
              "      box-shadow: 0px 1px 2px rgba(60, 64, 67, 0.3), 0px 1px 3px 1px rgba(60, 64, 67, 0.15);\n",
              "      fill: #174EA6;\n",
              "    }\n",
              "\n",
              "    [theme=dark] .colab-df-convert {\n",
              "      background-color: #3B4455;\n",
              "      fill: #D2E3FC;\n",
              "    }\n",
              "\n",
              "    [theme=dark] .colab-df-convert:hover {\n",
              "      background-color: #434B5C;\n",
              "      box-shadow: 0px 1px 3px 1px rgba(0, 0, 0, 0.15);\n",
              "      filter: drop-shadow(0px 1px 2px rgba(0, 0, 0, 0.3));\n",
              "      fill: #FFFFFF;\n",
              "    }\n",
              "  </style>\n",
              "\n",
              "      <script>\n",
              "        const buttonEl =\n",
              "          document.querySelector('#df-daf40ba5-962c-4279-9fdf-9e09ad580c38 button.colab-df-convert');\n",
              "        buttonEl.style.display =\n",
              "          google.colab.kernel.accessAllowed ? 'block' : 'none';\n",
              "\n",
              "        async function convertToInteractive(key) {\n",
              "          const element = document.querySelector('#df-daf40ba5-962c-4279-9fdf-9e09ad580c38');\n",
              "          const dataTable =\n",
              "            await google.colab.kernel.invokeFunction('convertToInteractive',\n",
              "                                                     [key], {});\n",
              "          if (!dataTable) return;\n",
              "\n",
              "          const docLinkHtml = 'Like what you see? Visit the ' +\n",
              "            '<a target=\"_blank\" href=https://colab.research.google.com/notebooks/data_table.ipynb>data table notebook</a>'\n",
              "            + ' to learn more about interactive tables.';\n",
              "          element.innerHTML = '';\n",
              "          dataTable['output_type'] = 'display_data';\n",
              "          await google.colab.output.renderOutput(dataTable, element);\n",
              "          const docLink = document.createElement('div');\n",
              "          docLink.innerHTML = docLinkHtml;\n",
              "          element.appendChild(docLink);\n",
              "        }\n",
              "      </script>\n",
              "    </div>\n",
              "  </div>\n",
              "  "
            ]
          },
          "metadata": {},
          "execution_count": 41
        }
      ]
    },
    {
      "cell_type": "code",
      "source": [
        "model.layers"
      ],
      "metadata": {
        "id": "czjTWtJFaF21",
        "colab": {
          "base_uri": "https://localhost:8080/"
        },
        "outputId": "14ae45ee-0b49-4437-9728-8f5a4389d066"
      },
      "execution_count": 42,
      "outputs": [
        {
          "output_type": "execute_result",
          "data": {
            "text/plain": [
              "[<keras.engine.input_layer.InputLayer at 0x7fdc0bc204c0>,\n",
              " <keras.engine.input_layer.InputLayer at 0x7fdc0bb86850>,\n",
              " <keras.engine.input_layer.InputLayer at 0x7fdc0bc20b20>,\n",
              " <keras.layers.core.embedding.Embedding at 0x7fdc08088760>,\n",
              " <keras.layers.core.embedding.Embedding at 0x7fdc0808b250>,\n",
              " <transformers.models.bert.modeling_tf_bert.TFBertModel at 0x7fdc0c2daa00>,\n",
              " <keras.layers.reshaping.permute.Permute at 0x7fdc0bdffa90>,\n",
              " <keras.layers.reshaping.permute.Permute at 0x7fdc0808b190>,\n",
              " <keras.layers.core.lambda_layer.Lambda at 0x7fdc0bd05340>,\n",
              " <keras.layers.core.lambda_layer.Lambda at 0x7fdc0bc6b730>,\n",
              " <__main__.remove_padsV2 at 0x7fdbf177e1c0>,\n",
              " <__main__.remove_padsV2 at 0x7fdc0be49160>,\n",
              " <keras.layers.core.lambda_layer.Lambda at 0x7fdc0be1c370>,\n",
              " <keras.layers.reshaping.flatten.Flatten at 0x7fdc001016a0>,\n",
              " <keras.layers.core.dense.Dense at 0x7fdbf16d87c0>,\n",
              " <keras.layers.regularization.dropout.Dropout at 0x7fdc0bc48220>,\n",
              " <keras.layers.core.dense.Dense at 0x7fdbf16d8fa0>,\n",
              " <keras.layers.regularization.dropout.Dropout at 0x7fdbf16d80a0>,\n",
              " <keras.layers.core.dense.Dense at 0x7fdc0be68430>,\n",
              " <keras.layers.regularization.dropout.Dropout at 0x7fdc0143feb0>,\n",
              " <keras.layers.core.dense.Dense at 0x7fdc0143f430>,\n",
              " <keras.layers.core.tf_op_layer.TFOpLambda at 0x7fdbf022cac0>,\n",
              " <keras.layers.core.tf_op_layer.TFOpLambda at 0x7fdbf022cc10>,\n",
              " <keras.layers.core.tf_op_layer.TFOpLambda at 0x7fdbf15525e0>,\n",
              " <keras.layers.core.tf_op_layer.TFOpLambda at 0x7fdbf15520a0>,\n",
              " <keras.layers.core.tf_op_layer.TFOpLambda at 0x7fdbf15bc550>,\n",
              " <keras.layers.core.tf_op_layer.TFOpLambda at 0x7fdc0bce9550>,\n",
              " <keras.layers.core.tf_op_layer.TFOpLambda at 0x7fdbf022c2e0>,\n",
              " <keras.layers.core.tf_op_layer.TFOpLambda at 0x7fdcdf00b160>,\n",
              " <keras.layers.core.tf_op_layer.TFOpLambda at 0x7fdbf177e8b0>,\n",
              " <keras.layers.core.tf_op_layer.TFOpLambda at 0x7fdc0bd133d0>,\n",
              " <keras.layers.core.tf_op_layer.TFOpLambda at 0x7fdc0143a9d0>,\n",
              " <keras.layers.core.tf_op_layer.TFOpLambda at 0x7fdc0bd13c70>,\n",
              " <keras.layers.core.tf_op_layer.TFOpLambda at 0x7fdc0143a5b0>,\n",
              " <keras.layers.core.tf_op_layer.TFOpLambda at 0x7fdbf022c8e0>,\n",
              " <keras.layers.core.tf_op_layer.TFOpLambda at 0x7fdc0143a9a0>,\n",
              " <keras.engine.base_layer.AddLoss at 0x7fdc0bb56490>]"
            ]
          },
          "metadata": {},
          "execution_count": 42
        }
      ]
    },
    {
      "cell_type": "code",
      "source": [
        "len(model.layers)"
      ],
      "metadata": {
        "colab": {
          "base_uri": "https://localhost:8080/"
        },
        "id": "xU4-NV6MYp96",
        "outputId": "c3bed54c-e62b-405d-ef98-b80c67fdff26"
      },
      "execution_count": 43,
      "outputs": [
        {
          "output_type": "execute_result",
          "data": {
            "text/plain": [
              "37"
            ]
          },
          "metadata": {},
          "execution_count": 43
        }
      ]
    },
    {
      "cell_type": "code",
      "source": [
        "layer_outputs = [layer.output for layer in model.layers]\n",
        "len(layer_outputs)"
      ],
      "metadata": {
        "colab": {
          "base_uri": "https://localhost:8080/"
        },
        "id": "UxjMZMpMT_7U",
        "outputId": "2dfa39c1-8a5e-4610-e576-20bb72113c39"
      },
      "execution_count": 44,
      "outputs": [
        {
          "output_type": "execute_result",
          "data": {
            "text/plain": [
              "37"
            ]
          },
          "metadata": {},
          "execution_count": 44
        }
      ]
    },
    {
      "cell_type": "code",
      "source": [
        "layer_outputs[2]"
      ],
      "metadata": {
        "colab": {
          "base_uri": "https://localhost:8080/"
        },
        "id": "QTv3tuFmUImw",
        "outputId": "65757c00-3048-4538-8c9e-a1b499234293"
      },
      "execution_count": 45,
      "outputs": [
        {
          "output_type": "execute_result",
          "data": {
            "text/plain": [
              "<KerasTensor: shape=(None, 128) dtype=int32 (created by layer 'attention_masks')>"
            ]
          },
          "metadata": {},
          "execution_count": 45
        }
      ]
    },
    {
      "cell_type": "code",
      "source": [
        "# get latent vector representations -- 7th layer of model2\n",
        "layer_outputs = [layer.output for layer in model.layers]\n",
        "\n",
        "activation_model_pos = Model(inputs = model.input, outputs = model.get_layer(\"remove_cls_pad_positive\").output)   # (None,1,300)\n",
        "activation_model_neg = Model(inputs = model.input, outputs = model.get_layer(\"remove_cls_pad_negative\").output)   # (None,1,300)"
      ],
      "metadata": {
        "id": "j3v2pT2YUQ7n"
      },
      "execution_count": 46,
      "outputs": []
    },
    {
      "cell_type": "code",
      "source": [
        "cpostitives = activation_model_pos.predict(test_ds)"
      ],
      "metadata": {
        "colab": {
          "base_uri": "https://localhost:8080/"
        },
        "id": "sWNfgTLrd0Yp",
        "outputId": "d8b5a283-99bc-4deb-ba32-70919158ef90"
      },
      "execution_count": 47,
      "outputs": [
        {
          "output_type": "stream",
          "name": "stdout",
          "text": [
            "235/235 [==============================] - 70s 282ms/step\n"
          ]
        }
      ]
    },
    {
      "cell_type": "code",
      "source": [
        "cpostitives.shape"
      ],
      "metadata": {
        "colab": {
          "base_uri": "https://localhost:8080/"
        },
        "id": "aJcNHzhog-q5",
        "outputId": "03a5ed26-f47f-4eb8-f4e4-f97869051cb3"
      },
      "execution_count": 48,
      "outputs": [
        {
          "output_type": "execute_result",
          "data": {
            "text/plain": [
              "(7500, 128, 300)"
            ]
          },
          "metadata": {},
          "execution_count": 48
        }
      ]
    },
    {
      "cell_type": "code",
      "source": [
        "# testing again\n",
        "for ele in test_ds.take(1):\n",
        "  tempout = ele"
      ],
      "metadata": {
        "id": "xjzzfw1ji17f"
      },
      "execution_count": 49,
      "outputs": []
    },
    {
      "cell_type": "code",
      "source": [
        "t_ids = tempout[0][\"input_ids\"]\n",
        "t_attmasks = tempout[0][\"attention_masks\"]\n",
        "t_spaceids = tempout[0][\"space\"]"
      ],
      "metadata": {
        "id": "oLimy5-ei9yK"
      },
      "execution_count": 50,
      "outputs": []
    },
    {
      "cell_type": "code",
      "source": [
        "t_ids"
      ],
      "metadata": {
        "colab": {
          "base_uri": "https://localhost:8080/"
        },
        "id": "dmRNPYh7jhOG",
        "outputId": "3901bfe8-5854-4566-e309-54cced7c077b"
      },
      "execution_count": 51,
      "outputs": [
        {
          "output_type": "execute_result",
          "data": {
            "text/plain": [
              "<tf.Tensor: shape=(32, 128), dtype=int32, numpy=\n",
              "array([[  101,  2007,  1037, ...,     0,     0,     0],\n",
              "       [  101,  1045,  2074, ...,  3427,  2023,   102],\n",
              "       [  101,  2412,  2144, ...,  1998,  1997,   102],\n",
              "       ...,\n",
              "       [  101,  2004,  1045, ...,  2453,  2022,   102],\n",
              "       [  101,  4914,  2135, ..., 10667,  8303,   102],\n",
              "       [  101,  1045,  2145, ...,     0,     0,     0]], dtype=int32)>"
            ]
          },
          "metadata": {},
          "execution_count": 51
        }
      ]
    },
    {
      "cell_type": "code",
      "source": [
        "t_idsZerod = tf.where(tf.equal(t_ids,101) | tf.equal(t_ids,102),0,t_ids)\n",
        "t_idsZerod"
      ],
      "metadata": {
        "colab": {
          "base_uri": "https://localhost:8080/"
        },
        "id": "opjFVyTOkQEE",
        "outputId": "523db8ae-2286-4e70-bcab-d8ae19472c22"
      },
      "execution_count": 52,
      "outputs": [
        {
          "output_type": "execute_result",
          "data": {
            "text/plain": [
              "<tf.Tensor: shape=(32, 128), dtype=int32, numpy=\n",
              "array([[    0,  2007,  1037, ...,     0,     0,     0],\n",
              "       [    0,  1045,  2074, ...,  3427,  2023,     0],\n",
              "       [    0,  2412,  2144, ...,  1998,  1997,     0],\n",
              "       ...,\n",
              "       [    0,  2004,  1045, ...,  2453,  2022,     0],\n",
              "       [    0,  4914,  2135, ..., 10667,  8303,     0],\n",
              "       [    0,  1045,  2145, ...,     0,     0,     0]], dtype=int32)>"
            ]
          },
          "metadata": {},
          "execution_count": 52
        }
      ]
    },
    {
      "cell_type": "code",
      "source": [
        "t_idsZerod[0]"
      ],
      "metadata": {
        "colab": {
          "base_uri": "https://localhost:8080/"
        },
        "id": "6ZGwM9GUkppi",
        "outputId": "e2bedde6-9c5e-4a66-b5e8-32751fa31754"
      },
      "execution_count": 53,
      "outputs": [
        {
          "output_type": "execute_result",
          "data": {
            "text/plain": [
              "<tf.Tensor: shape=(128,), dtype=int32, numpy=\n",
              "array([    0,  2007,  1037,  2210, 11225,  2039,  2023,  3185,  2071,\n",
              "        2022,  2366,  2005, 15060,  4596,  2025,  2069,  2003,  2003,\n",
              "       11771, 17727, 28128,  7028,  7145, 24949,  1998,  9996,  2856,\n",
              "        1996,  2190,  5889,  2020,  1996,  2978,  2867,  3701,  2138,\n",
              "        2027,  2018,  2061,  2261,  3210,  2000,  2360,  1037,  5949,\n",
              "        1997,  2051,  2130,  2005,  2162,  5470, 17592,     0,     0,\n",
              "           0,     0,     0,     0,     0,     0,     0,     0,     0,\n",
              "           0,     0,     0,     0,     0,     0,     0,     0,     0,\n",
              "           0,     0,     0,     0,     0,     0,     0,     0,     0,\n",
              "           0,     0,     0,     0,     0,     0,     0,     0,     0,\n",
              "           0,     0,     0,     0,     0,     0,     0,     0,     0,\n",
              "           0,     0,     0,     0,     0,     0,     0,     0,     0,\n",
              "           0,     0,     0,     0,     0,     0,     0,     0,     0,\n",
              "           0,     0,     0,     0,     0,     0,     0,     0,     0,\n",
              "           0,     0], dtype=int32)>"
            ]
          },
          "metadata": {},
          "execution_count": 53
        }
      ]
    },
    {
      "cell_type": "code",
      "source": [
        "cpostitives[0][-76]"
      ],
      "metadata": {
        "colab": {
          "base_uri": "https://localhost:8080/"
        },
        "id": "DhtGSIHLhlFq",
        "outputId": "1d94b6d5-9729-4430-d881-4ffa286b48a6"
      },
      "execution_count": 54,
      "outputs": [
        {
          "output_type": "execute_result",
          "data": {
            "text/plain": [
              "array([-0.,  0., -0.,  0.,  0., -0.,  0., -0.,  0.,  0.,  0.,  0.,  0.,\n",
              "       -0.,  0., -0.,  0., -0., -0., -0., -0., -0., -0., -0., -0.,  0.,\n",
              "        0., -0., -0., -0.,  0., -0., -0., -0., -0., -0., -0.,  0., -0.,\n",
              "       -0., -0.,  0.,  0., -0.,  0.,  0.,  0., -0., -0.,  0.,  0., -0.,\n",
              "        0.,  0., -0.,  0., -0.,  0., -0.,  0., -0.,  0.,  0., -0.,  0.,\n",
              "        0., -0., -0., -0., -0., -0.,  0.,  0., -0.,  0.,  0., -0.,  0.,\n",
              "       -0., -0.,  0.,  0.,  0., -0., -0., -0.,  0., -0.,  0., -0., -0.,\n",
              "       -0.,  0., -0., -0., -0.,  0., -0., -0., -0.,  0.,  0., -0.,  0.,\n",
              "        0., -0.,  0.,  0.,  0., -0.,  0., -0.,  0., -0.,  0., -0.,  0.,\n",
              "       -0., -0., -0., -0., -0.,  0., -0.,  0.,  0.,  0.,  0., -0.,  0.,\n",
              "        0.,  0., -0., -0., -0.,  0., -0., -0., -0.,  0.,  0., -0.,  0.,\n",
              "        0.,  0., -0., -0., -0., -0., -0.,  0., -0.,  0., -0., -0.,  0.,\n",
              "       -0.,  0.,  0.,  0.,  0., -0.,  0., -0., -0.,  0., -0., -0., -0.,\n",
              "       -0., -0.,  0.,  0., -0.,  0.,  0.,  0.,  0., -0.,  0., -0.,  0.,\n",
              "       -0., -0., -0., -0., -0.,  0., -0.,  0.,  0.,  0., -0.,  0., -0.,\n",
              "       -0.,  0.,  0.,  0., -0.,  0.,  0., -0.,  0., -0.,  0., -0.,  0.,\n",
              "       -0.,  0., -0.,  0., -0., -0., -0.,  0.,  0.,  0., -0.,  0.,  0.,\n",
              "       -0.,  0., -0., -0.,  0., -0., -0., -0.,  0.,  0., -0.,  0., -0.,\n",
              "       -0., -0.,  0.,  0., -0.,  0., -0.,  0., -0., -0.,  0.,  0., -0.,\n",
              "       -0., -0.,  0.,  0., -0.,  0.,  0., -0.,  0.,  0., -0.,  0.,  0.,\n",
              "        0., -0.,  0., -0.,  0.,  0., -0.,  0.,  0., -0.,  0., -0.,  0.,\n",
              "       -0.,  0., -0., -0., -0., -0.,  0., -0.,  0.,  0.,  0.,  0., -0.,\n",
              "       -0.,  0., -0., -0.,  0.,  0.,  0.,  0.,  0.,  0.,  0.,  0.,  0.,\n",
              "        0.], dtype=float32)"
            ]
          },
          "metadata": {},
          "execution_count": 54
        }
      ]
    },
    {
      "cell_type": "code",
      "source": [
        "# clearly cpostitives is getting us the correct output corresponding to an example"
      ],
      "metadata": {
        "id": "c6kOxUw0k9Hf"
      },
      "execution_count": 55,
      "outputs": []
    },
    {
      "cell_type": "code",
      "source": [
        "# take 32 examples from positive class and 32 from negative class (i.e a batch)\n",
        "# then for each batch, get cpostitives and cnegatitives\n",
        "# for postive batch:\n",
        "# take first example and get top 10 tokens from it ranked in order of highest cosine similarites with 300  tokens from positive projection vector\n",
        "# for same example take top 10 tokens from it ranked in order of highest average cosine simlarity with 300 tokens from negative projection vector\n",
        "\n",
        "# now get their the embeddings of all 20 from bert, separately for 10\n",
        "# plot all embeddings on a tSNE chart with differenct colors corresponding to projection spaces"
      ],
      "metadata": {
        "id": "pIQv0i8YIH0P"
      },
      "execution_count": 56,
      "outputs": []
    },
    {
      "cell_type": "code",
      "source": [
        "def get_TFDataset(dataframe):\n",
        "\n",
        "  data_gen   = dataset(dataframe[\"review\"].values,dataframe[\"sentiment\"].values,max_length = MAX_LENGTH, tokenizer = tokenizer, projection_dim=PROJECTION_DIM, val = True)\n",
        "  data_ds = tf.data.Dataset.from_generator(data_gen,\n",
        "                                            output_signature = \n",
        "                                           ({\"input_ids\" : tf.TensorSpec(shape = (MAX_LENGTH,), dtype = tf.int32 ),\"attention_masks\":tf.TensorSpec(shape = (MAX_LENGTH,), dtype = tf.int32),\"space\":tf.TensorSpec(shape = (PROJECTION_DIM,), dtype = tf.int32)},\n",
        "                                            tf.TensorSpec(shape = (), dtype = (tf.float32)))).batch(BATCH_SIZE)\n",
        "\n",
        "  return data_ds\n",
        "\n",
        "def getCosineSimlarities(MODEL, ds_object):\n",
        "\n",
        "  activation_model_pos = Model(inputs = MODEL.input, outputs = MODEL.get_layer(\"remove_cls_pad_positive\").output)   # (None,1,300)\n",
        "  activation_model_neg = Model(inputs = MODEL.input, outputs = MODEL.get_layer(\"remove_cls_pad_negative\").output)   # (None,1,300)\n",
        "  activation_model_bertEmbeddings = Model(inputs = MODEL.input, outputs = MODEL.get_layer(\"tf_bert_model\").output[0])\n",
        "\n",
        "  pos_cosine = activation_model_pos.predict(ds_object)\n",
        "  neg_cosine = activation_model_neg.predict(ds_object)\n",
        "  bertEmbeddings = activation_model_bertEmbeddings.predict(ds_object)\n",
        "\n",
        "  return pos_cosine, neg_cosine, bertEmbeddings"
      ],
      "metadata": {
        "id": "q5zatu59mw9H"
      },
      "execution_count": 57,
      "outputs": []
    },
    {
      "cell_type": "code",
      "source": [
        "# get the dataset object to be fed as input to model for making predictions\n",
        "pos_ds = get_TFDataset(pos_reviews[0:100])"
      ],
      "metadata": {
        "id": "-G11TmyInCVO"
      },
      "execution_count": 61,
      "outputs": []
    },
    {
      "cell_type": "code",
      "source": [
        "# sanity check\n",
        "for ele in pos_ds.take(1):\n",
        "  t_pos = ele\n",
        "t_pos"
      ],
      "metadata": {
        "colab": {
          "base_uri": "https://localhost:8080/"
        },
        "id": "rBfcUwDNnKeP",
        "outputId": "0f11980a-c15b-4900-89bb-096a10380a40"
      },
      "execution_count": 62,
      "outputs": [
        {
          "output_type": "execute_result",
          "data": {
            "text/plain": [
              "({'input_ids': <tf.Tensor: shape=(32, 128), dtype=int32, numpy=\n",
              "  array([[  101,  1045,  2074, ...,  3427,  2023,   102],\n",
              "         [  101,  2412,  2144, ...,  1998,  1997,   102],\n",
              "         [  101,  2034,  2125, ...,  2028,  2838,   102],\n",
              "         ...,\n",
              "         [  101, 11430,  2358, ..., 16827,  1996,   102],\n",
              "         [  101,  2178,  2742, ...,     0,     0,     0],\n",
              "         [  101,  2123,  2102, ...,  2228,  1996,   102]], dtype=int32)>,\n",
              "  'attention_masks': <tf.Tensor: shape=(32, 128), dtype=int32, numpy=\n",
              "  array([[1, 1, 1, ..., 1, 1, 1],\n",
              "         [1, 1, 1, ..., 1, 1, 1],\n",
              "         [1, 1, 1, ..., 1, 1, 1],\n",
              "         ...,\n",
              "         [1, 1, 1, ..., 1, 1, 1],\n",
              "         [1, 1, 1, ..., 0, 0, 0],\n",
              "         [1, 1, 1, ..., 1, 1, 1]], dtype=int32)>,\n",
              "  'space': <tf.Tensor: shape=(32, 300), dtype=int32, numpy=\n",
              "  array([[  0,   1,   2, ..., 297, 298, 299],\n",
              "         [  0,   1,   2, ..., 297, 298, 299],\n",
              "         [  0,   1,   2, ..., 297, 298, 299],\n",
              "         ...,\n",
              "         [  0,   1,   2, ..., 297, 298, 299],\n",
              "         [  0,   1,   2, ..., 297, 298, 299],\n",
              "         [  0,   1,   2, ..., 297, 298, 299]], dtype=int32)>},\n",
              " <tf.Tensor: shape=(32,), dtype=float32, numpy=\n",
              " array([1., 1., 1., 1., 1., 1., 1., 1., 1., 1., 1., 1., 1., 1., 1., 1., 1.,\n",
              "        1., 1., 1., 1., 1., 1., 1., 1., 1., 1., 1., 1., 1., 1., 1.],\n",
              "       dtype=float32)>)"
            ]
          },
          "metadata": {},
          "execution_count": 62
        }
      ]
    },
    {
      "cell_type": "code",
      "source": [
        "# get cosine similarites of first batch of positive reviews with both projection spaces\n",
        "posData_posProjSpace, posData_negProjSpace, posBertEmbeddings = getCosineSimlarities(model, pos_ds)"
      ],
      "metadata": {
        "colab": {
          "base_uri": "https://localhost:8080/"
        },
        "id": "Xlu3SyKonTbE",
        "outputId": "43bf4d55-f76e-410f-e970-6ea0894f54fd"
      },
      "execution_count": 64,
      "outputs": [
        {
          "output_type": "stream",
          "name": "stdout",
          "text": [
            "4/4 [==============================] - 8s 215ms/step\n",
            "4/4 [==============================] - 4s 204ms/step\n",
            "4/4 [==============================] - 4s 223ms/step\n"
          ]
        }
      ]
    },
    {
      "cell_type": "code",
      "source": [
        "posData_posProjSpace.shape, posData_negProjSpace.shape, posBertEmbeddings.shape"
      ],
      "metadata": {
        "colab": {
          "base_uri": "https://localhost:8080/"
        },
        "id": "gOrFxZrwnUEO",
        "outputId": "a3fdb90c-6d9d-4ca4-c062-f1c710973950"
      },
      "execution_count": 66,
      "outputs": [
        {
          "output_type": "execute_result",
          "data": {
            "text/plain": [
              "((100, 128, 300), (100, 128, 300), (100, 128, 768))"
            ]
          },
          "metadata": {},
          "execution_count": 66
        }
      ]
    },
    {
      "cell_type": "code",
      "source": [
        "posData_posProjSpace[0]"
      ],
      "metadata": {
        "colab": {
          "base_uri": "https://localhost:8080/"
        },
        "id": "C-w3HJtPwkkM",
        "outputId": "ca7666d6-7ae5-44d9-bb03-f5dc75e19df4"
      },
      "execution_count": 67,
      "outputs": [
        {
          "output_type": "execute_result",
          "data": {
            "text/plain": [
              "array([[ 0.        , -0.        ,  0.        , ...,  0.        ,\n",
              "         0.        , -0.        ],\n",
              "       [-0.01397008, -0.00539054, -0.01005128, ...,  0.00524584,\n",
              "        -0.00652094,  0.00861778],\n",
              "       [-0.00344988,  0.03493599,  0.00695136, ...,  0.00673544,\n",
              "         0.01961068,  0.04202436],\n",
              "       ...,\n",
              "       [ 0.05857062, -0.06068394,  0.00921355, ...,  0.03802041,\n",
              "         0.04805793,  0.02594565],\n",
              "       [ 0.02383664,  0.0039222 ,  0.06562985, ...,  0.00455357,\n",
              "         0.01295637,  0.01263835],\n",
              "       [-0.        ,  0.        , -0.        , ...,  0.        ,\n",
              "         0.        , -0.        ]], dtype=float32)"
            ]
          },
          "metadata": {},
          "execution_count": 67
        }
      ]
    },
    {
      "cell_type": "code",
      "source": [
        "# we have access to each sentence's input ids, as well as their bert embeddings right now\n",
        "# we want to see which tokens from a sentence have maximum cosine similarity with pos_projection space\n",
        "# get those indices, and we have those token ids\n",
        "# now we want to fetch the words corresponding to those token ids"
      ],
      "metadata": {
        "id": "sK7FkQdTpL3e"
      },
      "execution_count": null,
      "outputs": []
    }
  ],
  "metadata": {
    "colab": {
      "provenance": [],
      "include_colab_link": true
    },
    "gpuClass": "standard",
    "kernelspec": {
      "display_name": "Python 3",
      "name": "python3"
    },
    "language_info": {
      "name": "python"
    },
    "widgets": {
      "application/vnd.jupyter.widget-state+json": {
        "f4f27f6c12b14dc4b3985198c1c0802f": {
          "model_module": "@jupyter-widgets/controls",
          "model_name": "HBoxModel",
          "model_module_version": "1.5.0",
          "state": {
            "_dom_classes": [],
            "_model_module": "@jupyter-widgets/controls",
            "_model_module_version": "1.5.0",
            "_model_name": "HBoxModel",
            "_view_count": null,
            "_view_module": "@jupyter-widgets/controls",
            "_view_module_version": "1.5.0",
            "_view_name": "HBoxView",
            "box_style": "",
            "children": [
              "IPY_MODEL_356bb7c3e8054a1f8cc11d155a0f3d38",
              "IPY_MODEL_2fb911aff8af4a1291e41fcaa4d29ff3",
              "IPY_MODEL_bdb43ab015ad46e3aaed689c6bfe121d"
            ],
            "layout": "IPY_MODEL_2e48c0c7789e4be69658114aafb90825"
          }
        },
        "356bb7c3e8054a1f8cc11d155a0f3d38": {
          "model_module": "@jupyter-widgets/controls",
          "model_name": "HTMLModel",
          "model_module_version": "1.5.0",
          "state": {
            "_dom_classes": [],
            "_model_module": "@jupyter-widgets/controls",
            "_model_module_version": "1.5.0",
            "_model_name": "HTMLModel",
            "_view_count": null,
            "_view_module": "@jupyter-widgets/controls",
            "_view_module_version": "1.5.0",
            "_view_name": "HTMLView",
            "description": "",
            "description_tooltip": null,
            "layout": "IPY_MODEL_00a0186c78c14cfaa52d2e73dd0e9076",
            "placeholder": "​",
            "style": "IPY_MODEL_882baad8fc9d48edae51bb700b6bd1d6",
            "value": "Downloading (…)lve/main/config.json: 100%"
          }
        },
        "2fb911aff8af4a1291e41fcaa4d29ff3": {
          "model_module": "@jupyter-widgets/controls",
          "model_name": "FloatProgressModel",
          "model_module_version": "1.5.0",
          "state": {
            "_dom_classes": [],
            "_model_module": "@jupyter-widgets/controls",
            "_model_module_version": "1.5.0",
            "_model_name": "FloatProgressModel",
            "_view_count": null,
            "_view_module": "@jupyter-widgets/controls",
            "_view_module_version": "1.5.0",
            "_view_name": "ProgressView",
            "bar_style": "success",
            "description": "",
            "description_tooltip": null,
            "layout": "IPY_MODEL_2e158dec1fe14976a6a0ba4f24667f91",
            "max": 570,
            "min": 0,
            "orientation": "horizontal",
            "style": "IPY_MODEL_453e163ff57f4f1ba6e5abaf7e3d7eca",
            "value": 570
          }
        },
        "bdb43ab015ad46e3aaed689c6bfe121d": {
          "model_module": "@jupyter-widgets/controls",
          "model_name": "HTMLModel",
          "model_module_version": "1.5.0",
          "state": {
            "_dom_classes": [],
            "_model_module": "@jupyter-widgets/controls",
            "_model_module_version": "1.5.0",
            "_model_name": "HTMLModel",
            "_view_count": null,
            "_view_module": "@jupyter-widgets/controls",
            "_view_module_version": "1.5.0",
            "_view_name": "HTMLView",
            "description": "",
            "description_tooltip": null,
            "layout": "IPY_MODEL_b3e9f955b16249ae80a0db63abc67afc",
            "placeholder": "​",
            "style": "IPY_MODEL_81bb30bd59c14dde8f3e954c1bc31dbb",
            "value": " 570/570 [00:00&lt;00:00, 21.5kB/s]"
          }
        },
        "2e48c0c7789e4be69658114aafb90825": {
          "model_module": "@jupyter-widgets/base",
          "model_name": "LayoutModel",
          "model_module_version": "1.2.0",
          "state": {
            "_model_module": "@jupyter-widgets/base",
            "_model_module_version": "1.2.0",
            "_model_name": "LayoutModel",
            "_view_count": null,
            "_view_module": "@jupyter-widgets/base",
            "_view_module_version": "1.2.0",
            "_view_name": "LayoutView",
            "align_content": null,
            "align_items": null,
            "align_self": null,
            "border": null,
            "bottom": null,
            "display": null,
            "flex": null,
            "flex_flow": null,
            "grid_area": null,
            "grid_auto_columns": null,
            "grid_auto_flow": null,
            "grid_auto_rows": null,
            "grid_column": null,
            "grid_gap": null,
            "grid_row": null,
            "grid_template_areas": null,
            "grid_template_columns": null,
            "grid_template_rows": null,
            "height": null,
            "justify_content": null,
            "justify_items": null,
            "left": null,
            "margin": null,
            "max_height": null,
            "max_width": null,
            "min_height": null,
            "min_width": null,
            "object_fit": null,
            "object_position": null,
            "order": null,
            "overflow": null,
            "overflow_x": null,
            "overflow_y": null,
            "padding": null,
            "right": null,
            "top": null,
            "visibility": null,
            "width": null
          }
        },
        "00a0186c78c14cfaa52d2e73dd0e9076": {
          "model_module": "@jupyter-widgets/base",
          "model_name": "LayoutModel",
          "model_module_version": "1.2.0",
          "state": {
            "_model_module": "@jupyter-widgets/base",
            "_model_module_version": "1.2.0",
            "_model_name": "LayoutModel",
            "_view_count": null,
            "_view_module": "@jupyter-widgets/base",
            "_view_module_version": "1.2.0",
            "_view_name": "LayoutView",
            "align_content": null,
            "align_items": null,
            "align_self": null,
            "border": null,
            "bottom": null,
            "display": null,
            "flex": null,
            "flex_flow": null,
            "grid_area": null,
            "grid_auto_columns": null,
            "grid_auto_flow": null,
            "grid_auto_rows": null,
            "grid_column": null,
            "grid_gap": null,
            "grid_row": null,
            "grid_template_areas": null,
            "grid_template_columns": null,
            "grid_template_rows": null,
            "height": null,
            "justify_content": null,
            "justify_items": null,
            "left": null,
            "margin": null,
            "max_height": null,
            "max_width": null,
            "min_height": null,
            "min_width": null,
            "object_fit": null,
            "object_position": null,
            "order": null,
            "overflow": null,
            "overflow_x": null,
            "overflow_y": null,
            "padding": null,
            "right": null,
            "top": null,
            "visibility": null,
            "width": null
          }
        },
        "882baad8fc9d48edae51bb700b6bd1d6": {
          "model_module": "@jupyter-widgets/controls",
          "model_name": "DescriptionStyleModel",
          "model_module_version": "1.5.0",
          "state": {
            "_model_module": "@jupyter-widgets/controls",
            "_model_module_version": "1.5.0",
            "_model_name": "DescriptionStyleModel",
            "_view_count": null,
            "_view_module": "@jupyter-widgets/base",
            "_view_module_version": "1.2.0",
            "_view_name": "StyleView",
            "description_width": ""
          }
        },
        "2e158dec1fe14976a6a0ba4f24667f91": {
          "model_module": "@jupyter-widgets/base",
          "model_name": "LayoutModel",
          "model_module_version": "1.2.0",
          "state": {
            "_model_module": "@jupyter-widgets/base",
            "_model_module_version": "1.2.0",
            "_model_name": "LayoutModel",
            "_view_count": null,
            "_view_module": "@jupyter-widgets/base",
            "_view_module_version": "1.2.0",
            "_view_name": "LayoutView",
            "align_content": null,
            "align_items": null,
            "align_self": null,
            "border": null,
            "bottom": null,
            "display": null,
            "flex": null,
            "flex_flow": null,
            "grid_area": null,
            "grid_auto_columns": null,
            "grid_auto_flow": null,
            "grid_auto_rows": null,
            "grid_column": null,
            "grid_gap": null,
            "grid_row": null,
            "grid_template_areas": null,
            "grid_template_columns": null,
            "grid_template_rows": null,
            "height": null,
            "justify_content": null,
            "justify_items": null,
            "left": null,
            "margin": null,
            "max_height": null,
            "max_width": null,
            "min_height": null,
            "min_width": null,
            "object_fit": null,
            "object_position": null,
            "order": null,
            "overflow": null,
            "overflow_x": null,
            "overflow_y": null,
            "padding": null,
            "right": null,
            "top": null,
            "visibility": null,
            "width": null
          }
        },
        "453e163ff57f4f1ba6e5abaf7e3d7eca": {
          "model_module": "@jupyter-widgets/controls",
          "model_name": "ProgressStyleModel",
          "model_module_version": "1.5.0",
          "state": {
            "_model_module": "@jupyter-widgets/controls",
            "_model_module_version": "1.5.0",
            "_model_name": "ProgressStyleModel",
            "_view_count": null,
            "_view_module": "@jupyter-widgets/base",
            "_view_module_version": "1.2.0",
            "_view_name": "StyleView",
            "bar_color": null,
            "description_width": ""
          }
        },
        "b3e9f955b16249ae80a0db63abc67afc": {
          "model_module": "@jupyter-widgets/base",
          "model_name": "LayoutModel",
          "model_module_version": "1.2.0",
          "state": {
            "_model_module": "@jupyter-widgets/base",
            "_model_module_version": "1.2.0",
            "_model_name": "LayoutModel",
            "_view_count": null,
            "_view_module": "@jupyter-widgets/base",
            "_view_module_version": "1.2.0",
            "_view_name": "LayoutView",
            "align_content": null,
            "align_items": null,
            "align_self": null,
            "border": null,
            "bottom": null,
            "display": null,
            "flex": null,
            "flex_flow": null,
            "grid_area": null,
            "grid_auto_columns": null,
            "grid_auto_flow": null,
            "grid_auto_rows": null,
            "grid_column": null,
            "grid_gap": null,
            "grid_row": null,
            "grid_template_areas": null,
            "grid_template_columns": null,
            "grid_template_rows": null,
            "height": null,
            "justify_content": null,
            "justify_items": null,
            "left": null,
            "margin": null,
            "max_height": null,
            "max_width": null,
            "min_height": null,
            "min_width": null,
            "object_fit": null,
            "object_position": null,
            "order": null,
            "overflow": null,
            "overflow_x": null,
            "overflow_y": null,
            "padding": null,
            "right": null,
            "top": null,
            "visibility": null,
            "width": null
          }
        },
        "81bb30bd59c14dde8f3e954c1bc31dbb": {
          "model_module": "@jupyter-widgets/controls",
          "model_name": "DescriptionStyleModel",
          "model_module_version": "1.5.0",
          "state": {
            "_model_module": "@jupyter-widgets/controls",
            "_model_module_version": "1.5.0",
            "_model_name": "DescriptionStyleModel",
            "_view_count": null,
            "_view_module": "@jupyter-widgets/base",
            "_view_module_version": "1.2.0",
            "_view_name": "StyleView",
            "description_width": ""
          }
        },
        "aabb8842d0d44d8ebbd3e2a15be13579": {
          "model_module": "@jupyter-widgets/controls",
          "model_name": "HBoxModel",
          "model_module_version": "1.5.0",
          "state": {
            "_dom_classes": [],
            "_model_module": "@jupyter-widgets/controls",
            "_model_module_version": "1.5.0",
            "_model_name": "HBoxModel",
            "_view_count": null,
            "_view_module": "@jupyter-widgets/controls",
            "_view_module_version": "1.5.0",
            "_view_name": "HBoxView",
            "box_style": "",
            "children": [
              "IPY_MODEL_5ebdb540d0394bbf9d3d81696f289efb",
              "IPY_MODEL_55fccaabf9ac422abe9dbe09e7fc72bb",
              "IPY_MODEL_37382e7d1ff14461a49b2ab8d3d40352"
            ],
            "layout": "IPY_MODEL_050cdb67691e48afbfb334138423369b"
          }
        },
        "5ebdb540d0394bbf9d3d81696f289efb": {
          "model_module": "@jupyter-widgets/controls",
          "model_name": "HTMLModel",
          "model_module_version": "1.5.0",
          "state": {
            "_dom_classes": [],
            "_model_module": "@jupyter-widgets/controls",
            "_model_module_version": "1.5.0",
            "_model_name": "HTMLModel",
            "_view_count": null,
            "_view_module": "@jupyter-widgets/controls",
            "_view_module_version": "1.5.0",
            "_view_name": "HTMLView",
            "description": "",
            "description_tooltip": null,
            "layout": "IPY_MODEL_6cd717ecb53c4f378e79d66a999fdbef",
            "placeholder": "​",
            "style": "IPY_MODEL_10deceb294154ae48d7e28fe6631a3d4",
            "value": "Downloading tf_model.h5: 100%"
          }
        },
        "55fccaabf9ac422abe9dbe09e7fc72bb": {
          "model_module": "@jupyter-widgets/controls",
          "model_name": "FloatProgressModel",
          "model_module_version": "1.5.0",
          "state": {
            "_dom_classes": [],
            "_model_module": "@jupyter-widgets/controls",
            "_model_module_version": "1.5.0",
            "_model_name": "FloatProgressModel",
            "_view_count": null,
            "_view_module": "@jupyter-widgets/controls",
            "_view_module_version": "1.5.0",
            "_view_name": "ProgressView",
            "bar_style": "success",
            "description": "",
            "description_tooltip": null,
            "layout": "IPY_MODEL_e3c008f683af490aa607ade0f76fc956",
            "max": 536063208,
            "min": 0,
            "orientation": "horizontal",
            "style": "IPY_MODEL_b3c6b43323514eac846c102c0efa2571",
            "value": 536063208
          }
        },
        "37382e7d1ff14461a49b2ab8d3d40352": {
          "model_module": "@jupyter-widgets/controls",
          "model_name": "HTMLModel",
          "model_module_version": "1.5.0",
          "state": {
            "_dom_classes": [],
            "_model_module": "@jupyter-widgets/controls",
            "_model_module_version": "1.5.0",
            "_model_name": "HTMLModel",
            "_view_count": null,
            "_view_module": "@jupyter-widgets/controls",
            "_view_module_version": "1.5.0",
            "_view_name": "HTMLView",
            "description": "",
            "description_tooltip": null,
            "layout": "IPY_MODEL_f8000cbbffec42758ee3e36eb1a0ff48",
            "placeholder": "​",
            "style": "IPY_MODEL_cb71aec7f3c54a13886f1046eb257e7c",
            "value": " 536M/536M [00:01&lt;00:00, 187MB/s]"
          }
        },
        "050cdb67691e48afbfb334138423369b": {
          "model_module": "@jupyter-widgets/base",
          "model_name": "LayoutModel",
          "model_module_version": "1.2.0",
          "state": {
            "_model_module": "@jupyter-widgets/base",
            "_model_module_version": "1.2.0",
            "_model_name": "LayoutModel",
            "_view_count": null,
            "_view_module": "@jupyter-widgets/base",
            "_view_module_version": "1.2.0",
            "_view_name": "LayoutView",
            "align_content": null,
            "align_items": null,
            "align_self": null,
            "border": null,
            "bottom": null,
            "display": null,
            "flex": null,
            "flex_flow": null,
            "grid_area": null,
            "grid_auto_columns": null,
            "grid_auto_flow": null,
            "grid_auto_rows": null,
            "grid_column": null,
            "grid_gap": null,
            "grid_row": null,
            "grid_template_areas": null,
            "grid_template_columns": null,
            "grid_template_rows": null,
            "height": null,
            "justify_content": null,
            "justify_items": null,
            "left": null,
            "margin": null,
            "max_height": null,
            "max_width": null,
            "min_height": null,
            "min_width": null,
            "object_fit": null,
            "object_position": null,
            "order": null,
            "overflow": null,
            "overflow_x": null,
            "overflow_y": null,
            "padding": null,
            "right": null,
            "top": null,
            "visibility": null,
            "width": null
          }
        },
        "6cd717ecb53c4f378e79d66a999fdbef": {
          "model_module": "@jupyter-widgets/base",
          "model_name": "LayoutModel",
          "model_module_version": "1.2.0",
          "state": {
            "_model_module": "@jupyter-widgets/base",
            "_model_module_version": "1.2.0",
            "_model_name": "LayoutModel",
            "_view_count": null,
            "_view_module": "@jupyter-widgets/base",
            "_view_module_version": "1.2.0",
            "_view_name": "LayoutView",
            "align_content": null,
            "align_items": null,
            "align_self": null,
            "border": null,
            "bottom": null,
            "display": null,
            "flex": null,
            "flex_flow": null,
            "grid_area": null,
            "grid_auto_columns": null,
            "grid_auto_flow": null,
            "grid_auto_rows": null,
            "grid_column": null,
            "grid_gap": null,
            "grid_row": null,
            "grid_template_areas": null,
            "grid_template_columns": null,
            "grid_template_rows": null,
            "height": null,
            "justify_content": null,
            "justify_items": null,
            "left": null,
            "margin": null,
            "max_height": null,
            "max_width": null,
            "min_height": null,
            "min_width": null,
            "object_fit": null,
            "object_position": null,
            "order": null,
            "overflow": null,
            "overflow_x": null,
            "overflow_y": null,
            "padding": null,
            "right": null,
            "top": null,
            "visibility": null,
            "width": null
          }
        },
        "10deceb294154ae48d7e28fe6631a3d4": {
          "model_module": "@jupyter-widgets/controls",
          "model_name": "DescriptionStyleModel",
          "model_module_version": "1.5.0",
          "state": {
            "_model_module": "@jupyter-widgets/controls",
            "_model_module_version": "1.5.0",
            "_model_name": "DescriptionStyleModel",
            "_view_count": null,
            "_view_module": "@jupyter-widgets/base",
            "_view_module_version": "1.2.0",
            "_view_name": "StyleView",
            "description_width": ""
          }
        },
        "e3c008f683af490aa607ade0f76fc956": {
          "model_module": "@jupyter-widgets/base",
          "model_name": "LayoutModel",
          "model_module_version": "1.2.0",
          "state": {
            "_model_module": "@jupyter-widgets/base",
            "_model_module_version": "1.2.0",
            "_model_name": "LayoutModel",
            "_view_count": null,
            "_view_module": "@jupyter-widgets/base",
            "_view_module_version": "1.2.0",
            "_view_name": "LayoutView",
            "align_content": null,
            "align_items": null,
            "align_self": null,
            "border": null,
            "bottom": null,
            "display": null,
            "flex": null,
            "flex_flow": null,
            "grid_area": null,
            "grid_auto_columns": null,
            "grid_auto_flow": null,
            "grid_auto_rows": null,
            "grid_column": null,
            "grid_gap": null,
            "grid_row": null,
            "grid_template_areas": null,
            "grid_template_columns": null,
            "grid_template_rows": null,
            "height": null,
            "justify_content": null,
            "justify_items": null,
            "left": null,
            "margin": null,
            "max_height": null,
            "max_width": null,
            "min_height": null,
            "min_width": null,
            "object_fit": null,
            "object_position": null,
            "order": null,
            "overflow": null,
            "overflow_x": null,
            "overflow_y": null,
            "padding": null,
            "right": null,
            "top": null,
            "visibility": null,
            "width": null
          }
        },
        "b3c6b43323514eac846c102c0efa2571": {
          "model_module": "@jupyter-widgets/controls",
          "model_name": "ProgressStyleModel",
          "model_module_version": "1.5.0",
          "state": {
            "_model_module": "@jupyter-widgets/controls",
            "_model_module_version": "1.5.0",
            "_model_name": "ProgressStyleModel",
            "_view_count": null,
            "_view_module": "@jupyter-widgets/base",
            "_view_module_version": "1.2.0",
            "_view_name": "StyleView",
            "bar_color": null,
            "description_width": ""
          }
        },
        "f8000cbbffec42758ee3e36eb1a0ff48": {
          "model_module": "@jupyter-widgets/base",
          "model_name": "LayoutModel",
          "model_module_version": "1.2.0",
          "state": {
            "_model_module": "@jupyter-widgets/base",
            "_model_module_version": "1.2.0",
            "_model_name": "LayoutModel",
            "_view_count": null,
            "_view_module": "@jupyter-widgets/base",
            "_view_module_version": "1.2.0",
            "_view_name": "LayoutView",
            "align_content": null,
            "align_items": null,
            "align_self": null,
            "border": null,
            "bottom": null,
            "display": null,
            "flex": null,
            "flex_flow": null,
            "grid_area": null,
            "grid_auto_columns": null,
            "grid_auto_flow": null,
            "grid_auto_rows": null,
            "grid_column": null,
            "grid_gap": null,
            "grid_row": null,
            "grid_template_areas": null,
            "grid_template_columns": null,
            "grid_template_rows": null,
            "height": null,
            "justify_content": null,
            "justify_items": null,
            "left": null,
            "margin": null,
            "max_height": null,
            "max_width": null,
            "min_height": null,
            "min_width": null,
            "object_fit": null,
            "object_position": null,
            "order": null,
            "overflow": null,
            "overflow_x": null,
            "overflow_y": null,
            "padding": null,
            "right": null,
            "top": null,
            "visibility": null,
            "width": null
          }
        },
        "cb71aec7f3c54a13886f1046eb257e7c": {
          "model_module": "@jupyter-widgets/controls",
          "model_name": "DescriptionStyleModel",
          "model_module_version": "1.5.0",
          "state": {
            "_model_module": "@jupyter-widgets/controls",
            "_model_module_version": "1.5.0",
            "_model_name": "DescriptionStyleModel",
            "_view_count": null,
            "_view_module": "@jupyter-widgets/base",
            "_view_module_version": "1.2.0",
            "_view_name": "StyleView",
            "description_width": ""
          }
        },
        "0a0149f2621c40b1a6583a34ccbd5913": {
          "model_module": "@jupyter-widgets/controls",
          "model_name": "HBoxModel",
          "model_module_version": "1.5.0",
          "state": {
            "_dom_classes": [],
            "_model_module": "@jupyter-widgets/controls",
            "_model_module_version": "1.5.0",
            "_model_name": "HBoxModel",
            "_view_count": null,
            "_view_module": "@jupyter-widgets/controls",
            "_view_module_version": "1.5.0",
            "_view_name": "HBoxView",
            "box_style": "",
            "children": [
              "IPY_MODEL_ede06c1e078a4f4a9faf995255cfa737",
              "IPY_MODEL_cef0d9990ca1461b8b67ca53a2e7fafd",
              "IPY_MODEL_fa4af4bf6ed44bc4bfb14be2a1745cfb"
            ],
            "layout": "IPY_MODEL_8dffaea2b8974fd4b1b65123bc36d227"
          }
        },
        "ede06c1e078a4f4a9faf995255cfa737": {
          "model_module": "@jupyter-widgets/controls",
          "model_name": "HTMLModel",
          "model_module_version": "1.5.0",
          "state": {
            "_dom_classes": [],
            "_model_module": "@jupyter-widgets/controls",
            "_model_module_version": "1.5.0",
            "_model_name": "HTMLModel",
            "_view_count": null,
            "_view_module": "@jupyter-widgets/controls",
            "_view_module_version": "1.5.0",
            "_view_name": "HTMLView",
            "description": "",
            "description_tooltip": null,
            "layout": "IPY_MODEL_bc47d7f0d76a4ac280b6bffd97ff8393",
            "placeholder": "​",
            "style": "IPY_MODEL_bf6528f87fb94ab8be0081cd4d87a9e1",
            "value": "Downloading (…)okenizer_config.json: 100%"
          }
        },
        "cef0d9990ca1461b8b67ca53a2e7fafd": {
          "model_module": "@jupyter-widgets/controls",
          "model_name": "FloatProgressModel",
          "model_module_version": "1.5.0",
          "state": {
            "_dom_classes": [],
            "_model_module": "@jupyter-widgets/controls",
            "_model_module_version": "1.5.0",
            "_model_name": "FloatProgressModel",
            "_view_count": null,
            "_view_module": "@jupyter-widgets/controls",
            "_view_module_version": "1.5.0",
            "_view_name": "ProgressView",
            "bar_style": "success",
            "description": "",
            "description_tooltip": null,
            "layout": "IPY_MODEL_087c61e82876401899c80957197d1e92",
            "max": 28,
            "min": 0,
            "orientation": "horizontal",
            "style": "IPY_MODEL_58d8b3ed567947d6acb5c6c22366befa",
            "value": 28
          }
        },
        "fa4af4bf6ed44bc4bfb14be2a1745cfb": {
          "model_module": "@jupyter-widgets/controls",
          "model_name": "HTMLModel",
          "model_module_version": "1.5.0",
          "state": {
            "_dom_classes": [],
            "_model_module": "@jupyter-widgets/controls",
            "_model_module_version": "1.5.0",
            "_model_name": "HTMLModel",
            "_view_count": null,
            "_view_module": "@jupyter-widgets/controls",
            "_view_module_version": "1.5.0",
            "_view_name": "HTMLView",
            "description": "",
            "description_tooltip": null,
            "layout": "IPY_MODEL_1b72ef69e4e44fb1a6841ed3c343fd2d",
            "placeholder": "​",
            "style": "IPY_MODEL_7dc89ad8881e448f90a95a5e634372d5",
            "value": " 28.0/28.0 [00:00&lt;00:00, 1.56kB/s]"
          }
        },
        "8dffaea2b8974fd4b1b65123bc36d227": {
          "model_module": "@jupyter-widgets/base",
          "model_name": "LayoutModel",
          "model_module_version": "1.2.0",
          "state": {
            "_model_module": "@jupyter-widgets/base",
            "_model_module_version": "1.2.0",
            "_model_name": "LayoutModel",
            "_view_count": null,
            "_view_module": "@jupyter-widgets/base",
            "_view_module_version": "1.2.0",
            "_view_name": "LayoutView",
            "align_content": null,
            "align_items": null,
            "align_self": null,
            "border": null,
            "bottom": null,
            "display": null,
            "flex": null,
            "flex_flow": null,
            "grid_area": null,
            "grid_auto_columns": null,
            "grid_auto_flow": null,
            "grid_auto_rows": null,
            "grid_column": null,
            "grid_gap": null,
            "grid_row": null,
            "grid_template_areas": null,
            "grid_template_columns": null,
            "grid_template_rows": null,
            "height": null,
            "justify_content": null,
            "justify_items": null,
            "left": null,
            "margin": null,
            "max_height": null,
            "max_width": null,
            "min_height": null,
            "min_width": null,
            "object_fit": null,
            "object_position": null,
            "order": null,
            "overflow": null,
            "overflow_x": null,
            "overflow_y": null,
            "padding": null,
            "right": null,
            "top": null,
            "visibility": null,
            "width": null
          }
        },
        "bc47d7f0d76a4ac280b6bffd97ff8393": {
          "model_module": "@jupyter-widgets/base",
          "model_name": "LayoutModel",
          "model_module_version": "1.2.0",
          "state": {
            "_model_module": "@jupyter-widgets/base",
            "_model_module_version": "1.2.0",
            "_model_name": "LayoutModel",
            "_view_count": null,
            "_view_module": "@jupyter-widgets/base",
            "_view_module_version": "1.2.0",
            "_view_name": "LayoutView",
            "align_content": null,
            "align_items": null,
            "align_self": null,
            "border": null,
            "bottom": null,
            "display": null,
            "flex": null,
            "flex_flow": null,
            "grid_area": null,
            "grid_auto_columns": null,
            "grid_auto_flow": null,
            "grid_auto_rows": null,
            "grid_column": null,
            "grid_gap": null,
            "grid_row": null,
            "grid_template_areas": null,
            "grid_template_columns": null,
            "grid_template_rows": null,
            "height": null,
            "justify_content": null,
            "justify_items": null,
            "left": null,
            "margin": null,
            "max_height": null,
            "max_width": null,
            "min_height": null,
            "min_width": null,
            "object_fit": null,
            "object_position": null,
            "order": null,
            "overflow": null,
            "overflow_x": null,
            "overflow_y": null,
            "padding": null,
            "right": null,
            "top": null,
            "visibility": null,
            "width": null
          }
        },
        "bf6528f87fb94ab8be0081cd4d87a9e1": {
          "model_module": "@jupyter-widgets/controls",
          "model_name": "DescriptionStyleModel",
          "model_module_version": "1.5.0",
          "state": {
            "_model_module": "@jupyter-widgets/controls",
            "_model_module_version": "1.5.0",
            "_model_name": "DescriptionStyleModel",
            "_view_count": null,
            "_view_module": "@jupyter-widgets/base",
            "_view_module_version": "1.2.0",
            "_view_name": "StyleView",
            "description_width": ""
          }
        },
        "087c61e82876401899c80957197d1e92": {
          "model_module": "@jupyter-widgets/base",
          "model_name": "LayoutModel",
          "model_module_version": "1.2.0",
          "state": {
            "_model_module": "@jupyter-widgets/base",
            "_model_module_version": "1.2.0",
            "_model_name": "LayoutModel",
            "_view_count": null,
            "_view_module": "@jupyter-widgets/base",
            "_view_module_version": "1.2.0",
            "_view_name": "LayoutView",
            "align_content": null,
            "align_items": null,
            "align_self": null,
            "border": null,
            "bottom": null,
            "display": null,
            "flex": null,
            "flex_flow": null,
            "grid_area": null,
            "grid_auto_columns": null,
            "grid_auto_flow": null,
            "grid_auto_rows": null,
            "grid_column": null,
            "grid_gap": null,
            "grid_row": null,
            "grid_template_areas": null,
            "grid_template_columns": null,
            "grid_template_rows": null,
            "height": null,
            "justify_content": null,
            "justify_items": null,
            "left": null,
            "margin": null,
            "max_height": null,
            "max_width": null,
            "min_height": null,
            "min_width": null,
            "object_fit": null,
            "object_position": null,
            "order": null,
            "overflow": null,
            "overflow_x": null,
            "overflow_y": null,
            "padding": null,
            "right": null,
            "top": null,
            "visibility": null,
            "width": null
          }
        },
        "58d8b3ed567947d6acb5c6c22366befa": {
          "model_module": "@jupyter-widgets/controls",
          "model_name": "ProgressStyleModel",
          "model_module_version": "1.5.0",
          "state": {
            "_model_module": "@jupyter-widgets/controls",
            "_model_module_version": "1.5.0",
            "_model_name": "ProgressStyleModel",
            "_view_count": null,
            "_view_module": "@jupyter-widgets/base",
            "_view_module_version": "1.2.0",
            "_view_name": "StyleView",
            "bar_color": null,
            "description_width": ""
          }
        },
        "1b72ef69e4e44fb1a6841ed3c343fd2d": {
          "model_module": "@jupyter-widgets/base",
          "model_name": "LayoutModel",
          "model_module_version": "1.2.0",
          "state": {
            "_model_module": "@jupyter-widgets/base",
            "_model_module_version": "1.2.0",
            "_model_name": "LayoutModel",
            "_view_count": null,
            "_view_module": "@jupyter-widgets/base",
            "_view_module_version": "1.2.0",
            "_view_name": "LayoutView",
            "align_content": null,
            "align_items": null,
            "align_self": null,
            "border": null,
            "bottom": null,
            "display": null,
            "flex": null,
            "flex_flow": null,
            "grid_area": null,
            "grid_auto_columns": null,
            "grid_auto_flow": null,
            "grid_auto_rows": null,
            "grid_column": null,
            "grid_gap": null,
            "grid_row": null,
            "grid_template_areas": null,
            "grid_template_columns": null,
            "grid_template_rows": null,
            "height": null,
            "justify_content": null,
            "justify_items": null,
            "left": null,
            "margin": null,
            "max_height": null,
            "max_width": null,
            "min_height": null,
            "min_width": null,
            "object_fit": null,
            "object_position": null,
            "order": null,
            "overflow": null,
            "overflow_x": null,
            "overflow_y": null,
            "padding": null,
            "right": null,
            "top": null,
            "visibility": null,
            "width": null
          }
        },
        "7dc89ad8881e448f90a95a5e634372d5": {
          "model_module": "@jupyter-widgets/controls",
          "model_name": "DescriptionStyleModel",
          "model_module_version": "1.5.0",
          "state": {
            "_model_module": "@jupyter-widgets/controls",
            "_model_module_version": "1.5.0",
            "_model_name": "DescriptionStyleModel",
            "_view_count": null,
            "_view_module": "@jupyter-widgets/base",
            "_view_module_version": "1.2.0",
            "_view_name": "StyleView",
            "description_width": ""
          }
        },
        "2d6c843609c843a8bfef11cb060283b8": {
          "model_module": "@jupyter-widgets/controls",
          "model_name": "HBoxModel",
          "model_module_version": "1.5.0",
          "state": {
            "_dom_classes": [],
            "_model_module": "@jupyter-widgets/controls",
            "_model_module_version": "1.5.0",
            "_model_name": "HBoxModel",
            "_view_count": null,
            "_view_module": "@jupyter-widgets/controls",
            "_view_module_version": "1.5.0",
            "_view_name": "HBoxView",
            "box_style": "",
            "children": [
              "IPY_MODEL_0d504cb45017401e9d40d960dead3d8a",
              "IPY_MODEL_3836dbb3a7524203b200a5aa10a20aa5",
              "IPY_MODEL_39b6950f86d14a6bad2f6955490b5e5d"
            ],
            "layout": "IPY_MODEL_010f929f028941139c948c18b38021f4"
          }
        },
        "0d504cb45017401e9d40d960dead3d8a": {
          "model_module": "@jupyter-widgets/controls",
          "model_name": "HTMLModel",
          "model_module_version": "1.5.0",
          "state": {
            "_dom_classes": [],
            "_model_module": "@jupyter-widgets/controls",
            "_model_module_version": "1.5.0",
            "_model_name": "HTMLModel",
            "_view_count": null,
            "_view_module": "@jupyter-widgets/controls",
            "_view_module_version": "1.5.0",
            "_view_name": "HTMLView",
            "description": "",
            "description_tooltip": null,
            "layout": "IPY_MODEL_0a155a29e1fe4355951e55958f036cf8",
            "placeholder": "​",
            "style": "IPY_MODEL_0f8dcc64238746c09c2c8e2636bbb92f",
            "value": "Downloading (…)solve/main/vocab.txt: 100%"
          }
        },
        "3836dbb3a7524203b200a5aa10a20aa5": {
          "model_module": "@jupyter-widgets/controls",
          "model_name": "FloatProgressModel",
          "model_module_version": "1.5.0",
          "state": {
            "_dom_classes": [],
            "_model_module": "@jupyter-widgets/controls",
            "_model_module_version": "1.5.0",
            "_model_name": "FloatProgressModel",
            "_view_count": null,
            "_view_module": "@jupyter-widgets/controls",
            "_view_module_version": "1.5.0",
            "_view_name": "ProgressView",
            "bar_style": "success",
            "description": "",
            "description_tooltip": null,
            "layout": "IPY_MODEL_f6aeb8eef437444c9fff90848552e0fa",
            "max": 231508,
            "min": 0,
            "orientation": "horizontal",
            "style": "IPY_MODEL_14fbed00d2a64add9fef63327a8e33c6",
            "value": 231508
          }
        },
        "39b6950f86d14a6bad2f6955490b5e5d": {
          "model_module": "@jupyter-widgets/controls",
          "model_name": "HTMLModel",
          "model_module_version": "1.5.0",
          "state": {
            "_dom_classes": [],
            "_model_module": "@jupyter-widgets/controls",
            "_model_module_version": "1.5.0",
            "_model_name": "HTMLModel",
            "_view_count": null,
            "_view_module": "@jupyter-widgets/controls",
            "_view_module_version": "1.5.0",
            "_view_name": "HTMLView",
            "description": "",
            "description_tooltip": null,
            "layout": "IPY_MODEL_83b3f0bc298a478490c60cf8f304f635",
            "placeholder": "​",
            "style": "IPY_MODEL_56c893f41bd34a96b158dcfe239dd105",
            "value": " 232k/232k [00:00&lt;00:00, 343kB/s]"
          }
        },
        "010f929f028941139c948c18b38021f4": {
          "model_module": "@jupyter-widgets/base",
          "model_name": "LayoutModel",
          "model_module_version": "1.2.0",
          "state": {
            "_model_module": "@jupyter-widgets/base",
            "_model_module_version": "1.2.0",
            "_model_name": "LayoutModel",
            "_view_count": null,
            "_view_module": "@jupyter-widgets/base",
            "_view_module_version": "1.2.0",
            "_view_name": "LayoutView",
            "align_content": null,
            "align_items": null,
            "align_self": null,
            "border": null,
            "bottom": null,
            "display": null,
            "flex": null,
            "flex_flow": null,
            "grid_area": null,
            "grid_auto_columns": null,
            "grid_auto_flow": null,
            "grid_auto_rows": null,
            "grid_column": null,
            "grid_gap": null,
            "grid_row": null,
            "grid_template_areas": null,
            "grid_template_columns": null,
            "grid_template_rows": null,
            "height": null,
            "justify_content": null,
            "justify_items": null,
            "left": null,
            "margin": null,
            "max_height": null,
            "max_width": null,
            "min_height": null,
            "min_width": null,
            "object_fit": null,
            "object_position": null,
            "order": null,
            "overflow": null,
            "overflow_x": null,
            "overflow_y": null,
            "padding": null,
            "right": null,
            "top": null,
            "visibility": null,
            "width": null
          }
        },
        "0a155a29e1fe4355951e55958f036cf8": {
          "model_module": "@jupyter-widgets/base",
          "model_name": "LayoutModel",
          "model_module_version": "1.2.0",
          "state": {
            "_model_module": "@jupyter-widgets/base",
            "_model_module_version": "1.2.0",
            "_model_name": "LayoutModel",
            "_view_count": null,
            "_view_module": "@jupyter-widgets/base",
            "_view_module_version": "1.2.0",
            "_view_name": "LayoutView",
            "align_content": null,
            "align_items": null,
            "align_self": null,
            "border": null,
            "bottom": null,
            "display": null,
            "flex": null,
            "flex_flow": null,
            "grid_area": null,
            "grid_auto_columns": null,
            "grid_auto_flow": null,
            "grid_auto_rows": null,
            "grid_column": null,
            "grid_gap": null,
            "grid_row": null,
            "grid_template_areas": null,
            "grid_template_columns": null,
            "grid_template_rows": null,
            "height": null,
            "justify_content": null,
            "justify_items": null,
            "left": null,
            "margin": null,
            "max_height": null,
            "max_width": null,
            "min_height": null,
            "min_width": null,
            "object_fit": null,
            "object_position": null,
            "order": null,
            "overflow": null,
            "overflow_x": null,
            "overflow_y": null,
            "padding": null,
            "right": null,
            "top": null,
            "visibility": null,
            "width": null
          }
        },
        "0f8dcc64238746c09c2c8e2636bbb92f": {
          "model_module": "@jupyter-widgets/controls",
          "model_name": "DescriptionStyleModel",
          "model_module_version": "1.5.0",
          "state": {
            "_model_module": "@jupyter-widgets/controls",
            "_model_module_version": "1.5.0",
            "_model_name": "DescriptionStyleModel",
            "_view_count": null,
            "_view_module": "@jupyter-widgets/base",
            "_view_module_version": "1.2.0",
            "_view_name": "StyleView",
            "description_width": ""
          }
        },
        "f6aeb8eef437444c9fff90848552e0fa": {
          "model_module": "@jupyter-widgets/base",
          "model_name": "LayoutModel",
          "model_module_version": "1.2.0",
          "state": {
            "_model_module": "@jupyter-widgets/base",
            "_model_module_version": "1.2.0",
            "_model_name": "LayoutModel",
            "_view_count": null,
            "_view_module": "@jupyter-widgets/base",
            "_view_module_version": "1.2.0",
            "_view_name": "LayoutView",
            "align_content": null,
            "align_items": null,
            "align_self": null,
            "border": null,
            "bottom": null,
            "display": null,
            "flex": null,
            "flex_flow": null,
            "grid_area": null,
            "grid_auto_columns": null,
            "grid_auto_flow": null,
            "grid_auto_rows": null,
            "grid_column": null,
            "grid_gap": null,
            "grid_row": null,
            "grid_template_areas": null,
            "grid_template_columns": null,
            "grid_template_rows": null,
            "height": null,
            "justify_content": null,
            "justify_items": null,
            "left": null,
            "margin": null,
            "max_height": null,
            "max_width": null,
            "min_height": null,
            "min_width": null,
            "object_fit": null,
            "object_position": null,
            "order": null,
            "overflow": null,
            "overflow_x": null,
            "overflow_y": null,
            "padding": null,
            "right": null,
            "top": null,
            "visibility": null,
            "width": null
          }
        },
        "14fbed00d2a64add9fef63327a8e33c6": {
          "model_module": "@jupyter-widgets/controls",
          "model_name": "ProgressStyleModel",
          "model_module_version": "1.5.0",
          "state": {
            "_model_module": "@jupyter-widgets/controls",
            "_model_module_version": "1.5.0",
            "_model_name": "ProgressStyleModel",
            "_view_count": null,
            "_view_module": "@jupyter-widgets/base",
            "_view_module_version": "1.2.0",
            "_view_name": "StyleView",
            "bar_color": null,
            "description_width": ""
          }
        },
        "83b3f0bc298a478490c60cf8f304f635": {
          "model_module": "@jupyter-widgets/base",
          "model_name": "LayoutModel",
          "model_module_version": "1.2.0",
          "state": {
            "_model_module": "@jupyter-widgets/base",
            "_model_module_version": "1.2.0",
            "_model_name": "LayoutModel",
            "_view_count": null,
            "_view_module": "@jupyter-widgets/base",
            "_view_module_version": "1.2.0",
            "_view_name": "LayoutView",
            "align_content": null,
            "align_items": null,
            "align_self": null,
            "border": null,
            "bottom": null,
            "display": null,
            "flex": null,
            "flex_flow": null,
            "grid_area": null,
            "grid_auto_columns": null,
            "grid_auto_flow": null,
            "grid_auto_rows": null,
            "grid_column": null,
            "grid_gap": null,
            "grid_row": null,
            "grid_template_areas": null,
            "grid_template_columns": null,
            "grid_template_rows": null,
            "height": null,
            "justify_content": null,
            "justify_items": null,
            "left": null,
            "margin": null,
            "max_height": null,
            "max_width": null,
            "min_height": null,
            "min_width": null,
            "object_fit": null,
            "object_position": null,
            "order": null,
            "overflow": null,
            "overflow_x": null,
            "overflow_y": null,
            "padding": null,
            "right": null,
            "top": null,
            "visibility": null,
            "width": null
          }
        },
        "56c893f41bd34a96b158dcfe239dd105": {
          "model_module": "@jupyter-widgets/controls",
          "model_name": "DescriptionStyleModel",
          "model_module_version": "1.5.0",
          "state": {
            "_model_module": "@jupyter-widgets/controls",
            "_model_module_version": "1.5.0",
            "_model_name": "DescriptionStyleModel",
            "_view_count": null,
            "_view_module": "@jupyter-widgets/base",
            "_view_module_version": "1.2.0",
            "_view_name": "StyleView",
            "description_width": ""
          }
        },
        "7c87641d242d4c80be8bd0c12adcd8c2": {
          "model_module": "@jupyter-widgets/controls",
          "model_name": "HBoxModel",
          "model_module_version": "1.5.0",
          "state": {
            "_dom_classes": [],
            "_model_module": "@jupyter-widgets/controls",
            "_model_module_version": "1.5.0",
            "_model_name": "HBoxModel",
            "_view_count": null,
            "_view_module": "@jupyter-widgets/controls",
            "_view_module_version": "1.5.0",
            "_view_name": "HBoxView",
            "box_style": "",
            "children": [
              "IPY_MODEL_46e2d54376404d7d8d4c629c7320ee25",
              "IPY_MODEL_06a8edbe885c4b51a7e5ac3b6171ce94",
              "IPY_MODEL_ebd3af6fdc99436c959495025cf00025"
            ],
            "layout": "IPY_MODEL_613b3cdda6d14487912997938dc354b7"
          }
        },
        "46e2d54376404d7d8d4c629c7320ee25": {
          "model_module": "@jupyter-widgets/controls",
          "model_name": "HTMLModel",
          "model_module_version": "1.5.0",
          "state": {
            "_dom_classes": [],
            "_model_module": "@jupyter-widgets/controls",
            "_model_module_version": "1.5.0",
            "_model_name": "HTMLModel",
            "_view_count": null,
            "_view_module": "@jupyter-widgets/controls",
            "_view_module_version": "1.5.0",
            "_view_name": "HTMLView",
            "description": "",
            "description_tooltip": null,
            "layout": "IPY_MODEL_4c75bd6448bf42f89099414f940771d6",
            "placeholder": "​",
            "style": "IPY_MODEL_c41dc47a1fb54878abec748bdb7ed439",
            "value": "Downloading (…)/main/tokenizer.json: 100%"
          }
        },
        "06a8edbe885c4b51a7e5ac3b6171ce94": {
          "model_module": "@jupyter-widgets/controls",
          "model_name": "FloatProgressModel",
          "model_module_version": "1.5.0",
          "state": {
            "_dom_classes": [],
            "_model_module": "@jupyter-widgets/controls",
            "_model_module_version": "1.5.0",
            "_model_name": "FloatProgressModel",
            "_view_count": null,
            "_view_module": "@jupyter-widgets/controls",
            "_view_module_version": "1.5.0",
            "_view_name": "ProgressView",
            "bar_style": "success",
            "description": "",
            "description_tooltip": null,
            "layout": "IPY_MODEL_3e488100ddbf4113be100dd7c7aa1494",
            "max": 466062,
            "min": 0,
            "orientation": "horizontal",
            "style": "IPY_MODEL_b59d5a799fc149ee858a0fd44f3859a2",
            "value": 466062
          }
        },
        "ebd3af6fdc99436c959495025cf00025": {
          "model_module": "@jupyter-widgets/controls",
          "model_name": "HTMLModel",
          "model_module_version": "1.5.0",
          "state": {
            "_dom_classes": [],
            "_model_module": "@jupyter-widgets/controls",
            "_model_module_version": "1.5.0",
            "_model_name": "HTMLModel",
            "_view_count": null,
            "_view_module": "@jupyter-widgets/controls",
            "_view_module_version": "1.5.0",
            "_view_name": "HTMLView",
            "description": "",
            "description_tooltip": null,
            "layout": "IPY_MODEL_641aace3c24747479da334441d0605ae",
            "placeholder": "​",
            "style": "IPY_MODEL_f8e987c749c54bf8af319d5ca657b268",
            "value": " 466k/466k [00:01&lt;00:00, 421kB/s]"
          }
        },
        "613b3cdda6d14487912997938dc354b7": {
          "model_module": "@jupyter-widgets/base",
          "model_name": "LayoutModel",
          "model_module_version": "1.2.0",
          "state": {
            "_model_module": "@jupyter-widgets/base",
            "_model_module_version": "1.2.0",
            "_model_name": "LayoutModel",
            "_view_count": null,
            "_view_module": "@jupyter-widgets/base",
            "_view_module_version": "1.2.0",
            "_view_name": "LayoutView",
            "align_content": null,
            "align_items": null,
            "align_self": null,
            "border": null,
            "bottom": null,
            "display": null,
            "flex": null,
            "flex_flow": null,
            "grid_area": null,
            "grid_auto_columns": null,
            "grid_auto_flow": null,
            "grid_auto_rows": null,
            "grid_column": null,
            "grid_gap": null,
            "grid_row": null,
            "grid_template_areas": null,
            "grid_template_columns": null,
            "grid_template_rows": null,
            "height": null,
            "justify_content": null,
            "justify_items": null,
            "left": null,
            "margin": null,
            "max_height": null,
            "max_width": null,
            "min_height": null,
            "min_width": null,
            "object_fit": null,
            "object_position": null,
            "order": null,
            "overflow": null,
            "overflow_x": null,
            "overflow_y": null,
            "padding": null,
            "right": null,
            "top": null,
            "visibility": null,
            "width": null
          }
        },
        "4c75bd6448bf42f89099414f940771d6": {
          "model_module": "@jupyter-widgets/base",
          "model_name": "LayoutModel",
          "model_module_version": "1.2.0",
          "state": {
            "_model_module": "@jupyter-widgets/base",
            "_model_module_version": "1.2.0",
            "_model_name": "LayoutModel",
            "_view_count": null,
            "_view_module": "@jupyter-widgets/base",
            "_view_module_version": "1.2.0",
            "_view_name": "LayoutView",
            "align_content": null,
            "align_items": null,
            "align_self": null,
            "border": null,
            "bottom": null,
            "display": null,
            "flex": null,
            "flex_flow": null,
            "grid_area": null,
            "grid_auto_columns": null,
            "grid_auto_flow": null,
            "grid_auto_rows": null,
            "grid_column": null,
            "grid_gap": null,
            "grid_row": null,
            "grid_template_areas": null,
            "grid_template_columns": null,
            "grid_template_rows": null,
            "height": null,
            "justify_content": null,
            "justify_items": null,
            "left": null,
            "margin": null,
            "max_height": null,
            "max_width": null,
            "min_height": null,
            "min_width": null,
            "object_fit": null,
            "object_position": null,
            "order": null,
            "overflow": null,
            "overflow_x": null,
            "overflow_y": null,
            "padding": null,
            "right": null,
            "top": null,
            "visibility": null,
            "width": null
          }
        },
        "c41dc47a1fb54878abec748bdb7ed439": {
          "model_module": "@jupyter-widgets/controls",
          "model_name": "DescriptionStyleModel",
          "model_module_version": "1.5.0",
          "state": {
            "_model_module": "@jupyter-widgets/controls",
            "_model_module_version": "1.5.0",
            "_model_name": "DescriptionStyleModel",
            "_view_count": null,
            "_view_module": "@jupyter-widgets/base",
            "_view_module_version": "1.2.0",
            "_view_name": "StyleView",
            "description_width": ""
          }
        },
        "3e488100ddbf4113be100dd7c7aa1494": {
          "model_module": "@jupyter-widgets/base",
          "model_name": "LayoutModel",
          "model_module_version": "1.2.0",
          "state": {
            "_model_module": "@jupyter-widgets/base",
            "_model_module_version": "1.2.0",
            "_model_name": "LayoutModel",
            "_view_count": null,
            "_view_module": "@jupyter-widgets/base",
            "_view_module_version": "1.2.0",
            "_view_name": "LayoutView",
            "align_content": null,
            "align_items": null,
            "align_self": null,
            "border": null,
            "bottom": null,
            "display": null,
            "flex": null,
            "flex_flow": null,
            "grid_area": null,
            "grid_auto_columns": null,
            "grid_auto_flow": null,
            "grid_auto_rows": null,
            "grid_column": null,
            "grid_gap": null,
            "grid_row": null,
            "grid_template_areas": null,
            "grid_template_columns": null,
            "grid_template_rows": null,
            "height": null,
            "justify_content": null,
            "justify_items": null,
            "left": null,
            "margin": null,
            "max_height": null,
            "max_width": null,
            "min_height": null,
            "min_width": null,
            "object_fit": null,
            "object_position": null,
            "order": null,
            "overflow": null,
            "overflow_x": null,
            "overflow_y": null,
            "padding": null,
            "right": null,
            "top": null,
            "visibility": null,
            "width": null
          }
        },
        "b59d5a799fc149ee858a0fd44f3859a2": {
          "model_module": "@jupyter-widgets/controls",
          "model_name": "ProgressStyleModel",
          "model_module_version": "1.5.0",
          "state": {
            "_model_module": "@jupyter-widgets/controls",
            "_model_module_version": "1.5.0",
            "_model_name": "ProgressStyleModel",
            "_view_count": null,
            "_view_module": "@jupyter-widgets/base",
            "_view_module_version": "1.2.0",
            "_view_name": "StyleView",
            "bar_color": null,
            "description_width": ""
          }
        },
        "641aace3c24747479da334441d0605ae": {
          "model_module": "@jupyter-widgets/base",
          "model_name": "LayoutModel",
          "model_module_version": "1.2.0",
          "state": {
            "_model_module": "@jupyter-widgets/base",
            "_model_module_version": "1.2.0",
            "_model_name": "LayoutModel",
            "_view_count": null,
            "_view_module": "@jupyter-widgets/base",
            "_view_module_version": "1.2.0",
            "_view_name": "LayoutView",
            "align_content": null,
            "align_items": null,
            "align_self": null,
            "border": null,
            "bottom": null,
            "display": null,
            "flex": null,
            "flex_flow": null,
            "grid_area": null,
            "grid_auto_columns": null,
            "grid_auto_flow": null,
            "grid_auto_rows": null,
            "grid_column": null,
            "grid_gap": null,
            "grid_row": null,
            "grid_template_areas": null,
            "grid_template_columns": null,
            "grid_template_rows": null,
            "height": null,
            "justify_content": null,
            "justify_items": null,
            "left": null,
            "margin": null,
            "max_height": null,
            "max_width": null,
            "min_height": null,
            "min_width": null,
            "object_fit": null,
            "object_position": null,
            "order": null,
            "overflow": null,
            "overflow_x": null,
            "overflow_y": null,
            "padding": null,
            "right": null,
            "top": null,
            "visibility": null,
            "width": null
          }
        },
        "f8e987c749c54bf8af319d5ca657b268": {
          "model_module": "@jupyter-widgets/controls",
          "model_name": "DescriptionStyleModel",
          "model_module_version": "1.5.0",
          "state": {
            "_model_module": "@jupyter-widgets/controls",
            "_model_module_version": "1.5.0",
            "_model_name": "DescriptionStyleModel",
            "_view_count": null,
            "_view_module": "@jupyter-widgets/base",
            "_view_module_version": "1.2.0",
            "_view_name": "StyleView",
            "description_width": ""
          }
        }
      }
    },
    "accelerator": "GPU"
  },
  "nbformat": 4,
  "nbformat_minor": 0
}
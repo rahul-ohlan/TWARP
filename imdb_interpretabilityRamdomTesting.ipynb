{
  "cells": [
    {
      "cell_type": "markdown",
      "metadata": {
        "id": "view-in-github",
        "colab_type": "text"
      },
      "source": [
        "<a href=\"https://colab.research.google.com/github/rahul-ohlan/TWARP/blob/main/imdb_interpretabilityRamdomTesting.ipynb\" target=\"_parent\"><img src=\"https://colab.research.google.com/assets/colab-badge.svg\" alt=\"Open In Colab\"/></a>"
      ]
    },
    {
      "cell_type": "code",
      "execution_count": null,
      "metadata": {
        "colab": {
          "base_uri": "https://localhost:8080/"
        },
        "id": "5jhM_rClphVV",
        "outputId": "8ccada14-94ba-4052-e380-a667d975b971"
      },
      "outputs": [
        {
          "output_type": "stream",
          "name": "stdout",
          "text": [
            "Mounted at /gdrive/\n",
            "/gdrive\n"
          ]
        }
      ],
      "source": [
        "from google.colab import drive\n",
        "drive.mount(\"/gdrive/\")\n",
        "%cd \"/gdrive/\""
      ]
    },
    {
      "cell_type": "code",
      "execution_count": null,
      "metadata": {
        "colab": {
          "base_uri": "https://localhost:8080/"
        },
        "id": "l1TOXykYpxJE",
        "outputId": "73287db0-257e-410d-f4fc-ed312c8a0366"
      },
      "outputs": [
        {
          "output_type": "stream",
          "name": "stdout",
          "text": [
            "\u001b[2K     \u001b[90m━━━━━━━━━━━━━━━━━━━━━━━━━━━━━━━━━━━━━━━━\u001b[0m \u001b[32m6.8/6.8 MB\u001b[0m \u001b[31m15.1 MB/s\u001b[0m eta \u001b[36m0:00:00\u001b[0m\n",
            "\u001b[2K     \u001b[90m━━━━━━━━━━━━━━━━━━━━━━━━━━━━━━━━━━━━━━━━\u001b[0m \u001b[32m7.6/7.6 MB\u001b[0m \u001b[31m27.6 MB/s\u001b[0m eta \u001b[36m0:00:00\u001b[0m\n",
            "\u001b[2K     \u001b[90m━━━━━━━━━━━━━━━━━━━━━━━━━━━━━━━━━━━━━━\u001b[0m \u001b[32m199.8/199.8 KB\u001b[0m \u001b[31m18.7 MB/s\u001b[0m eta \u001b[36m0:00:00\u001b[0m\n",
            "\u001b[?25h"
          ]
        }
      ],
      "source": [
        "!pip install transformers --quiet"
      ]
    },
    {
      "cell_type": "markdown",
      "source": [
        "## Load and Preprocess Data"
      ],
      "metadata": {
        "id": "PQObjrV-PUi-"
      }
    },
    {
      "cell_type": "code",
      "execution_count": null,
      "metadata": {
        "colab": {
          "base_uri": "https://localhost:8080/"
        },
        "id": "qi_JM7Yfp4j8",
        "outputId": "c4e29bd3-8508-4211-faa6-741306561ecc"
      },
      "outputs": [
        {
          "output_type": "stream",
          "name": "stderr",
          "text": [
            "[nltk_data] Downloading package punkt to /root/nltk_data...\n",
            "[nltk_data]   Unzipping tokenizers/punkt.zip.\n",
            "[nltk_data] Downloading package stopwords to /root/nltk_data...\n",
            "[nltk_data]   Unzipping corpora/stopwords.zip.\n"
          ]
        }
      ],
      "source": [
        "# import libraries\n",
        "import os\n",
        "import random\n",
        "import pickle\n",
        "from timeit import default_timer as timer\n",
        "\n",
        "import re\n",
        "import nltk\n",
        "nltk.download(\"punkt\")\n",
        "from nltk.corpus import stopwords\n",
        "nltk.download(\"stopwords\")\n",
        "from string import punctuation\n",
        "\n",
        "import pandas as pd\n",
        "import numpy as np\n",
        "import matplotlib.pyplot as plt\n",
        "\n",
        "from sklearn.model_selection import train_test_split\n",
        "from sklearn.preprocessing import OneHotEncoder\n",
        "from sklearn.compose import make_column_transformer\n",
        "from sklearn.utils import class_weight\n",
        "\n",
        "from transformers import TFAutoModel, BertTokenizerFast, BertModel\n",
        "import tensorflow as tf\n",
        "from tensorflow.keras import layers\n",
        "from tensorflow.keras import callbacks as cb\n",
        "from tensorflow.keras.models import Model, Sequential\n",
        "\n",
        "from tensorflow.keras.constraints import MaxNorm\n",
        "import keras\n",
        "from keras.layers import Input, Concatenate, Flatten, Embedding, Dense, Dropout, LSTM\n",
        "from keras.models import Model, Sequential\n",
        "from keras.layers import Lambda"
      ]
    },
    {
      "cell_type": "code",
      "execution_count": null,
      "metadata": {
        "id": "P8taDrFgqG-u"
      },
      "outputs": [],
      "source": [
        "def SEED_EVERYTHING(seed_val):\n",
        "  random.seed(seed_val)\n",
        "  np.random.seed(seed_val)\n",
        "  # torch.manual_seed(seed_val)\n",
        "  # torch.cuda.manual_seed_all(seed_val)\n",
        "  tf.random.set_seed(seed_val)\n",
        "  return\n",
        "\n",
        "seed = 47\n",
        "SEED_EVERYTHING(seed)"
      ]
    },
    {
      "cell_type": "code",
      "execution_count": null,
      "metadata": {
        "id": "3VpLpVqvqLfG"
      },
      "outputs": [],
      "source": [
        "def text_preprocessing(text,                                                               # text is a word string ex. 'rahul in ny'\n",
        "                      punctuations = r'''!()-[]{};:'\"\\,<>./?@#$%^&*_“~''',\n",
        "                      stop_words = set(stopwords.words(\"english\"))) -> list:  \n",
        "    \n",
        "        '''\n",
        "        A method to preprocess text\n",
        "        \n",
        "        '''\n",
        "\n",
        "        for x in text.lower():\n",
        "            if x in punctuations:\n",
        "                text = text.replace(x,\"\")\n",
        "                \n",
        "        # removing words that have numbers in them\n",
        "        text = re.sub(r'\\w*\\d\\w*', '', text)\n",
        "        # remove digits\n",
        "        text = re.sub(r'[0-9]+', ' ', text)\n",
        "        \n",
        "        # clean the whitespaces\n",
        "        \n",
        "        text = re.sub(r'\\s+', ' ', text).strip()\n",
        "        \n",
        "        \n",
        "        \n",
        "        # convert all text to a list\n",
        "        \n",
        "        # text = text.split(' ').  # uncomment if list required\n",
        "        emoji_pattern = re.compile(\"[\"\n",
        "                u\"\\U0001F600-\\U0001F64F\"  # emoticons\n",
        "                u\"\\U0001F300-\\U0001F5FF\"  # symbols & pictographs\n",
        "                u\"\\U0001F680-\\U0001F6FF\"  # transport & map symbols\n",
        "                u\"\\U0001F1E0-\\U0001F1FF\"  # flags (iOS)\n",
        "                                  \"]+\", flags=re.UNICODE)\n",
        "        text = emoji_pattern.sub(r'', text) # no emoji\n",
        "\n",
        "        # lowercase eth\n",
        "        \n",
        "        text = text.lower()\n",
        "        \n",
        "        \n",
        "        # drop the stop words\n",
        "        \n",
        "\n",
        "        \n",
        "        # add the tags\n",
        "\n",
        "        return text"
      ]
    },
    {
      "cell_type": "code",
      "execution_count": null,
      "metadata": {
        "colab": {
          "base_uri": "https://localhost:8080/",
          "height": 424
        },
        "id": "Lrk3kpr3qR12",
        "outputId": "10b36954-acaf-4271-980b-83e6f1e8ed1c"
      },
      "outputs": [
        {
          "output_type": "execute_result",
          "data": {
            "text/plain": [
              "                                                  review  sentiment\n",
              "0      cleos second husband is an amateurish attempt ...        0.0\n",
              "1      first of all i would like to clarify that i co...        0.0\n",
              "2      volcano is set in los angeles where a minor ea...        0.0\n",
              "3      this must have been one of chaplins most ambit...        1.0\n",
              "4      military training films are becoming so common...        1.0\n",
              "...                                                  ...        ...\n",
              "49995  happenstance is the most new yorkfeeling paris...        1.0\n",
              "49996  this film tried to capitalize on the much bett...        1.0\n",
              "49997  another of many nearly forgotten movies cranke...        0.0\n",
              "49998  few movies have dashed expectations and upset ...        0.0\n",
              "49999  well well at last a view of this underrated fl...        0.0\n",
              "\n",
              "[50000 rows x 2 columns]"
            ],
            "text/html": [
              "\n",
              "  <div id=\"df-b67cb444-26d7-4c19-8966-b645b1fd6077\">\n",
              "    <div class=\"colab-df-container\">\n",
              "      <div>\n",
              "<style scoped>\n",
              "    .dataframe tbody tr th:only-of-type {\n",
              "        vertical-align: middle;\n",
              "    }\n",
              "\n",
              "    .dataframe tbody tr th {\n",
              "        vertical-align: top;\n",
              "    }\n",
              "\n",
              "    .dataframe thead th {\n",
              "        text-align: right;\n",
              "    }\n",
              "</style>\n",
              "<table border=\"1\" class=\"dataframe\">\n",
              "  <thead>\n",
              "    <tr style=\"text-align: right;\">\n",
              "      <th></th>\n",
              "      <th>review</th>\n",
              "      <th>sentiment</th>\n",
              "    </tr>\n",
              "  </thead>\n",
              "  <tbody>\n",
              "    <tr>\n",
              "      <th>0</th>\n",
              "      <td>cleos second husband is an amateurish attempt ...</td>\n",
              "      <td>0.0</td>\n",
              "    </tr>\n",
              "    <tr>\n",
              "      <th>1</th>\n",
              "      <td>first of all i would like to clarify that i co...</td>\n",
              "      <td>0.0</td>\n",
              "    </tr>\n",
              "    <tr>\n",
              "      <th>2</th>\n",
              "      <td>volcano is set in los angeles where a minor ea...</td>\n",
              "      <td>0.0</td>\n",
              "    </tr>\n",
              "    <tr>\n",
              "      <th>3</th>\n",
              "      <td>this must have been one of chaplins most ambit...</td>\n",
              "      <td>1.0</td>\n",
              "    </tr>\n",
              "    <tr>\n",
              "      <th>4</th>\n",
              "      <td>military training films are becoming so common...</td>\n",
              "      <td>1.0</td>\n",
              "    </tr>\n",
              "    <tr>\n",
              "      <th>...</th>\n",
              "      <td>...</td>\n",
              "      <td>...</td>\n",
              "    </tr>\n",
              "    <tr>\n",
              "      <th>49995</th>\n",
              "      <td>happenstance is the most new yorkfeeling paris...</td>\n",
              "      <td>1.0</td>\n",
              "    </tr>\n",
              "    <tr>\n",
              "      <th>49996</th>\n",
              "      <td>this film tried to capitalize on the much bett...</td>\n",
              "      <td>1.0</td>\n",
              "    </tr>\n",
              "    <tr>\n",
              "      <th>49997</th>\n",
              "      <td>another of many nearly forgotten movies cranke...</td>\n",
              "      <td>0.0</td>\n",
              "    </tr>\n",
              "    <tr>\n",
              "      <th>49998</th>\n",
              "      <td>few movies have dashed expectations and upset ...</td>\n",
              "      <td>0.0</td>\n",
              "    </tr>\n",
              "    <tr>\n",
              "      <th>49999</th>\n",
              "      <td>well well at last a view of this underrated fl...</td>\n",
              "      <td>0.0</td>\n",
              "    </tr>\n",
              "  </tbody>\n",
              "</table>\n",
              "<p>50000 rows × 2 columns</p>\n",
              "</div>\n",
              "      <button class=\"colab-df-convert\" onclick=\"convertToInteractive('df-b67cb444-26d7-4c19-8966-b645b1fd6077')\"\n",
              "              title=\"Convert this dataframe to an interactive table.\"\n",
              "              style=\"display:none;\">\n",
              "        \n",
              "  <svg xmlns=\"http://www.w3.org/2000/svg\" height=\"24px\"viewBox=\"0 0 24 24\"\n",
              "       width=\"24px\">\n",
              "    <path d=\"M0 0h24v24H0V0z\" fill=\"none\"/>\n",
              "    <path d=\"M18.56 5.44l.94 2.06.94-2.06 2.06-.94-2.06-.94-.94-2.06-.94 2.06-2.06.94zm-11 1L8.5 8.5l.94-2.06 2.06-.94-2.06-.94L8.5 2.5l-.94 2.06-2.06.94zm10 10l.94 2.06.94-2.06 2.06-.94-2.06-.94-.94-2.06-.94 2.06-2.06.94z\"/><path d=\"M17.41 7.96l-1.37-1.37c-.4-.4-.92-.59-1.43-.59-.52 0-1.04.2-1.43.59L10.3 9.45l-7.72 7.72c-.78.78-.78 2.05 0 2.83L4 21.41c.39.39.9.59 1.41.59.51 0 1.02-.2 1.41-.59l7.78-7.78 2.81-2.81c.8-.78.8-2.07 0-2.86zM5.41 20L4 18.59l7.72-7.72 1.47 1.35L5.41 20z\"/>\n",
              "  </svg>\n",
              "      </button>\n",
              "      \n",
              "  <style>\n",
              "    .colab-df-container {\n",
              "      display:flex;\n",
              "      flex-wrap:wrap;\n",
              "      gap: 12px;\n",
              "    }\n",
              "\n",
              "    .colab-df-convert {\n",
              "      background-color: #E8F0FE;\n",
              "      border: none;\n",
              "      border-radius: 50%;\n",
              "      cursor: pointer;\n",
              "      display: none;\n",
              "      fill: #1967D2;\n",
              "      height: 32px;\n",
              "      padding: 0 0 0 0;\n",
              "      width: 32px;\n",
              "    }\n",
              "\n",
              "    .colab-df-convert:hover {\n",
              "      background-color: #E2EBFA;\n",
              "      box-shadow: 0px 1px 2px rgba(60, 64, 67, 0.3), 0px 1px 3px 1px rgba(60, 64, 67, 0.15);\n",
              "      fill: #174EA6;\n",
              "    }\n",
              "\n",
              "    [theme=dark] .colab-df-convert {\n",
              "      background-color: #3B4455;\n",
              "      fill: #D2E3FC;\n",
              "    }\n",
              "\n",
              "    [theme=dark] .colab-df-convert:hover {\n",
              "      background-color: #434B5C;\n",
              "      box-shadow: 0px 1px 3px 1px rgba(0, 0, 0, 0.15);\n",
              "      filter: drop-shadow(0px 1px 2px rgba(0, 0, 0, 0.3));\n",
              "      fill: #FFFFFF;\n",
              "    }\n",
              "  </style>\n",
              "\n",
              "      <script>\n",
              "        const buttonEl =\n",
              "          document.querySelector('#df-b67cb444-26d7-4c19-8966-b645b1fd6077 button.colab-df-convert');\n",
              "        buttonEl.style.display =\n",
              "          google.colab.kernel.accessAllowed ? 'block' : 'none';\n",
              "\n",
              "        async function convertToInteractive(key) {\n",
              "          const element = document.querySelector('#df-b67cb444-26d7-4c19-8966-b645b1fd6077');\n",
              "          const dataTable =\n",
              "            await google.colab.kernel.invokeFunction('convertToInteractive',\n",
              "                                                     [key], {});\n",
              "          if (!dataTable) return;\n",
              "\n",
              "          const docLinkHtml = 'Like what you see? Visit the ' +\n",
              "            '<a target=\"_blank\" href=https://colab.research.google.com/notebooks/data_table.ipynb>data table notebook</a>'\n",
              "            + ' to learn more about interactive tables.';\n",
              "          element.innerHTML = '';\n",
              "          dataTable['output_type'] = 'display_data';\n",
              "          await google.colab.output.renderOutput(dataTable, element);\n",
              "          const docLink = document.createElement('div');\n",
              "          docLink.innerHTML = docLinkHtml;\n",
              "          element.appendChild(docLink);\n",
              "        }\n",
              "      </script>\n",
              "    </div>\n",
              "  </div>\n",
              "  "
            ]
          },
          "metadata": {},
          "execution_count": 6
        }
      ],
      "source": [
        "# IMDB Dataset\n",
        "dataframe = pd.read_csv('/gdrive/Shareddrives/Thesis/datasets/IMDB_Dataset.csv')\n",
        "dataframe[\"sentiment\"] = dataframe[\"sentiment\"].apply(lambda x : 1.0 if x == \"positive\" else 0.0)\n",
        "dataframe = dataframe.sample(frac = 1).reset_index(drop = True)\n",
        "dataframe[\"review\"] = dataframe[\"review\"].apply(lambda x : text_preprocessing(x))\n",
        "dataframe"
      ]
    },
    {
      "cell_type": "code",
      "execution_count": null,
      "metadata": {
        "colab": {
          "base_uri": "https://localhost:8080/"
        },
        "id": "GNNc-3j1rG3j",
        "outputId": "4b268903-2121-4fd4-b841-bc31714b003a"
      },
      "outputs": [
        {
          "output_type": "execute_result",
          "data": {
            "text/plain": [
              "0.0    0.5\n",
              "1.0    0.5\n",
              "Name: sentiment, dtype: float64"
            ]
          },
          "metadata": {},
          "execution_count": 7
        }
      ],
      "source": [
        "# class imbalance?\n",
        "dataframe[\"sentiment\"].value_counts(normalize=True)"
      ]
    },
    {
      "cell_type": "code",
      "execution_count": null,
      "metadata": {
        "id": "PIZKqFXtrwqn"
      },
      "outputs": [],
      "source": [
        "# NO Apparent Class Imbalance"
      ]
    },
    {
      "cell_type": "code",
      "execution_count": null,
      "metadata": {
        "colab": {
          "base_uri": "https://localhost:8080/"
        },
        "id": "ogI2F5Z-sUF-",
        "outputId": "3ce89971-edea-4086-8627-8e0786394785"
      },
      "outputs": [
        {
          "output_type": "execute_result",
          "data": {
            "text/plain": [
              "array([ 0.        ,  3.33333333,  6.66666667, 10.        ])"
            ]
          },
          "metadata": {},
          "execution_count": 9
        }
      ],
      "source": [
        "np.linspace(0,10,4)"
      ]
    },
    {
      "cell_type": "code",
      "execution_count": null,
      "metadata": {
        "colab": {
          "base_uri": "https://localhost:8080/",
          "height": 483
        },
        "id": "EYW93QgIr2Jl",
        "outputId": "5f26eccf-9ab1-48f3-b820-b6f2cbf13b13"
      },
      "outputs": [
        {
          "output_type": "display_data",
          "data": {
            "text/plain": [
              "<Figure size 1152x576 with 1 Axes>"
            ],
            "image/png": "[encoded data removed]"
          },
          "metadata": {
            "needs_background": "light"
          }
        }
      ],
      "source": [
        "# token lengths distribution in the dataset\n",
        "token_lengths = [len(i.split()) for i in dataframe[\"review\"]]\n",
        "plt.figure(figsize=(16,8))\n",
        "plt.hist(token_lengths,bins = 30,edgecolor=\"black\")\n",
        "plt.xticks(ticks = np.linspace(10,1000,11))\n",
        "plt.show()"
      ]
    },
    {
      "cell_type": "code",
      "execution_count": null,
      "metadata": {
        "id": "h10AYNt0r9f2"
      },
      "outputs": [],
      "source": [
        "# token_length 128, seems a good fit for data\n",
        "train_df, temp_df = train_test_split(dataframe, test_size= 0.30, stratify= dataframe[\"sentiment\"], random_state = 47)\n",
        "\n",
        "val_df,   test_df   = train_test_split(temp_df, test_size= 0.50, stratify= temp_df[\"sentiment\"],random_state = 47)\n",
        "\n",
        "train_df = train_df.reset_index(drop=True)\n",
        "val_df   = val_df.reset_index(drop  = True)\n",
        "test_df  = test_df.reset_index(drop = True)"
      ]
    },
    {
      "cell_type": "code",
      "execution_count": null,
      "metadata": {
        "colab": {
          "base_uri": "https://localhost:8080/",
          "height": 286,
          "referenced_widgets": [
            "828ab062064449b386e97d7f4c57440d",
            "32174451fc214ba49a0b38b5655251b7",
            "a5d3986c3c8d4981ba4b52ae2ccb8a6a",
            "78b9ea0cd0a94368b43bf134fdc466c0",
            "90fca10f1a264fc69129137105b9d24f",
            "57bcd887540d4fa4a5f24afce4821217",
            "a08f4027c30f46589ebffd4cab16922d",
            "db9047b79fd24b58867c6fa37370056c",
            "cb40c22a13e1477292ee50b2b483556d",
            "087b054dbca0409583b671ee32587937",
            "e1a1da0fdb234937acc77f7524b12116",
            "eeebcd1420994a8cad90c1f692a31ecf",
            "bf489b3a4b524f3e857a3e0dba2b713b",
            "acbd7ca807d344c995f7c768cb06e6a7",
            "6db4e1e6a604426089cf0efc96f27a33",
            "3b20b215adc34f57b793a721439331e6",
            "08e208a1e3e84e35bc92412e0168f204",
            "0149c5988b9f496fb6d741aee5857a03",
            "4009d605b0f547ac90730126e6d194aa",
            "781a2485b5134ee09e37bc4e23638477",
            "a26c179ee50c48298111063398ba33f9",
            "ba90e8e979734ff89024a4ec4ff5f90e",
            "774623141ca4404c8dd532108dbecd81",
            "587644cf82324129b77974fa0edc48e1",
            "6b77562f4bc24b049ff45f763006cb60",
            "883fd9b8ff644a06b8674fc7c73529e4",
            "75823fdd13da407c80c40e399eccd8d8",
            "38429b7296dc4e5f9b1d0d64ab588696",
            "2b84d0163eab408c9627de19e252b2a4",
            "2ae5d4577093469a8f20cd924c01360d",
            "4210fdf1d072465d8b2215d2c47103a5",
            "f4cc11fbb7c24cd3aa5bf3a10c6c82db",
            "8d4d5db590294212af39ccfeec2a0cb8",
            "340a20bae4e845db86e5db0a4a2c8d16",
            "d352f9a3dcad484e84bb2cdfc269e089",
            "92daa051363f4d9f87348a505f27ff21",
            "a1f03a5d3ebc4e28b223ca5fd7eedc61",
            "2d562e969dca456699392202e3d9e539",
            "8d48015785074bab89d17bc08efc8b1d",
            "34629f6118d34d93b3875eca7c2ed8b7",
            "7daf3ce5f449414e94f9a7211e1ca418",
            "d0697a1587c64d1da14e2df902fbbfee",
            "a89ad866a7ed4029bdef261cb3f0d9c0",
            "844ae9016cc54acd81d87550b3413349",
            "1d86c062a9964c1bb29ac9937998d693",
            "9a7fae774a0c48acae71ada8d0952d6d",
            "1025ccd19d8d4fc6bc6069e8e6960575",
            "0371fbb994a5422e973998042ef298ae",
            "1ec83d77fe334937a7fe1366c896aaa4",
            "a3face93f95446f08f10f1793d0eb171",
            "0f6e34a0c0e546ca9fe7f8936729fb81",
            "70ce434a2e9a4368a1a2b3188ef6f475",
            "a4580b8f2b3a4cfdb007cb801f933a38",
            "57d673894cf9478fa88d899e68cf47bc",
            "c6aa395a8a014d67a3e82ac77e5d9a93"
          ]
        },
        "id": "cES0lyR5t28d",
        "outputId": "84b01ac1-2c00-436c-ca6f-db9205dde869"
      },
      "outputs": [
        {
          "output_type": "display_data",
          "data": {
            "text/plain": [
              "Downloading (…)lve/main/config.json:   0%|          | 0.00/570 [00:00<?, ?B/s]"
            ],
            "application/vnd.jupyter.widget-view+json": {
              "version_major": 2,
              "version_minor": 0,
              "model_id": "828ab062064449b386e97d7f4c57440d"
            }
          },
          "metadata": {}
        },
        {
          "output_type": "display_data",
          "data": {
            "text/plain": [
              "Downloading tf_model.h5:   0%|          | 0.00/536M [00:00<?, ?B/s]"
            ],
            "application/vnd.jupyter.widget-view+json": {
              "version_major": 2,
              "version_minor": 0,
              "model_id": "eeebcd1420994a8cad90c1f692a31ecf"
            }
          },
          "metadata": {}
        },
        {
          "output_type": "stream",
          "name": "stderr",
          "text": [
            "Some layers from the model checkpoint at bert-base-uncased were not used when initializing TFBertModel: ['mlm___cls', 'nsp___cls']\n",
            "- This IS expected if you are initializing TFBertModel from the checkpoint of a model trained on another task or with another architecture (e.g. initializing a BertForSequenceClassification model from a BertForPreTraining model).\n",
            "- This IS NOT expected if you are initializing TFBertModel from the checkpoint of a model that you expect to be exactly identical (initializing a BertForSequenceClassification model from a BertForSequenceClassification model).\n",
            "All the layers of TFBertModel were initialized from the model checkpoint at bert-base-uncased.\n",
            "If your task is similar to the task the model of the checkpoint was trained on, you can already use TFBertModel for predictions without further training.\n"
          ]
        },
        {
          "output_type": "display_data",
          "data": {
            "text/plain": [
              "Downloading (…)okenizer_config.json:   0%|          | 0.00/28.0 [00:00<?, ?B/s]"
            ],
            "application/vnd.jupyter.widget-view+json": {
              "version_major": 2,
              "version_minor": 0,
              "model_id": "774623141ca4404c8dd532108dbecd81"
            }
          },
          "metadata": {}
        },
        {
          "output_type": "display_data",
          "data": {
            "text/plain": [
              "Downloading (…)solve/main/vocab.txt:   0%|          | 0.00/232k [00:00<?, ?B/s]"
            ],
            "application/vnd.jupyter.widget-view+json": {
              "version_major": 2,
              "version_minor": 0,
              "model_id": "340a20bae4e845db86e5db0a4a2c8d16"
            }
          },
          "metadata": {}
        },
        {
          "output_type": "display_data",
          "data": {
            "text/plain": [
              "Downloading (…)/main/tokenizer.json:   0%|          | 0.00/466k [00:00<?, ?B/s]"
            ],
            "application/vnd.jupyter.widget-view+json": {
              "version_major": 2,
              "version_minor": 0,
              "model_id": "1d86c062a9964c1bb29ac9937998d693"
            }
          },
          "metadata": {}
        }
      ],
      "source": [
        "# load bertModel, bertTokenizer and freeze all layers\n",
        "bertModel = TFAutoModel.from_pretrained(\"bert-base-uncased\")\n",
        "tokenizer = BertTokenizerFast.from_pretrained(\"bert-base-uncased\")\n",
        "bertModel.trainable = False"
      ]
    },
    {
      "cell_type": "code",
      "execution_count": null,
      "metadata": {
        "colab": {
          "base_uri": "https://localhost:8080/"
        },
        "id": "JkzkoZszt7Hy",
        "outputId": "7f7c5906-19e0-4e54-a479-04b96fe6c9d8"
      },
      "outputs": [
        {
          "output_type": "stream",
          "name": "stdout",
          "text": [
            "Model: \"tf_bert_model\"\n",
            "_________________________________________________________________\n",
            " Layer (type)                Output Shape              Param #   \n",
            "=================================================================\n",
            " bert (TFBertMainLayer)      multiple                  109482240 \n",
            "                                                                 \n",
            "=================================================================\n",
            "Total params: 109,482,240\n",
            "Trainable params: 0\n",
            "Non-trainable params: 109,482,240\n",
            "_________________________________________________________________\n"
          ]
        }
      ],
      "source": [
        "bertModel.summary()"
      ]
    },
    {
      "cell_type": "code",
      "execution_count": null,
      "metadata": {
        "id": "9NY-2WVGtOSF"
      },
      "outputs": [],
      "source": [
        "# dataset generator (input to tf.data.Dataset.from_generator())\n",
        "class dataset:\n",
        "  \n",
        "  def __init__(self,text,labels,max_length, tokenizer,projection_dim, val = False):\n",
        "\n",
        "    self.text =   text\n",
        "    self.labels = labels\n",
        "    self.max_length = max_length\n",
        "    self.tokenizer = tokenizer\n",
        "    self.flag = val\n",
        "    self.projection_dim = projection_dim\n",
        "\n",
        "  def __len__(self):\n",
        "\n",
        "    return  self.text.shape[0]\n",
        "\n",
        "  def __getitem__(self,index):\n",
        "\n",
        "    sentence = self.text[index]\n",
        "    category = self.labels[index]\n",
        "\n",
        "    return sentence, category\n",
        "    \n",
        "\n",
        "  # shuffle the dataset after each epoch\n",
        "  def on_epoch_end(self):\n",
        "\n",
        "    random_idx = random.sample(list(range(self.__len__())), k = self.__len__())\n",
        "    self.text   = self.text[random_idx]\n",
        "    self.labels = self.labels[random_idx]\n",
        "\n",
        "  def __call__(self):\n",
        "\n",
        "    for i in range(self.__len__()):\n",
        "      sentence, label = self.__getitem__(i)\n",
        "      encodings = self.tokenizer(sentence,\n",
        "                                 max_length = self.max_length,\n",
        "                                 padding = \"max_length\",\n",
        "                                 truncation = True)\n",
        "      \n",
        "      input_ids  = np.array(encodings[\"input_ids\"])\n",
        "      # input_ids2 = input_ids.copy()\n",
        "      masks      = np.array(encodings[\"attention_mask\"])\n",
        "      ttids      = np.array(encodings[\"token_type_ids\"])\n",
        "\n",
        "      embedding_index = np.array([i for i in range(self.projection_dim)])\n",
        "      embedding_index = np.ravel(embedding_index)\n",
        "\n",
        "      embedding_index = np.tile(embedding_index, (input_ids[0:1].shape[0],))\n",
        "\n",
        "      yield {\"input_ids\": input_ids, \"attention_masks\": masks,\"space\": embedding_index}, label\n",
        "      # randomize the dataset on epoch end, only in case of training dataset\n",
        "      if i == self.__len__() -1 and self.flag is False:\n",
        "        self.on_epoch_end()"
      ]
    },
    {
      "cell_type": "markdown",
      "source": [
        "## HYPERPARAMETERS"
      ],
      "metadata": {
        "id": "WLSvLaJ8QjoG"
      }
    },
    {
      "cell_type": "code",
      "source": [
        "MAX_LENGTH = 128\n",
        "BATCH_SIZE = 32\n",
        "PROJECTION_DIM = 300\n",
        "VECTOR_DIM = 768"
      ],
      "metadata": {
        "id": "qkqJK3WqQnG1"
      },
      "execution_count": null,
      "outputs": []
    },
    {
      "cell_type": "code",
      "execution_count": null,
      "metadata": {
        "id": "opL4rVNOuchf"
      },
      "outputs": [],
      "source": [
        "# create generators for train and validation\n",
        "train_gen = dataset(train_df[\"review\"].values,train_df[\"sentiment\"].values,max_length = MAX_LENGTH, tokenizer = tokenizer,projection_dim=PROJECTION_DIM)\n",
        "val_gen   = dataset(val_df[\"review\"].values,val_df[\"sentiment\"].values,max_length = MAX_LENGTH, tokenizer = tokenizer, projection_dim=PROJECTION_DIM, val = True)"
      ]
    },
    {
      "cell_type": "code",
      "execution_count": null,
      "metadata": {
        "id": "K2PS6U6VvTvd"
      },
      "outputs": [],
      "source": [
        "# create tensorflow dataloaders from generators\n",
        "\n",
        "train_ds = tf.data.Dataset.from_generator(train_gen,\n",
        "                                            output_signature = \n",
        "                                           ( {\"input_ids\" : tf.TensorSpec(shape = (MAX_LENGTH,), dtype = tf.int32 ),\"attention_masks\":tf.TensorSpec(shape = (MAX_LENGTH,), dtype = tf.int32),\"space\":tf.TensorSpec(shape = (PROJECTION_DIM,), dtype = tf.int32)},\n",
        "                                            tf.TensorSpec(shape = (), dtype = (tf.float32)))).repeat().batch(batch_size = BATCH_SIZE) # shuffling is already implemented in dataset class\n",
        "\n",
        "val_ds = tf.data.Dataset.from_generator(val_gen,\n",
        "                                            output_signature = \n",
        "                                           ( {\"input_ids\" : tf.TensorSpec(shape = (MAX_LENGTH,), dtype = tf.int32 ),\"attention_masks\":tf.TensorSpec(shape = (MAX_LENGTH,), dtype = tf.int32),\"space\":tf.TensorSpec(shape = (PROJECTION_DIM,), dtype = tf.int32)},\n",
        "                                            tf.TensorSpec(shape = (), dtype = (tf.float32)))).batch(BATCH_SIZE)"
      ]
    },
    {
      "cell_type": "markdown",
      "source": [
        "## DEBUGGING\n",
        "\n",
        "Run the **`AUXILIARY FUNCTIONS`** cell first!"
      ],
      "metadata": {
        "id": "B7EZ4YdLTqGA"
      }
    },
    {
      "cell_type": "code",
      "execution_count": null,
      "metadata": {
        "id": "hfv70WSmwHwu"
      },
      "outputs": [],
      "source": [
        "# verify tensors\n",
        "\n",
        "for ele in train_ds.take(1):\n",
        "  temp = ele"
      ]
    },
    {
      "cell_type": "code",
      "execution_count": null,
      "metadata": {
        "colab": {
          "base_uri": "https://localhost:8080/"
        },
        "id": "s-X-59WAwOOs",
        "outputId": "5da33c29-7674-4ad2-c56b-57b074e0da77"
      },
      "outputs": [
        {
          "output_type": "execute_result",
          "data": {
            "text/plain": [
              "({'input_ids': <tf.Tensor: shape=(32, 128), dtype=int32, numpy=\n",
              "  array([[  101,  1999,  1996, ...,  2035,  2023,   102],\n",
              "         [  101,  1037,  4038, ..., 10294,  5846,   102],\n",
              "         [  101,  2023,  3185, ...,     0,     0,     0],\n",
              "         ...,\n",
              "         [  101,  6677, 28014, ...,  2121,  7515,   102],\n",
              "         [  101,  2023,  3185, ...,  1997,  7842,   102],\n",
              "         [  101,  2004,  1045, ...,     0,     0,     0]], dtype=int32)>,\n",
              "  'attention_masks': <tf.Tensor: shape=(32, 128), dtype=int32, numpy=\n",
              "  array([[1, 1, 1, ..., 1, 1, 1],\n",
              "         [1, 1, 1, ..., 1, 1, 1],\n",
              "         [1, 1, 1, ..., 0, 0, 0],\n",
              "         ...,\n",
              "         [1, 1, 1, ..., 1, 1, 1],\n",
              "         [1, 1, 1, ..., 1, 1, 1],\n",
              "         [1, 1, 1, ..., 0, 0, 0]], dtype=int32)>,\n",
              "  'space': <tf.Tensor: shape=(32, 300), dtype=int32, numpy=\n",
              "  array([[  0,   1,   2, ..., 297, 298, 299],\n",
              "         [  0,   1,   2, ..., 297, 298, 299],\n",
              "         [  0,   1,   2, ..., 297, 298, 299],\n",
              "         ...,\n",
              "         [  0,   1,   2, ..., 297, 298, 299],\n",
              "         [  0,   1,   2, ..., 297, 298, 299],\n",
              "         [  0,   1,   2, ..., 297, 298, 299]], dtype=int32)>},\n",
              " <tf.Tensor: shape=(32,), dtype=float32, numpy=\n",
              " array([0., 0., 0., 1., 0., 1., 1., 1., 1., 0., 1., 0., 1., 0., 1., 0., 1.,\n",
              "        1., 0., 0., 0., 1., 1., 1., 1., 0., 0., 0., 1., 0., 1., 1.],\n",
              "       dtype=float32)>)"
            ]
          },
          "metadata": {},
          "execution_count": 19
        }
      ],
      "source": [
        "temp"
      ]
    },
    {
      "cell_type": "code",
      "execution_count": null,
      "metadata": {
        "id": "llE25PLLwnLr"
      },
      "outputs": [],
      "source": [
        "# input_ids\n",
        "# each sentence always starts with the [CLS] token, which has an input id 101\n",
        "# if number of tokens in the sentence are less < MAX_LENGTH , then, a [SEP] token ends the input ids and is followed by [PAD] tokens (zeros)\n",
        "# if number of tokens are greater than 128, then input ids just end witih [SEP] with input id 112"
      ]
    },
    {
      "cell_type": "code",
      "source": [
        "temp_iids = temp[0][\"input_ids\"]\n",
        "temp_mask = temp[0][\"attention_masks\"]"
      ],
      "metadata": {
        "id": "WZkQW3OyOjgD"
      },
      "execution_count": null,
      "outputs": []
    },
    {
      "cell_type": "code",
      "source": [
        "# now we have 32 input_ids and 32 masks"
      ],
      "metadata": {
        "id": "f6iWP434Ov-3"
      },
      "execution_count": null,
      "outputs": []
    },
    {
      "cell_type": "code",
      "source": [
        "# let's examine some embeddings\n",
        "temp_embeddings = bertModel(temp_iids, attention_mask = temp_mask)[0]   # pooled outputs give embeddings of each token\n",
        "temp_embeddings.shape"
      ],
      "metadata": {
        "colab": {
          "base_uri": "https://localhost:8080/"
        },
        "id": "Leg7WPKAOXLz",
        "outputId": "48844056-9a72-4644-9561-5414e921cbc6"
      },
      "execution_count": null,
      "outputs": [
        {
          "output_type": "execute_result",
          "data": {
            "text/plain": [
              "TensorShape([32, 128, 768])"
            ]
          },
          "metadata": {},
          "execution_count": 23
        }
      ]
    },
    {
      "cell_type": "code",
      "source": [
        "# embeddings are non zero for any kind of token, [CLS], [PAD], [SEP], [Any TOKEN]"
      ],
      "metadata": {
        "id": "x3WnG1XAPqBt"
      },
      "execution_count": null,
      "outputs": []
    },
    {
      "cell_type": "code",
      "source": [
        "# let's take a dummy keras embedding layer, and get embeddings of 32 sentences with 300 tokens in it\n",
        "# Then for each sentence, take cosine similarity of embeddings of 128 tokens with those 300 tokens for 32 sentences from the dataset\n",
        "# resulting in  32,128,300 cosine similarity vectors\n",
        "# then get masks for those 128 input ids for each of the sentences using a keras embedding layer\n",
        "# ideally when we multiply those cosine similarity vectors with zeros (in masks) resulting cosine similarities for corresponding should be ZERO"
      ],
      "metadata": {
        "id": "XRUbaLH0QIPG"
      },
      "execution_count": null,
      "outputs": []
    },
    {
      "cell_type": "code",
      "source": [
        "space_input_ids = temp[0][\"space\"]\n",
        "space_input_ids"
      ],
      "metadata": {
        "colab": {
          "base_uri": "https://localhost:8080/"
        },
        "id": "2RaEEadURSM0",
        "outputId": "baded651-d9c2-4fe9-83a6-2d7564f52fe0"
      },
      "execution_count": null,
      "outputs": [
        {
          "output_type": "execute_result",
          "data": {
            "text/plain": [
              "<tf.Tensor: shape=(32, 300), dtype=int32, numpy=\n",
              "array([[  0,   1,   2, ..., 297, 298, 299],\n",
              "       [  0,   1,   2, ..., 297, 298, 299],\n",
              "       [  0,   1,   2, ..., 297, 298, 299],\n",
              "       ...,\n",
              "       [  0,   1,   2, ..., 297, 298, 299],\n",
              "       [  0,   1,   2, ..., 297, 298, 299],\n",
              "       [  0,   1,   2, ..., 297, 298, 299]], dtype=int32)>"
            ]
          },
          "metadata": {},
          "execution_count": 26
        }
      ]
    },
    {
      "cell_type": "code",
      "source": [
        "x = layers.Embedding(name = \"positive_embedding\",\n",
        "                                   input_dim = PROJECTION_DIM, \n",
        "                                   output_dim=VECTOR_DIM, \n",
        "                                   embeddings_initializer=tf.random_uniform_initializer(minval=-1., maxval=1.), \n",
        "                                   input_length = PROJECTION_DIM , \n",
        "                                   trainable=True, \n",
        "                                   mask_zero=False)\n",
        "x = x(space_input_ids)\n",
        "# x will now be embeddings tensor of shape (32,300,768)\n",
        "# we want to take cosine similarity of these 300 embeddings with 128 embeddings of a sentence from our dataset\n",
        "# also for each of the 32 sentences, these 300 embeddings will be IDENTICAL since input ids are same {1..299}\n",
        "# we call x \"positive embedding\" in our model\n",
        " "
      ],
      "metadata": {
        "id": "urr_657gRm_B"
      },
      "execution_count": null,
      "outputs": []
    },
    {
      "cell_type": "code",
      "source": [
        "x = layers.Permute((2, 1), input_shape=(PROJECTION_DIM, VECTOR_DIM))(x)\n",
        "x.shape"
      ],
      "metadata": {
        "colab": {
          "base_uri": "https://localhost:8080/"
        },
        "id": "tz-QlyuWR-dS",
        "outputId": "f0a241a7-4a22-482e-e49e-66c613731622"
      },
      "execution_count": null,
      "outputs": [
        {
          "output_type": "execute_result",
          "data": {
            "text/plain": [
              "TensorShape([32, 768, 300])"
            ]
          },
          "metadata": {},
          "execution_count": 28
        }
      ]
    },
    {
      "cell_type": "code",
      "source": [
        "# now we want to take cosine similarities of temp_embeddings(32,128,768) with the positive embedding transposed (32,768,300)\n",
        "# we defined a cosine similarity function manually to handle this operation using a lambda layer"
      ],
      "metadata": {
        "id": "TLbF9E7KUtCi"
      },
      "execution_count": null,
      "outputs": []
    },
    {
      "cell_type": "code",
      "source": [
        "cosine_sim_Positive = layers.Lambda(function=cosine_similarity_projected, \n",
        "                      name='cosine_positive')([temp_embeddings, x])   # (32,128,300)"
      ],
      "metadata": {
        "id": "1QTjQOgvSYIt"
      },
      "execution_count": null,
      "outputs": []
    },
    {
      "cell_type": "code",
      "source": [
        "cosine_sim_Positive.shape"
      ],
      "metadata": {
        "colab": {
          "base_uri": "https://localhost:8080/"
        },
        "id": "8fPe7FRCVuEP",
        "outputId": "ee15648d-fa00-46c5-e7ca-81724198565f"
      },
      "execution_count": null,
      "outputs": [
        {
          "output_type": "execute_result",
          "data": {
            "text/plain": [
              "TensorShape([32, 128, 300])"
            ]
          },
          "metadata": {},
          "execution_count": 34
        }
      ]
    },
    {
      "cell_type": "code",
      "source": [
        "temp_iids[2]"
      ],
      "metadata": {
        "colab": {
          "base_uri": "https://localhost:8080/"
        },
        "id": "NJuuYU6gbv-_",
        "outputId": "0c2aa428-c45a-4ba8-e040-d7669b42e7ab"
      },
      "execution_count": null,
      "outputs": [
        {
          "output_type": "execute_result",
          "data": {
            "text/plain": [
              "<tf.Tensor: shape=(128,), dtype=int32, numpy=\n",
              "array([  101,  2023,  3185,  4076,  1999,  1996,  3162,  1997,  1996,\n",
              "       21834,  2005,  2019,  2035,  2732,  2329,  3459,  1999,  1037,\n",
              "        2091, 15950,  9643,  3185,  3532,  1039,  5856,  3896,  3532,\n",
              "        9260,  3532,  3257,  1037,  3459,  2008,  1045,  3246,  2020,\n",
              "        2092,  3825,  2004,  2023,  2097,  2022,  1037, 13774,  1999,\n",
              "        2116,  1037, 10922, 13123, 19892,  7987, 12829,  4946,  2099,\n",
              "        2323,  3726,  2123,  7228,  2010,  6606, 24405,  2320,  2062,\n",
              "        2908,  2041,  2007,  1037,  4756,  2012,  2560, 19892,  7987,\n",
              "        2009,  2001,  2066,  1037,  3391,  2146,  4567,  2041,  2792,\n",
              "        1997, 12723,  3702,  2021,  2302,  1996,  3409,  8275,  3010,\n",
              "        3460,  3062,  4886,  2102,  2018,  1996,  2168, 15241,  6918,\n",
              "        2189,  2295, 18870,  2135,  5567,  1999,  1037, 15784,  3535,\n",
              "        2000,  6943,  2039,  2070,  6980, 19892,  7987,  2821,  1996,\n",
              "        8438,   102,     0,     0,     0,     0,     0,     0,     0,\n",
              "           0,     0], dtype=int32)>"
            ]
          },
          "metadata": {},
          "execution_count": 35
        }
      ]
    },
    {
      "cell_type": "code",
      "source": [
        "temp_iids"
      ],
      "metadata": {
        "colab": {
          "base_uri": "https://localhost:8080/"
        },
        "id": "JrOsz55wEUgZ",
        "outputId": "6a6e7852-5420-4e44-c61c-a538f476028f"
      },
      "execution_count": null,
      "outputs": [
        {
          "output_type": "execute_result",
          "data": {
            "text/plain": [
              "<tf.Tensor: shape=(32, 128), dtype=int32, numpy=\n",
              "array([[  101,  1999,  1996, ...,  2035,  2023,   102],\n",
              "       [  101,  1037,  4038, ..., 10294,  5846,   102],\n",
              "       [  101,  2023,  3185, ...,     0,     0,     0],\n",
              "       ...,\n",
              "       [  101,  6677, 28014, ...,  2121,  7515,   102],\n",
              "       [  101,  2023,  3185, ...,  1997,  7842,   102],\n",
              "       [  101,  2004,  1045, ...,     0,     0,     0]], dtype=int32)>"
            ]
          },
          "metadata": {},
          "execution_count": 36
        }
      ]
    },
    {
      "cell_type": "code",
      "source": [
        "# now update the cosine similarities of [CLS], [PAD] and [SEP] vectors to ZERO\n",
        "# first(0) and last(127) token's embedding of each sentence should have zero cosine similarity with each of 300 tokens in projection space\n",
        "remove_padsV2()([cosine_sim_Positive, temp_iids])[13][-1]       # 13th sentence, 0th token"
      ],
      "metadata": {
        "colab": {
          "base_uri": "https://localhost:8080/"
        },
        "id": "V2-hsKoKUd2b",
        "outputId": "e8eb356e-c914-4ab8-85a2-fb60640ef8b7"
      },
      "execution_count": null,
      "outputs": [
        {
          "output_type": "execute_result",
          "data": {
            "text/plain": [
              "<tf.Tensor: shape=(300,), dtype=float32, numpy=\n",
              "array([ 0., -0.,  0.,  0.,  0.,  0.,  0., -0.,  0., -0., -0., -0., -0.,\n",
              "       -0., -0., -0.,  0., -0.,  0.,  0.,  0.,  0., -0.,  0.,  0.,  0.,\n",
              "        0., -0., -0., -0.,  0.,  0., -0.,  0.,  0.,  0.,  0., -0., -0.,\n",
              "        0., -0., -0.,  0., -0., -0., -0.,  0., -0.,  0.,  0., -0., -0.,\n",
              "       -0.,  0., -0., -0.,  0., -0., -0., -0., -0., -0.,  0., -0., -0.,\n",
              "        0.,  0., -0.,  0.,  0., -0., -0., -0.,  0., -0., -0.,  0.,  0.,\n",
              "       -0.,  0.,  0.,  0.,  0.,  0.,  0.,  0.,  0.,  0., -0.,  0., -0.,\n",
              "        0., -0.,  0.,  0.,  0., -0., -0., -0.,  0., -0.,  0.,  0.,  0.,\n",
              "        0., -0., -0., -0.,  0., -0.,  0.,  0., -0., -0.,  0.,  0.,  0.,\n",
              "       -0.,  0.,  0.,  0.,  0.,  0., -0.,  0., -0., -0., -0.,  0.,  0.,\n",
              "        0.,  0., -0., -0.,  0.,  0.,  0., -0.,  0.,  0.,  0., -0.,  0.,\n",
              "       -0.,  0., -0., -0., -0.,  0., -0.,  0.,  0., -0., -0.,  0.,  0.,\n",
              "        0.,  0., -0.,  0.,  0., -0.,  0., -0.,  0., -0., -0., -0., -0.,\n",
              "       -0.,  0.,  0., -0.,  0., -0., -0.,  0., -0., -0., -0., -0., -0.,\n",
              "        0.,  0., -0., -0., -0., -0., -0., -0., -0.,  0.,  0., -0., -0.,\n",
              "       -0.,  0.,  0., -0.,  0., -0.,  0.,  0.,  0.,  0.,  0., -0.,  0.,\n",
              "        0., -0., -0., -0., -0.,  0., -0., -0.,  0.,  0., -0., -0.,  0.,\n",
              "       -0.,  0., -0.,  0., -0.,  0., -0.,  0., -0., -0., -0.,  0.,  0.,\n",
              "        0.,  0., -0., -0.,  0.,  0., -0.,  0., -0., -0., -0., -0., -0.,\n",
              "       -0.,  0.,  0., -0., -0., -0., -0.,  0.,  0., -0., -0., -0., -0.,\n",
              "        0., -0.,  0.,  0., -0., -0., -0.,  0., -0.,  0.,  0., -0., -0.,\n",
              "       -0., -0.,  0.,  0.,  0., -0.,  0.,  0.,  0.,  0.,  0.,  0.,  0.,\n",
              "       -0.,  0.,  0., -0., -0.,  0., -0., -0.,  0.,  0., -0.,  0.,  0.,\n",
              "        0.], dtype=float32)>"
            ]
          },
          "metadata": {},
          "execution_count": 37
        }
      ]
    },
    {
      "cell_type": "code",
      "source": [
        "remove_padsV2()([cosine_sim_Positive, temp_iids]).shape"
      ],
      "metadata": {
        "colab": {
          "base_uri": "https://localhost:8080/",
          "height": 169
        },
        "id": "o6N0_VzjS-Rj",
        "outputId": "23725e6a-b834-47f3-d45b-1adfcfe05162"
      },
      "execution_count": null,
      "outputs": [
        {
          "output_type": "error",
          "ename": "NameError",
          "evalue": "ignored",
          "traceback": [
            "\u001b[0;31m---------------------------------------------------------------------------\u001b[0m",
            "\u001b[0;31mNameError\u001b[0m                                 Traceback (most recent call last)",
            "\u001b[0;32m<ipython-input-18-9f5c373a4d2e>\u001b[0m in \u001b[0;36m<module>\u001b[0;34m\u001b[0m\n\u001b[0;32m----> 1\u001b[0;31m \u001b[0mremove_padsV2\u001b[0m\u001b[0;34m(\u001b[0m\u001b[0;34m)\u001b[0m\u001b[0;34m(\u001b[0m\u001b[0;34m[\u001b[0m\u001b[0mcosine_sim_Positive\u001b[0m\u001b[0;34m,\u001b[0m \u001b[0mtemp_iids\u001b[0m\u001b[0;34m]\u001b[0m\u001b[0;34m)\u001b[0m\u001b[0;34m.\u001b[0m\u001b[0mshape\u001b[0m\u001b[0;34m\u001b[0m\u001b[0;34m\u001b[0m\u001b[0m\n\u001b[0m",
            "\u001b[0;31mNameError\u001b[0m: name 'remove_padsV2' is not defined"
          ]
        }
      ]
    },
    {
      "cell_type": "code",
      "source": [
        "tokensZerod = tf.where(tf.equal(temp_iids,101) | tf.equal(temp_iids,102),0,temp_iids)"
      ],
      "metadata": {
        "id": "K1yPEd2dEWla"
      },
      "execution_count": null,
      "outputs": []
    },
    {
      "cell_type": "code",
      "source": [
        "masking_layer = layers.Embedding(input_dim = 35000, output_dim = 16, mask_zero = True)"
      ],
      "metadata": {
        "id": "Pfe-72hZ-NL0"
      },
      "execution_count": null,
      "outputs": []
    },
    {
      "cell_type": "code",
      "source": [
        "temp_masks = masking_layer.compute_mask(tokensZerod)"
      ],
      "metadata": {
        "id": "rh827nxYFrGS"
      },
      "execution_count": null,
      "outputs": []
    },
    {
      "cell_type": "code",
      "source": [
        "temp_masks = tf.cast(temp_masks,tf.float32)"
      ],
      "metadata": {
        "id": "xa2tO0XLGnC5"
      },
      "execution_count": null,
      "outputs": []
    },
    {
      "cell_type": "code",
      "source": [
        "temp_masks = tf.expand_dims(temp_masks,axis=-1)"
      ],
      "metadata": {
        "id": "omM1wRClKgR_"
      },
      "execution_count": null,
      "outputs": []
    },
    {
      "cell_type": "code",
      "source": [
        "temp_masks"
      ],
      "metadata": {
        "id": "OuhZH3VeTSbg"
      },
      "execution_count": null,
      "outputs": []
    },
    {
      "cell_type": "code",
      "source": [
        "maskedSimilarities = tf.multiply(cosine_sim_Positive, temp_masks)"
      ],
      "metadata": {
        "id": "cBDyXAt9G7Ok"
      },
      "execution_count": null,
      "outputs": []
    },
    {
      "cell_type": "code",
      "source": [
        "maskedSimilarities.shape     # it should be the output of remove_padsV2 layer"
      ],
      "metadata": {
        "id": "-AVhgpCtKss0"
      },
      "execution_count": null,
      "outputs": []
    },
    {
      "cell_type": "code",
      "source": [
        "maskedSimilarities[2]  # 3rd sentence"
      ],
      "metadata": {
        "colab": {
          "base_uri": "https://localhost:8080/"
        },
        "id": "f0nZagRrTpxm",
        "outputId": "69566022-fc67-402f-ee53-4867b5c8633d"
      },
      "execution_count": null,
      "outputs": [
        {
          "output_type": "execute_result",
          "data": {
            "text/plain": [
              "<tf.Tensor: shape=(128, 300), dtype=float32, numpy=\n",
              "array([[ 0.0000000e+00, -0.0000000e+00,  0.0000000e+00, ...,\n",
              "        -0.0000000e+00,  0.0000000e+00, -0.0000000e+00],\n",
              "       [ 4.7151562e-02,  2.6714013e-05,  2.7474608e-02, ...,\n",
              "         6.7676619e-02,  4.2231656e-03,  2.3051014e-02],\n",
              "       [ 3.6819156e-02, -3.1738762e-02,  5.5642895e-02, ...,\n",
              "         3.6211878e-02,  4.6735842e-02, -3.7118081e-02],\n",
              "       ...,\n",
              "       [ 0.0000000e+00, -0.0000000e+00,  0.0000000e+00, ...,\n",
              "        -0.0000000e+00,  0.0000000e+00, -0.0000000e+00],\n",
              "       [ 0.0000000e+00, -0.0000000e+00,  0.0000000e+00, ...,\n",
              "        -0.0000000e+00,  0.0000000e+00, -0.0000000e+00],\n",
              "       [ 0.0000000e+00, -0.0000000e+00,  0.0000000e+00, ...,\n",
              "        -0.0000000e+00,  0.0000000e+00, -0.0000000e+00]], dtype=float32)>"
            ]
          },
          "metadata": {},
          "execution_count": 47
        }
      ]
    },
    {
      "cell_type": "code",
      "source": [
        "a = tf.constant([[[1,2,3]],[[4,5,6]]])\n",
        "b = tf.constant([[[2]],[[3]]])\n",
        "tf.divide(a,b)"
      ],
      "metadata": {
        "colab": {
          "base_uri": "https://localhost:8080/"
        },
        "id": "fSfgDYDLa0n_",
        "outputId": "09a97341-1c86-4e77-b048-ca0f921df19e"
      },
      "execution_count": null,
      "outputs": [
        {
          "output_type": "execute_result",
          "data": {
            "text/plain": [
              "<tf.Tensor: shape=(2, 1, 3), dtype=float64, numpy=\n",
              "array([[[0.5       , 1.        , 1.5       ]],\n",
              "\n",
              "       [[1.33333333, 1.66666667, 2.        ]]])>"
            ]
          },
          "metadata": {},
          "execution_count": 48
        }
      ]
    },
    {
      "cell_type": "code",
      "source": [
        "tokensZerod"
      ],
      "metadata": {
        "colab": {
          "base_uri": "https://localhost:8080/"
        },
        "id": "d_M7Ug9LUu7G",
        "outputId": "b9cd263a-8bd8-4310-a69f-bed6bb668d11"
      },
      "execution_count": null,
      "outputs": [
        {
          "output_type": "execute_result",
          "data": {
            "text/plain": [
              "<tf.Tensor: shape=(32, 128), dtype=int32, numpy=\n",
              "array([[    0,  1999,  1996, ...,  2035,  2023,     0],\n",
              "       [    0,  1037,  4038, ..., 10294,  5846,     0],\n",
              "       [    0,  2023,  3185, ...,     0,     0,     0],\n",
              "       ...,\n",
              "       [    0,  6677, 28014, ...,  2121,  7515,     0],\n",
              "       [    0,  2023,  3185, ...,  1997,  7842,     0],\n",
              "       [    0,  2004,  1045, ...,     0,     0,     0]], dtype=int32)>"
            ]
          },
          "metadata": {},
          "execution_count": 49
        }
      ]
    },
    {
      "cell_type": "code",
      "source": [
        "tf.math.count_nonzero(tokensZerod, axis=1)"
      ],
      "metadata": {
        "colab": {
          "base_uri": "https://localhost:8080/"
        },
        "id": "cMXCX2ZqUVqb",
        "outputId": "a4538d0c-0f94-44e5-9913-a9de00ed726e"
      },
      "execution_count": null,
      "outputs": [
        {
          "output_type": "execute_result",
          "data": {
            "text/plain": [
              "<tf.Tensor: shape=(32,), dtype=int64, numpy=\n",
              "array([126, 126, 117, 126, 126, 126, 126, 126, 126, 126, 126, 126,  87,\n",
              "        74, 126, 126, 126, 107, 126, 126, 126, 126, 126,  53, 126, 126,\n",
              "        96, 126, 126, 126, 126, 105])>"
            ]
          },
          "metadata": {},
          "execution_count": 50
        }
      ]
    },
    {
      "cell_type": "code",
      "source": [
        "# count number of non zero rows in maskedSimilarites\n",
        "# how --> take sum along the third axis, which are 300 cosine similarites of each of the 128 tokens\n",
        "# if all those similarites are zeros, then the sum will be reduced to zero\n",
        "# still, retain the dimension for futher computation\n",
        "length = tf.math.count_nonzero(tf.math.reduce_sum(maskedSimilarities, axis=2,keepdims=True), axis=1, keepdims=True, dtype = tf.float32)\n",
        "length\n",
        "\n",
        "# it should ideally be identical to tf.math.count_nonzero(tokensZerod, axis=1)"
      ],
      "metadata": {
        "colab": {
          "base_uri": "https://localhost:8080/"
        },
        "id": "47t6byP1YdFb",
        "outputId": "55c5f255-6ca0-440c-933e-a0cc071effbf"
      },
      "execution_count": null,
      "outputs": [
        {
          "output_type": "execute_result",
          "data": {
            "text/plain": [
              "<tf.Tensor: shape=(32, 1, 1), dtype=float32, numpy=\n",
              "array([[[126.]],\n",
              "\n",
              "       [[126.]],\n",
              "\n",
              "       [[117.]],\n",
              "\n",
              "       [[126.]],\n",
              "\n",
              "       [[126.]],\n",
              "\n",
              "       [[126.]],\n",
              "\n",
              "       [[126.]],\n",
              "\n",
              "       [[126.]],\n",
              "\n",
              "       [[126.]],\n",
              "\n",
              "       [[126.]],\n",
              "\n",
              "       [[126.]],\n",
              "\n",
              "       [[126.]],\n",
              "\n",
              "       [[ 87.]],\n",
              "\n",
              "       [[ 74.]],\n",
              "\n",
              "       [[126.]],\n",
              "\n",
              "       [[126.]],\n",
              "\n",
              "       [[126.]],\n",
              "\n",
              "       [[107.]],\n",
              "\n",
              "       [[126.]],\n",
              "\n",
              "       [[126.]],\n",
              "\n",
              "       [[126.]],\n",
              "\n",
              "       [[126.]],\n",
              "\n",
              "       [[126.]],\n",
              "\n",
              "       [[ 53.]],\n",
              "\n",
              "       [[126.]],\n",
              "\n",
              "       [[126.]],\n",
              "\n",
              "       [[ 96.]],\n",
              "\n",
              "       [[126.]],\n",
              "\n",
              "       [[126.]],\n",
              "\n",
              "       [[126.]],\n",
              "\n",
              "       [[126.]],\n",
              "\n",
              "       [[105.]]], dtype=float32)>"
            ]
          },
          "metadata": {},
          "execution_count": 51
        }
      ]
    },
    {
      "cell_type": "code",
      "source": [
        "temp_masks = masking_layer.compute_mask(temp_iids)"
      ],
      "metadata": {
        "id": "EEM2tLJb-eYW"
      },
      "execution_count": null,
      "outputs": []
    },
    {
      "cell_type": "code",
      "source": [
        "# masks are being computed right\n",
        "temp_masks = tf.cast(temp_masks, tf.float32)"
      ],
      "metadata": {
        "id": "KmrpOX3J-sfn"
      },
      "execution_count": null,
      "outputs": []
    },
    {
      "cell_type": "code",
      "source": [
        "-8.92650187e-02 / 126"
      ],
      "metadata": {
        "colab": {
          "base_uri": "https://localhost:8080/"
        },
        "id": "M17MmayFOHXe",
        "outputId": "471f6232-3e8a-4fa4-ea6c-81237944a0e7"
      },
      "execution_count": null,
      "outputs": [
        {
          "output_type": "execute_result",
          "data": {
            "text/plain": [
              "-0.0007084525293650794"
            ]
          },
          "metadata": {},
          "execution_count": 54
        }
      ]
    },
    {
      "cell_type": "code",
      "source": [
        "maskedSimilarities.shape"
      ],
      "metadata": {
        "colab": {
          "base_uri": "https://localhost:8080/"
        },
        "id": "4badUM43NsH9",
        "outputId": "66491908-dc5d-4c44-cb5e-43d0c1c32963"
      },
      "execution_count": null,
      "outputs": [
        {
          "output_type": "execute_result",
          "data": {
            "text/plain": [
              "TensorShape([32, 128, 300])"
            ]
          },
          "metadata": {},
          "execution_count": 55
        }
      ]
    },
    {
      "cell_type": "code",
      "source": [
        "tf.math.reduce_sum(maskedSimilarities, axis = 1, keepdims=True)"
      ],
      "metadata": {
        "colab": {
          "base_uri": "https://localhost:8080/"
        },
        "id": "4oSC3J6LfqNf",
        "outputId": "8d5837fa-4fa0-466c-9281-fa234923284b"
      },
      "execution_count": null,
      "outputs": [
        {
          "output_type": "execute_result",
          "data": {
            "text/plain": [
              "<tf.Tensor: shape=(32, 1, 300), dtype=float32, numpy=\n",
              "array([[[ 1.6082245e+00, -2.7990963e+00,  1.4814855e+00, ...,\n",
              "         -1.0152058e-01,  6.4606094e-01, -7.3166937e-04]],\n",
              "\n",
              "       [[ 2.5497396e+00, -9.9858433e-01,  1.0547057e+00, ...,\n",
              "          8.3426249e-01,  1.5994912e+00, -8.0551225e-01]],\n",
              "\n",
              "       [[ 3.1264396e+00, -9.4534677e-01,  2.7649124e+00, ...,\n",
              "          4.1108221e-01,  6.8218803e-01,  5.8777136e-01]],\n",
              "\n",
              "       ...,\n",
              "\n",
              "       [[ 3.8997493e+00, -1.4940039e+00,  1.6734692e+00, ...,\n",
              "          2.7651560e+00,  7.7111739e-01,  9.0662652e-01]],\n",
              "\n",
              "       [[ 1.9109577e+00, -7.0657301e-01,  2.0998018e+00, ...,\n",
              "          3.3330061e+00,  2.7980776e+00,  1.8652966e+00]],\n",
              "\n",
              "       [[ 2.5964110e+00, -1.2536980e+00,  9.5523018e-01, ...,\n",
              "          2.3417432e+00,  1.7659192e+00, -3.7240869e-01]]], dtype=float32)>"
            ]
          },
          "metadata": {},
          "execution_count": 56
        }
      ]
    },
    {
      "cell_type": "code",
      "source": [
        "averageMaskedSimilarities = tf.divide(tf.math.reduce_sum(maskedSimilarities, axis = 1, keepdims=True), length)"
      ],
      "metadata": {
        "id": "AjgU-3sARl09"
      },
      "execution_count": null,
      "outputs": []
    },
    {
      "cell_type": "code",
      "source": [
        "averageMaskedSimilarities"
      ],
      "metadata": {
        "colab": {
          "base_uri": "https://localhost:8080/"
        },
        "id": "Wr310Zq0V1Kh",
        "outputId": "d97cdbe8-824d-4739-9436-cc19257bf46f"
      },
      "execution_count": null,
      "outputs": [
        {
          "output_type": "execute_result",
          "data": {
            "text/plain": [
              "<tf.Tensor: shape=(32, 1, 300), dtype=float32, numpy=\n",
              "array([[[ 1.27636865e-02, -2.22150497e-02,  1.17578218e-02, ...,\n",
              "         -8.05718941e-04,  5.12746768e-03, -5.80689994e-06]],\n",
              "\n",
              "       [[ 2.02360284e-02, -7.92527292e-03,  8.37068073e-03, ...,\n",
              "          6.62113074e-03,  1.26943747e-02, -6.39295438e-03]],\n",
              "\n",
              "       [[ 2.67217066e-02, -8.07988737e-03,  2.36317292e-02, ...,\n",
              "          3.51352314e-03,  5.83066698e-03,  5.02368668e-03]],\n",
              "\n",
              "       ...,\n",
              "\n",
              "       [[ 3.09503917e-02, -1.18571734e-02,  1.32815018e-02, ...,\n",
              "          2.19456833e-02,  6.11997908e-03,  7.19544850e-03]],\n",
              "\n",
              "       [[ 1.51663311e-02, -5.60772233e-03,  1.66650936e-02, ...,\n",
              "          2.64524296e-02,  2.22069658e-02,  1.48039414e-02]],\n",
              "\n",
              "       [[ 2.47277245e-02, -1.19399810e-02,  9.09742992e-03, ...,\n",
              "          2.23023165e-02,  1.68182775e-02, -3.54674947e-03]]],\n",
              "      dtype=float32)>"
            ]
          },
          "metadata": {},
          "execution_count": 58
        }
      ]
    },
    {
      "cell_type": "code",
      "source": [
        "# finally we can just concatenate and return the vectors from both positive_cosine and negative_cosine vectors"
      ],
      "metadata": {
        "id": "0V_thSNLN970"
      },
      "execution_count": null,
      "outputs": []
    },
    {
      "cell_type": "code",
      "source": [
        "# HOW TO REPLACE A VALUE WITHIN A TENSOR BY INDICES OR BY VALUE\n",
        "# https://stackoverflow.com/questions/42883415/how-to-replace-a-value-within-a-tensor-by-indices?noredirect=1&lq=1\n",
        "\n",
        "# import tensorflow as tf\n",
        "\n",
        "# x = tf.constant([[4.0, 43.0, 45.0],\n",
        "#                  [2.0, 22.0, 6664.0],\n",
        "#                  [-4543.0, 0.0, 43.0]])\n",
        "# value = 45.0\n",
        "# indices = [1, 1]\n",
        "\n",
        "# by_indices = tf.tensor_scatter_nd_update(x, [indices], [value])\n",
        "# tf.print('Using indices\\n', by_indices, '\\n')\n",
        "\n",
        "# by_value = tf.where(tf.equal(x, 22.0), value, x)\n",
        "# tf.print('Using value\\n', by_value)"
      ],
      "metadata": {
        "id": "65v1_nEUIT0I"
      },
      "execution_count": null,
      "outputs": []
    },
    {
      "cell_type": "code",
      "source": [
        "a = np.array([[[1,2,3]],[[5,2,8]]])\n",
        "b = np.array([[[8]],[[8]]])\n",
        "a * b"
      ],
      "metadata": {
        "colab": {
          "base_uri": "https://localhost:8080/"
        },
        "id": "r1iQesmDjBP2",
        "outputId": "39e329d5-5863-4c26-d5d8-9fe7fc12ed1b"
      },
      "execution_count": null,
      "outputs": [
        {
          "output_type": "execute_result",
          "data": {
            "text/plain": [
              "array([[[ 8, 16, 24]],\n",
              "\n",
              "       [[40, 16, 64]]])"
            ]
          },
          "metadata": {},
          "execution_count": 62
        }
      ]
    },
    {
      "cell_type": "code",
      "source": [
        "# DEBUGGING remove_pads layer\n",
        "class remove_pads(tf.keras.layers.Layer):\n",
        "\n",
        "  def __init__(self,**kwargs):\n",
        "\n",
        "    super(remove_pads,self).__init__(**kwargs)\n",
        "    self.mask_generator = layers.Embedding(input_dim = 35000,output_dim = 32, mask_zero=True)  # bert has vocabulary of 30522 words\n",
        "\n",
        "  \n",
        "  \n",
        "  def call(self,listInputs):   # inputs(None,128,300)  input_ids(None,64)  [101, 234 , 43545, ..  0, 0, 0, ]\n",
        "\n",
        "    inputs = listInputs[0]\n",
        "    # print(\"inputs\",inputs)\n",
        "    input_ids = listInputs[1]\n",
        "    # print(\"input_ids\",input_ids)\n",
        "    masks = self.mask_generator.compute_mask(input_ids)     # (None,64) [1,1, ... 0, 0]\n",
        "    masks = tf.cast(masks,tf.float32)\n",
        "    masks = masks.numpy()\n",
        "    # print(tf.math.reduce_sum(masks,axis=1))\n",
        "    masks[:,0] = 0    # look for tf implementation\n",
        "    print(masks.shape)\n",
        "    # print(tf.math.reduce_sum(masks,axis=1))\n",
        "    # now for each token we want correspoding 1 or 0 in same dimension\n",
        "\n",
        "    masks = tf.expand_dims(masks,axis=-1)    # (None,64,1)\n",
        "    print(masks.shape)\n",
        "    # temp = tf.unstack(masks,axis=1)\n",
        "    # del temp[0]\n",
        "    # temp.insert(0,tf.zeros_like(temp[0]))\n",
        "    # print(temp)\n",
        "    # masks = tf.stack(temp,axis=1)\n",
        "    # length = tf.math.reduce_sum(masks,axis = 1, keepdims=True)     # (None,1,1)\n",
        "    # print(length)\n",
        "\n",
        "    # # mask the embeddings corresponding to zero input id ==0\n",
        "    masked_embeddings = inputs * masks    # (None,128,300) * (None,128) = (None,64,300) -- Cosine similarites with CLS and PAD tokens will be zero\n",
        "    print(masked_embeddings)\n",
        "    # # take SUM, (not mean)\n",
        "    # masked_embeddings = tf.math.reduce_sum(masked_embeddings, axis = 1, keepdims=True)   # (None,1,501)\n",
        "    # # now just divide each by the length to get mean of non zero embeddings\n",
        "    # masked_embeddings = masked_embeddings / length    # -- now masked embeddings represents average cosine similarity of input \n",
        "    #                                                   #    sentence with each token of projection space\n",
        "\n",
        "    # return masked_embeddings"
      ],
      "metadata": {
        "id": "Cu4JH0Fbb7su"
      },
      "execution_count": null,
      "outputs": []
    },
    {
      "cell_type": "code",
      "source": [
        "# this layer converts cosine similarites corresponding to [CLS], [PAD], and [SEP] tokens to ZERO\n",
        "# USE THIS FUNCTION NOW!\n",
        "class remove_padsV2(tf.keras.layers.Layer):\n",
        "\n",
        "  def __init__(self,**kwargs):\n",
        "\n",
        "    super(remove_padsV2,self).__init__(**kwargs)\n",
        "    self.mask_generator = layers.Embedding(input_dim = 35000,output_dim = 32, mask_zero=True)  # bert has vocabulary of 30522 words\n",
        "\n",
        "  \n",
        "  \n",
        "  def call(self,listInputs):   # inputs(None,64,300)  input_ids(None,64)  [101, 234 , 43545, ..  0, 0, 0, ]\n",
        "\n",
        "    inputs = listInputs[0]\n",
        "    input_ids = listInputs[1]\n",
        "    # convert token ids 101 and 102 to 0\n",
        "    filteredInputIds = tf.where(tf.equal(input_ids,101) | tf.equal(input_ids,102),0,input_ids)\n",
        "    masks = self.mask_generator.compute_mask(filteredInputIds)     # (None,64) [0,1, ... 0, 0]\n",
        "    masks = tf.cast(masks,tf.float32)\n",
        "    masks = tf.expand_dims(masks,axis=-1)    # (None,64,1)\n",
        "\n",
        "    # mask the embeddings corresponding to zero input id ==0\n",
        "    masked_embeddings = inputs * masks    # (None,64,300) * (None,64,1) = (None,64,300) -- Cosine similarites with CLS and PAD tokens will be zero\n",
        "\n",
        "    # masked_embeddings = tf.math.reduce_sum(masked_embeddings, axis = 1, keepdims=True)   # (None,1,501)\n",
        "\n",
        "\n",
        "    return masked_embeddings"
      ],
      "metadata": {
        "id": "zK8wwsblIyrc"
      },
      "execution_count": null,
      "outputs": []
    },
    {
      "cell_type": "markdown",
      "source": [
        "## AUXILIARY FUNCTIONS"
      ],
      "metadata": {
        "id": "kigUaefzTmKG"
      }
    },
    {
      "cell_type": "code",
      "execution_count": null,
      "metadata": {
        "id": "jJv-biSGw0_S"
      },
      "outputs": [],
      "source": [
        "# Auxiliaries\n",
        "\n",
        "# import tensorflow.compat.v1 as tf\n",
        "# from keras import layers\n",
        "# import numpy as np\n",
        "# import matplotlib.pyplot as plt\n",
        "\n",
        "def return_embedding_index(x_train,count):\n",
        "  \n",
        "  embedding_index=np.array([i for i in range(count)])\n",
        "  # embeding_index=np.array([[0,1,2]])\n",
        "  embeding_index=np.ravel(embedding_index) # flattens the array\n",
        "\n",
        "  rank = len(x_train.shape)\n",
        "  if rank < 3:\n",
        "    embedding_index = np.tile(embedding_index,(x_train[0:1].shape[0],1,))    # embeddings equalling number of examples\n",
        "  else:\n",
        "    embedding_index = np.tile(embedding_index,(x_train.shape[0],1,))\n",
        "\n",
        "  return embedding_index\n",
        "\n",
        "def cosine_similarity_projected(vects):\n",
        "  # print(\"COSINE-SIMILARITY\")\n",
        "  x,w=vects                                  # so we pass two tensors here (None,64,768) and (None,768,501)    # in both cases, None is same, i.e no of examples in input dataset\n",
        "                                                                                                               # None = 1000 in our case\n",
        "  dp = tf.matmul(x, w)    # cosine similarities of each token in a sentence with all tokens of projection space\n",
        "                          # (None,64,768).(None,768,501) --> (None,64,501)\n",
        "  \n",
        "  x_mag = tf.norm(x, axis=2, keepdims = True)   # made a change here\n",
        "\n",
        "  w_mag = tf.norm(w,axis = 1, keepdims = True)\n",
        "\n",
        "  denominator = dp / x_mag\n",
        "  cosine = denominator / w_mag\n",
        "\n",
        "  return cosine\n",
        "\n",
        "\n",
        "def compare_cosine(vector):\n",
        "\n",
        "  peace,violent=vector     # peace = (None,64,501) ; violent = (None,64,501)   --> these vectors are exactly identical during first phase.\n",
        "\n",
        "  peace=tf.math.reduce_mean(peace, axis=1)       # it represents, on average,how similar is each word of the projection space, with the complete input sentence , --> (None,501) \n",
        "  violent=tf.math.reduce_mean(violent, axis=1)   # 501 represents the 501 similarities of the projection space with the input sentence, same thing for second projection space\n",
        "  out=tf.concat([peace,violent],axis=-1)       \n",
        "  print(\"COMPARE-COSINE\")\n",
        "  print('out.shape')\n",
        "  print(out.shape)    # should be (None, 1002)\n",
        "\n",
        "  # out= out.reshape[-1,1]\n",
        "\n",
        "  return out   \n",
        "\n",
        "class remove_pads(tf.keras.layers.Layer):\n",
        "\n",
        "  def __init__(self,**kwargs):\n",
        "\n",
        "    super(remove_pads,self).__init__(**kwargs)\n",
        "    self.mask_generator = layers.Embedding(input_dim = 35000,output_dim = 32, mask_zero=True)  # bert has vocabulary of 30522 words\n",
        "\n",
        "  \n",
        "  \n",
        "  def call(self,listInputs):   # inputs(None,64,300)  input_ids(None,64)  [101, 234 , 43545, ..  0, 0, 0, ]\n",
        "\n",
        "    inputs = listInputs[0]\n",
        "    input_ids = listInputs[1]\n",
        "    masks = self.mask_generator.compute_mask(input_ids)     # (None,64) [0,1, ... 0, 0]\n",
        "    masks = tf.cast(masks,tf.float32)\n",
        "    # now for each token we want correspoding 1 or 0 in same dimension\n",
        "    masks = tf.expand_dims(masks,axis=-1)    # (None,64,1)\n",
        "    temp = tf.unstack(masks,axis=1)\n",
        "    del temp[0]\n",
        "    temp.insert(0,tf.zeros_like(temp[0]))\n",
        "    masks = tf.stack(temp,axis=1)\n",
        "    length = tf.math.reduce_sum(masks,axis = 1, keepdims=True)     # (None,1,1)\n",
        "    # mask the embeddings corresponding to zero input id ==0\n",
        "    masked_embeddings = inputs * masks    # (None,64,300) * (None,64,1) = (None,64,300) -- Cosine similarites with CLS and PAD tokens will be zero\n",
        "    # take SUM, (not mean)\n",
        "    masked_embeddings = tf.math.reduce_sum(masked_embeddings, axis = 1, keepdims=True)   # (None,1,501)\n",
        "    # now just divide each by the length to get mean of non zero embeddings\n",
        "    masked_embeddings = masked_embeddings / length    # -- now masked embeddings represents average cosine similarity of input \n",
        "                                                      #    sentence with each token of projection space\n",
        "\n",
        "    return masked_embeddings\n",
        "\n",
        "class remove_padsV2(tf.keras.layers.Layer):\n",
        "\n",
        "  def __init__(self,**kwargs):\n",
        "\n",
        "    super(remove_padsV2,self).__init__(**kwargs)\n",
        "    self.mask_generator = layers.Embedding(input_dim = 35000,output_dim = 32, mask_zero=True)  # bert has vocabulary of 30522 words\n",
        "\n",
        "  \n",
        "  \n",
        "  def call(self,listInputs):   # inputs(None,64,300)  input_ids(None,64)  [101, 234 , 43545, ..  0, 0, 0, ]\n",
        "\n",
        "    inputs = listInputs[0]\n",
        "    input_ids = listInputs[1]\n",
        "    # convert token ids 101 and 102 to 0\n",
        "    filteredInputIds = tf.where(tf.equal(input_ids,101) | tf.equal(input_ids,102),0,input_ids)\n",
        "    masks = self.mask_generator.compute_mask(filteredInputIds)     # (None,64) [0,1, ... 0, 0]\n",
        "    masks = tf.cast(masks,tf.float32)\n",
        "    masks = tf.expand_dims(masks,axis=-1)    # (None,64,1)\n",
        "\n",
        "    # mask the embeddings corresponding to zero input id ==0\n",
        "    masked_embeddings = inputs * masks    # (None,64,300) * (None,64,1) = (None,64,300) -- Cosine similarites with CLS and PAD tokens will be zero\n",
        "\n",
        "    # masked_embeddings = tf.math.reduce_sum(masked_embeddings, axis = 1, keepdims=True)   # (None,1,501)\n",
        "\n",
        "\n",
        "    return masked_embeddings\n",
        "\n",
        "def merge_function(vects):\n",
        "\n",
        "  positive, negative = vects[0], vects[1]    # each cosine similarity vector is (None,MAX_LENGTH,PROJECTION_DIM) i.e (None,128,300)\n",
        "  # of these 128 vectors, those corresponding to tokens [cls, pad, sep] are 0\n",
        "  # we sum them up and then divide with number of non-zeros to get average cosine similarities\n",
        "  # get length of non zero rows in both cosine similarity vectors\n",
        "  positiveLength = tf.math.count_nonzero(tf.math.reduce_sum(positive, axis=2,keepdims=True), axis=1, keepdims=True,dtype = tf.float32)   # (None,1,1)\n",
        "  negativeLength = tf.math.count_nonzero(tf.math.reduce_sum(negative, axis=2,keepdims=True), axis=1, keepdims=True,dtype = tf.float32)\n",
        "\n",
        "  # now obtain average of cosine similarities\n",
        "  positive = tf.math.reduce_sum(positive,axis=1, keepdims=True)    # (None,1,300)\n",
        "  positiveAverage = tf.divide(positive, positiveLength)\n",
        "\n",
        "  negative = tf.math.reduce_sum(negative,axis=1, keepdims=True)    # (None,1,300)\n",
        "  negativeAverage = tf.divide(negative, negativeLength)\n",
        "\n",
        "\n",
        "    \n",
        "  # input_shape = (None,1,Projection_DIM)\n",
        "  res = tf.concat([positiveAverage,negativeAverage], axis = -1)                  # (None,1,600)\n",
        "\n",
        "  return res"
      ]
    },
    {
      "cell_type": "code",
      "execution_count": null,
      "metadata": {
        "colab": {
          "base_uri": "https://localhost:8080/"
        },
        "id": "TEa-j__zxIfH",
        "outputId": "043c141a-ccb8-4deb-988e-4a51b13bde1f"
      },
      "outputs": [
        {
          "output_type": "execute_result",
          "data": {
            "text/plain": [
              "(12, 4)"
            ]
          },
          "metadata": {},
          "execution_count": 20
        }
      ],
      "source": [
        "# sanity check\n",
        "return_embedding_index(np.ones(shape=(12,64,768)),4).shape\n",
        "\n",
        "# Although this function is not required anymore"
      ]
    },
    {
      "cell_type": "markdown",
      "source": [
        "## MODEL ARCHITECTURE"
      ],
      "metadata": {
        "id": "PBtqqh4lbUFy"
      }
    },
    {
      "cell_type": "code",
      "execution_count": null,
      "metadata": {
        "id": "A-tUkKCa2wST"
      },
      "outputs": [],
      "source": [
        "\n",
        "# Model Debugging - Rahul\n",
        "DEBUG = \"DEBUG\"\n",
        "\n",
        "# for input we have\n",
        "# 1. input ids\n",
        "# 2. attention_masks\n",
        "# 3. embedding_index (projection_dim)\n",
        "\n",
        "# 4. label (second part of tuple) \n",
        "\n",
        "# parameters\n",
        "# BATCH_SIZE = 64\n",
        "# PROJECTION_DIM = 300\n",
        "# MAX_LENGTH = 128\n",
        "# VECTOR_DIM = 768\n",
        "\n",
        "# first two will go to bert as input\n",
        "ids = layers.Input(shape = (MAX_LENGTH,), dtype = tf.int32, name = \"input_ids\")\n",
        "mks = layers.Input(shape = (MAX_LENGTH,), dtype = tf.int32, name = \"attention_masks\")\n",
        "projection_space = layers.Input(name = \"space\", shape = (PROJECTION_DIM,))\n",
        "# pad_ids = layers.Input(shape = (MAX_LENGTH,), dtype = tf.int32, name = \"pad_ids\")\n",
        "\n",
        "input_sentence = bertModel(ids, attention_mask = mks)[0]   # bertModel layers freezed, last_hidden_state_output\n",
        "\n",
        "\n",
        "positive_embedding_layer =  layers.Embedding(name = \"positive_embedding\",\n",
        "                                   input_dim = PROJECTION_DIM, \n",
        "                                   output_dim=VECTOR_DIM, \n",
        "                                   embeddings_initializer=tf.random_uniform_initializer(minval=-1., maxval=1.), \n",
        "                                   input_length = PROJECTION_DIM , \n",
        "                                   trainable=True, \n",
        "                                   mask_zero=True)\n",
        "\n",
        "\n",
        "negative_embedding_layer =  layers.Embedding(name = \"negative_embedding\",\n",
        "                                   input_dim=PROJECTION_DIM, \n",
        "                                   output_dim=VECTOR_DIM, \n",
        "                                   embeddings_initializer=tf.random_uniform_initializer(minval=-1., maxval=1.), \n",
        "                                   input_length = PROJECTION_DIM , \n",
        "                                   trainable=True, \n",
        "                                   mask_zero=True)\n",
        "\n",
        "\n",
        "# embeddings for projection space\n",
        "positive_embedding_np = positive_embedding_layer(projection_space) #np.array([0, 1, 2, 3, 4 , ... 500]) input_dim = 501       # (None,501,768)\n",
        "negative_embedding_np = negative_embedding_layer(projection_space) #np.array([0, 1, 2])                                       # (None,501,768)\n",
        "\n",
        "#Permute\n",
        "positive_embedding= layers.Permute((2, 1), input_shape=(PROJECTION_DIM, VECTOR_DIM))(positive_embedding_np)           # (None,768, 501)\n",
        "negative_embedding= layers.Permute((2, 1), input_shape=(PROJECTION_DIM, VECTOR_DIM))(negative_embedding_np)           # (None,768, 501)\n",
        "\n",
        "'''\n",
        "1. cosine_similary\n",
        "if you find PAD then just appen -math.INF to the array of cosine\n",
        "find the cosine between each word and its average projection\n",
        "it should a list of cosine\n",
        "'''\n",
        "\n",
        "positive_cosine = layers.Lambda(function=cosine_similarity_projected, \n",
        "                      name='cosine_positive')([input_sentence, positive_embedding])     # (None,64,501)\n",
        "\n",
        "# input sentence is = len of sentence* 768\n",
        "# positive embedding=  64*768\n",
        "\n",
        "negative_cosine = layers.Lambda(function=cosine_similarity_projected, \n",
        "                         name='cosine_negative')([input_sentence, negative_embedding])   # (None,64,501)\n",
        "              \n",
        "\n",
        "\n",
        "# remove paddings from cosines from both layers\n",
        "\n",
        "positive_cosine = remove_padsV2(name=\"remove_cls_pad_positive\")([positive_cosine, ids])   # (None,64,501)\n",
        "negative_cosine = remove_padsV2(name=\"remove_cls_pad_negative\")([negative_cosine, ids])   # (None,64,501) -- average CosineSim of each sentence with all tokens in proj space\n",
        "\n",
        "\n",
        "# negative embedding = 64*768\n",
        "'''\n",
        "2. compare_cosine\n",
        "if you find -math.INF then do not count it\n",
        "return average cosines from two space\n",
        "'''\n",
        "# averaged and merged\n",
        "merged = layers.Lambda(function=merge_function, \n",
        "                name='AverageMergeAndCompare')([positive_cosine, negative_cosine])  # (None,1,1002)    # !these values are not really identical beacause both embedding layers had different random weights\n",
        "\n",
        "# Use variable_compare_cosine(vector, length) in regards sentence\n",
        "merged = layers.Flatten(data_format = \"channels_first\")(merged)             # \"compare\" layer has no weights of its own\n",
        "\n",
        "hidden = layers.Dense(256, activation='relu', name = \"hidden-1\", kernel_constraint=MaxNorm(3),\n",
        "               kernel_initializer = \"he_normal\")(merged)                                  # output = (None,1,256)\n",
        "\n",
        "hidden = layers.Dropout(0.25, name=\"drop-1\")(hidden)\n",
        "hidden = layers.Dense(64, activation='relu', name = \"hidden-2\", kernel_constraint=MaxNorm(3),\n",
        "               kernel_initializer = \"he_normal\")(hidden)\n",
        "hidden = layers.Dropout(0.25, name=\"drop-2\")(hidden)\n",
        "hidden = layers.Dense(16, activation='relu', name = \"hidden-3\", kernel_constraint=MaxNorm(3),\n",
        "               kernel_initializer= \"he_normal\")(hidden)\n",
        "hidden = layers.Dropout(0.25, name=\"drop-3\")(hidden)\n",
        "\n",
        "\n",
        "predictions = layers.Dense(1, activation= \"sigmoid\" , name='classification_layer')(hidden)            # (None,1,1)      \n",
        "\n",
        "model = Model(inputs=[ids, mks, projection_space],outputs= predictions)"
      ]
    },
    {
      "cell_type": "code",
      "source": [
        "model.summary()"
      ],
      "metadata": {
        "colab": {
          "base_uri": "https://localhost:8080/"
        },
        "id": "RGZtAEwlcbxa",
        "outputId": "5e4f35c2-9758-49e1-a2aa-e75f33154f34"
      },
      "execution_count": null,
      "outputs": [
        {
          "output_type": "stream",
          "name": "stdout",
          "text": [
            "Model: \"model\"\n",
            "__________________________________________________________________________________________________\n",
            " Layer (type)                   Output Shape         Param #     Connected to                     \n",
            "==================================================================================================\n",
            " space (InputLayer)             [(None, 300)]        0           []                               \n",
            "                                                                                                  \n",
            " input_ids (InputLayer)         [(None, 128)]        0           []                               \n",
            "                                                                                                  \n",
            " attention_masks (InputLayer)   [(None, 128)]        0           []                               \n",
            "                                                                                                  \n",
            " positive_embedding (Embedding)  (None, 300, 768)    230400      ['space[0][0]']                  \n",
            "                                                                                                  \n",
            " negative_embedding (Embedding)  (None, 300, 768)    230400      ['space[0][0]']                  \n",
            "                                                                                                  \n",
            " tf_bert_model (TFBertModel)    TFBaseModelOutputWi  109482240   ['input_ids[0][0]',              \n",
            "                                thPoolingAndCrossAt               'attention_masks[0][0]']        \n",
            "                                tentions(last_hidde                                               \n",
            "                                n_state=(None, 128,                                               \n",
            "                                 768),                                                            \n",
            "                                 pooler_output=(Non                                               \n",
            "                                e, 768),                                                          \n",
            "                                 past_key_values=No                                               \n",
            "                                ne, hidden_states=N                                               \n",
            "                                one, attentions=Non                                               \n",
            "                                e, cross_attentions                                               \n",
            "                                =None)                                                            \n",
            "                                                                                                  \n",
            " permute (Permute)              (None, 768, 300)     0           ['positive_embedding[0][0]']     \n",
            "                                                                                                  \n",
            " permute_1 (Permute)            (None, 768, 300)     0           ['negative_embedding[0][0]']     \n",
            "                                                                                                  \n",
            " cosine_positive (Lambda)       (None, 128, 300)     0           ['tf_bert_model[0][0]',          \n",
            "                                                                  'permute[0][0]']                \n",
            "                                                                                                  \n",
            " cosine_negative (Lambda)       (None, 128, 300)     0           ['tf_bert_model[0][0]',          \n",
            "                                                                  'permute_1[0][0]']              \n",
            "                                                                                                  \n",
            " remove_cls_pad_positive (remov  (None, 128, 300)    0           ['cosine_positive[0][0]',        \n",
            " e_padsV2)                                                        'input_ids[0][0]']              \n",
            "                                                                                                  \n",
            " remove_cls_pad_negative (remov  (None, 128, 300)    0           ['cosine_negative[0][0]',        \n",
            " e_padsV2)                                                        'input_ids[0][0]']              \n",
            "                                                                                                  \n",
            " AverageMergeAndCompare (Lambda  (None, 1, 600)      0           ['remove_cls_pad_positive[0][0]',\n",
            " )                                                                'remove_cls_pad_negative[0][0]']\n",
            "                                                                                                  \n",
            " flatten (Flatten)              (None, 600)          0           ['AverageMergeAndCompare[0][0]'] \n",
            "                                                                                                  \n",
            " hidden-1 (Dense)               (None, 256)          153856      ['flatten[0][0]']                \n",
            "                                                                                                  \n",
            " drop-1 (Dropout)               (None, 256)          0           ['hidden-1[0][0]']               \n",
            "                                                                                                  \n",
            " hidden-2 (Dense)               (None, 64)           16448       ['drop-1[0][0]']                 \n",
            "                                                                                                  \n",
            " drop-2 (Dropout)               (None, 64)           0           ['hidden-2[0][0]']               \n",
            "                                                                                                  \n",
            " hidden-3 (Dense)               (None, 16)           1040        ['drop-2[0][0]']                 \n",
            "                                                                                                  \n",
            " drop-3 (Dropout)               (None, 16)           0           ['hidden-3[0][0]']               \n",
            "                                                                                                  \n",
            " classification_layer (Dense)   (None, 1)            17          ['drop-3[0][0]']                 \n",
            "                                                                                                  \n",
            "==================================================================================================\n",
            "Total params: 110,114,401\n",
            "Trainable params: 632,161\n",
            "Non-trainable params: 109,482,240\n",
            "__________________________________________________________________________________________________\n"
          ]
        }
      ]
    },
    {
      "cell_type": "code",
      "source": [
        "from keras.utils import plot_model\n",
        "tf.keras.utils.plot_model(model,to_file = \"/content/sample_data/something.png\", show_shapes=False)"
      ],
      "metadata": {
        "colab": {
          "base_uri": "https://localhost:8080/",
          "height": 1000
        },
        "id": "xMUGhq99cfUm",
        "outputId": "81f58c92-6d5d-432d-eb47-41ea97d36135"
      },
      "execution_count": null,
      "outputs": [
        {
          "output_type": "execute_result",
          "data": {
            "image/png": "[encoded data removed]",
            "text/plain": [
              "<IPython.core.display.Image object>"
            ]
          },
          "metadata": {},
          "execution_count": 23
        }
      ]
    },
    {
      "cell_type": "markdown",
      "source": [
        "## Model Training"
      ],
      "metadata": {
        "id": "pMy4t2KSiIzJ"
      }
    },
    {
      "cell_type": "code",
      "execution_count": null,
      "metadata": {
        "id": "F2xwDI426PAO"
      },
      "outputs": [],
      "source": [
        "# loss functions\n",
        "\n",
        "# subtract this loss to decrease cosine similarity\n",
        "# space_loss = tf.keras.losses.CosineSimilarity()(positive_embedding_np, negative_embedding_np)\n",
        "\n",
        "# model.add_loss(-1*space_loss)\n",
        "\n",
        "projection_loss = tf.keras.losses.CosineSimilarity()(tf.math.reduce_mean(positive_cosine, axis=1), tf.math.reduce_mean(negative_cosine, axis=1))\n",
        "model.add_loss((1.0/(1.01 + projection_loss)))"
      ]
    },
    {
      "cell_type": "code",
      "execution_count": null,
      "metadata": {
        "id": "BzlDlnaR7nwh"
      },
      "outputs": [],
      "source": [
        "# cross entropy loss\n",
        "crossEntropLoss = tf.keras.losses.BinaryCrossentropy(from_logits = False)\n",
        "\n",
        "optimizer = tf.keras.optimizers.Adam(learning_rate = 1e-3)\n",
        "\n",
        "model.compile(loss = crossEntropLoss , optimizer = optimizer, metrics=[\"accuracy\"])"
      ]
    },
    {
      "cell_type": "code",
      "execution_count": null,
      "metadata": {
        "colab": {
          "base_uri": "https://localhost:8080/"
        },
        "id": "GxgqZav88z6N",
        "outputId": "ea5d887b-10c4-434d-c013-88bde339df85"
      },
      "outputs": [
        {
          "output_type": "execute_result",
          "data": {
            "text/plain": [
              "1093"
            ]
          },
          "metadata": {},
          "execution_count": 26
        }
      ],
      "source": [
        "len(train_gen) // BATCH_SIZE"
      ]
    },
    {
      "cell_type": "code",
      "execution_count": null,
      "metadata": {
        "id": "CmL8xYGKl6QS"
      },
      "outputs": [],
      "source": [
        "# callbacks\n",
        "\n",
        "BASE_PATH = \"/gdrive/Shareddrives/Thesis/\"\n",
        "\n",
        "modelcheckpoint = tf.keras.callbacks.ModelCheckpoint(\n",
        "    filepath= BASE_PATH + \"imdb_bestWeights.h5\",\n",
        "    monitor = \"val_loss\",\n",
        "    verbose = 1,\n",
        "    save_best_only = True,\n",
        "    save_weights_only = True,\n",
        "    mode = \"auto\",\n",
        ")\n",
        "\n",
        "earlystopping = tf.keras.callbacks.EarlyStopping(\n",
        "    monitor=\"val_loss\",\n",
        "    min_delta=0,\n",
        "    patience=5,\n",
        "    verbose=1,\n",
        "    mode=\"auto\",\n",
        "    restore_best_weights=True)"
      ]
    },
    {
      "cell_type": "code",
      "execution_count": null,
      "metadata": {
        "id": "jgXNL30V8Isl",
        "colab": {
          "base_uri": "https://localhost:8080/"
        },
        "outputId": "4a8834a9-5373-4b2d-f7b5-68e6c5aa685b"
      },
      "outputs": [
        {
          "output_type": "stream",
          "name": "stdout",
          "text": [
            "Epoch 1/3\n",
            "1093/1093 [==============================] - ETA: 0s - loss: 0.9921 - accuracy: 0.7753\n",
            "Epoch 1: val_loss improved from inf to 0.90549, saving model to /gdrive/Shareddrives/Thesis/imdb_bestWeights.h5\n",
            "1093/1093 [==============================] - 439s 385ms/step - loss: 0.9921 - accuracy: 0.7753 - val_loss: 0.9055 - val_accuracy: 0.8177\n",
            "Epoch 2/3\n",
            "1093/1093 [==============================] - ETA: 0s - loss: 0.9246 - accuracy: 0.8103\n",
            "Epoch 2: val_loss improved from 0.90549 to 0.89352, saving model to /gdrive/Shareddrives/Thesis/imdb_bestWeights.h5\n",
            "1093/1093 [==============================] - 420s 384ms/step - loss: 0.9246 - accuracy: 0.8103 - val_loss: 0.8935 - val_accuracy: 0.8243\n",
            "Epoch 3/3\n",
            "1093/1093 [==============================] - ETA: 0s - loss: 0.9139 - accuracy: 0.8148\n",
            "Epoch 3: val_loss improved from 0.89352 to 0.88206, saving model to /gdrive/Shareddrives/Thesis/imdb_bestWeights.h5\n",
            "1093/1093 [==============================] - 433s 396ms/step - loss: 0.9139 - accuracy: 0.8148 - val_loss: 0.8821 - val_accuracy: 0.8281\n"
          ]
        }
      ],
      "source": [
        "EPOCHS = 3\n",
        "history = model.fit(\n",
        "    train_ds,\n",
        "    steps_per_epoch = len(train_gen) // BATCH_SIZE,\n",
        "    validation_data = val_ds,\n",
        "    epochs = EPOCHS,\n",
        "    callbacks = [modelcheckpoint]\n",
        ")"
      ]
    },
    {
      "cell_type": "code",
      "execution_count": null,
      "metadata": {
        "id": "WWWXuWk9oCWM",
        "colab": {
          "base_uri": "https://localhost:8080/",
          "height": 204
        },
        "outputId": "9117d8a2-d2f1-410e-b9e0-efd44bbe46cf"
      },
      "outputs": [
        {
          "output_type": "error",
          "ename": "NameError",
          "evalue": "ignored",
          "traceback": [
            "\u001b[0;31m---------------------------------------------------------------------------\u001b[0m",
            "\u001b[0;31mNameError\u001b[0m                                 Traceback (most recent call last)",
            "\u001b[0;32m<ipython-input-28-ca1122f05a4d>\u001b[0m in \u001b[0;36m<module>\u001b[0;34m\u001b[0m\n\u001b[1;32m      4\u001b[0m \u001b[0;34m\u001b[0m\u001b[0m\n\u001b[1;32m      5\u001b[0m \u001b[0;32mwith\u001b[0m \u001b[0mopen\u001b[0m\u001b[0;34m(\u001b[0m\u001b[0;34mf\"{BASE_PATH}/imdb_training_history.pkl\"\u001b[0m\u001b[0;34m,\u001b[0m\u001b[0;34m\"wb\"\u001b[0m\u001b[0;34m)\u001b[0m \u001b[0;32mas\u001b[0m \u001b[0mhist\u001b[0m\u001b[0;34m:\u001b[0m\u001b[0;34m\u001b[0m\u001b[0;34m\u001b[0m\u001b[0m\n\u001b[0;32m----> 6\u001b[0;31m   \u001b[0mpickle\u001b[0m\u001b[0;34m.\u001b[0m\u001b[0mdump\u001b[0m\u001b[0;34m(\u001b[0m\u001b[0mhistory\u001b[0m\u001b[0;34m.\u001b[0m\u001b[0mhistory\u001b[0m\u001b[0;34m,\u001b[0m\u001b[0mhist\u001b[0m\u001b[0;34m)\u001b[0m\u001b[0;34m\u001b[0m\u001b[0;34m\u001b[0m\u001b[0m\n\u001b[0m",
            "\u001b[0;31mNameError\u001b[0m: name 'history' is not defined"
          ]
        }
      ],
      "source": [
        "# UNCOMMENT THIS CELL AFTER MODEL TRAINING\n",
        "\n",
        "# save model history\n",
        "\n",
        "with open(f\"{BASE_PATH}/imdb_training_history.pkl\",\"wb\") as hist:\n",
        "  pickle.dump(history.history,hist)"
      ]
    },
    {
      "cell_type": "code",
      "source": [
        "\n",
        "# load best weights\n",
        "model.load_weights(f\"{BASE_PATH}imdb_bestWeights.h5\")"
      ],
      "metadata": {
        "id": "5X2oBR2tisAN"
      },
      "execution_count": null,
      "outputs": []
    },
    {
      "cell_type": "code",
      "source": [
        "%cd \"/gdrive/Shareddrives/Thesis/code/Rahul\""
      ],
      "metadata": {
        "colab": {
          "base_uri": "https://localhost:8080/"
        },
        "id": "_lQAhMope5sU",
        "outputId": "635d56aa-71e0-4a22-be93-5085f9e17584"
      },
      "execution_count": null,
      "outputs": [
        {
          "output_type": "stream",
          "name": "stdout",
          "text": [
            "/gdrive/Shareddrives/Thesis/code/Rahul\n"
          ]
        }
      ]
    },
    {
      "cell_type": "code",
      "source": [
        "!unzip \"/gdrive/Shareddrives/Thesis/code/Rahul/vaderSentiment-master.zip\" -d \"/gdrive/Shareddrives/Thesis/code/Rahul/\""
      ],
      "metadata": {
        "colab": {
          "base_uri": "https://localhost:8080/"
        },
        "id": "PcL4aPpcfH92",
        "outputId": "ad6e1cd0-69f0-4b21-b619-aeb79f50d663"
      },
      "execution_count": null,
      "outputs": [
        {
          "output_type": "stream",
          "name": "stdout",
          "text": [
            "Archive:  /gdrive/Shareddrives/Thesis/code/Rahul/vaderSentiment-master.zip\n",
            "94fbd74594ac0714dfc0e55bd7415994b24020cf\n",
            "   creating: /gdrive/Shareddrives/Thesis/code/Rahul/vaderSentiment-master/\n",
            "  inflating: /gdrive/Shareddrives/Thesis/code/Rahul/vaderSentiment-master/.gitattributes  \n",
            "  inflating: /gdrive/Shareddrives/Thesis/code/Rahul/vaderSentiment-master/.gitignore  \n",
            "  inflating: /gdrive/Shareddrives/Thesis/code/Rahul/vaderSentiment-master/LICENSE.txt  \n",
            "  inflating: /gdrive/Shareddrives/Thesis/code/Rahul/vaderSentiment-master/MANIFEST.in  \n",
            "  inflating: /gdrive/Shareddrives/Thesis/code/Rahul/vaderSentiment-master/README.rst  \n",
            " extracting: /gdrive/Shareddrives/Thesis/code/Rahul/vaderSentiment-master/__init__.py  \n",
            "   creating: /gdrive/Shareddrives/Thesis/code/Rahul/vaderSentiment-master/additional_resources/\n",
            "  inflating: /gdrive/Shareddrives/Thesis/code/Rahul/vaderSentiment-master/additional_resources/build_emoji_lexicon.py  \n",
            "  inflating: /gdrive/Shareddrives/Thesis/code/Rahul/vaderSentiment-master/additional_resources/emoji-test.txt  \n",
            " extracting: /gdrive/Shareddrives/Thesis/code/Rahul/vaderSentiment-master/additional_resources/hutto_ICWSM_2014.tar.gz  \n",
            "  inflating: /gdrive/Shareddrives/Thesis/code/Rahul/vaderSentiment-master/setup.cfg  \n",
            "  inflating: /gdrive/Shareddrives/Thesis/code/Rahul/vaderSentiment-master/setup.py  \n",
            "   creating: /gdrive/Shareddrives/Thesis/code/Rahul/vaderSentiment-master/vaderSentiment/\n",
            " extracting: /gdrive/Shareddrives/Thesis/code/Rahul/vaderSentiment-master/vaderSentiment/__init__.py  \n",
            "  inflating: /gdrive/Shareddrives/Thesis/code/Rahul/vaderSentiment-master/vaderSentiment/emoji_utf8_lexicon.txt  \n",
            "  inflating: /gdrive/Shareddrives/Thesis/code/Rahul/vaderSentiment-master/vaderSentiment/vaderSentiment.py  \n",
            "  inflating: /gdrive/Shareddrives/Thesis/code/Rahul/vaderSentiment-master/vaderSentiment/vader_lexicon.txt  \n"
          ]
        }
      ]
    },
    {
      "cell_type": "code",
      "source": [
        "# prepare test data for evaluation:\n",
        "test_gen   = dataset(test_df[\"review\"].values,test_df[\"sentiment\"].values,max_length = MAX_LENGTH, tokenizer = tokenizer, projection_dim=PROJECTION_DIM, val = True)\n",
        "test_ds = tf.data.Dataset.from_generator(test_gen,\n",
        "                                            output_signature = \n",
        "                                           ({\"input_ids\" : tf.TensorSpec(shape = (MAX_LENGTH,), dtype = tf.int32 ),\"attention_masks\":tf.TensorSpec(shape = (MAX_LENGTH,), dtype = tf.int32),\"space\":tf.TensorSpec(shape = (PROJECTION_DIM,), dtype = tf.int32)},\n",
        "                                            tf.TensorSpec(shape = (), dtype = (tf.float32)))).batch(BATCH_SIZE)"
      ],
      "metadata": {
        "id": "e9RDYfqzLhPE"
      },
      "execution_count": null,
      "outputs": []
    },
    {
      "cell_type": "code",
      "source": [
        "test_df"
      ],
      "metadata": {
        "colab": {
          "base_uri": "https://localhost:8080/",
          "height": 424
        },
        "id": "C1wHWqLVOdX5",
        "outputId": "109f25af-4a5b-43c7-dbaa-71e7324feba6"
      },
      "execution_count": null,
      "outputs": [
        {
          "output_type": "execute_result",
          "data": {
            "text/plain": [
              "                                                 review  sentiment\n",
              "0     with a little dressing up this movie could be ...        0.0\n",
              "1     i just want to comment to the woman above that...        1.0\n",
              "2     ever since i first encountered the divine ms m...        1.0\n",
              "3     first off im an american i havent seen any com...        1.0\n",
              "4     soap opera about a small town married woman ka...        1.0\n",
              "...                                                 ...        ...\n",
              "7495  dont waste your time one of those coollooking ...        0.0\n",
              "7496  robin williams does his best to combine comedy...        1.0\n",
              "7497  when you see the cover of the dvd youre convin...        1.0\n",
              "7498  heart pounding erotic drama are the words that...        1.0\n",
              "7499  film noir is an overused expression when it co...        1.0\n",
              "\n",
              "[7500 rows x 2 columns]"
            ],
            "text/html": [
              "\n",
              "  <div id=\"df-360271de-0382-4d27-ba38-c251ec70e46a\">\n",
              "    <div class=\"colab-df-container\">\n",
              "      <div>\n",
              "<style scoped>\n",
              "    .dataframe tbody tr th:only-of-type {\n",
              "        vertical-align: middle;\n",
              "    }\n",
              "\n",
              "    .dataframe tbody tr th {\n",
              "        vertical-align: top;\n",
              "    }\n",
              "\n",
              "    .dataframe thead th {\n",
              "        text-align: right;\n",
              "    }\n",
              "</style>\n",
              "<table border=\"1\" class=\"dataframe\">\n",
              "  <thead>\n",
              "    <tr style=\"text-align: right;\">\n",
              "      <th></th>\n",
              "      <th>review</th>\n",
              "      <th>sentiment</th>\n",
              "    </tr>\n",
              "  </thead>\n",
              "  <tbody>\n",
              "    <tr>\n",
              "      <th>0</th>\n",
              "      <td>with a little dressing up this movie could be ...</td>\n",
              "      <td>0.0</td>\n",
              "    </tr>\n",
              "    <tr>\n",
              "      <th>1</th>\n",
              "      <td>i just want to comment to the woman above that...</td>\n",
              "      <td>1.0</td>\n",
              "    </tr>\n",
              "    <tr>\n",
              "      <th>2</th>\n",
              "      <td>ever since i first encountered the divine ms m...</td>\n",
              "      <td>1.0</td>\n",
              "    </tr>\n",
              "    <tr>\n",
              "      <th>3</th>\n",
              "      <td>first off im an american i havent seen any com...</td>\n",
              "      <td>1.0</td>\n",
              "    </tr>\n",
              "    <tr>\n",
              "      <th>4</th>\n",
              "      <td>soap opera about a small town married woman ka...</td>\n",
              "      <td>1.0</td>\n",
              "    </tr>\n",
              "    <tr>\n",
              "      <th>...</th>\n",
              "      <td>...</td>\n",
              "      <td>...</td>\n",
              "    </tr>\n",
              "    <tr>\n",
              "      <th>7495</th>\n",
              "      <td>dont waste your time one of those coollooking ...</td>\n",
              "      <td>0.0</td>\n",
              "    </tr>\n",
              "    <tr>\n",
              "      <th>7496</th>\n",
              "      <td>robin williams does his best to combine comedy...</td>\n",
              "      <td>1.0</td>\n",
              "    </tr>\n",
              "    <tr>\n",
              "      <th>7497</th>\n",
              "      <td>when you see the cover of the dvd youre convin...</td>\n",
              "      <td>1.0</td>\n",
              "    </tr>\n",
              "    <tr>\n",
              "      <th>7498</th>\n",
              "      <td>heart pounding erotic drama are the words that...</td>\n",
              "      <td>1.0</td>\n",
              "    </tr>\n",
              "    <tr>\n",
              "      <th>7499</th>\n",
              "      <td>film noir is an overused expression when it co...</td>\n",
              "      <td>1.0</td>\n",
              "    </tr>\n",
              "  </tbody>\n",
              "</table>\n",
              "<p>7500 rows × 2 columns</p>\n",
              "</div>\n",
              "      <button class=\"colab-df-convert\" onclick=\"convertToInteractive('df-360271de-0382-4d27-ba38-c251ec70e46a')\"\n",
              "              title=\"Convert this dataframe to an interactive table.\"\n",
              "              style=\"display:none;\">\n",
              "        \n",
              "  <svg xmlns=\"http://www.w3.org/2000/svg\" height=\"24px\"viewBox=\"0 0 24 24\"\n",
              "       width=\"24px\">\n",
              "    <path d=\"M0 0h24v24H0V0z\" fill=\"none\"/>\n",
              "    <path d=\"M18.56 5.44l.94 2.06.94-2.06 2.06-.94-2.06-.94-.94-2.06-.94 2.06-2.06.94zm-11 1L8.5 8.5l.94-2.06 2.06-.94-2.06-.94L8.5 2.5l-.94 2.06-2.06.94zm10 10l.94 2.06.94-2.06 2.06-.94-2.06-.94-.94-2.06-.94 2.06-2.06.94z\"/><path d=\"M17.41 7.96l-1.37-1.37c-.4-.4-.92-.59-1.43-.59-.52 0-1.04.2-1.43.59L10.3 9.45l-7.72 7.72c-.78.78-.78 2.05 0 2.83L4 21.41c.39.39.9.59 1.41.59.51 0 1.02-.2 1.41-.59l7.78-7.78 2.81-2.81c.8-.78.8-2.07 0-2.86zM5.41 20L4 18.59l7.72-7.72 1.47 1.35L5.41 20z\"/>\n",
              "  </svg>\n",
              "      </button>\n",
              "      \n",
              "  <style>\n",
              "    .colab-df-container {\n",
              "      display:flex;\n",
              "      flex-wrap:wrap;\n",
              "      gap: 12px;\n",
              "    }\n",
              "\n",
              "    .colab-df-convert {\n",
              "      background-color: #E8F0FE;\n",
              "      border: none;\n",
              "      border-radius: 50%;\n",
              "      cursor: pointer;\n",
              "      display: none;\n",
              "      fill: #1967D2;\n",
              "      height: 32px;\n",
              "      padding: 0 0 0 0;\n",
              "      width: 32px;\n",
              "    }\n",
              "\n",
              "    .colab-df-convert:hover {\n",
              "      background-color: #E2EBFA;\n",
              "      box-shadow: 0px 1px 2px rgba(60, 64, 67, 0.3), 0px 1px 3px 1px rgba(60, 64, 67, 0.15);\n",
              "      fill: #174EA6;\n",
              "    }\n",
              "\n",
              "    [theme=dark] .colab-df-convert {\n",
              "      background-color: #3B4455;\n",
              "      fill: #D2E3FC;\n",
              "    }\n",
              "\n",
              "    [theme=dark] .colab-df-convert:hover {\n",
              "      background-color: #434B5C;\n",
              "      box-shadow: 0px 1px 3px 1px rgba(0, 0, 0, 0.15);\n",
              "      filter: drop-shadow(0px 1px 2px rgba(0, 0, 0, 0.3));\n",
              "      fill: #FFFFFF;\n",
              "    }\n",
              "  </style>\n",
              "\n",
              "      <script>\n",
              "        const buttonEl =\n",
              "          document.querySelector('#df-360271de-0382-4d27-ba38-c251ec70e46a button.colab-df-convert');\n",
              "        buttonEl.style.display =\n",
              "          google.colab.kernel.accessAllowed ? 'block' : 'none';\n",
              "\n",
              "        async function convertToInteractive(key) {\n",
              "          const element = document.querySelector('#df-360271de-0382-4d27-ba38-c251ec70e46a');\n",
              "          const dataTable =\n",
              "            await google.colab.kernel.invokeFunction('convertToInteractive',\n",
              "                                                     [key], {});\n",
              "          if (!dataTable) return;\n",
              "\n",
              "          const docLinkHtml = 'Like what you see? Visit the ' +\n",
              "            '<a target=\"_blank\" href=https://colab.research.google.com/notebooks/data_table.ipynb>data table notebook</a>'\n",
              "            + ' to learn more about interactive tables.';\n",
              "          element.innerHTML = '';\n",
              "          dataTable['output_type'] = 'display_data';\n",
              "          await google.colab.output.renderOutput(dataTable, element);\n",
              "          const docLink = document.createElement('div');\n",
              "          docLink.innerHTML = docLinkHtml;\n",
              "          element.appendChild(docLink);\n",
              "        }\n",
              "      </script>\n",
              "    </div>\n",
              "  </div>\n",
              "  "
            ]
          },
          "metadata": {},
          "execution_count": 37
        }
      ]
    },
    {
      "cell_type": "code",
      "source": [
        "# get performance metrics\n",
        "predictions = model.predict(test_ds)"
      ],
      "metadata": {
        "colab": {
          "base_uri": "https://localhost:8080/"
        },
        "id": "pr74ysiHN1cA",
        "outputId": "fdb1115f-5800-4f3b-9b37-c53f24aa8b70"
      },
      "execution_count": null,
      "outputs": [
        {
          "output_type": "stream",
          "name": "stdout",
          "text": [
            "235/235 [==============================] - 67s 270ms/step\n"
          ]
        }
      ]
    },
    {
      "cell_type": "code",
      "source": [
        "def predictionLabels(i):\n",
        "\n",
        "  if i < 0.5:\n",
        "    return 0.0\n",
        "  else:\n",
        "    return 1.0\n",
        "\n",
        "getLabels = np.vectorize(predictionLabels)"
      ],
      "metadata": {
        "id": "eXAPHAN-PUMc"
      },
      "execution_count": null,
      "outputs": []
    },
    {
      "cell_type": "code",
      "source": [
        "predictedLabels = getLabels(predictions)\n",
        "predictedLabels.shape"
      ],
      "metadata": {
        "id": "wuWeJKK7QO4w",
        "colab": {
          "base_uri": "https://localhost:8080/"
        },
        "outputId": "3873ffa2-aaa1-41a1-a895-c04b47f9c22b"
      },
      "execution_count": null,
      "outputs": [
        {
          "output_type": "execute_result",
          "data": {
            "text/plain": [
              "(7500, 1)"
            ]
          },
          "metadata": {},
          "execution_count": 40
        }
      ]
    },
    {
      "cell_type": "code",
      "source": [
        "from sklearn.metrics import confusion_matrix, ConfusionMatrixDisplay, classification_report\n",
        "\n",
        "confusion_matrix(test_df.sentiment.values, predictedLabels)\n",
        "ConfusionMatrixDisplay.from_predictions(test_df.sentiment.values, predictedLabels)"
      ],
      "metadata": {
        "colab": {
          "base_uri": "https://localhost:8080/",
          "height": 297
        },
        "id": "ukBTUzO1QVj0",
        "outputId": "9f149f6b-f3cb-4c3c-8660-2e58d1575f20"
      },
      "execution_count": null,
      "outputs": [
        {
          "output_type": "execute_result",
          "data": {
            "text/plain": [
              "<sklearn.metrics._plot.confusion_matrix.ConfusionMatrixDisplay at 0x7f9b2148f2b0>"
            ]
          },
          "metadata": {},
          "execution_count": 41
        },
        {
          "output_type": "display_data",
          "data": {
            "text/plain": [
              "<Figure size 432x288 with 2 Axes>"
            ],
            "image/png": "[encoded data removed]"
          },
          "metadata": {
            "needs_background": "light"
          }
        }
      ]
    },
    {
      "cell_type": "code",
      "source": [
        "print(classification_report(test_df.sentiment.values, predictedLabels))"
      ],
      "metadata": {
        "colab": {
          "base_uri": "https://localhost:8080/"
        },
        "id": "DKUqHxqtS-VN",
        "outputId": "a38db9d9-bb35-4f31-9906-5b18368bd90b"
      },
      "execution_count": null,
      "outputs": [
        {
          "output_type": "stream",
          "name": "stdout",
          "text": [
            "              precision    recall  f1-score   support\n",
            "\n",
            "         0.0       0.83      0.85      0.84      3750\n",
            "         1.0       0.84      0.83      0.84      3750\n",
            "\n",
            "    accuracy                           0.84      7500\n",
            "   macro avg       0.84      0.84      0.84      7500\n",
            "weighted avg       0.84      0.84      0.84      7500\n",
            "\n"
          ]
        }
      ]
    },
    {
      "cell_type": "markdown",
      "source": [
        "## Model Interpretability Using LINE"
      ],
      "metadata": {
        "id": "Tr_ycIMdLWq1"
      }
    },
    {
      "cell_type": "code",
      "source": [
        "# ..."
      ],
      "metadata": {
        "id": "PVUQczH7LQTH"
      },
      "execution_count": null,
      "outputs": []
    },
    {
      "cell_type": "markdown",
      "metadata": {
        "id": "7duseDZHVwau"
      },
      "source": [
        "## Model interpretability Using Dynamic Projections"
      ]
    },
    {
      "cell_type": "code",
      "execution_count": null,
      "metadata": {
        "id": "l_B4E819ST5m"
      },
      "outputs": [],
      "source": [
        "# SETUP:\n",
        "# take a sentence, get 64 tokens, choose tokens that have maximum cosine similarity score\n",
        "# from already trained model\n",
        "# take such words from both classes \n",
        "# plot them on a tsne plot\n",
        "# [PAD] and [CLS] should not be a problem since they'll result in 0 cosine similarity (already take care in remove_pads)"
      ]
    },
    {
      "cell_type": "code",
      "source": [
        "neg_reviews = test_df.loc[test_df.sentiment == 0.0].reset_index(drop=True)\n",
        "pos_reviews = test_df.loc[test_df.sentiment == 1.0].reset_index(drop=True)"
      ],
      "metadata": {
        "id": "Dtc-8J7-T0np"
      },
      "execution_count": null,
      "outputs": []
    },
    {
      "cell_type": "code",
      "source": [
        "pos_reviews"
      ],
      "metadata": {
        "colab": {
          "base_uri": "https://localhost:8080/",
          "height": 424
        },
        "id": "T7Lsblq7T4XJ",
        "outputId": "0237f763-1a27-422b-9c1c-3c21357b2537"
      },
      "execution_count": null,
      "outputs": [
        {
          "output_type": "execute_result",
          "data": {
            "text/plain": [
              "                                                 review  sentiment\n",
              "0     i just want to comment to the woman above that...        1.0\n",
              "1     ever since i first encountered the divine ms m...        1.0\n",
              "2     first off im an american i havent seen any com...        1.0\n",
              "3     soap opera about a small town married woman ka...        1.0\n",
              "4     ive heard a lot of different opinions about th...        1.0\n",
              "...                                                 ...        ...\n",
              "3745  i second the motion to make this into a movie ...        1.0\n",
              "3746  robin williams does his best to combine comedy...        1.0\n",
              "3747  when you see the cover of the dvd youre convin...        1.0\n",
              "3748  heart pounding erotic drama are the words that...        1.0\n",
              "3749  film noir is an overused expression when it co...        1.0\n",
              "\n",
              "[3750 rows x 2 columns]"
            ],
            "text/html": [
              "\n",
              "  <div id=\"df-242f7397-d483-4b3b-8aa0-41815b37c1aa\">\n",
              "    <div class=\"colab-df-container\">\n",
              "      <div>\n",
              "<style scoped>\n",
              "    .dataframe tbody tr th:only-of-type {\n",
              "        vertical-align: middle;\n",
              "    }\n",
              "\n",
              "    .dataframe tbody tr th {\n",
              "        vertical-align: top;\n",
              "    }\n",
              "\n",
              "    .dataframe thead th {\n",
              "        text-align: right;\n",
              "    }\n",
              "</style>\n",
              "<table border=\"1\" class=\"dataframe\">\n",
              "  <thead>\n",
              "    <tr style=\"text-align: right;\">\n",
              "      <th></th>\n",
              "      <th>review</th>\n",
              "      <th>sentiment</th>\n",
              "    </tr>\n",
              "  </thead>\n",
              "  <tbody>\n",
              "    <tr>\n",
              "      <th>0</th>\n",
              "      <td>i just want to comment to the woman above that...</td>\n",
              "      <td>1.0</td>\n",
              "    </tr>\n",
              "    <tr>\n",
              "      <th>1</th>\n",
              "      <td>ever since i first encountered the divine ms m...</td>\n",
              "      <td>1.0</td>\n",
              "    </tr>\n",
              "    <tr>\n",
              "      <th>2</th>\n",
              "      <td>first off im an american i havent seen any com...</td>\n",
              "      <td>1.0</td>\n",
              "    </tr>\n",
              "    <tr>\n",
              "      <th>3</th>\n",
              "      <td>soap opera about a small town married woman ka...</td>\n",
              "      <td>1.0</td>\n",
              "    </tr>\n",
              "    <tr>\n",
              "      <th>4</th>\n",
              "      <td>ive heard a lot of different opinions about th...</td>\n",
              "      <td>1.0</td>\n",
              "    </tr>\n",
              "    <tr>\n",
              "      <th>...</th>\n",
              "      <td>...</td>\n",
              "      <td>...</td>\n",
              "    </tr>\n",
              "    <tr>\n",
              "      <th>3745</th>\n",
              "      <td>i second the motion to make this into a movie ...</td>\n",
              "      <td>1.0</td>\n",
              "    </tr>\n",
              "    <tr>\n",
              "      <th>3746</th>\n",
              "      <td>robin williams does his best to combine comedy...</td>\n",
              "      <td>1.0</td>\n",
              "    </tr>\n",
              "    <tr>\n",
              "      <th>3747</th>\n",
              "      <td>when you see the cover of the dvd youre convin...</td>\n",
              "      <td>1.0</td>\n",
              "    </tr>\n",
              "    <tr>\n",
              "      <th>3748</th>\n",
              "      <td>heart pounding erotic drama are the words that...</td>\n",
              "      <td>1.0</td>\n",
              "    </tr>\n",
              "    <tr>\n",
              "      <th>3749</th>\n",
              "      <td>film noir is an overused expression when it co...</td>\n",
              "      <td>1.0</td>\n",
              "    </tr>\n",
              "  </tbody>\n",
              "</table>\n",
              "<p>3750 rows × 2 columns</p>\n",
              "</div>\n",
              "      <button class=\"colab-df-convert\" onclick=\"convertToInteractive('df-242f7397-d483-4b3b-8aa0-41815b37c1aa')\"\n",
              "              title=\"Convert this dataframe to an interactive table.\"\n",
              "              style=\"display:none;\">\n",
              "        \n",
              "  <svg xmlns=\"http://www.w3.org/2000/svg\" height=\"24px\"viewBox=\"0 0 24 24\"\n",
              "       width=\"24px\">\n",
              "    <path d=\"M0 0h24v24H0V0z\" fill=\"none\"/>\n",
              "    <path d=\"M18.56 5.44l.94 2.06.94-2.06 2.06-.94-2.06-.94-.94-2.06-.94 2.06-2.06.94zm-11 1L8.5 8.5l.94-2.06 2.06-.94-2.06-.94L8.5 2.5l-.94 2.06-2.06.94zm10 10l.94 2.06.94-2.06 2.06-.94-2.06-.94-.94-2.06-.94 2.06-2.06.94z\"/><path d=\"M17.41 7.96l-1.37-1.37c-.4-.4-.92-.59-1.43-.59-.52 0-1.04.2-1.43.59L10.3 9.45l-7.72 7.72c-.78.78-.78 2.05 0 2.83L4 21.41c.39.39.9.59 1.41.59.51 0 1.02-.2 1.41-.59l7.78-7.78 2.81-2.81c.8-.78.8-2.07 0-2.86zM5.41 20L4 18.59l7.72-7.72 1.47 1.35L5.41 20z\"/>\n",
              "  </svg>\n",
              "      </button>\n",
              "      \n",
              "  <style>\n",
              "    .colab-df-container {\n",
              "      display:flex;\n",
              "      flex-wrap:wrap;\n",
              "      gap: 12px;\n",
              "    }\n",
              "\n",
              "    .colab-df-convert {\n",
              "      background-color: #E8F0FE;\n",
              "      border: none;\n",
              "      border-radius: 50%;\n",
              "      cursor: pointer;\n",
              "      display: none;\n",
              "      fill: #1967D2;\n",
              "      height: 32px;\n",
              "      padding: 0 0 0 0;\n",
              "      width: 32px;\n",
              "    }\n",
              "\n",
              "    .colab-df-convert:hover {\n",
              "      background-color: #E2EBFA;\n",
              "      box-shadow: 0px 1px 2px rgba(60, 64, 67, 0.3), 0px 1px 3px 1px rgba(60, 64, 67, 0.15);\n",
              "      fill: #174EA6;\n",
              "    }\n",
              "\n",
              "    [theme=dark] .colab-df-convert {\n",
              "      background-color: #3B4455;\n",
              "      fill: #D2E3FC;\n",
              "    }\n",
              "\n",
              "    [theme=dark] .colab-df-convert:hover {\n",
              "      background-color: #434B5C;\n",
              "      box-shadow: 0px 1px 3px 1px rgba(0, 0, 0, 0.15);\n",
              "      filter: drop-shadow(0px 1px 2px rgba(0, 0, 0, 0.3));\n",
              "      fill: #FFFFFF;\n",
              "    }\n",
              "  </style>\n",
              "\n",
              "      <script>\n",
              "        const buttonEl =\n",
              "          document.querySelector('#df-242f7397-d483-4b3b-8aa0-41815b37c1aa button.colab-df-convert');\n",
              "        buttonEl.style.display =\n",
              "          google.colab.kernel.accessAllowed ? 'block' : 'none';\n",
              "\n",
              "        async function convertToInteractive(key) {\n",
              "          const element = document.querySelector('#df-242f7397-d483-4b3b-8aa0-41815b37c1aa');\n",
              "          const dataTable =\n",
              "            await google.colab.kernel.invokeFunction('convertToInteractive',\n",
              "                                                     [key], {});\n",
              "          if (!dataTable) return;\n",
              "\n",
              "          const docLinkHtml = 'Like what you see? Visit the ' +\n",
              "            '<a target=\"_blank\" href=https://colab.research.google.com/notebooks/data_table.ipynb>data table notebook</a>'\n",
              "            + ' to learn more about interactive tables.';\n",
              "          element.innerHTML = '';\n",
              "          dataTable['output_type'] = 'display_data';\n",
              "          await google.colab.output.renderOutput(dataTable, element);\n",
              "          const docLink = document.createElement('div');\n",
              "          docLink.innerHTML = docLinkHtml;\n",
              "          element.appendChild(docLink);\n",
              "        }\n",
              "      </script>\n",
              "    </div>\n",
              "  </div>\n",
              "  "
            ]
          },
          "metadata": {},
          "execution_count": 48
        }
      ]
    },
    {
      "cell_type": "code",
      "source": [
        "neg_reviews"
      ],
      "metadata": {
        "colab": {
          "base_uri": "https://localhost:8080/",
          "height": 424
        },
        "id": "KSFxQNL-2i2N",
        "outputId": "2a33ffb4-06da-45b2-b68f-5acbedfda6e5"
      },
      "execution_count": null,
      "outputs": [
        {
          "output_type": "execute_result",
          "data": {
            "text/plain": [
              "                                                 review  sentiment\n",
              "0     with a little dressing up this movie could be ...        0.0\n",
              "1     i cannot vote on this because i wouldnt watch ...        0.0\n",
              "2     no matter what youve heard fame is not a good ...        0.0\n",
              "3     if youve seen atlantis then youd know that wha...        0.0\n",
              "4     without a shadow of a doubt this is and probab...        0.0\n",
              "...                                                 ...        ...\n",
              "3745  the most famous thing about this movie is that...        0.0\n",
              "3746  i dont usually like tv movies i reckon that if...        0.0\n",
              "3747  i hate to comment on something i didnt finish ...        0.0\n",
              "3748  that jamie foxx would ever deliver such a wond...        0.0\n",
              "3749  dont waste your time one of those coollooking ...        0.0\n",
              "\n",
              "[3750 rows x 2 columns]"
            ],
            "text/html": [
              "\n",
              "  <div id=\"df-46f3669a-8fa0-4a48-87c5-3173e96aeff9\">\n",
              "    <div class=\"colab-df-container\">\n",
              "      <div>\n",
              "<style scoped>\n",
              "    .dataframe tbody tr th:only-of-type {\n",
              "        vertical-align: middle;\n",
              "    }\n",
              "\n",
              "    .dataframe tbody tr th {\n",
              "        vertical-align: top;\n",
              "    }\n",
              "\n",
              "    .dataframe thead th {\n",
              "        text-align: right;\n",
              "    }\n",
              "</style>\n",
              "<table border=\"1\" class=\"dataframe\">\n",
              "  <thead>\n",
              "    <tr style=\"text-align: right;\">\n",
              "      <th></th>\n",
              "      <th>review</th>\n",
              "      <th>sentiment</th>\n",
              "    </tr>\n",
              "  </thead>\n",
              "  <tbody>\n",
              "    <tr>\n",
              "      <th>0</th>\n",
              "      <td>with a little dressing up this movie could be ...</td>\n",
              "      <td>0.0</td>\n",
              "    </tr>\n",
              "    <tr>\n",
              "      <th>1</th>\n",
              "      <td>i cannot vote on this because i wouldnt watch ...</td>\n",
              "      <td>0.0</td>\n",
              "    </tr>\n",
              "    <tr>\n",
              "      <th>2</th>\n",
              "      <td>no matter what youve heard fame is not a good ...</td>\n",
              "      <td>0.0</td>\n",
              "    </tr>\n",
              "    <tr>\n",
              "      <th>3</th>\n",
              "      <td>if youve seen atlantis then youd know that wha...</td>\n",
              "      <td>0.0</td>\n",
              "    </tr>\n",
              "    <tr>\n",
              "      <th>4</th>\n",
              "      <td>without a shadow of a doubt this is and probab...</td>\n",
              "      <td>0.0</td>\n",
              "    </tr>\n",
              "    <tr>\n",
              "      <th>...</th>\n",
              "      <td>...</td>\n",
              "      <td>...</td>\n",
              "    </tr>\n",
              "    <tr>\n",
              "      <th>3745</th>\n",
              "      <td>the most famous thing about this movie is that...</td>\n",
              "      <td>0.0</td>\n",
              "    </tr>\n",
              "    <tr>\n",
              "      <th>3746</th>\n",
              "      <td>i dont usually like tv movies i reckon that if...</td>\n",
              "      <td>0.0</td>\n",
              "    </tr>\n",
              "    <tr>\n",
              "      <th>3747</th>\n",
              "      <td>i hate to comment on something i didnt finish ...</td>\n",
              "      <td>0.0</td>\n",
              "    </tr>\n",
              "    <tr>\n",
              "      <th>3748</th>\n",
              "      <td>that jamie foxx would ever deliver such a wond...</td>\n",
              "      <td>0.0</td>\n",
              "    </tr>\n",
              "    <tr>\n",
              "      <th>3749</th>\n",
              "      <td>dont waste your time one of those coollooking ...</td>\n",
              "      <td>0.0</td>\n",
              "    </tr>\n",
              "  </tbody>\n",
              "</table>\n",
              "<p>3750 rows × 2 columns</p>\n",
              "</div>\n",
              "      <button class=\"colab-df-convert\" onclick=\"convertToInteractive('df-46f3669a-8fa0-4a48-87c5-3173e96aeff9')\"\n",
              "              title=\"Convert this dataframe to an interactive table.\"\n",
              "              style=\"display:none;\">\n",
              "        \n",
              "  <svg xmlns=\"http://www.w3.org/2000/svg\" height=\"24px\"viewBox=\"0 0 24 24\"\n",
              "       width=\"24px\">\n",
              "    <path d=\"M0 0h24v24H0V0z\" fill=\"none\"/>\n",
              "    <path d=\"M18.56 5.44l.94 2.06.94-2.06 2.06-.94-2.06-.94-.94-2.06-.94 2.06-2.06.94zm-11 1L8.5 8.5l.94-2.06 2.06-.94-2.06-.94L8.5 2.5l-.94 2.06-2.06.94zm10 10l.94 2.06.94-2.06 2.06-.94-2.06-.94-.94-2.06-.94 2.06-2.06.94z\"/><path d=\"M17.41 7.96l-1.37-1.37c-.4-.4-.92-.59-1.43-.59-.52 0-1.04.2-1.43.59L10.3 9.45l-7.72 7.72c-.78.78-.78 2.05 0 2.83L4 21.41c.39.39.9.59 1.41.59.51 0 1.02-.2 1.41-.59l7.78-7.78 2.81-2.81c.8-.78.8-2.07 0-2.86zM5.41 20L4 18.59l7.72-7.72 1.47 1.35L5.41 20z\"/>\n",
              "  </svg>\n",
              "      </button>\n",
              "      \n",
              "  <style>\n",
              "    .colab-df-container {\n",
              "      display:flex;\n",
              "      flex-wrap:wrap;\n",
              "      gap: 12px;\n",
              "    }\n",
              "\n",
              "    .colab-df-convert {\n",
              "      background-color: #E8F0FE;\n",
              "      border: none;\n",
              "      border-radius: 50%;\n",
              "      cursor: pointer;\n",
              "      display: none;\n",
              "      fill: #1967D2;\n",
              "      height: 32px;\n",
              "      padding: 0 0 0 0;\n",
              "      width: 32px;\n",
              "    }\n",
              "\n",
              "    .colab-df-convert:hover {\n",
              "      background-color: #E2EBFA;\n",
              "      box-shadow: 0px 1px 2px rgba(60, 64, 67, 0.3), 0px 1px 3px 1px rgba(60, 64, 67, 0.15);\n",
              "      fill: #174EA6;\n",
              "    }\n",
              "\n",
              "    [theme=dark] .colab-df-convert {\n",
              "      background-color: #3B4455;\n",
              "      fill: #D2E3FC;\n",
              "    }\n",
              "\n",
              "    [theme=dark] .colab-df-convert:hover {\n",
              "      background-color: #434B5C;\n",
              "      box-shadow: 0px 1px 3px 1px rgba(0, 0, 0, 0.15);\n",
              "      filter: drop-shadow(0px 1px 2px rgba(0, 0, 0, 0.3));\n",
              "      fill: #FFFFFF;\n",
              "    }\n",
              "  </style>\n",
              "\n",
              "      <script>\n",
              "        const buttonEl =\n",
              "          document.querySelector('#df-46f3669a-8fa0-4a48-87c5-3173e96aeff9 button.colab-df-convert');\n",
              "        buttonEl.style.display =\n",
              "          google.colab.kernel.accessAllowed ? 'block' : 'none';\n",
              "\n",
              "        async function convertToInteractive(key) {\n",
              "          const element = document.querySelector('#df-46f3669a-8fa0-4a48-87c5-3173e96aeff9');\n",
              "          const dataTable =\n",
              "            await google.colab.kernel.invokeFunction('convertToInteractive',\n",
              "                                                     [key], {});\n",
              "          if (!dataTable) return;\n",
              "\n",
              "          const docLinkHtml = 'Like what you see? Visit the ' +\n",
              "            '<a target=\"_blank\" href=https://colab.research.google.com/notebooks/data_table.ipynb>data table notebook</a>'\n",
              "            + ' to learn more about interactive tables.';\n",
              "          element.innerHTML = '';\n",
              "          dataTable['output_type'] = 'display_data';\n",
              "          await google.colab.output.renderOutput(dataTable, element);\n",
              "          const docLink = document.createElement('div');\n",
              "          docLink.innerHTML = docLinkHtml;\n",
              "          element.appendChild(docLink);\n",
              "        }\n",
              "      </script>\n",
              "    </div>\n",
              "  </div>\n",
              "  "
            ]
          },
          "metadata": {},
          "execution_count": 49
        }
      ]
    },
    {
      "cell_type": "code",
      "source": [
        "layer_outputs = [layer.output for layer in model.layers]\n",
        "len(layer_outputs)"
      ],
      "metadata": {
        "colab": {
          "base_uri": "https://localhost:8080/"
        },
        "id": "UxjMZMpMT_7U",
        "outputId": "21648b70-be68-40f0-f8b5-10e5a11209de"
      },
      "execution_count": null,
      "outputs": [
        {
          "output_type": "execute_result",
          "data": {
            "text/plain": [
              "37"
            ]
          },
          "metadata": {},
          "execution_count": 50
        }
      ]
    },
    {
      "cell_type": "code",
      "source": [
        "layer_outputs[2]"
      ],
      "metadata": {
        "colab": {
          "base_uri": "https://localhost:8080/"
        },
        "id": "QTv3tuFmUImw",
        "outputId": "a483dc62-7e88-4de3-a775-847645331361"
      },
      "execution_count": null,
      "outputs": [
        {
          "output_type": "execute_result",
          "data": {
            "text/plain": [
              "<KerasTensor: shape=(None, 128) dtype=int32 (created by layer 'attention_masks')>"
            ]
          },
          "metadata": {},
          "execution_count": 51
        }
      ]
    },
    {
      "cell_type": "code",
      "source": [
        "# get latent vector representations -- 7th layer of model2\n",
        "layer_outputs = [layer.output for layer in model.layers]\n",
        "\n",
        "activation_model_pos = Model(inputs = model.input, outputs = model.get_layer(\"remove_cls_pad_positive\").output)   # (None,128,300)\n",
        "activation_model_neg = Model(inputs = model.input, outputs = model.get_layer(\"remove_cls_pad_negative\").output)   # (None,128,300)"
      ],
      "metadata": {
        "id": "j3v2pT2YUQ7n"
      },
      "execution_count": null,
      "outputs": []
    },
    {
      "cell_type": "code",
      "source": [
        "cpostitives = activation_model_pos.predict(test_ds)"
      ],
      "metadata": {
        "colab": {
          "base_uri": "https://localhost:8080/"
        },
        "id": "sWNfgTLrd0Yp",
        "outputId": "06193e9a-a5b8-4cb0-ca73-4706bddc66fa"
      },
      "execution_count": null,
      "outputs": [
        {
          "output_type": "stream",
          "name": "stdout",
          "text": [
            "235/235 [==============================] - 66s 267ms/step\n"
          ]
        }
      ]
    },
    {
      "cell_type": "code",
      "source": [
        "cpostitives.shape"
      ],
      "metadata": {
        "colab": {
          "base_uri": "https://localhost:8080/"
        },
        "id": "aJcNHzhog-q5",
        "outputId": "e1854b13-f8c8-46c9-99fe-5fde49fec9aa"
      },
      "execution_count": null,
      "outputs": [
        {
          "output_type": "execute_result",
          "data": {
            "text/plain": [
              "(7500, 128, 300)"
            ]
          },
          "metadata": {},
          "execution_count": 58
        }
      ]
    },
    {
      "cell_type": "code",
      "source": [
        "# testing again\n",
        "for ele in test_ds.take(1):\n",
        "  tempout = ele"
      ],
      "metadata": {
        "id": "xjzzfw1ji17f"
      },
      "execution_count": null,
      "outputs": []
    },
    {
      "cell_type": "code",
      "source": [
        "t_ids = tempout[0][\"input_ids\"]\n",
        "t_attmasks = tempout[0][\"attention_masks\"]\n",
        "t_spaceids = tempout[0][\"space\"]"
      ],
      "metadata": {
        "id": "oLimy5-ei9yK"
      },
      "execution_count": null,
      "outputs": []
    },
    {
      "cell_type": "code",
      "source": [
        "t_ids"
      ],
      "metadata": {
        "colab": {
          "base_uri": "https://localhost:8080/"
        },
        "id": "dmRNPYh7jhOG",
        "outputId": "7a981808-e77f-4024-d4c2-f694da5e3181"
      },
      "execution_count": null,
      "outputs": [
        {
          "output_type": "execute_result",
          "data": {
            "text/plain": [
              "<tf.Tensor: shape=(32, 128), dtype=int32, numpy=\n",
              "array([[  101,  2007,  1037, ...,     0,     0,     0],\n",
              "       [  101,  1045,  2074, ...,  3427,  2023,   102],\n",
              "       [  101,  2412,  2144, ...,  1998,  1997,   102],\n",
              "       ...,\n",
              "       [  101,  2004,  1045, ...,  2453,  2022,   102],\n",
              "       [  101,  4914,  2135, ..., 10667,  8303,   102],\n",
              "       [  101,  1045,  2145, ...,     0,     0,     0]], dtype=int32)>"
            ]
          },
          "metadata": {},
          "execution_count": 61
        }
      ]
    },
    {
      "cell_type": "code",
      "source": [
        "tokenizer.batch_decode(t_ids)[0]"
      ],
      "metadata": {
        "colab": {
          "base_uri": "https://localhost:8080/",
          "height": 107
        },
        "id": "vipOs9s0jvGu",
        "outputId": "223c1831-9a13-41c3-cd13-5873536803ee"
      },
      "execution_count": null,
      "outputs": [
        {
          "output_type": "execute_result",
          "data": {
            "text/plain": [
              "'[CLS] with a little dressing up this movie could be served for thanksgiving dinner not only is is boring implausible historically inaccurate and poorly directed the best actors were the bit players mainly because they had so few lines to say a waste of time even for war fanatics [SEP] [PAD] [PAD] [PAD] [PAD] [PAD] [PAD] [PAD] [PAD] [PAD] [PAD] [PAD] [PAD] [PAD] [PAD] [PAD] [PAD] [PAD] [PAD] [PAD] [PAD] [PAD] [PAD] [PAD] [PAD] [PAD] [PAD] [PAD] [PAD] [PAD] [PAD] [PAD] [PAD] [PAD] [PAD] [PAD] [PAD] [PAD] [PAD] [PAD] [PAD] [PAD] [PAD] [PAD] [PAD] [PAD] [PAD] [PAD] [PAD] [PAD] [PAD] [PAD] [PAD] [PAD] [PAD] [PAD] [PAD] [PAD] [PAD] [PAD] [PAD] [PAD] [PAD] [PAD] [PAD] [PAD] [PAD] [PAD] [PAD] [PAD] [PAD] [PAD] [PAD] [PAD] [PAD] [PAD]'"
            ],
            "application/vnd.google.colaboratory.intrinsic+json": {
              "type": "string"
            }
          },
          "metadata": {},
          "execution_count": 62
        }
      ]
    },
    {
      "cell_type": "code",
      "source": [
        "t_idsZerod = tf.where(tf.equal(t_ids,101) | tf.equal(t_ids,102),0,t_ids)\n",
        "t_idsZerod"
      ],
      "metadata": {
        "colab": {
          "base_uri": "https://localhost:8080/"
        },
        "id": "opjFVyTOkQEE",
        "outputId": "00052677-de67-4215-bf86-6a0c45655742"
      },
      "execution_count": null,
      "outputs": [
        {
          "output_type": "execute_result",
          "data": {
            "text/plain": [
              "<tf.Tensor: shape=(32, 128), dtype=int32, numpy=\n",
              "array([[    0,  2007,  1037, ...,     0,     0,     0],\n",
              "       [    0,  1045,  2074, ...,  3427,  2023,     0],\n",
              "       [    0,  2412,  2144, ...,  1998,  1997,     0],\n",
              "       ...,\n",
              "       [    0,  2004,  1045, ...,  2453,  2022,     0],\n",
              "       [    0,  4914,  2135, ..., 10667,  8303,     0],\n",
              "       [    0,  1045,  2145, ...,     0,     0,     0]], dtype=int32)>"
            ]
          },
          "metadata": {},
          "execution_count": 63
        }
      ]
    },
    {
      "cell_type": "code",
      "source": [
        "t_idsZerod[0]"
      ],
      "metadata": {
        "colab": {
          "base_uri": "https://localhost:8080/"
        },
        "id": "6ZGwM9GUkppi",
        "outputId": "c534fe1f-3039-45e2-8579-550fd7b999a1"
      },
      "execution_count": null,
      "outputs": [
        {
          "output_type": "execute_result",
          "data": {
            "text/plain": [
              "<tf.Tensor: shape=(128,), dtype=int32, numpy=\n",
              "array([    0,  2007,  1037,  2210, 11225,  2039,  2023,  3185,  2071,\n",
              "        2022,  2366,  2005, 15060,  4596,  2025,  2069,  2003,  2003,\n",
              "       11771, 17727, 28128,  7028,  7145, 24949,  1998,  9996,  2856,\n",
              "        1996,  2190,  5889,  2020,  1996,  2978,  2867,  3701,  2138,\n",
              "        2027,  2018,  2061,  2261,  3210,  2000,  2360,  1037,  5949,\n",
              "        1997,  2051,  2130,  2005,  2162,  5470, 17592,     0,     0,\n",
              "           0,     0,     0,     0,     0,     0,     0,     0,     0,\n",
              "           0,     0,     0,     0,     0,     0,     0,     0,     0,\n",
              "           0,     0,     0,     0,     0,     0,     0,     0,     0,\n",
              "           0,     0,     0,     0,     0,     0,     0,     0,     0,\n",
              "           0,     0,     0,     0,     0,     0,     0,     0,     0,\n",
              "           0,     0,     0,     0,     0,     0,     0,     0,     0,\n",
              "           0,     0,     0,     0,     0,     0,     0,     0,     0,\n",
              "           0,     0,     0,     0,     0,     0,     0,     0,     0,\n",
              "           0,     0], dtype=int32)>"
            ]
          },
          "metadata": {},
          "execution_count": 64
        }
      ]
    },
    {
      "cell_type": "code",
      "source": [
        "cpostitives[0][-76]"
      ],
      "metadata": {
        "colab": {
          "base_uri": "https://localhost:8080/"
        },
        "id": "DhtGSIHLhlFq",
        "outputId": "c2ecd924-9d9b-4239-ca34-547d79f66c10"
      },
      "execution_count": null,
      "outputs": [
        {
          "output_type": "execute_result",
          "data": {
            "text/plain": [
              "array([-0., -0.,  0.,  0.,  0.,  0., -0.,  0.,  0.,  0.,  0.,  0., -0.,\n",
              "        0., -0., -0., -0.,  0., -0.,  0.,  0., -0., -0., -0., -0., -0.,\n",
              "       -0.,  0.,  0., -0.,  0.,  0.,  0.,  0., -0.,  0.,  0., -0.,  0.,\n",
              "        0., -0., -0.,  0.,  0.,  0.,  0.,  0.,  0.,  0.,  0.,  0.,  0.,\n",
              "       -0., -0., -0., -0., -0.,  0.,  0.,  0., -0.,  0., -0., -0.,  0.,\n",
              "       -0.,  0., -0., -0., -0., -0.,  0.,  0.,  0.,  0.,  0.,  0.,  0.,\n",
              "       -0.,  0., -0., -0.,  0., -0.,  0., -0.,  0.,  0., -0.,  0.,  0.,\n",
              "        0., -0., -0., -0.,  0.,  0.,  0., -0., -0.,  0., -0., -0., -0.,\n",
              "       -0., -0.,  0., -0., -0.,  0.,  0., -0., -0., -0.,  0.,  0.,  0.,\n",
              "        0.,  0., -0.,  0.,  0., -0.,  0., -0.,  0.,  0.,  0.,  0., -0.,\n",
              "       -0., -0., -0., -0.,  0., -0.,  0.,  0.,  0.,  0.,  0., -0., -0.,\n",
              "       -0.,  0.,  0., -0., -0., -0., -0., -0.,  0.,  0., -0.,  0.,  0.,\n",
              "       -0.,  0.,  0.,  0.,  0.,  0., -0., -0., -0., -0.,  0., -0.,  0.,\n",
              "        0.,  0., -0., -0.,  0.,  0., -0., -0., -0., -0.,  0.,  0., -0.,\n",
              "       -0., -0., -0., -0., -0., -0.,  0.,  0.,  0.,  0.,  0.,  0., -0.,\n",
              "       -0., -0.,  0., -0.,  0., -0.,  0.,  0.,  0.,  0., -0.,  0.,  0.,\n",
              "       -0.,  0., -0., -0., -0., -0., -0., -0.,  0., -0., -0.,  0.,  0.,\n",
              "       -0.,  0., -0.,  0.,  0.,  0., -0., -0.,  0.,  0.,  0.,  0.,  0.,\n",
              "       -0.,  0.,  0.,  0., -0., -0., -0., -0.,  0.,  0.,  0.,  0., -0.,\n",
              "        0.,  0., -0.,  0., -0.,  0., -0., -0., -0., -0., -0., -0., -0.,\n",
              "        0., -0.,  0., -0.,  0.,  0., -0.,  0., -0.,  0.,  0.,  0., -0.,\n",
              "       -0., -0.,  0.,  0., -0.,  0., -0.,  0.,  0., -0., -0.,  0.,  0.,\n",
              "        0., -0., -0., -0.,  0., -0.,  0.,  0., -0., -0.,  0.,  0., -0.,\n",
              "        0.], dtype=float32)"
            ]
          },
          "metadata": {},
          "execution_count": 65
        }
      ]
    },
    {
      "cell_type": "code",
      "source": [
        "# clearly cpostitives is getting us the correct output corresponding to an example"
      ],
      "metadata": {
        "id": "c6kOxUw0k9Hf"
      },
      "execution_count": null,
      "outputs": []
    },
    {
      "cell_type": "code",
      "source": [
        "# take 32 examples from positive class and 32 from negative class (i.e a batch)\n",
        "# then for each batch, get cpostitives and cnegatitives\n",
        "# for postive batch:\n",
        "# take first example and get top 10 tokens from it ranked in order of highest cosine similarites with 300  tokens from positive projection vector\n",
        "# for same example take top 10 tokens from it ranked in order of highest average cosine simlarity with 300 tokens from negative projection vector\n",
        "\n",
        "# now get their the embeddings of all 20 from bert, separately for 10\n",
        "# plot all embeddings on a tSNE chart with differenct colors corresponding to projection spaces"
      ],
      "metadata": {
        "id": "pIQv0i8YIH0P"
      },
      "execution_count": null,
      "outputs": []
    },
    {
      "cell_type": "code",
      "source": [
        "def get_TFDataset(dataframe):\n",
        "\n",
        "  data_gen   = dataset(dataframe[\"review\"].values,dataframe[\"sentiment\"].values,max_length = MAX_LENGTH, tokenizer = tokenizer, projection_dim=PROJECTION_DIM, val = True)\n",
        "  data_ds = tf.data.Dataset.from_generator(data_gen,\n",
        "                                            output_signature = \n",
        "                                           ({\"input_ids\" : tf.TensorSpec(shape = (MAX_LENGTH,), dtype = tf.int32 ),\"attention_masks\":tf.TensorSpec(shape = (MAX_LENGTH,), dtype = tf.int32),\"space\":tf.TensorSpec(shape = (PROJECTION_DIM,), dtype = tf.int32)},\n",
        "                                            tf.TensorSpec(shape = (), dtype = (tf.float32)))).batch(BATCH_SIZE)\n",
        "\n",
        "  return data_ds\n",
        "\n",
        "def getCosineSimlarities(MODEL, ds_object):\n",
        "\n",
        "  activation_model_pos = Model(inputs = MODEL.input, outputs = MODEL.get_layer(\"remove_cls_pad_positive\").output)   # (None,1,300)\n",
        "  activation_model_neg = Model(inputs = MODEL.input, outputs = MODEL.get_layer(\"remove_cls_pad_negative\").output)   # (None,1,300)\n",
        "  # activation_model_bertEmbeddings = Model(inputs = MODEL.input, outputs = MODEL.get_layer(\"tf_bert_model\").output[0])\n",
        "\n",
        "  pos_cosine = activation_model_pos.predict(ds_object)\n",
        "  neg_cosine = activation_model_neg.predict(ds_object)\n",
        "  # bertEmbeddings = activation_model_bertEmbeddings.predict(ds_object)\n",
        "  bertEmbeddings = None\n",
        "\n",
        "  return pos_cosine, neg_cosine, bertEmbeddings"
      ],
      "metadata": {
        "id": "q5zatu59mw9H"
      },
      "execution_count": null,
      "outputs": []
    },
    {
      "cell_type": "code",
      "source": [
        "# get the dataset object to be fed as input to model for making predictions\n",
        "pos_ds = get_TFDataset(pos_reviews[0:100])"
      ],
      "metadata": {
        "id": "-G11TmyInCVO"
      },
      "execution_count": null,
      "outputs": []
    },
    {
      "cell_type": "code",
      "source": [
        "# get the dataset object to be fed as input to model for making predictions\n",
        "neg_ds = get_TFDataset(neg_reviews[0:100])"
      ],
      "metadata": {
        "id": "mk3hpisI2tmt"
      },
      "execution_count": null,
      "outputs": []
    },
    {
      "cell_type": "code",
      "source": [
        "# sanity check\n",
        "for ele in neg_ds.take(1):\n",
        "  t_neg = ele\n",
        "t_neg"
      ],
      "metadata": {
        "colab": {
          "base_uri": "https://localhost:8080/"
        },
        "id": "Juu2ULhFxBBE",
        "outputId": "6204663d-63d8-47b9-dd99-4e771ae70ac1"
      },
      "execution_count": null,
      "outputs": [
        {
          "output_type": "execute_result",
          "data": {
            "text/plain": [
              "({'input_ids': <tf.Tensor: shape=(32, 128), dtype=int32, numpy=\n",
              "  array([[  101,  2007,  1037, ...,     0,     0,     0],\n",
              "         [  101,  1045,  3685, ...,  3185,  2323,   102],\n",
              "         [  101,  2053,  3043, ...,  7987, 15056,   102],\n",
              "         ...,\n",
              "         [  101,  2092,  2023, ...,  2008,  2001,   102],\n",
              "         [  101,  2821,  6203, ...,  2032,  2019,   102],\n",
              "         [  101,  2108,  1037, ..., 18251,  1037,   102]], dtype=int32)>,\n",
              "  'attention_masks': <tf.Tensor: shape=(32, 128), dtype=int32, numpy=\n",
              "  array([[1, 1, 1, ..., 0, 0, 0],\n",
              "         [1, 1, 1, ..., 1, 1, 1],\n",
              "         [1, 1, 1, ..., 1, 1, 1],\n",
              "         ...,\n",
              "         [1, 1, 1, ..., 1, 1, 1],\n",
              "         [1, 1, 1, ..., 1, 1, 1],\n",
              "         [1, 1, 1, ..., 1, 1, 1]], dtype=int32)>,\n",
              "  'space': <tf.Tensor: shape=(32, 300), dtype=int32, numpy=\n",
              "  array([[  0,   1,   2, ..., 297, 298, 299],\n",
              "         [  0,   1,   2, ..., 297, 298, 299],\n",
              "         [  0,   1,   2, ..., 297, 298, 299],\n",
              "         ...,\n",
              "         [  0,   1,   2, ..., 297, 298, 299],\n",
              "         [  0,   1,   2, ..., 297, 298, 299],\n",
              "         [  0,   1,   2, ..., 297, 298, 299]], dtype=int32)>},\n",
              " <tf.Tensor: shape=(32,), dtype=float32, numpy=\n",
              " array([0., 0., 0., 0., 0., 0., 0., 0., 0., 0., 0., 0., 0., 0., 0., 0., 0.,\n",
              "        0., 0., 0., 0., 0., 0., 0., 0., 0., 0., 0., 0., 0., 0., 0.],\n",
              "       dtype=float32)>)"
            ]
          },
          "metadata": {},
          "execution_count": 71
        }
      ]
    },
    {
      "cell_type": "code",
      "source": [
        "# sanity check\n",
        "for ele in pos_ds.take(1):\n",
        "  t_pos = ele\n",
        "t_pos"
      ],
      "metadata": {
        "colab": {
          "base_uri": "https://localhost:8080/"
        },
        "id": "rBfcUwDNnKeP",
        "outputId": "125fffae-3225-48bb-f556-02196298798f"
      },
      "execution_count": null,
      "outputs": [
        {
          "output_type": "execute_result",
          "data": {
            "text/plain": [
              "({'input_ids': <tf.Tensor: shape=(32, 128), dtype=int32, numpy=\n",
              "  array([[  101,  1045,  2074, ...,  3427,  2023,   102],\n",
              "         [  101,  2412,  2144, ...,  1998,  1997,   102],\n",
              "         [  101,  2034,  2125, ...,  2028,  2838,   102],\n",
              "         ...,\n",
              "         [  101, 11430,  2358, ..., 16827,  1996,   102],\n",
              "         [  101,  2178,  2742, ...,     0,     0,     0],\n",
              "         [  101,  2123,  2102, ...,  2228,  1996,   102]], dtype=int32)>,\n",
              "  'attention_masks': <tf.Tensor: shape=(32, 128), dtype=int32, numpy=\n",
              "  array([[1, 1, 1, ..., 1, 1, 1],\n",
              "         [1, 1, 1, ..., 1, 1, 1],\n",
              "         [1, 1, 1, ..., 1, 1, 1],\n",
              "         ...,\n",
              "         [1, 1, 1, ..., 1, 1, 1],\n",
              "         [1, 1, 1, ..., 0, 0, 0],\n",
              "         [1, 1, 1, ..., 1, 1, 1]], dtype=int32)>,\n",
              "  'space': <tf.Tensor: shape=(32, 300), dtype=int32, numpy=\n",
              "  array([[  0,   1,   2, ..., 297, 298, 299],\n",
              "         [  0,   1,   2, ..., 297, 298, 299],\n",
              "         [  0,   1,   2, ..., 297, 298, 299],\n",
              "         ...,\n",
              "         [  0,   1,   2, ..., 297, 298, 299],\n",
              "         [  0,   1,   2, ..., 297, 298, 299],\n",
              "         [  0,   1,   2, ..., 297, 298, 299]], dtype=int32)>},\n",
              " <tf.Tensor: shape=(32,), dtype=float32, numpy=\n",
              " array([1., 1., 1., 1., 1., 1., 1., 1., 1., 1., 1., 1., 1., 1., 1., 1., 1.,\n",
              "        1., 1., 1., 1., 1., 1., 1., 1., 1., 1., 1., 1., 1., 1., 1.],\n",
              "       dtype=float32)>)"
            ]
          },
          "metadata": {},
          "execution_count": 72
        }
      ]
    },
    {
      "cell_type": "code",
      "source": [
        "# get cosine similarites of first batch of positive reviews with both projection spaces\n",
        "posData_posProjSpace, posData_negProjSpace, posBertEmbeddings = getCosineSimlarities(model, neg_ds)"
      ],
      "metadata": {
        "colab": {
          "base_uri": "https://localhost:8080/"
        },
        "id": "Xlu3SyKonTbE",
        "outputId": "9abe3a2d-2c25-4471-9f9d-cdbd5e378fbf"
      },
      "execution_count": null,
      "outputs": [
        {
          "output_type": "stream",
          "name": "stdout",
          "text": [
            "4/4 [==============================] - 4s 204ms/step\n",
            "4/4 [==============================] - 4s 206ms/step\n"
          ]
        }
      ]
    },
    {
      "cell_type": "code",
      "source": [
        "posData_posProjSpace.shape, posData_negProjSpace.shape"
      ],
      "metadata": {
        "colab": {
          "base_uri": "https://localhost:8080/"
        },
        "id": "gOrFxZrwnUEO",
        "outputId": "56ba9385-e227-46f9-e9f2-ccec6a372a25"
      },
      "execution_count": null,
      "outputs": [
        {
          "output_type": "execute_result",
          "data": {
            "text/plain": [
              "((100, 128, 300), (100, 128, 300))"
            ]
          },
          "metadata": {},
          "execution_count": 74
        }
      ]
    },
    {
      "cell_type": "code",
      "source": [
        "negData_posProjSpace, negData_negProjSpace, negBertEmbeddings = getCosineSimlarities(model, neg_ds)"
      ],
      "metadata": {
        "colab": {
          "base_uri": "https://localhost:8080/"
        },
        "id": "6qORgdbHxIrf",
        "outputId": "7dab31d6-9df1-4d85-e491-e56eb02fd5f9"
      },
      "execution_count": null,
      "outputs": [
        {
          "output_type": "stream",
          "name": "stdout",
          "text": [
            "4/4 [==============================] - 5s 209ms/step\n",
            "4/4 [==============================] - 4s 207ms/step\n"
          ]
        }
      ]
    },
    {
      "cell_type": "code",
      "source": [
        "posData_posProjSpace[0]"
      ],
      "metadata": {
        "colab": {
          "base_uri": "https://localhost:8080/"
        },
        "id": "C-w3HJtPwkkM",
        "outputId": "58c10ceb-9d44-449e-8086-f9d4100325c8"
      },
      "execution_count": null,
      "outputs": [
        {
          "output_type": "execute_result",
          "data": {
            "text/plain": [
              "array([[-0.        ,  0.        ,  0.        , ..., -0.        ,\n",
              "        -0.        , -0.        ],\n",
              "       [-0.08163896, -0.00519264, -0.04930513, ...,  0.01633385,\n",
              "        -0.08853861,  0.01800421],\n",
              "       [-0.11440402, -0.03474047, -0.0289792 , ...,  0.03251273,\n",
              "        -0.06183091, -0.00425492],\n",
              "       ...,\n",
              "       [-0.        ,  0.        , -0.        , ..., -0.        ,\n",
              "        -0.        ,  0.        ],\n",
              "       [-0.        ,  0.        , -0.        , ..., -0.        ,\n",
              "        -0.        , -0.        ],\n",
              "       [-0.        ,  0.        , -0.        , ..., -0.        ,\n",
              "        -0.        ,  0.        ]], dtype=float32)"
            ]
          },
          "metadata": {},
          "execution_count": 76
        }
      ]
    },
    {
      "cell_type": "code",
      "source": [
        "negData_negProjSpace"
      ],
      "metadata": {
        "colab": {
          "base_uri": "https://localhost:8080/"
        },
        "id": "-pDhp3o2xZ8U",
        "outputId": "ef9c3f04-4e7e-4ac0-aa32-fc8d8d8e9615"
      },
      "execution_count": null,
      "outputs": [
        {
          "output_type": "execute_result",
          "data": {
            "text/plain": [
              "array([[[-0.00000000e+00,  0.00000000e+00, -0.00000000e+00, ...,\n",
              "          0.00000000e+00, -0.00000000e+00, -0.00000000e+00],\n",
              "        [ 9.60517824e-02,  7.75696570e-03,  3.26093957e-02, ...,\n",
              "          5.11887856e-02,  5.45804054e-02,  2.15668045e-02],\n",
              "        [ 1.26071662e-01,  2.14261338e-02,  5.98439425e-02, ...,\n",
              "          4.08603325e-02,  5.62225617e-02,  2.02449337e-02],\n",
              "        ...,\n",
              "        [ 0.00000000e+00,  0.00000000e+00, -0.00000000e+00, ...,\n",
              "         -0.00000000e+00, -0.00000000e+00,  0.00000000e+00],\n",
              "        [ 0.00000000e+00, -0.00000000e+00, -0.00000000e+00, ...,\n",
              "         -0.00000000e+00, -0.00000000e+00,  0.00000000e+00],\n",
              "        [ 0.00000000e+00,  0.00000000e+00, -0.00000000e+00, ...,\n",
              "         -0.00000000e+00, -0.00000000e+00, -0.00000000e+00]],\n",
              "\n",
              "       [[-0.00000000e+00,  0.00000000e+00, -0.00000000e+00, ...,\n",
              "          0.00000000e+00,  0.00000000e+00,  0.00000000e+00],\n",
              "        [ 1.12856276e-01, -4.99685556e-02, -1.11319330e-02, ...,\n",
              "         -1.27480347e-02, -1.52131123e-02,  9.79399867e-03],\n",
              "        [ 7.08058104e-02, -2.60551856e-03,  4.73423973e-02, ...,\n",
              "          5.76836690e-02,  1.04086846e-02,  1.09101664e-02],\n",
              "        ...,\n",
              "        [ 1.44019902e-01,  1.29900500e-02,  4.02639844e-02, ...,\n",
              "         -2.24228259e-02,  6.47233129e-02, -4.55980264e-02],\n",
              "        [ 5.64463101e-02, -1.30207734e-02, -3.35349292e-02, ...,\n",
              "          4.20564376e-02,  2.64108721e-02, -2.71153133e-02],\n",
              "        [ 0.00000000e+00, -0.00000000e+00, -0.00000000e+00, ...,\n",
              "          0.00000000e+00, -0.00000000e+00,  0.00000000e+00]],\n",
              "\n",
              "       [[ 0.00000000e+00,  0.00000000e+00, -0.00000000e+00, ...,\n",
              "          0.00000000e+00,  0.00000000e+00,  0.00000000e+00],\n",
              "        [ 1.74848467e-01,  6.94553694e-03,  4.02800776e-02, ...,\n",
              "         -2.24227039e-03,  4.42852713e-02,  2.71359310e-02],\n",
              "        [ 9.39305648e-02,  3.83832380e-02, -1.34633789e-02, ...,\n",
              "          1.19484831e-02, -4.89446009e-03,  2.63986755e-02],\n",
              "        ...,\n",
              "        [ 9.01336074e-02,  9.51749855e-04, -9.72806439e-02, ...,\n",
              "         -8.70555697e-04,  4.27518189e-02,  5.46469651e-02],\n",
              "        [ 3.89129668e-02, -1.19747752e-02, -5.31807691e-02, ...,\n",
              "         -1.53307365e-02,  2.29956489e-03,  4.45650779e-02],\n",
              "        [ 0.00000000e+00, -0.00000000e+00, -0.00000000e+00, ...,\n",
              "          0.00000000e+00,  0.00000000e+00,  0.00000000e+00]],\n",
              "\n",
              "       ...,\n",
              "\n",
              "       [[-0.00000000e+00,  0.00000000e+00, -0.00000000e+00, ...,\n",
              "          0.00000000e+00,  0.00000000e+00,  0.00000000e+00],\n",
              "        [-4.55342270e-02, -3.33375968e-02, -4.17244732e-02, ...,\n",
              "          5.76642342e-02, -4.39416766e-02, -2.73800194e-02],\n",
              "        [ 9.27912220e-02,  4.73704794e-03, -3.36371772e-02, ...,\n",
              "          6.19316511e-02,  3.67789939e-02, -2.74870601e-02],\n",
              "        ...,\n",
              "        [ 1.62060961e-01, -1.58545543e-02,  1.07895164e-02, ...,\n",
              "          7.37475008e-02,  8.66086781e-02,  2.06695851e-02],\n",
              "        [ 1.65852204e-01,  2.35425700e-02,  3.05687003e-02, ...,\n",
              "          5.73422536e-02,  5.04214615e-02,  1.81657486e-02],\n",
              "        [ 0.00000000e+00,  0.00000000e+00, -0.00000000e+00, ...,\n",
              "          0.00000000e+00,  0.00000000e+00,  0.00000000e+00]],\n",
              "\n",
              "       [[-0.00000000e+00,  0.00000000e+00, -0.00000000e+00, ...,\n",
              "          0.00000000e+00, -0.00000000e+00,  0.00000000e+00],\n",
              "        [ 3.14870179e-02, -2.75113266e-02, -4.07451298e-03, ...,\n",
              "         -4.30749590e-03, -1.95643120e-02, -3.38410139e-02],\n",
              "        [ 1.28407896e-01,  8.33009277e-03,  5.57326190e-02, ...,\n",
              "          2.80495342e-02,  4.72922884e-02, -3.43242437e-02],\n",
              "        ...,\n",
              "        [ 1.62285045e-01, -3.26435827e-02, -1.85720697e-02, ...,\n",
              "          6.46487251e-02,  7.33997524e-02,  3.93852443e-02],\n",
              "        [ 6.56043738e-02, -5.02296463e-02, -1.29779591e-03, ...,\n",
              "          4.69273739e-02,  3.18723507e-02,  3.64057184e-03],\n",
              "        [ 0.00000000e+00,  0.00000000e+00, -0.00000000e+00, ...,\n",
              "          0.00000000e+00,  0.00000000e+00,  0.00000000e+00]],\n",
              "\n",
              "       [[-0.00000000e+00,  0.00000000e+00, -0.00000000e+00, ...,\n",
              "          0.00000000e+00,  0.00000000e+00,  0.00000000e+00],\n",
              "        [ 9.75334719e-02,  8.88395682e-03,  5.41273989e-02, ...,\n",
              "          1.35936011e-02,  2.22428422e-02, -2.32171621e-02],\n",
              "        [ 1.24012001e-01, -2.73588066e-05,  5.32483608e-02, ...,\n",
              "          2.48786882e-02,  8.88023060e-03, -1.58946719e-02],\n",
              "        ...,\n",
              "        [ 0.00000000e+00, -0.00000000e+00, -0.00000000e+00, ...,\n",
              "         -0.00000000e+00, -0.00000000e+00,  0.00000000e+00],\n",
              "        [ 0.00000000e+00, -0.00000000e+00, -0.00000000e+00, ...,\n",
              "         -0.00000000e+00, -0.00000000e+00,  0.00000000e+00],\n",
              "        [ 0.00000000e+00, -0.00000000e+00, -0.00000000e+00, ...,\n",
              "         -0.00000000e+00, -0.00000000e+00,  0.00000000e+00]]],\n",
              "      dtype=float32)"
            ]
          },
          "metadata": {},
          "execution_count": 77
        }
      ]
    },
    {
      "cell_type": "code",
      "source": [
        "# positive samples with positive projection space, take mean \n",
        "# then take maximum of means of words - Which word is that"
      ],
      "metadata": {
        "id": "HaHwEpyI5baL"
      },
      "execution_count": null,
      "outputs": []
    },
    {
      "cell_type": "code",
      "source": [
        "posData_posProjSpace.shape"
      ],
      "metadata": {
        "colab": {
          "base_uri": "https://localhost:8080/"
        },
        "id": "UPh13iN-vkiu",
        "outputId": "5a32e2cd-57eb-4722-a07e-06e16173817d"
      },
      "execution_count": null,
      "outputs": [
        {
          "output_type": "execute_result",
          "data": {
            "text/plain": [
              "(100, 128, 300)"
            ]
          },
          "metadata": {},
          "execution_count": 79
        }
      ]
    },
    {
      "cell_type": "code",
      "source": [
        "negData_negProjSpace.shape"
      ],
      "metadata": {
        "colab": {
          "base_uri": "https://localhost:8080/"
        },
        "id": "x7zpyh39xfYE",
        "outputId": "8cbf51cd-c110-43ca-fd9a-dbebbbf57f43"
      },
      "execution_count": null,
      "outputs": [
        {
          "output_type": "execute_result",
          "data": {
            "text/plain": [
              "(100, 128, 300)"
            ]
          },
          "metadata": {},
          "execution_count": 80
        }
      ]
    },
    {
      "cell_type": "code",
      "source": [
        "def AverageSentenceEmbedding(matrix):\n",
        "\n",
        "\n",
        "  Length = tf.math.count_nonzero(tf.math.reduce_sum(matrix, axis=2,keepdims=True), axis=1, keepdims=True,dtype = np.float32)   # (None,1,1)\n",
        "\n",
        "  # now obtain average of cosine similarities\n",
        "  matrixSum = np.sum(matrix,axis=1, keepdims=True)    # (None,1,300)\n",
        "  matrixAverage = np.divide(matrixSum, Length)\n",
        "\n",
        "\n",
        "  return matrixAverage"
      ],
      "metadata": {
        "id": "CRq_YodDvnh5"
      },
      "execution_count": null,
      "outputs": []
    },
    {
      "cell_type": "code",
      "source": [
        "posProjectionSpace  = AverageSentenceEmbedding(posData_posProjSpace)\n",
        "negProjectionSpace = AverageSentenceEmbedding(posData_negProjSpace)"
      ],
      "metadata": {
        "id": "8YKCXZEswppT"
      },
      "execution_count": null,
      "outputs": []
    },
    {
      "cell_type": "code",
      "source": [
        "# we have access to each sentence's input ids, as well as their bert embeddings right now\n",
        "# we want to see which tokens from a sentence have maximum cosine similarity with pos_projection space\n",
        "# get those indices, and we have those token ids\n",
        "# now we want to fetch the words corresponding to those token ids"
      ],
      "metadata": {
        "id": "sK7FkQdTpL3e"
      },
      "execution_count": null,
      "outputs": []
    },
    {
      "cell_type": "code",
      "source": [
        "np.squeeze(posProjectionSpace).shape"
      ],
      "metadata": {
        "colab": {
          "base_uri": "https://localhost:8080/"
        },
        "id": "ls7dK2XuxLSF",
        "outputId": "39299f92-c2d8-425b-dbb1-3e7f3c2eec94"
      },
      "execution_count": null,
      "outputs": [
        {
          "output_type": "execute_result",
          "data": {
            "text/plain": [
              "(100, 300)"
            ]
          },
          "metadata": {},
          "execution_count": 84
        }
      ]
    },
    {
      "cell_type": "code",
      "source": [
        "from sklearn.manifold import TSNE\n",
        "m = TSNE(n_components=2, learning_rate= 50,\n",
        "                   init='pca', perplexity=3, n_iter= 2500)"
      ],
      "metadata": {
        "id": "OdcRRMZfvjkO"
      },
      "execution_count": null,
      "outputs": []
    },
    {
      "cell_type": "code",
      "source": [
        "combined = np.vstack([np.squeeze(posProjectionSpace), np.squeeze(negProjectionSpace)])"
      ],
      "metadata": {
        "id": "A62A6ybPxBkr"
      },
      "execution_count": null,
      "outputs": []
    },
    {
      "cell_type": "code",
      "source": [
        "combined.shape"
      ],
      "metadata": {
        "colab": {
          "base_uri": "https://localhost:8080/"
        },
        "id": "m6-0i2_0xkYN",
        "outputId": "5ef8a89b-7ae1-41f7-868d-249eb8ac6a05"
      },
      "execution_count": null,
      "outputs": [
        {
          "output_type": "execute_result",
          "data": {
            "text/plain": [
              "(200, 300)"
            ]
          },
          "metadata": {},
          "execution_count": 87
        }
      ]
    },
    {
      "cell_type": "code",
      "source": [
        "tSNE_combined = m.fit_transform(combined)"
      ],
      "metadata": {
        "id": "_aVapM-_xvCH"
      },
      "execution_count": null,
      "outputs": []
    },
    {
      "cell_type": "code",
      "source": [
        "tSNE_combined.shape"
      ],
      "metadata": {
        "colab": {
          "base_uri": "https://localhost:8080/"
        },
        "id": "g-MVEJP7yHte",
        "outputId": "3c63324b-ccdd-49f1-d3fb-43b7357eb94d"
      },
      "execution_count": null,
      "outputs": [
        {
          "output_type": "execute_result",
          "data": {
            "text/plain": [
              "(200, 2)"
            ]
          },
          "metadata": {},
          "execution_count": 89
        }
      ]
    },
    {
      "cell_type": "code",
      "source": [
        "fig, ax = plt.subplots(figsize = (10,5))\n",
        "\n",
        "for color in ['RED', 'tab:GREEN']:\n",
        "    n = 750\n",
        "    if color == \"RED\":\n",
        "      x, y = tSNE_combined[:100,0], tSNE_combined[:100,1]\n",
        "\n",
        "    else:\n",
        "      x, y = tSNE_combined[100:,0], tSNE_combined[100:,1]\n",
        "\n",
        "    ax.scatter(x, y, c=color, label= \"Positive\" if color == \"RED\" else \"Negative\",\n",
        "               alpha=0.9, edgecolors='none')\n",
        "\n",
        "ax.legend()\n",
        "ax.set_xlabel(\"dim1\")\n",
        "ax.set_ylabel(\"dim2\")\n",
        "ax.set_title(\"tSNE Representation of Projection Spaces\")\n",
        "\n",
        "plt.show()"
      ],
      "metadata": {
        "colab": {
          "base_uri": "https://localhost:8080/",
          "height": 350
        },
        "id": "0Cn4luyPxzui",
        "outputId": "d61dc6b2-af4f-4afc-ee52-0b7e961a5721"
      },
      "execution_count": null,
      "outputs": [
        {
          "output_type": "display_data",
          "data": {
            "text/plain": [
              "<Figure size 720x360 with 1 Axes>"
            ],
            "image/png": "[encoded data removed]"
          },
          "metadata": {
            "needs_background": "light"
          }
        }
      ]
    },
    {
      "cell_type": "code",
      "source": [
        "t_pos"
      ],
      "metadata": {
        "colab": {
          "base_uri": "https://localhost:8080/"
        },
        "id": "KOeL2qIanpl-",
        "outputId": "fd20b992-b888-49de-f42d-12c65a6edf52"
      },
      "execution_count": null,
      "outputs": [
        {
          "output_type": "execute_result",
          "data": {
            "text/plain": [
              "({'input_ids': <tf.Tensor: shape=(32, 128), dtype=int32, numpy=\n",
              "  array([[  101,  1045,  2074, ...,  3427,  2023,   102],\n",
              "         [  101,  2412,  2144, ...,  1998,  1997,   102],\n",
              "         [  101,  2034,  2125, ...,  2028,  2838,   102],\n",
              "         ...,\n",
              "         [  101, 11430,  2358, ..., 16827,  1996,   102],\n",
              "         [  101,  2178,  2742, ...,     0,     0,     0],\n",
              "         [  101,  2123,  2102, ...,  2228,  1996,   102]], dtype=int32)>,\n",
              "  'attention_masks': <tf.Tensor: shape=(32, 128), dtype=int32, numpy=\n",
              "  array([[1, 1, 1, ..., 1, 1, 1],\n",
              "         [1, 1, 1, ..., 1, 1, 1],\n",
              "         [1, 1, 1, ..., 1, 1, 1],\n",
              "         ...,\n",
              "         [1, 1, 1, ..., 1, 1, 1],\n",
              "         [1, 1, 1, ..., 0, 0, 0],\n",
              "         [1, 1, 1, ..., 1, 1, 1]], dtype=int32)>,\n",
              "  'space': <tf.Tensor: shape=(32, 300), dtype=int32, numpy=\n",
              "  array([[  0,   1,   2, ..., 297, 298, 299],\n",
              "         [  0,   1,   2, ..., 297, 298, 299],\n",
              "         [  0,   1,   2, ..., 297, 298, 299],\n",
              "         ...,\n",
              "         [  0,   1,   2, ..., 297, 298, 299],\n",
              "         [  0,   1,   2, ..., 297, 298, 299],\n",
              "         [  0,   1,   2, ..., 297, 298, 299]], dtype=int32)>},\n",
              " <tf.Tensor: shape=(32,), dtype=float32, numpy=\n",
              " array([1., 1., 1., 1., 1., 1., 1., 1., 1., 1., 1., 1., 1., 1., 1., 1., 1.,\n",
              "        1., 1., 1., 1., 1., 1., 1., 1., 1., 1., 1., 1., 1., 1., 1.],\n",
              "       dtype=float32)>)"
            ]
          },
          "metadata": {},
          "execution_count": 91
        }
      ]
    },
    {
      "cell_type": "code",
      "source": [
        "t_neg"
      ],
      "metadata": {
        "colab": {
          "base_uri": "https://localhost:8080/"
        },
        "id": "NYIYrxGpxlVT",
        "outputId": "f4ec94df-0328-40a7-dae4-add2ecf1c430"
      },
      "execution_count": null,
      "outputs": [
        {
          "output_type": "execute_result",
          "data": {
            "text/plain": [
              "({'input_ids': <tf.Tensor: shape=(32, 128), dtype=int32, numpy=\n",
              "  array([[  101,  2007,  1037, ...,     0,     0,     0],\n",
              "         [  101,  1045,  3685, ...,  3185,  2323,   102],\n",
              "         [  101,  2053,  3043, ...,  7987, 15056,   102],\n",
              "         ...,\n",
              "         [  101,  2092,  2023, ...,  2008,  2001,   102],\n",
              "         [  101,  2821,  6203, ...,  2032,  2019,   102],\n",
              "         [  101,  2108,  1037, ..., 18251,  1037,   102]], dtype=int32)>,\n",
              "  'attention_masks': <tf.Tensor: shape=(32, 128), dtype=int32, numpy=\n",
              "  array([[1, 1, 1, ..., 0, 0, 0],\n",
              "         [1, 1, 1, ..., 1, 1, 1],\n",
              "         [1, 1, 1, ..., 1, 1, 1],\n",
              "         ...,\n",
              "         [1, 1, 1, ..., 1, 1, 1],\n",
              "         [1, 1, 1, ..., 1, 1, 1],\n",
              "         [1, 1, 1, ..., 1, 1, 1]], dtype=int32)>,\n",
              "  'space': <tf.Tensor: shape=(32, 300), dtype=int32, numpy=\n",
              "  array([[  0,   1,   2, ..., 297, 298, 299],\n",
              "         [  0,   1,   2, ..., 297, 298, 299],\n",
              "         [  0,   1,   2, ..., 297, 298, 299],\n",
              "         ...,\n",
              "         [  0,   1,   2, ..., 297, 298, 299],\n",
              "         [  0,   1,   2, ..., 297, 298, 299],\n",
              "         [  0,   1,   2, ..., 297, 298, 299]], dtype=int32)>},\n",
              " <tf.Tensor: shape=(32,), dtype=float32, numpy=\n",
              " array([0., 0., 0., 0., 0., 0., 0., 0., 0., 0., 0., 0., 0., 0., 0., 0., 0.,\n",
              "        0., 0., 0., 0., 0., 0., 0., 0., 0., 0., 0., 0., 0., 0., 0.],\n",
              "       dtype=float32)>)"
            ]
          },
          "metadata": {},
          "execution_count": 92
        }
      ]
    },
    {
      "cell_type": "code",
      "source": [
        "# tokens\n",
        "posData_posProjSpace[0].shape"
      ],
      "metadata": {
        "colab": {
          "base_uri": "https://localhost:8080/"
        },
        "id": "Xr7O0vuhnYis",
        "outputId": "7c78611f-19ea-4f48-cb29-5ed0b6e203ef"
      },
      "execution_count": null,
      "outputs": [
        {
          "output_type": "execute_result",
          "data": {
            "text/plain": [
              "(128, 300)"
            ]
          },
          "metadata": {},
          "execution_count": 93
        }
      ]
    },
    {
      "cell_type": "code",
      "source": [
        "pos_reviews.review.values[0]"
      ],
      "metadata": {
        "colab": {
          "base_uri": "https://localhost:8080/",
          "height": 125
        },
        "id": "d8A5Er36pKUm",
        "outputId": "b0bee3bc-6afb-4398-b391-c925c92da2a4"
      },
      "execution_count": null,
      "outputs": [
        {
          "output_type": "execute_result",
          "data": {
            "text/plain": [
              "'i just want to comment to the woman above that the movie does credit beethoven in the begging in the beginning credits they show it thank you i think this is an amazing movie they picked just the right music for the mood of the movie the animation is wonderful and they picked the voices for the characters very well it teaches children to never give up and to always have hope princess annika doesnt give up and it shows children that they can do the same the movie also has humor in in for all ages parents and children to laugh at the colors in this movie are great and kids can really feel good while they are watching it i watched this movie for the first time now i am a huge fan and im sure your child will be too walmart sells tons of barbie and the magic of pegasus stuff so your child can continue to enjoy the movie even when they arent watching it thank you'"
            ],
            "application/vnd.google.colaboratory.intrinsic+json": {
              "type": "string"
            }
          },
          "metadata": {},
          "execution_count": 95
        }
      ]
    },
    {
      "cell_type": "code",
      "source": [
        "wordidx = np.where(np.max(posData_posProjSpace[0], axis = 1) > 0.1)\n",
        "wordidx[0]"
      ],
      "metadata": {
        "colab": {
          "base_uri": "https://localhost:8080/"
        },
        "id": "fKR4maABqeQo",
        "outputId": "ad76df70-dd6f-4acf-d530-99f09cb8159f"
      },
      "execution_count": null,
      "outputs": [
        {
          "output_type": "execute_result",
          "data": {
            "text/plain": [
              "array([ 1,  2,  3,  4,  5,  6,  7,  8,  9, 10, 11, 12, 13, 14, 15, 16, 17,\n",
              "       18, 19, 20, 21, 22, 23, 24, 25, 26, 27, 28, 29, 30, 31, 32, 33, 34,\n",
              "       35, 36, 37, 38, 39, 40, 41, 42, 43, 44, 45, 46, 47, 48, 49, 50, 51])"
            ]
          },
          "metadata": {},
          "execution_count": 96
        }
      ]
    },
    {
      "cell_type": "code",
      "source": [
        "t_pos[0][\"input_ids\"][0]"
      ],
      "metadata": {
        "colab": {
          "base_uri": "https://localhost:8080/"
        },
        "id": "PGMrwHPGq8cd",
        "outputId": "4e35d0ab-9b9e-4fa4-8903-3af14cd5cbab"
      },
      "execution_count": null,
      "outputs": [
        {
          "output_type": "execute_result",
          "data": {
            "text/plain": [
              "<tf.Tensor: shape=(128,), dtype=int32, numpy=\n",
              "array([  101,  1045,  2074,  2215,  2000,  7615,  2000,  1996,  2450,\n",
              "        2682,  2008,  1996,  3185,  2515,  4923, 15461,  1999,  1996,\n",
              "       12858,  1999,  1996,  2927,  6495,  2027,  2265,  2009,  4067,\n",
              "        2017,  1045,  2228,  2023,  2003,  2019,  6429,  3185,  2027,\n",
              "        3856,  2074,  1996,  2157,  2189,  2005,  1996,  6888,  1997,\n",
              "        1996,  3185,  1996,  7284,  2003,  6919,  1998,  2027,  3856,\n",
              "        1996,  5755,  2005,  1996,  3494,  2200,  2092,  2009, 12011,\n",
              "        2336,  2000,  2196,  2507,  2039,  1998,  2000,  2467,  2031,\n",
              "        3246,  4615,  5754,  7556,  2987,  2102,  2507,  2039,  1998,\n",
              "        2009,  3065,  2336,  2008,  2027,  2064,  2079,  1996,  2168,\n",
              "        1996,  3185,  2036,  2038,  8562,  1999,  1999,  2005,  2035,\n",
              "        5535,  3008,  1998,  2336,  2000,  4756,  2012,  1996,  6087,\n",
              "        1999,  2023,  3185,  2024,  2307,  1998,  4268,  2064,  2428,\n",
              "        2514,  2204,  2096,  2027,  2024,  3666,  2009,  1045,  3427,\n",
              "        2023,   102], dtype=int32)>"
            ]
          },
          "metadata": {},
          "execution_count": 97
        }
      ]
    },
    {
      "cell_type": "code",
      "source": [
        "print(tokenizer.batch_decode(t_pos[0][\"input_ids\"][0])[0])"
      ],
      "metadata": {
        "colab": {
          "base_uri": "https://localhost:8080/"
        },
        "id": "exPLJ2Ddrtlt",
        "outputId": "eb7dc32b-4414-41ed-dde0-25733a7dc337"
      },
      "execution_count": null,
      "outputs": [
        {
          "output_type": "stream",
          "name": "stdout",
          "text": [
            "[CLS]\n"
          ]
        }
      ]
    },
    {
      "cell_type": "code",
      "source": [
        "posData_posProjSpace[0]"
      ],
      "metadata": {
        "colab": {
          "base_uri": "https://localhost:8080/"
        },
        "id": "AGGUn1TAsy-8",
        "outputId": "ea88a177-3cb0-4146-e62a-1d819d9792ac"
      },
      "execution_count": null,
      "outputs": [
        {
          "output_type": "execute_result",
          "data": {
            "text/plain": [
              "array([[-0.        ,  0.        ,  0.        , ..., -0.        ,\n",
              "        -0.        , -0.        ],\n",
              "       [-0.08163896, -0.00519264, -0.04930513, ...,  0.01633385,\n",
              "        -0.08853861,  0.01800421],\n",
              "       [-0.11440402, -0.03474047, -0.0289792 , ...,  0.03251273,\n",
              "        -0.06183091, -0.00425492],\n",
              "       ...,\n",
              "       [-0.        ,  0.        , -0.        , ..., -0.        ,\n",
              "        -0.        ,  0.        ],\n",
              "       [-0.        ,  0.        , -0.        , ..., -0.        ,\n",
              "        -0.        , -0.        ],\n",
              "       [-0.        ,  0.        , -0.        , ..., -0.        ,\n",
              "        -0.        ,  0.        ]], dtype=float32)"
            ]
          },
          "metadata": {},
          "execution_count": 99
        }
      ]
    },
    {
      "cell_type": "code",
      "source": [
        "for index in wordidx[0]:\n",
        "\n",
        "  print(tokenizer.batch_decode(t_pos[0][\"input_ids\"][0])[index], end = \" \")"
      ],
      "metadata": {
        "colab": {
          "base_uri": "https://localhost:8080/"
        },
        "id": "t1IcrhYkppn8",
        "outputId": "a6a38a96-9803-4c2d-edd5-3da162078dcb"
      },
      "execution_count": null,
      "outputs": [
        {
          "output_type": "stream",
          "name": "stdout",
          "text": [
            "i just want to comment to the woman above that the movie does credit beethoven in the begging in the beginning credits they show it thank you i think this is an amazing movie they picked just the right music for the mood of the movie the animation is wonderful and "
          ]
        }
      ]
    },
    {
      "cell_type": "code",
      "source": [
        "wordidx"
      ],
      "metadata": {
        "colab": {
          "base_uri": "https://localhost:8080/"
        },
        "id": "gFsSx1GGx59r",
        "outputId": "172dafd3-f60a-4e1f-93c7-2ecfe05323d4"
      },
      "execution_count": null,
      "outputs": [
        {
          "output_type": "execute_result",
          "data": {
            "text/plain": [
              "(array([ 1,  2,  3,  4,  5,  6,  7,  8,  9, 10, 11, 12, 13, 14, 15, 16, 17,\n",
              "        18, 19, 20, 21, 22, 23, 24, 25, 26, 27, 28, 29, 30, 31, 32, 33, 34,\n",
              "        35, 36, 37, 38, 39, 40, 41, 42, 43, 44, 45, 46, 47, 48, 49, 50, 51]),)"
            ]
          },
          "metadata": {},
          "execution_count": 101
        }
      ]
    },
    {
      "cell_type": "code",
      "source": [
        "wordidx = np.max(negData_negProjSpace[0], axis = 1)\n",
        "\n",
        "for index, value in enumerate(wordidx):\n",
        "\n",
        "  print(tokenizer.batch_decode(t_neg[0][\"input_ids\"][0])[index], value)"
      ],
      "metadata": {
        "colab": {
          "base_uri": "https://localhost:8080/"
        },
        "id": "eGSKzMeXyEoJ",
        "outputId": "e8ed841c-cbef-44ac-a6eb-5e27aca12b8f"
      },
      "execution_count": null,
      "outputs": [
        {
          "output_type": "stream",
          "name": "stdout",
          "text": [
            "[CLS] -0.0\n",
            "with 0.14962037\n",
            "a 0.19610451\n",
            "little 0.18122384\n",
            "dressing 0.11276428\n",
            "up 0.2102472\n",
            "this 0.21123213\n",
            "movie 0.17655957\n",
            "could 0.17111628\n",
            "be 0.16747603\n",
            "served 0.12769462\n",
            "for 0.18070684\n",
            "thanksgiving 0.18078734\n",
            "dinner 0.19181241\n",
            "not 0.17206861\n",
            "only 0.17331004\n",
            "is 0.19242164\n",
            "is 0.16482055\n",
            "boring 0.15680087\n",
            "imp 0.21057408\n",
            "##laus 0.21477674\n",
            "##ible 0.21914577\n",
            "historically 0.17207064\n",
            "inaccurate 0.20952332\n",
            "and 0.1688066\n",
            "poorly 0.18803966\n",
            "directed 0.17549708\n",
            "the 0.18310021\n",
            "best 0.17155759\n",
            "actors 0.15304416\n",
            "were 0.2007365\n",
            "the 0.17797641\n",
            "bit 0.14577496\n",
            "players 0.16893278\n",
            "mainly 0.19142509\n",
            "because 0.18842193\n",
            "they 0.16758199\n",
            "had 0.17586595\n",
            "so 0.15893844\n",
            "few 0.16769025\n",
            "lines 0.15681103\n",
            "to 0.17464554\n",
            "say 0.14797041\n",
            "a 0.20212096\n",
            "waste 0.19981961\n",
            "of 0.20840083\n",
            "time 0.18655002\n",
            "even 0.18663758\n",
            "for 0.2156041\n",
            "war 0.11954684\n",
            "fan 0.12941265\n",
            "##atics 0.15216817\n",
            "[SEP] 0.0\n",
            "[PAD] 0.0\n",
            "[PAD] 0.0\n",
            "[PAD] 0.0\n",
            "[PAD] 0.0\n",
            "[PAD] 0.0\n",
            "[PAD] 0.0\n",
            "[PAD] 0.0\n",
            "[PAD] 0.0\n",
            "[PAD] 0.0\n",
            "[PAD] 0.0\n",
            "[PAD] 0.0\n",
            "[PAD] 0.0\n",
            "[PAD] 0.0\n",
            "[PAD] 0.0\n",
            "[PAD] 0.0\n",
            "[PAD] 0.0\n",
            "[PAD] 0.0\n",
            "[PAD] 0.0\n",
            "[PAD] 0.0\n",
            "[PAD] 0.0\n",
            "[PAD] 0.0\n",
            "[PAD] 0.0\n",
            "[PAD] 0.0\n",
            "[PAD] 0.0\n",
            "[PAD] 0.0\n",
            "[PAD] 0.0\n",
            "[PAD] 0.0\n",
            "[PAD] 0.0\n",
            "[PAD] 0.0\n",
            "[PAD] 0.0\n",
            "[PAD] 0.0\n",
            "[PAD] 0.0\n",
            "[PAD] 0.0\n",
            "[PAD] 0.0\n",
            "[PAD] 0.0\n",
            "[PAD] 0.0\n",
            "[PAD] 0.0\n",
            "[PAD] 0.0\n",
            "[PAD] 0.0\n",
            "[PAD] 0.0\n",
            "[PAD] 0.0\n",
            "[PAD] 0.0\n",
            "[PAD] 0.0\n",
            "[PAD] 0.0\n",
            "[PAD] 0.0\n",
            "[PAD] 0.0\n",
            "[PAD] 0.0\n",
            "[PAD] 0.0\n",
            "[PAD] 0.0\n",
            "[PAD] 0.0\n",
            "[PAD] 0.0\n",
            "[PAD] 0.0\n",
            "[PAD] 0.0\n",
            "[PAD] 0.0\n",
            "[PAD] 0.0\n",
            "[PAD] 0.0\n",
            "[PAD] 0.0\n",
            "[PAD] 0.0\n",
            "[PAD] 0.0\n",
            "[PAD] 0.0\n",
            "[PAD] 0.0\n",
            "[PAD] 0.0\n",
            "[PAD] 0.0\n",
            "[PAD] 0.0\n",
            "[PAD] 0.0\n",
            "[PAD] 0.0\n",
            "[PAD] 0.0\n",
            "[PAD] 0.0\n",
            "[PAD] 0.0\n",
            "[PAD] 0.0\n",
            "[PAD] 0.0\n",
            "[PAD] 0.0\n",
            "[PAD] 0.0\n",
            "[PAD] 0.0\n",
            "[PAD] 0.0\n"
          ]
        }
      ]
    },
    {
      "cell_type": "code",
      "source": [
        "'''\n",
        "in pos space: words with higher positive polarity will show up - opposite behaviour in negative space and vice versa\n",
        "\n",
        "for each threshold - get sum of polarities of all words (for 100 sentences)\n",
        "\n",
        "'''"
      ],
      "metadata": {
        "id": "_9ysryEB1O9B",
        "colab": {
          "base_uri": "https://localhost:8080/",
          "height": 53
        },
        "outputId": "d63b7d03-f99a-47e9-f9eb-060ceaa745b0"
      },
      "execution_count": null,
      "outputs": [
        {
          "output_type": "execute_result",
          "data": {
            "text/plain": [
              "'\\nin pos space: words with higher positive polarity will show up - opposite behaviour in negative space and vice versa\\n\\nfor each threshold - get sum of polarities of all words (for 100 sentences)\\n\\n'"
            ],
            "application/vnd.google.colaboratory.intrinsic+json": {
              "type": "string"
            }
          },
          "metadata": {},
          "execution_count": 103
        }
      ]
    },
    {
      "cell_type": "code",
      "source": [
        "# imdb\n",
        "# hatebase\n",
        "# PeaceViolent public dataset?"
      ],
      "metadata": {
        "id": "RkNu9Z5733jU"
      },
      "execution_count": null,
      "outputs": []
    },
    {
      "cell_type": "code",
      "source": [
        "# collect communal violence dataset that occurs through social media (YT mainly). (ex Hindus vs Muslims, Veg - Non Veg)\n",
        "# we have the data collection pipeline\n",
        "# find what kind of communal violence took place in India / Pakistan"
      ],
      "metadata": {
        "id": "DGLr10Hn4FYe"
      },
      "execution_count": null,
      "outputs": []
    },
    {
      "cell_type": "code",
      "source": [
        "'''\n",
        "\n",
        "1. See how vader is used\n",
        "2. Map the polarity of words from vader\n",
        "3. Set some thresholds, for all the words we get --> sum up their polarities\n",
        "4. Plot CosineSim Thresholds vs Sum(Polarities)\n",
        "\n",
        "'''"
      ],
      "metadata": {
        "id": "70zuHeQK4t8k",
        "colab": {
          "base_uri": "https://localhost:8080/",
          "height": 53
        },
        "outputId": "aeffd22d-33e6-45b1-f142-a438974d92dc"
      },
      "execution_count": null,
      "outputs": [
        {
          "output_type": "execute_result",
          "data": {
            "text/plain": [
              "'\\n\\n1. See how vader is used\\n2. Map the polarity of words from vader\\n3. Set some thresholds, for all the words we get --> sum up their polarities\\n4. Plot CosineSim Thresholds vs Sum(Polarities)\\n\\n'"
            ],
            "application/vnd.google.colaboratory.intrinsic+json": {
              "type": "string"
            }
          },
          "metadata": {},
          "execution_count": 106
        }
      ]
    },
    {
      "cell_type": "code",
      "source": [
        "# words with max cosine > 0.25\n",
        "wordidx = np.where(np.max(negData_negProjSpace[0], axis = 1) > 0.15)\n",
        "\n",
        "for index in wordidx[0]:\n",
        "\n",
        "  print(tokenizer.batch_decode(t_neg[0][\"input_ids\"][0])[index])"
      ],
      "metadata": {
        "colab": {
          "base_uri": "https://localhost:8080/"
        },
        "id": "zChQz-dWxrt0",
        "outputId": "a07b7c26-6120-445f-aa6d-8c90f6642b79"
      },
      "execution_count": null,
      "outputs": [
        {
          "output_type": "stream",
          "name": "stdout",
          "text": [
            "a\n",
            "little\n",
            "up\n",
            "this\n",
            "movie\n",
            "could\n",
            "be\n",
            "for\n",
            "thanksgiving\n",
            "dinner\n",
            "not\n",
            "only\n",
            "is\n",
            "is\n",
            "boring\n",
            "imp\n",
            "##laus\n",
            "##ible\n",
            "historically\n",
            "inaccurate\n",
            "and\n",
            "poorly\n",
            "directed\n",
            "the\n",
            "best\n",
            "actors\n",
            "were\n",
            "the\n",
            "players\n",
            "mainly\n",
            "because\n",
            "they\n",
            "had\n",
            "so\n",
            "few\n",
            "lines\n",
            "to\n",
            "a\n",
            "waste\n",
            "of\n",
            "time\n",
            "even\n",
            "for\n",
            "##atics\n"
          ]
        }
      ]
    },
    {
      "cell_type": "code",
      "source": [
        "df_sent.columns = [\"token\", \"sentiment\", \"stdev\", \"values\"]\n",
        "df_sent.head()"
      ],
      "metadata": {
        "colab": {
          "base_uri": "https://localhost:8080/",
          "height": 206
        },
        "id": "dSAJcJz7iwMm",
        "outputId": "fc4b7ffe-7ed1-4c39-a9ac-61e6e15b743f"
      },
      "execution_count": null,
      "outputs": [
        {
          "output_type": "execute_result",
          "data": {
            "text/plain": [
              "  token  sentiment    stdev                                    values\n",
              "0    $:       -1.5  0.80623  [-1, -1, -1, -1, -3, -1, -3, -1, -2, -1]\n",
              "1    %)       -0.4  1.01980       [-1, 0, -1, 0, 0, -2, -1, 2, -1, 0]\n",
              "2   %-)       -1.5  1.43178    [-2, 0, -2, -2, -1, 2, -2, -3, -2, -3]\n",
              "3   &-:       -0.4  1.42829      [-3, -1, 0, 0, -1, -1, -1, 2, -1, 2]\n",
              "4    &:       -0.7  0.64031    [0, -1, -1, -1, 1, -1, -1, -1, -1, -1]"
            ],
            "text/html": [
              "\n",
              "  <div id=\"df-4a34ce5b-8fe8-44b9-bd66-7fea4b392f82\">\n",
              "    <div class=\"colab-df-container\">\n",
              "      <div>\n",
              "<style scoped>\n",
              "    .dataframe tbody tr th:only-of-type {\n",
              "        vertical-align: middle;\n",
              "    }\n",
              "\n",
              "    .dataframe tbody tr th {\n",
              "        vertical-align: top;\n",
              "    }\n",
              "\n",
              "    .dataframe thead th {\n",
              "        text-align: right;\n",
              "    }\n",
              "</style>\n",
              "<table border=\"1\" class=\"dataframe\">\n",
              "  <thead>\n",
              "    <tr style=\"text-align: right;\">\n",
              "      <th></th>\n",
              "      <th>token</th>\n",
              "      <th>sentiment</th>\n",
              "      <th>stdev</th>\n",
              "      <th>values</th>\n",
              "    </tr>\n",
              "  </thead>\n",
              "  <tbody>\n",
              "    <tr>\n",
              "      <th>0</th>\n",
              "      <td>$:</td>\n",
              "      <td>-1.5</td>\n",
              "      <td>0.80623</td>\n",
              "      <td>[-1, -1, -1, -1, -3, -1, -3, -1, -2, -1]</td>\n",
              "    </tr>\n",
              "    <tr>\n",
              "      <th>1</th>\n",
              "      <td>%)</td>\n",
              "      <td>-0.4</td>\n",
              "      <td>1.01980</td>\n",
              "      <td>[-1, 0, -1, 0, 0, -2, -1, 2, -1, 0]</td>\n",
              "    </tr>\n",
              "    <tr>\n",
              "      <th>2</th>\n",
              "      <td>%-)</td>\n",
              "      <td>-1.5</td>\n",
              "      <td>1.43178</td>\n",
              "      <td>[-2, 0, -2, -2, -1, 2, -2, -3, -2, -3]</td>\n",
              "    </tr>\n",
              "    <tr>\n",
              "      <th>3</th>\n",
              "      <td>&amp;-:</td>\n",
              "      <td>-0.4</td>\n",
              "      <td>1.42829</td>\n",
              "      <td>[-3, -1, 0, 0, -1, -1, -1, 2, -1, 2]</td>\n",
              "    </tr>\n",
              "    <tr>\n",
              "      <th>4</th>\n",
              "      <td>&amp;:</td>\n",
              "      <td>-0.7</td>\n",
              "      <td>0.64031</td>\n",
              "      <td>[0, -1, -1, -1, 1, -1, -1, -1, -1, -1]</td>\n",
              "    </tr>\n",
              "  </tbody>\n",
              "</table>\n",
              "</div>\n",
              "      <button class=\"colab-df-convert\" onclick=\"convertToInteractive('df-4a34ce5b-8fe8-44b9-bd66-7fea4b392f82')\"\n",
              "              title=\"Convert this dataframe to an interactive table.\"\n",
              "              style=\"display:none;\">\n",
              "        \n",
              "  <svg xmlns=\"http://www.w3.org/2000/svg\" height=\"24px\"viewBox=\"0 0 24 24\"\n",
              "       width=\"24px\">\n",
              "    <path d=\"M0 0h24v24H0V0z\" fill=\"none\"/>\n",
              "    <path d=\"M18.56 5.44l.94 2.06.94-2.06 2.06-.94-2.06-.94-.94-2.06-.94 2.06-2.06.94zm-11 1L8.5 8.5l.94-2.06 2.06-.94-2.06-.94L8.5 2.5l-.94 2.06-2.06.94zm10 10l.94 2.06.94-2.06 2.06-.94-2.06-.94-.94-2.06-.94 2.06-2.06.94z\"/><path d=\"M17.41 7.96l-1.37-1.37c-.4-.4-.92-.59-1.43-.59-.52 0-1.04.2-1.43.59L10.3 9.45l-7.72 7.72c-.78.78-.78 2.05 0 2.83L4 21.41c.39.39.9.59 1.41.59.51 0 1.02-.2 1.41-.59l7.78-7.78 2.81-2.81c.8-.78.8-2.07 0-2.86zM5.41 20L4 18.59l7.72-7.72 1.47 1.35L5.41 20z\"/>\n",
              "  </svg>\n",
              "      </button>\n",
              "      \n",
              "  <style>\n",
              "    .colab-df-container {\n",
              "      display:flex;\n",
              "      flex-wrap:wrap;\n",
              "      gap: 12px;\n",
              "    }\n",
              "\n",
              "    .colab-df-convert {\n",
              "      background-color: #E8F0FE;\n",
              "      border: none;\n",
              "      border-radius: 50%;\n",
              "      cursor: pointer;\n",
              "      display: none;\n",
              "      fill: #1967D2;\n",
              "      height: 32px;\n",
              "      padding: 0 0 0 0;\n",
              "      width: 32px;\n",
              "    }\n",
              "\n",
              "    .colab-df-convert:hover {\n",
              "      background-color: #E2EBFA;\n",
              "      box-shadow: 0px 1px 2px rgba(60, 64, 67, 0.3), 0px 1px 3px 1px rgba(60, 64, 67, 0.15);\n",
              "      fill: #174EA6;\n",
              "    }\n",
              "\n",
              "    [theme=dark] .colab-df-convert {\n",
              "      background-color: #3B4455;\n",
              "      fill: #D2E3FC;\n",
              "    }\n",
              "\n",
              "    [theme=dark] .colab-df-convert:hover {\n",
              "      background-color: #434B5C;\n",
              "      box-shadow: 0px 1px 3px 1px rgba(0, 0, 0, 0.15);\n",
              "      filter: drop-shadow(0px 1px 2px rgba(0, 0, 0, 0.3));\n",
              "      fill: #FFFFFF;\n",
              "    }\n",
              "  </style>\n",
              "\n",
              "      <script>\n",
              "        const buttonEl =\n",
              "          document.querySelector('#df-4a34ce5b-8fe8-44b9-bd66-7fea4b392f82 button.colab-df-convert');\n",
              "        buttonEl.style.display =\n",
              "          google.colab.kernel.accessAllowed ? 'block' : 'none';\n",
              "\n",
              "        async function convertToInteractive(key) {\n",
              "          const element = document.querySelector('#df-4a34ce5b-8fe8-44b9-bd66-7fea4b392f82');\n",
              "          const dataTable =\n",
              "            await google.colab.kernel.invokeFunction('convertToInteractive',\n",
              "                                                     [key], {});\n",
              "          if (!dataTable) return;\n",
              "\n",
              "          const docLinkHtml = 'Like what you see? Visit the ' +\n",
              "            '<a target=\"_blank\" href=https://colab.research.google.com/notebooks/data_table.ipynb>data table notebook</a>'\n",
              "            + ' to learn more about interactive tables.';\n",
              "          element.innerHTML = '';\n",
              "          dataTable['output_type'] = 'display_data';\n",
              "          await google.colab.output.renderOutput(dataTable, element);\n",
              "          const docLink = document.createElement('div');\n",
              "          docLink.innerHTML = docLinkHtml;\n",
              "          element.appendChild(docLink);\n",
              "        }\n",
              "      </script>\n",
              "    </div>\n",
              "  </div>\n",
              "  "
            ]
          },
          "metadata": {},
          "execution_count": 112
        }
      ]
    },
    {
      "cell_type": "code",
      "source": [
        "sent_dict = dict()\n",
        "for tok, sent in zip(df_sent.token.values,df_sent.sentiment.values) :\n",
        "  sent_dict[tok] = sent"
      ],
      "metadata": {
        "id": "kOpya3jIjCCt"
      },
      "execution_count": null,
      "outputs": []
    },
    {
      "cell_type": "code",
      "source": [
        "sent_dict[\"to\"]"
      ],
      "metadata": {
        "id": "hukXQqeX6jNP"
      },
      "execution_count": null,
      "outputs": []
    },
    {
      "cell_type": "code",
      "source": [
        "# words with max cosine > 0.25\n",
        "wordidx = np.where(np.max(posData_posProjSpace[0], axis = 1) > 0.25)\n",
        "\n",
        "tokens1 = list()\n",
        "for index in wordidx[0]:\n",
        "\n",
        "  tokens1.append(tokenizer.batch_decode(t_pos[0][\"input_ids\"][0])[index])\n",
        "  # print(tokenizer.batch_decode(t_pos[0][\"input_ids\"][0])[index])"
      ],
      "metadata": {
        "id": "W_jTeJBVvlwT"
      },
      "execution_count": null,
      "outputs": []
    },
    {
      "cell_type": "code",
      "source": [
        "print(tokens1)"
      ],
      "metadata": {
        "colab": {
          "base_uri": "https://localhost:8080/"
        },
        "id": "KZQNM5rpiyJo",
        "outputId": "53e48b52-8399-4186-dfb0-5825fdbf5b7b"
      },
      "execution_count": null,
      "outputs": [
        {
          "output_type": "stream",
          "name": "stdout",
          "text": [
            "['comment', 'to', 'show', 'mood']\n"
          ]
        }
      ]
    },
    {
      "cell_type": "code",
      "source": [
        "polarity025 = 0.0\n",
        "for ele in tokens1:\n",
        "  polarity025 += sent_dict.get(ele,0)"
      ],
      "metadata": {
        "id": "7i_yDco0kNBF"
      },
      "execution_count": null,
      "outputs": []
    },
    {
      "cell_type": "code",
      "source": [
        "polarity005, polarity010, polarity015, polarity020, polarity021, polarity025"
      ],
      "metadata": {
        "colab": {
          "base_uri": "https://localhost:8080/"
        },
        "id": "n4c7WkO8klJs",
        "outputId": "57e503b4-6088-46a0-e9e8-88f6d5ae0570"
      },
      "execution_count": null,
      "outputs": [
        {
          "output_type": "execute_result",
          "data": {
            "text/plain": [
              "(10.4, 10.4, 10.4, 1.5, 0.0, 0.0)"
            ]
          },
          "metadata": {},
          "execution_count": 146
        }
      ]
    },
    {
      "cell_type": "code",
      "source": [
        "# words with max cosine > 0.25\n",
        "# wordidx = np.where(np.max(posData_posProjSpace[0], axis = 1) > 0.25)\n",
        "# now with negative projection space\n",
        "sentence = 0\n",
        "negs_tokens20 = dict()\n",
        "while sentence < 32:\n",
        "  wordidx = np.where(np.max(posData_negProjSpace[sentence], axis = 1) > 0.20)\n",
        "  tokens1 = list()\n",
        "  for index in wordidx[0]:\n",
        "\n",
        "    tokens1.append(tokenizer.batch_decode(t_pos[0][\"input_ids\"][sentence])[index])\n",
        "    # print(tokenizer.batch_decode(t_pos[0][\"input_ids\"][0])[index])\n",
        "  negs_tokens20[sentence] = tokens1\n",
        "  print(sentence)\n",
        "  sentence +=1"
      ],
      "metadata": {
        "colab": {
          "base_uri": "https://localhost:8080/"
        },
        "id": "Rf3eyIDbnpgl",
        "outputId": "65933c13-00c6-4e3e-f4e9-cb02cfd523ae"
      },
      "execution_count": null,
      "outputs": [
        {
          "output_type": "stream",
          "name": "stdout",
          "text": [
            "0\n",
            "1\n",
            "2\n",
            "3\n",
            "4\n",
            "5\n",
            "6\n",
            "7\n",
            "8\n",
            "9\n",
            "10\n",
            "11\n",
            "12\n",
            "13\n",
            "14\n",
            "15\n",
            "16\n",
            "17\n",
            "18\n",
            "19\n",
            "20\n",
            "21\n",
            "22\n",
            "23\n",
            "24\n",
            "25\n",
            "26\n",
            "27\n",
            "28\n",
            "29\n",
            "30\n",
            "31\n"
          ]
        }
      ]
    },
    {
      "cell_type": "code",
      "source": [
        "# s_tokens has tokens with offset of 0.05\n",
        "# s_tokens10, negs_tokens10 - Done\n",
        "# s_tokens15, negs_tokens15 - Done\n",
        "# s_tokens20, negs_tokens20\n",
        "# s_tokens35"
      ],
      "metadata": {
        "id": "VZuWEivUpjkA"
      },
      "execution_count": null,
      "outputs": []
    },
    {
      "cell_type": "code",
      "source": [
        "# negs_tokens10"
      ],
      "metadata": {
        "id": "cnMHMaddtfa8"
      },
      "execution_count": null,
      "outputs": []
    },
    {
      "cell_type": "code",
      "source": [
        "# s_tokens10, polarity10 - Done\n",
        "# s_tokens15, polarity15 - Done\n",
        "# s_tokens20, polarity20 - Done\n",
        "\n",
        "# negs_tokens10, neg_polarity10 - Done\n",
        "# negs_tokens15, neg_polarity15 -> error :(\n"
      ],
      "metadata": {
        "id": "mL2AJSXSr_lr"
      },
      "execution_count": null,
      "outputs": []
    },
    {
      "cell_type": "code",
      "source": [
        "polarity20 = dict()\n",
        "for sentence in s_tokens20:\n",
        "  p005 = 0.0\n",
        "  for token in s_tokens20[sentence]:\n",
        "    p005 += sent_dict.get(token,0)\n",
        "  polarity20[sentence] = p005"
      ],
      "metadata": {
        "id": "CGRL9rNuqi_T"
      },
      "execution_count": null,
      "outputs": []
    },
    {
      "cell_type": "code",
      "source": [
        "# negsentence polarity\n",
        "neg_polarity20 = dict()\n",
        "for sentence in negs_tokens20:\n",
        "  p005 = 0.0\n",
        "  for token in negs_tokens20[sentence]:\n",
        "    p005 += sent_dict.get(token,0)\n",
        "  neg_polarity20[sentence] = p005"
      ],
      "metadata": {
        "id": "hbCUzIbE1lCv"
      },
      "execution_count": null,
      "outputs": []
    },
    {
      "cell_type": "code",
      "source": [
        "polarity010"
      ],
      "metadata": {
        "id": "5ypHdkDzrViS"
      },
      "execution_count": null,
      "outputs": []
    },
    {
      "cell_type": "code",
      "source": [
        "polarity015"
      ],
      "metadata": {
        "id": "wsJc7YpUrkFR"
      },
      "execution_count": null,
      "outputs": []
    },
    {
      "cell_type": "code",
      "source": [
        "polarity20"
      ],
      "metadata": {
        "id": "qiEv86w0u3zn"
      },
      "execution_count": null,
      "outputs": []
    },
    {
      "cell_type": "code",
      "source": [
        "neg_polarity10"
      ],
      "metadata": {
        "id": "Nx9k-Qly2Yw8"
      },
      "execution_count": null,
      "outputs": []
    },
    {
      "cell_type": "code",
      "source": [
        "neg_polarity15"
      ],
      "metadata": {
        "id": "xs-c29KZ3mUV"
      },
      "execution_count": null,
      "outputs": []
    },
    {
      "cell_type": "code",
      "source": [
        "neg_polarity20"
      ],
      "metadata": {
        "id": "JhI9n0ii3sgs"
      },
      "execution_count": null,
      "outputs": []
    },
    {
      "cell_type": "code",
      "source": [
        "for polarity in polarity010:\n",
        "  plt.scatter(0.10,polarity010[polarity], color = \"red\")\n",
        "\n",
        "for polarity in polarity015:\n",
        "  plt.scatter(0.15,polarity015[polarity], color = \"blue\")\n",
        "\n",
        "for polarity in polarity20:\n",
        "  plt.scatter(0.20,polarity20[polarity], color = \"green\")\n",
        "plt.show()"
      ],
      "metadata": {
        "colab": {
          "base_uri": "https://localhost:8080/",
          "height": 265
        },
        "id": "FoiXC72uu6im",
        "outputId": "9cc6d8ca-c760-427a-ab38-9ea17588b473"
      },
      "execution_count": null,
      "outputs": [
        {
          "output_type": "display_data",
          "data": {
            "text/plain": [
              "<Figure size 432x288 with 1 Axes>"
            ],
            "image/png": "[encoded data removed]"
          },
          "metadata": {
            "needs_background": "light"
          }
        }
      ]
    },
    {
      "cell_type": "code",
      "source": [],
      "metadata": {
        "id": "h9GzNTOoyVSy"
      },
      "execution_count": null,
      "outputs": []
    },
    {
      "cell_type": "code",
      "source": [
        "\n",
        "for s_index in range(32):\n",
        "  x = [0.10,0.15,0.20]\n",
        "  y = [polarity010[s_index],polarity015[s_index],polarity20[s_index]]\n",
        "  plt.plot(x,y)\n",
        "plt.show()"
      ],
      "metadata": {
        "colab": {
          "base_uri": "https://localhost:8080/",
          "height": 265
        },
        "id": "xw5Eom0lxxOZ",
        "outputId": "3ed24c69-3a1e-47fd-f806-b877d2a74f4c"
      },
      "execution_count": null,
      "outputs": [
        {
          "output_type": "display_data",
          "data": {
            "text/plain": [
              "<Figure size 432x288 with 1 Axes>"
            ],
            "image/png": "[encoded data removed]"
          },
          "metadata": {
            "needs_background": "light"
          }
        }
      ]
    },
    {
      "cell_type": "code",
      "source": [],
      "metadata": {
        "id": "9vGSOYtW6eWY"
      },
      "execution_count": null,
      "outputs": []
    },
    {
      "cell_type": "code",
      "source": [
        "for s_index in range(32):\n",
        "  x = [0.10,0.15,0.20]\n",
        "  y = [neg_polarity10[s_index],neg_polarity15[s_index],neg_polarity20[s_index]]\n",
        "  plt.plot(x,y)\n",
        "plt.show()"
      ],
      "metadata": {
        "colab": {
          "base_uri": "https://localhost:8080/",
          "height": 265
        },
        "id": "2zxGQrTU4_CF",
        "outputId": "6f72e5a4-2819-43e5-da4e-ab4403937c3c"
      },
      "execution_count": null,
      "outputs": [
        {
          "output_type": "display_data",
          "data": {
            "text/plain": [
              "<Figure size 432x288 with 1 Axes>"
            ],
            "image/png": "[encoded data removed]"
          },
          "metadata": {
            "needs_background": "light"
          }
        }
      ]
    },
    {
      "cell_type": "code",
      "source": [
        "s_tokens20"
      ],
      "metadata": {
        "colab": {
          "base_uri": "https://localhost:8080/"
        },
        "id": "EADgeVVS6ICo",
        "outputId": "35b6873a-438d-4a4b-e32f-55992109e766"
      },
      "execution_count": null,
      "outputs": [
        {
          "output_type": "execute_result",
          "data": {
            "text/plain": [
              "{0: ['to',\n",
              "  'comment',\n",
              "  'to',\n",
              "  'the',\n",
              "  'in',\n",
              "  'in',\n",
              "  'the',\n",
              "  'beginning',\n",
              "  'show',\n",
              "  'thank',\n",
              "  'you',\n",
              "  'i',\n",
              "  'the',\n",
              "  'mood',\n",
              "  'the',\n",
              "  'and'],\n",
              " 1: ['##s',\n",
              "  'it',\n",
              "  'i',\n",
              "  'have',\n",
              "  'on',\n",
              "  'this',\n",
              "  'under',\n",
              "  'emmy',\n",
              "  'her',\n",
              "  'portrayal',\n",
              "  'here',\n",
              "  'is',\n",
              "  '##des',\n",
              "  'is',\n",
              "  'masterpiece',\n",
              "  'of',\n",
              "  '##sta',\n",
              "  '##tem',\n",
              "  'shine',\n",
              "  '##s',\n",
              "  'this',\n",
              "  'was',\n",
              "  '##ignant',\n",
              "  'for',\n",
              "  'for',\n",
              "  'grew',\n",
              "  'up',\n",
              "  'detail',\n",
              "  'phenomena',\n",
              "  '##l',\n",
              "  'and',\n",
              "  'ev',\n",
              "  'woo',\n",
              "  '##oo',\n",
              "  '##oo',\n",
              "  '##ond',\n",
              "  '##ful',\n",
              "  'life',\n",
              "  'times'],\n",
              " 2: ['im',\n",
              "  '##t',\n",
              "  'any',\n",
              "  'im',\n",
              "  '##db',\n",
              "  'yet',\n",
              "  'from',\n",
              "  'a',\n",
              "  'us',\n",
              "  'viewer',\n",
              "  'secondly',\n",
              "  'in',\n",
              "  'so',\n",
              "  'in',\n",
              "  'of',\n",
              "  'comes',\n",
              "  'american',\n",
              "  'programming',\n",
              "  'one',\n",
              "  'is',\n",
              "  'example',\n",
              "  'of',\n",
              "  'television',\n",
              "  'to',\n",
              "  'would',\n",
              "  'script',\n",
              "  '##ing',\n",
              "  'feature',\n",
              "  'namely',\n",
              "  'those',\n",
              "  'made',\n",
              "  'by',\n",
              "  '##eurs',\n",
              "  'who',\n",
              "  'had',\n",
              "  'to',\n",
              "  'make',\n",
              "  'dramas',\n",
              "  'more',\n",
              "  'and',\n",
              "  'allow',\n",
              "  'organic',\n",
              "  'character',\n",
              "  'development',\n",
              "  'tack',\n",
              "  'british',\n",
              "  '##er',\n",
              "  'prime',\n",
              "  '##s',\n",
              "  '##y'],\n",
              " 3: ['town',\n",
              "  'francis',\n",
              "  'at',\n",
              "  '##stand',\n",
              "  'leading',\n",
              "  'lady',\n",
              "  'her',\n",
              "  'local',\n",
              "  'but',\n",
              "  'dreams',\n",
              "  'star',\n",
              "  'broadway',\n",
              "  'a',\n",
              "  'famous',\n",
              "  'actor',\n",
              "  'who',\n",
              "  'ham',\n",
              "  'a',\n",
              "  'in',\n",
              "  'town',\n",
              "  'him',\n",
              "  'tips',\n",
              "  'star',\n",
              "  'is',\n",
              "  'a',\n",
              "  'resulting',\n",
              "  'the',\n",
              "  'which',\n",
              "  'to',\n",
              "  'a',\n",
              "  'and',\n",
              "  'a'],\n",
              " 4: ['##e',\n",
              "  'a',\n",
              "  'lot',\n",
              "  'different',\n",
              "  'about',\n",
              "  'then',\n",
              "  'that',\n",
              "  'best',\n",
              "  'cinema',\n",
              "  'by',\n",
              "  'of',\n",
              "  'sit',\n",
              "  'expecting',\n",
              "  'shocked',\n",
              "  'to',\n",
              "  'was',\n",
              "  'stiff',\n",
              "  'all',\n",
              "  'through',\n",
              "  'it',\n",
              "  'but',\n",
              "  'build',\n",
              "  'of',\n",
              "  'and',\n",
              "  'of',\n",
              "  'the',\n",
              "  'film',\n",
              "  'made',\n",
              "  'scary',\n",
              "  'fingers',\n",
              "  'the',\n",
              "  'whole',\n",
              "  'so',\n",
              "  'i',\n",
              "  'go',\n",
              "  'it',\n",
              "  'decide',\n",
              "  'for',\n",
              "  'yourself',\n",
              "  'fact',\n",
              "  'that',\n",
              "  'its',\n",
              "  'a'],\n",
              " 5: ['going',\n",
              "  'keep',\n",
              "  'this',\n",
              "  'and',\n",
              "  'sweet',\n",
              "  'br',\n",
              "  'i',\n",
              "  'this',\n",
              "  'thought',\n",
              "  'id',\n",
              "  'a',\n",
              "  'and',\n",
              "  'my',\n",
              "  'thoughts',\n",
              "  'were',\n",
              "  'what',\n",
              "  'hell',\n",
              "  'is',\n",
              "  'minutes',\n",
              "  'was',\n",
              "  'hooked',\n",
              "  'after',\n",
              "  'jaw',\n",
              "  'up',\n",
              "  'the',\n",
              "  'is',\n",
              "  'great',\n",
              "  'how',\n",
              "  'french',\n",
              "  'art',\n",
              "  'eye',\n",
              "  'candy',\n",
              "  'wrapped',\n",
              "  'in',\n",
              "  'tidy',\n",
              "  'film',\n",
              "  'capture',\n",
              "  'clever',\n",
              "  'animation',\n",
              "  'style',\n",
              "  'grey',\n",
              "  'at',\n",
              "  'first',\n",
              "  'by',\n",
              "  'film'],\n",
              " 6: ['greatest',\n",
              "  'if',\n",
              "  'written',\n",
              "  'with',\n",
              "  'ever',\n",
              "  'you',\n",
              "  'must',\n",
              "  'try',\n",
              "  '[SEP]',\n",
              "  '[PAD]',\n",
              "  '[PAD]',\n",
              "  '[PAD]',\n",
              "  '[PAD]',\n",
              "  '[PAD]',\n",
              "  '[PAD]',\n",
              "  '[PAD]',\n",
              "  '[PAD]',\n",
              "  '[PAD]',\n",
              "  '[PAD]',\n",
              "  '[PAD]',\n",
              "  '[PAD]',\n",
              "  '[PAD]',\n",
              "  '[PAD]',\n",
              "  '[PAD]',\n",
              "  '[PAD]',\n",
              "  '[PAD]',\n",
              "  '[PAD]',\n",
              "  '[PAD]',\n",
              "  '[PAD]',\n",
              "  '[PAD]',\n",
              "  '[PAD]',\n",
              "  '[PAD]',\n",
              "  '[PAD]',\n",
              "  '[PAD]',\n",
              "  '[PAD]',\n",
              "  '[PAD]',\n",
              "  '[PAD]',\n",
              "  '[PAD]',\n",
              "  '[PAD]',\n",
              "  '[PAD]',\n",
              "  '[PAD]',\n",
              "  '[PAD]',\n",
              "  '[PAD]',\n",
              "  '[PAD]',\n",
              "  '[PAD]',\n",
              "  '[PAD]',\n",
              "  '[PAD]'],\n",
              " 7: ['this',\n",
              "  'the',\n",
              "  'movie',\n",
              "  'in',\n",
              "  'very',\n",
              "  'home',\n",
              "  '##maker',\n",
              "  'rupert',\n",
              "  '##int',\n",
              "  'angry',\n",
              "  'outburst',\n",
              "  'has',\n",
              "  'it',\n",
              "  'is',\n",
              "  'really',\n",
              "  'an',\n",
              "  'actress',\n",
              "  'know',\n",
              "  'but',\n",
              "  'she',\n",
              "  'the',\n",
              "  'whole',\n",
              "  'had',\n",
              "  'me',\n",
              "  'in',\n",
              "  '##s',\n",
              "  'so',\n",
              "  'the',\n",
              "  'inclusion',\n",
              "  'of',\n",
              "  'terribly',\n",
              "  'moving',\n",
              "  'i',\n",
              "  'fan',\n",
              "  'of',\n",
              "  'the',\n",
              "  'in',\n",
              "  'but',\n",
              "  'you',\n",
              "  'drawn',\n",
              "  'romance',\n",
              "  'you',\n",
              "  'are',\n",
              "  'singing',\n",
              "  'the'],\n",
              " 8: ['can',\n",
              "  'remember',\n",
              "  'watching',\n",
              "  'i',\n",
              "  'was',\n",
              "  'years',\n",
              "  'i',\n",
              "  'one',\n",
              "  'of',\n",
              "  'barbarian',\n",
              "  'this',\n",
              "  'movie',\n",
              "  'one',\n",
              "  'the',\n",
              "  'fight',\n",
              "  'very',\n",
              "  'implying',\n",
              "  'that',\n",
              "  'the',\n",
              "  'brothers',\n",
              "  'where',\n",
              "  'there',\n",
              "  'quickly',\n",
              "  'you',\n",
              "  'have',\n",
              "  'chases',\n",
              "  'cage',\n",
              "  'yes',\n",
              "  'even',\n",
              "  'bar'],\n",
              " 9: ['another',\n",
              "  'in',\n",
              "  'the',\n",
              "  'category',\n",
              "  'family',\n",
              "  'qu',\n",
              "  'stack',\n",
              "  'hadley',\n",
              "  'they',\n",
              "  'malone',\n",
              "  'an',\n",
              "  'oscar',\n",
              "  'the',\n",
              "  'categories',\n",
              "  'honors',\n",
              "  'nor',\n",
              "  'called',\n",
              "  'bad',\n",
              "  'actors',\n",
              "  'played',\n",
              "  'far',\n",
              "  'more',\n",
              "  'convincing',\n",
              "  '##ly',\n",
              "  'they',\n",
              "  'do',\n",
              "  'its',\n",
              "  'of',\n",
              "  'hard',\n",
              "  'for',\n",
              "  'accept',\n",
              "  'rock'],\n",
              " 10: ['alternative',\n",
              "  'alternative',\n",
              "  'a',\n",
              "  'like',\n",
              "  'love',\n",
              "  'this',\n",
              "  'their',\n",
              "  'skinny',\n",
              "  'third',\n",
              "  'reich',\n",
              "  'and',\n",
              "  'to',\n",
              "  'homage',\n",
              "  'to',\n",
              "  'the',\n",
              "  'james',\n",
              "  'brown',\n",
              "  'mans',\n",
              "  'mans',\n",
              "  'mans',\n",
              "  'world',\n",
              "  'that',\n",
              "  'the',\n",
              "  'a',\n",
              "  'bonus',\n",
              "  'even',\n",
              "  'loaf',\n",
              "  'haunting',\n",
              "  '##ly',\n",
              "  'songs',\n",
              "  'swinging',\n",
              "  'features',\n",
              "  'cover',\n",
              "  'of',\n",
              "  'needles',\n",
              "  'i',\n",
              "  'the',\n",
              "  'of',\n",
              "  'i',\n",
              "  'also',\n",
              "  'album',\n",
              "  'alone',\n",
              "  'willie'],\n",
              " 11: ['topic',\n",
              "  '##uel',\n",
              "  'a',\n",
              "  'point',\n",
              "  'that',\n",
              "  'one',\n",
              "  'eater',\n",
              "  'films',\n",
              "  'as',\n",
              "  'an',\n",
              "  'art',\n",
              "  'or',\n",
              "  'person',\n",
              "  'need',\n",
              "  'one',\n",
              "  'satirical',\n",
              "  'bun',\n",
              "  'in',\n",
              "  'vo',\n",
              "  '##ie',\n",
              "  'lac',\n",
              "  '##tee',\n",
              "  'chi',\n",
              "  '##u',\n",
              "  'or',\n",
              "  'see',\n",
              "  'a',\n",
              "  'like',\n",
              "  'na',\n",
              "  'be',\n",
              "  'and',\n",
              "  'about',\n",
              "  'seems',\n",
              "  'to',\n",
              "  'a',\n",
              "  'thinks',\n",
              "  'but',\n",
              "  'called',\n",
              "  'in',\n",
              "  'think',\n",
              "  'there',\n",
              "  'any'],\n",
              " 12: ['again',\n",
              "  'of',\n",
              "  'who',\n",
              "  'bugs',\n",
              "  'da',\n",
              "  'help',\n",
              "  'matters',\n",
              "  'though',\n",
              "  'bugs',\n",
              "  'he',\n",
              "  'once',\n",
              "  'more',\n",
              "  'by',\n",
              "  'psychology',\n",
              "  'on',\n",
              "  '##ffy',\n",
              "  'increasingly',\n",
              "  'runs',\n",
              "  'out',\n",
              "  'does',\n",
              "  '##dre',\n",
              "  'freaks',\n",
              "  'out',\n",
              "  'demands',\n",
              "  'bunny',\n",
              "  'shot',\n",
              "  'though',\n",
              "  'elmer',\n",
              "  'stupid',\n",
              "  'is',\n",
              "  'in',\n",
              "  'love',\n",
              "  'bunny',\n",
              "  'thing',\n",
              "  'is',\n",
              "  'blame',\n",
              "  'all',\n",
              "  'he',\n",
              "  'it',\n",
              "  'and',\n",
              "  'old'],\n",
              " 13: ['when',\n",
              "  'years',\n",
              "  'old',\n",
              "  'and',\n",
              "  'up',\n",
              "  'so',\n",
              "  'cool',\n",
              "  'approach',\n",
              "  'show',\n",
              "  'refreshing',\n",
              "  '##ly',\n",
              "  'way',\n",
              "  'scene',\n",
              "  'when',\n",
              "  'campaign',\n",
              "  'at',\n",
              "  'a',\n",
              "  'this',\n",
              "  'one',\n",
              "  '##t',\n",
              "  'pig',\n",
              "  '##gy',\n",
              "  '[PAD]'],\n",
              " 14: ['reviewing',\n",
              "  'background',\n",
              "  'behind',\n",
              "  'concerning',\n",
              "  'our',\n",
              "  'finally',\n",
              "  'discusses',\n",
              "  'the',\n",
              "  'originating',\n",
              "  'the',\n",
              "  'oil',\n",
              "  'this',\n",
              "  'should',\n",
              "  'to',\n",
              "  'of',\n",
              "  'your',\n",
              "  'children',\n",
              "  'thank',\n",
              "  'the',\n",
              "  'of',\n",
              "  'this',\n",
              "  'and',\n",
              "  'comparing',\n",
              "  'its',\n",
              "  'mentioned',\n",
              "  'sources',\n",
              "  'say',\n",
              "  'facts',\n",
              "  'in',\n",
              "  'are',\n",
              "  'scientific',\n",
              "  '##ally',\n",
              "  '[PAD]',\n",
              "  '[PAD]',\n",
              "  '[PAD]',\n",
              "  '[PAD]',\n",
              "  '[PAD]',\n",
              "  '[PAD]',\n",
              "  '[PAD]',\n",
              "  '[PAD]',\n",
              "  '[PAD]',\n",
              "  '[PAD]',\n",
              "  '[PAD]',\n",
              "  '[PAD]',\n",
              "  '[PAD]',\n",
              "  '[PAD]',\n",
              "  '[PAD]',\n",
              "  '[PAD]',\n",
              "  '[PAD]',\n",
              "  '[PAD]'],\n",
              " 15: ['little',\n",
              "  'money',\n",
              "  'i',\n",
              "  'rented',\n",
              "  'it',\n",
              "  'for',\n",
              "  'i',\n",
              "  'on',\n",
              "  'bone',\n",
              "  'chilling',\n",
              "  'winters',\n",
              "  'night',\n",
              "  'the',\n",
              "  'i',\n",
              "  'was',\n",
              "  'gone',\n",
              "  'so',\n",
              "  'rented',\n",
              "  'this',\n",
              "  'instead',\n",
              "  'not',\n",
              "  'expecting',\n",
              "  'much',\n",
              "  'very',\n",
              "  'much',\n",
              "  'with',\n",
              "  'how',\n",
              "  'just',\n",
              "  'recently',\n",
              "  'watched',\n",
              "  'and',\n",
              "  'much',\n",
              "  'as',\n",
              "  'br',\n",
              "  'br',\n",
              "  'those',\n",
              "  'story',\n",
              "  'its',\n",
              "  'outlaw',\n",
              "  'robert',\n",
              "  '##gre',\n",
              "  'cattle',\n",
              "  '##man',\n",
              "  'folk',\n",
              "  'little',\n",
              "  'about',\n",
              "  'the',\n",
              "  'man',\n",
              "  'his',\n",
              "  'liberties',\n",
              "  'but',\n",
              "  'its',\n",
              "  'not',\n",
              "  'a',\n",
              "  'and',\n",
              "  'so',\n",
              "  'the',\n",
              "  'can',\n",
              "  'excused'],\n",
              " 16: ['top',\n",
              "  'cinderella',\n",
              "  'return',\n",
              "  'to',\n",
              "  'the',\n",
              "  '##gt',\n",
              "  '##h',\n",
              "  'feature',\n",
              "  'film',\n",
              "  'to',\n",
              "  'the',\n",
              "  'and',\n",
              "  'depth',\n",
              "  'film',\n",
              "  'although',\n",
              "  'disney',\n",
              "  'of',\n",
              "  'the',\n",
              "  '##yl',\n",
              "  'the',\n",
              "  'story',\n",
              "  'place',\n",
              "  'more',\n",
              "  'than',\n",
              "  '##dim',\n",
              "  '##ens',\n",
              "  'the',\n",
              "  'characters',\n",
              "  'are',\n",
              "  '##ft',\n",
              "  'flat',\n",
              "  'he'],\n",
              " 17: ['this',\n",
              "  'year',\n",
              "  'in',\n",
              "  'my',\n",
              "  'review',\n",
              "  '##fish',\n",
              "  'scripted',\n",
              "  'by',\n",
              "  'films',\n",
              "  'writer',\n",
              "  '##re',\n",
              "  '##pro',\n",
              "  '##cer',\n",
              "  'a',\n",
              "  'it',\n",
              "  'very',\n",
              "  'high',\n",
              "  'there',\n",
              "  'flick',\n",
              "  'list',\n",
              "  'among',\n",
              "  'stock',\n",
              "  'fiction',\n",
              "  'snatch',\n",
              "  'think',\n",
              "  'is',\n",
              "  'me',\n",
              "  'reservoir',\n",
              "  'was',\n",
              "  'many',\n",
              "  'people',\n",
              "  'cult',\n",
              "  'compare',\n",
              "  'fiction',\n",
              "  'i',\n",
              "  'liked',\n",
              "  '##ntino',\n",
              "  '##s',\n",
              "  'first',\n",
              "  'lot',\n",
              "  'sure',\n",
              "  'one',\n",
              "  'as',\n",
              "  'much',\n",
              "  'as',\n",
              "  'i',\n",
              "  'like',\n",
              "  'pulp',\n",
              "  'great',\n",
              "  'and',\n",
              "  'ok',\n",
              "  'the',\n",
              "  'might'],\n",
              " 18: ['finally',\n",
              "  'hit',\n",
              "  'me',\n",
              "  'watching',\n",
              "  'of',\n",
              "  'connecticut',\n",
              "  'this',\n",
              "  'one',\n",
              "  'for',\n",
              "  'the',\n",
              "  'done',\n",
              "  'years',\n",
              "  'later',\n",
              "  'say',\n",
              "  'was',\n",
              "  'a',\n",
              "  'remake',\n",
              "  'just',\n",
              "  'rock',\n",
              "  'fishing',\n",
              "  'expert',\n",
              "  '##rom',\n",
              "  '##fi',\n",
              "  '##tch',\n",
              "  'to',\n",
              "  'some',\n",
              "  'job',\n",
              "  'training',\n",
              "  'at',\n",
              "  'a',\n",
              "  'tournament',\n",
              "  'stan',\n",
              "  '##wy',\n",
              "  'plays',\n",
              "  'version',\n",
              "  'of',\n",
              "  'stewart',\n",
              "  '##br',\n",
              "  'a',\n",
              "  'columnist',\n",
              "  'built',\n",
              "  'up',\n",
              "  'whole',\n",
              "  'living',\n",
              "  'small',\n",
              "  'with',\n",
              "  'husband',\n",
              "  'cooking',\n",
              "  'trouble',\n",
              "  'is',\n",
              "  'she',\n",
              "  'childless',\n",
              "  'her'],\n",
              " 19: ['off',\n",
              "  'i',\n",
              "  'got',\n",
              "  'dr',\n",
              "  'who',\n",
              "  'recently',\n",
              "  'i',\n",
              "  'the',\n",
              "  'opportunity',\n",
              "  'to',\n",
              "  'watch',\n",
              "  'any',\n",
              "  'previous',\n",
              "  'incarnation',\n",
              "  'intended',\n",
              "  'was',\n",
              "  'never',\n",
              "  'in',\n",
              "  'the',\n",
              "  'us',\n",
              "  'as',\n",
              "  'that',\n",
              "  'shows',\n",
              "  '##e',\n",
              "  '##br',\n",
              "  'br',\n",
              "  'stands',\n",
              "  '##br',\n",
              "  'br',\n",
              "  'the',\n",
              "  'tops',\n",
              "  'with',\n",
              "  'with',\n",
              "  'christopher',\n",
              "  'ec',\n",
              "  '##ton',\n",
              "  'terrific',\n",
              "  'of',\n",
              "  'course',\n",
              "  'so',\n",
              "  'billie',\n",
              "  'piper',\n",
              "  'just',\n",
              "  'adds',\n",
              "  'warmth'],\n",
              " 20: ['so',\n",
              "  'soldier',\n",
              "  'isn',\n",
              "  'blade',\n",
              "  'or',\n",
              "  'big',\n",
              "  'budget',\n",
              "  '##inator',\n",
              "  'the',\n",
              "  'i',\n",
              "  'found',\n",
              "  'it',\n",
              "  'the',\n",
              "  'in',\n",
              "  '##less',\n",
              "  'broke',\n",
              "  'all',\n",
              "  'po',\n",
              "  'i',\n",
              "  'portrayal',\n",
              "  'restricted',\n",
              "  'emotional',\n",
              "  'touching',\n",
              "  'than',\n",
              "  'in',\n",
              "  'get',\n",
              "  'that',\n",
              "  'the',\n",
              "  'premise',\n",
              "  'by',\n",
              "  'both'],\n",
              " 21: ['lover',\n",
              "  '##s',\n",
              "  '##ting',\n",
              "  'wonderful',\n",
              "  '[PAD]',\n",
              "  '[PAD]',\n",
              "  '[PAD]',\n",
              "  '[PAD]',\n",
              "  '[PAD]',\n",
              "  '[PAD]',\n",
              "  '[PAD]'],\n",
              " 22: ['always',\n",
              "  'doubtful',\n",
              "  'cinema',\n",
              "  'of',\n",
              "  'well',\n",
              "  '##position',\n",
              "  'intelligent',\n",
              "  '##ful',\n",
              "  'intense',\n",
              "  '##br',\n",
              "  'emma',\n",
              "  'most'],\n",
              " 23: ['my',\n",
              "  'favorite',\n",
              "  '##s',\n",
              "  'and',\n",
              "  'john',\n",
              "  '##s',\n",
              "  'in',\n",
              "  'opinion',\n",
              "  'no',\n",
              "  'major',\n",
              "  'but',\n",
              "  'ben',\n",
              "  '##s',\n",
              "  'everything',\n",
              "  'and',\n",
              "  'he',\n",
              "  'a',\n",
              "  'rare',\n",
              "  'lead',\n",
              "  'as',\n",
              "  'matching',\n",
              "  'is',\n",
              "  'ward',\n",
              "  'as',\n",
              "  '##y',\n",
              "  'mormon',\n",
              "  'elder',\n",
              "  'his',\n",
              "  'stock',\n",
              "  'harry',\n",
              "  'simpson',\n",
              "  'word',\n",
              "  '##en',\n",
              "  'provide',\n",
              "  'ample',\n",
              "  'as',\n",
              "  'ee',\n",
              "  'silent',\n",
              "  '##ness',\n",
              "  'the',\n",
              "  '##g',\n",
              "  'clan',\n",
              "  'up',\n",
              "  'the',\n",
              "  'wagon',\n",
              "  'train',\n",
              "  'mormon',\n",
              "  'was',\n",
              "  'of',\n",
              "  'most',\n",
              "  'ar',\n",
              "  '##du',\n",
              "  '##ous',\n",
              "  'enterprises',\n",
              "  'undertaken',\n",
              "  'get'],\n",
              " 24: ['all',\n",
              "  'i',\n",
              "  'much',\n",
              "  'the',\n",
              "  'central',\n",
              "  'of',\n",
              "  'the',\n",
              "  'self',\n",
              "  'various',\n",
              "  'subconscious',\n",
              "  'but',\n",
              "  'sometimes',\n",
              "  'more',\n",
              "  'the',\n",
              "  'intruder',\n",
              "  'om',\n",
              "  'in',\n",
              "  '##fr',\n",
              "  '##en',\n",
              "  '##ch',\n",
              "  'border',\n",
              "  'where',\n",
              "  'the',\n",
              "  '##tag',\n",
              "  '##t',\n",
              "  'secluded',\n",
              "  'life',\n",
              "  'the',\n",
              "  'his',\n",
              "  '##am',\n",
              "  'and',\n",
              "  'nightmare',\n",
              "  'his'],\n",
              " 25: ['lavish',\n",
              "  'there',\n",
              "  'an',\n",
              "  'everybody',\n",
              "  'ever',\n",
              "  '##ond',\n",
              "  'does',\n",
              "  'classic',\n",
              "  'effects',\n",
              "  'are',\n",
              "  'dated',\n",
              "  'loved',\n",
              "  'with',\n",
              "  'dj',\n",
              "  '##inn',\n",
              "  '[PAD]',\n",
              "  '[PAD]',\n",
              "  '[PAD]',\n",
              "  '[PAD]',\n",
              "  '[PAD]',\n",
              "  '[PAD]',\n",
              "  '[PAD]',\n",
              "  '[PAD]',\n",
              "  '[PAD]',\n",
              "  '[PAD]',\n",
              "  '[PAD]',\n",
              "  '[PAD]',\n",
              "  '[PAD]',\n",
              "  '[PAD]',\n",
              "  '[PAD]',\n",
              "  '[PAD]',\n",
              "  '[PAD]',\n",
              "  '[PAD]',\n",
              "  '[PAD]',\n",
              "  '[PAD]',\n",
              "  '[PAD]',\n",
              "  '[PAD]',\n",
              "  '[PAD]',\n",
              "  '[PAD]',\n",
              "  '[PAD]',\n",
              "  '[PAD]',\n",
              "  '[PAD]'],\n",
              " 26: ['that',\n",
              "  'someone',\n",
              "  'made',\n",
              "  'a',\n",
              "  'the',\n",
              "  'fifth',\n",
              "  'missile',\n",
              "  'to',\n",
              "  'it',\n",
              "  'pointed',\n",
              "  'the',\n",
              "  'original',\n",
              "  'trek',\n",
              "  'in',\n",
              "  'which',\n",
              "  'crew',\n",
              "  'of',\n",
              "  'enterprise',\n",
              "  'undergoes',\n",
              "  'space',\n",
              "  'while',\n",
              "  'planet',\n",
              "  'naked',\n",
              "  'the',\n",
              "  'star',\n",
              "  'the',\n",
              "  'in',\n",
              "  'a',\n",
              "  'though',\n",
              "  'on',\n",
              "  'time',\n",
              "  'original',\n",
              "  'one',\n",
              "  '##br',\n",
              "  'br',\n",
              "  'now',\n",
              "  'missile',\n",
              "  'the',\n",
              "  'in',\n",
              "  'trek',\n",
              "  'those',\n",
              "  'similar',\n",
              "  'to',\n",
              "  'alcohol'],\n",
              " 27: ['movie',\n",
              "  'have',\n",
              "  'liked',\n",
              "  'cost',\n",
              "  'i',\n",
              "  'felt',\n",
              "  'that',\n",
              "  'ashton',\n",
              "  'a',\n",
              "  'in',\n",
              "  'the',\n",
              "  'butterfly',\n",
              "  'though',\n",
              "  'were',\n",
              "  'capable',\n",
              "  'good',\n",
              "  'great',\n",
              "  'acting',\n",
              "  'moments',\n",
              "  'some',\n",
              "  'that',\n",
              "  'missing',\n",
              "  'here',\n",
              "  '##vable',\n",
              "  'didn',\n",
              "  '##t',\n",
              "  'enough',\n",
              "  'story',\n",
              "  'br',\n",
              "  'claims',\n",
              "  'hurricane',\n",
              "  'aftermath',\n",
              "  'there',\n",
              "  'that',\n",
              "  'effect',\n",
              "  'in',\n",
              "  'liked',\n",
              "  'the',\n",
              "  'movie',\n",
              "  'some',\n",
              "  'into',\n",
              "  'lives',\n",
              "  'water',\n",
              "  '##br',\n",
              "  'special',\n",
              "  'effects',\n",
              "  'were',\n",
              "  'pretty'],\n",
              " 28: ['invited',\n",
              "  'castle',\n",
              "  'mario',\n",
              "  'gets',\n",
              "  'there',\n",
              "  'he',\n",
              "  'out',\n",
              "  '##er',\n",
              "  'her',\n",
              "  'mario',\n",
              "  'must',\n",
              "  'save',\n",
              "  'again',\n",
              "  'explore',\n",
              "  'anything',\n",
              "  'can',\n",
              "  'trees',\n",
              "  'look',\n",
              "  'for',\n",
              "  'more',\n",
              "  'time',\n",
              "  'there',\n",
              "  'worlds',\n",
              "  'which'],\n",
              " 29: ['sidney',\n",
              "  'st',\n",
              "  '##ton',\n",
              "  'is',\n",
              "  'trouble',\n",
              "  'maintaining',\n",
              "  'jobs',\n",
              "  'at',\n",
              "  'various',\n",
              "  'mainly',\n",
              "  'of',\n",
              "  'textile',\n",
              "  '##ton',\n",
              "  'on',\n",
              "  'fabric',\n",
              "  'which',\n",
              "  'create',\n",
              "  'the',\n",
              "  'fabric',\n",
              "  'that',\n",
              "  'never',\n",
              "  'wears',\n",
              "  'out',\n",
              "  'st',\n",
              "  '##ton',\n",
              "  'eventually',\n",
              "  'creates',\n",
              "  'fabric',\n",
              "  'he',\n",
              "  'enemies',\n",
              "  'the',\n",
              "  'textile',\n",
              "  'workers',\n",
              "  'who',\n",
              "  'their',\n",
              "  'jobs',\n",
              "  'and',\n",
              "  'lose',\n",
              "  'money',\n",
              "  'since',\n",
              "  'one',\n",
              "  'the',\n",
              "  'exclusive',\n",
              "  'rights',\n",
              "  'st',\n",
              "  '##rat',\n",
              "  'white',\n",
              "  'the',\n",
              "  'most',\n",
              "  'in',\n",
              "  'the',\n",
              "  'film',\n",
              "  'could',\n",
              "  'such',\n",
              "  'greenwood',\n",
              "  'the'],\n",
              " 30: ['another',\n",
              "  'example',\n",
              "  'of',\n",
              "  'talents',\n",
              "  'of',\n",
              "  'cary',\n",
              "  'grant',\n",
              "  'worthy',\n",
              "  'of',\n",
              "  'oscar',\n",
              "  'consideration',\n",
              "  'once',\n",
              "  '##nne',\n",
              "  '##d',\n",
              "  'the',\n",
              "  'mr',\n",
              "  'grant',\n",
              "  '##mut',\n",
              "  'tender',\n",
              "  'marvelous',\n",
              "  'comedy',\n",
              "  'decides',\n",
              "  'to',\n",
              "  'out',\n",
              "  'the',\n",
              "  '##falls',\n",
              "  'building',\n",
              "  'well',\n",
              "  'chronicle',\n",
              "  'basis',\n",
              "  '##s',\n",
              "  'money',\n",
              "  'cursing',\n",
              "  '##at',\n",
              "  'sex',\n",
              "  'is',\n",
              "  'see',\n",
              "  '[PAD]',\n",
              "  '[PAD]',\n",
              "  '[PAD]',\n",
              "  '[PAD]'],\n",
              " 31: ['the',\n",
              "  'basement',\n",
              "  'this',\n",
              "  'little',\n",
              "  'gem',\n",
              "  'special',\n",
              "  'place',\n",
              "  'heart',\n",
              "  'the',\n",
              "  'video',\n",
              "  '##ita',\n",
              "  'low',\n",
              "  'the',\n",
              "  'stupid',\n",
              "  'but',\n",
              "  'its',\n",
              "  '##t',\n",
              "  'lie',\n",
              "  'character',\n",
              "  'this',\n",
              "  'great',\n",
              "  '##rium',\n",
              "  'standard']}"
            ]
          },
          "metadata": {},
          "execution_count": 222
        }
      ]
    },
    {
      "cell_type": "code",
      "source": [
        "negs_tokens20"
      ],
      "metadata": {
        "colab": {
          "base_uri": "https://localhost:8080/"
        },
        "id": "Gojp4_q-58Ih",
        "outputId": "7575757c-7192-4ee1-db27-240fc8137664"
      },
      "execution_count": null,
      "outputs": [
        {
          "output_type": "execute_result",
          "data": {
            "text/plain": [
              "{0: ['comment',\n",
              "  'to',\n",
              "  'in',\n",
              "  'the',\n",
              "  'beginning',\n",
              "  'they',\n",
              "  'this',\n",
              "  'mood',\n",
              "  'the',\n",
              "  'animation'],\n",
              " 1: ['this', 'under', 'her', 'this', 'up'],\n",
              " 2: ['##db',\n",
              "  'example',\n",
              "  'television',\n",
              "  '##eurs',\n",
              "  'had',\n",
              "  'dramas',\n",
              "  'realistic',\n",
              "  'and',\n",
              "  'character',\n",
              "  'development',\n",
              "  'tack',\n",
              "  'prime',\n",
              "  'under'],\n",
              " 3: ['takes', 'a', 'husband', 'life'],\n",
              " 4: ['##e',\n",
              "  'lot',\n",
              "  'film',\n",
              "  'then',\n",
              "  'that',\n",
              "  'give',\n",
              "  'film',\n",
              "  'my',\n",
              "  'shocked',\n",
              "  'through',\n",
              "  'it',\n",
              "  'but',\n",
              "  'of',\n",
              "  'and',\n",
              "  'film',\n",
              "  'made',\n",
              "  'watching',\n",
              "  'whole',\n",
              "  'fact',\n",
              "  'doesn'],\n",
              " 5: ['keep',\n",
              "  'this',\n",
              "  'thought',\n",
              "  'my',\n",
              "  'what',\n",
              "  'minutes',\n",
              "  'after',\n",
              "  'jaw',\n",
              "  'the',\n",
              "  'is',\n",
              "  'can',\n",
              "  'furthermore',\n",
              "  'this',\n",
              "  'candy',\n",
              "  'style',\n",
              "  'although',\n",
              "  'at',\n",
              "  '##t'],\n",
              " 6: ['[PAD]',\n",
              "  '[PAD]',\n",
              "  '[PAD]',\n",
              "  '[PAD]',\n",
              "  '[PAD]',\n",
              "  '[PAD]',\n",
              "  '[PAD]',\n",
              "  '[PAD]',\n",
              "  '[PAD]'],\n",
              " 7: ['movie',\n",
              "  'very',\n",
              "  'fan',\n",
              "  'an',\n",
              "  'had',\n",
              "  'it',\n",
              "  '##s',\n",
              "  'of',\n",
              "  'it',\n",
              "  'terribly',\n",
              "  'romance'],\n",
              " 8: ['original', 'bar'],\n",
              " 9: ['the', 'a', 'roles', 'oscar', 'categories', 'of'],\n",
              " 10: ['like',\n",
              "  'reich',\n",
              "  'and',\n",
              "  'to',\n",
              "  'to',\n",
              "  'james',\n",
              "  'world',\n",
              "  'a',\n",
              "  'haunting',\n",
              "  'swinging',\n",
              "  'features',\n",
              "  'i',\n",
              "  'i',\n",
              "  '[SEP]'],\n",
              " 11: ['a',\n",
              "  'point',\n",
              "  'one',\n",
              "  'eater',\n",
              "  'films',\n",
              "  'an',\n",
              "  'or',\n",
              "  'need',\n",
              "  'in',\n",
              "  'after',\n",
              "  'called',\n",
              "  'in'],\n",
              " 12: ['what', 'is', 'duck', 'on', 'freaks', 'out', 'elmer', 'duck', 'and'],\n",
              " 13: ['movie', 'alike', '[SEP]'],\n",
              " 14: ['behind',\n",
              "  'the',\n",
              "  'our',\n",
              "  'the',\n",
              "  'originating',\n",
              "  'the',\n",
              "  '##br',\n",
              "  'as',\n",
              "  'your',\n",
              "  'they',\n",
              "  'of',\n",
              "  'say',\n",
              "  'scientific',\n",
              "  '[PAD]',\n",
              "  '[PAD]',\n",
              "  '[PAD]',\n",
              "  '[PAD]'],\n",
              " 15: ['this', 'watched', 'and', 'it', 'its', 'folk', 'liberties', 'its'],\n",
              " 16: ['top',\n",
              "  '##h',\n",
              "  'the',\n",
              "  'depth',\n",
              "  'film',\n",
              "  'disney',\n",
              "  'the',\n",
              "  'the',\n",
              "  'place',\n",
              "  'than',\n",
              "  'snow',\n",
              "  '##ens',\n",
              "  'are',\n",
              "  'somewhat',\n",
              "  'well',\n",
              "  '##le',\n",
              "  '##ft',\n",
              "  'flat'],\n",
              " 17: ['this',\n",
              "  'year',\n",
              "  'review',\n",
              "  'is',\n",
              "  'reservoir',\n",
              "  'with',\n",
              "  'lot',\n",
              "  'pulp',\n",
              "  'ok'],\n",
              " 18: ['hit',\n",
              "  'connecticut',\n",
              "  'the',\n",
              "  'later',\n",
              "  '##rc',\n",
              "  '##rom',\n",
              "  'some',\n",
              "  'training',\n",
              "  'a',\n",
              "  'br',\n",
              "  'stan',\n",
              "  'up',\n",
              "  'whole',\n",
              "  'image',\n",
              "  'with',\n",
              "  'she',\n",
              "  'childless'],\n",
              " 19: ['off', 'one', '##fi', 'from', 'ec'],\n",
              " 20: ['russell',\n",
              "  'made',\n",
              "  'when',\n",
              "  'broke',\n",
              "  'all',\n",
              "  'emotional',\n",
              "  'than',\n",
              "  'comments',\n",
              "  '##nie',\n",
              "  'both'],\n",
              " 21: ['alone', '[PAD]'],\n",
              " 22: ['being',\n",
              "  'her',\n",
              "  '##position',\n",
              "  'accurate',\n",
              "  'ta',\n",
              "  '##ful',\n",
              "  'respectful',\n",
              "  '##br',\n",
              "  'emma'],\n",
              " 23: ['##s',\n",
              "  'john',\n",
              "  'he',\n",
              "  'as',\n",
              "  'ward',\n",
              "  'his',\n",
              "  '##well',\n",
              "  'ample',\n",
              "  'does',\n",
              "  'silent',\n",
              "  '##ness',\n",
              "  'the',\n",
              "  '##eg',\n",
              "  '##g',\n",
              "  'train',\n",
              "  'was',\n",
              "  'can'],\n",
              " 24: ['central', 'subconscious', 'the', 'life', 'his', '##am', 'nightmare'],\n",
              " 25: ['a',\n",
              "  'in',\n",
              "  '##night',\n",
              "  'a',\n",
              "  'are',\n",
              "  '[PAD]',\n",
              "  '[PAD]',\n",
              "  '[PAD]',\n",
              "  '[PAD]',\n",
              "  '[PAD]',\n",
              "  '[PAD]',\n",
              "  '[PAD]',\n",
              "  '[PAD]',\n",
              "  '[PAD]',\n",
              "  '[PAD]',\n",
              "  '[PAD]',\n",
              "  '[PAD]'],\n",
              " 26: ['a',\n",
              "  'to',\n",
              "  'on',\n",
              "  'original',\n",
              "  'series',\n",
              "  'one',\n",
              "  'br',\n",
              "  'the',\n",
              "  'reactions',\n",
              "  'of',\n",
              "  'trek',\n",
              "  'based',\n",
              "  'those'],\n",
              " 27: ['of', 'great', 'that', 'br', 'influence', 'from', 'there', 'br'],\n",
              " 28: ['for', '##er'],\n",
              " 29: ['st',\n",
              "  'trouble',\n",
              "  'of',\n",
              "  '##ton',\n",
              "  'on',\n",
              "  'fabric',\n",
              "  'st',\n",
              "  'eventually',\n",
              "  'creates',\n",
              "  'he',\n",
              "  'and',\n",
              "  'since',\n",
              "  'one',\n",
              "  'exclusive',\n",
              "  '##rat',\n",
              "  '##ton',\n",
              "  'hunted'],\n",
              " 30: ['worthy',\n",
              "  'mr',\n",
              "  'silly',\n",
              "  'tender',\n",
              "  'comedy',\n",
              "  'out',\n",
              "  '##s',\n",
              "  'if',\n",
              "  'cursing',\n",
              "  'the'],\n",
              " 31: ['##t',\n",
              "  'this',\n",
              "  'the',\n",
              "  '##ties',\n",
              "  'low',\n",
              "  'the',\n",
              "  'lie',\n",
              "  'this',\n",
              "  'great',\n",
              "  'fa',\n",
              "  'the',\n",
              "  'gore']}"
            ]
          },
          "metadata": {},
          "execution_count": 221
        }
      ]
    },
    {
      "cell_type": "code",
      "source": [
        "[(sent,pol) for sent,pol in polarity010.items() if pol < 0.0]"
      ],
      "metadata": {
        "colab": {
          "base_uri": "https://localhost:8080/"
        },
        "id": "TyXadR5Myp8m",
        "outputId": "14a0fed4-0c3a-4fef-c66b-e5b7798da988"
      },
      "execution_count": null,
      "outputs": [
        {
          "output_type": "execute_result",
          "data": {
            "text/plain": [
              "[(3, -4.400000000000001), (12, -9.0)]"
            ]
          },
          "metadata": {},
          "execution_count": 197
        }
      ]
    },
    {
      "cell_type": "code",
      "source": [
        "[(sent,pol) for sent,pol in polarity015.items() if pol < 0.0]"
      ],
      "metadata": {
        "colab": {
          "base_uri": "https://localhost:8080/"
        },
        "id": "z1wq_CU3zLzw",
        "outputId": "732d6ab8-514d-4843-a2b6-788375ed2f95"
      },
      "execution_count": null,
      "outputs": [
        {
          "output_type": "execute_result",
          "data": {
            "text/plain": [
              "[(3, -1.8000000000000007), (12, -6.8999999999999995), (18, -0.7)]"
            ]
          },
          "metadata": {},
          "execution_count": 198
        }
      ]
    },
    {
      "cell_type": "code",
      "source": [
        "[(sent,pol) for sent,pol in polarity20.items() if pol < 0.0]"
      ],
      "metadata": {
        "colab": {
          "base_uri": "https://localhost:8080/"
        },
        "id": "QvXVusvmzNrF",
        "outputId": "dec00d41-6a55-494e-fabb-dc464b2ec760"
      },
      "execution_count": null,
      "outputs": [
        {
          "output_type": "execute_result",
          "data": {
            "text/plain": [
              "[(4, -0.30000000000000004),\n",
              " (7, -1.0000000000000004),\n",
              " (18, -0.7),\n",
              " (20, -5.4),\n",
              " (29, -2.9)]"
            ]
          },
          "metadata": {},
          "execution_count": 199
        }
      ]
    },
    {
      "cell_type": "code",
      "source": [
        "s_tokens10[3]"
      ],
      "metadata": {
        "id": "HF3ATq_ozT6L"
      },
      "execution_count": null,
      "outputs": []
    },
    {
      "cell_type": "code",
      "source": [
        "np.sort(np.max(posData_posProjSpace[0], axis = 1))[::-1]"
      ],
      "metadata": {
        "colab": {
          "base_uri": "https://localhost:8080/"
        },
        "id": "xCXZraZPthzY",
        "outputId": "bb93df75-830a-4afe-c9e4-187fe4493736"
      },
      "execution_count": null,
      "outputs": [
        {
          "output_type": "execute_result",
          "data": {
            "text/plain": [
              "array([ 0.28367928,  0.27361298,  0.25846794,  0.2567309 ,  0.23229809,\n",
              "        0.23036386,  0.22909796,  0.22841337,  0.222799  ,  0.21163484,\n",
              "        0.20897613,  0.20807424,  0.20779014,  0.20567214,  0.20542979,\n",
              "        0.20029488,  0.1998684 ,  0.1987663 ,  0.19853252,  0.19639128,\n",
              "        0.19464648,  0.1933001 ,  0.19277774,  0.19270825,  0.19267467,\n",
              "        0.19203955,  0.19176328,  0.18915385,  0.1882963 ,  0.18800393,\n",
              "        0.18694088,  0.18574877,  0.18522975,  0.18468729,  0.18111327,\n",
              "        0.18015519,  0.17918457,  0.17561908,  0.17444785,  0.17360322,\n",
              "        0.1721769 ,  0.16864721,  0.16788839,  0.16692606,  0.16653143,\n",
              "        0.16549495,  0.15814804,  0.15729396,  0.15670548,  0.15535133,\n",
              "        0.1539587 , -0.        , -0.        , -0.        , -0.        ,\n",
              "       -0.        , -0.        , -0.        , -0.        , -0.        ,\n",
              "       -0.        , -0.        , -0.        , -0.        , -0.        ,\n",
              "       -0.        , -0.        , -0.        , -0.        , -0.        ,\n",
              "       -0.        , -0.        , -0.        , -0.        , -0.        ,\n",
              "       -0.        , -0.        , -0.        , -0.        , -0.        ,\n",
              "       -0.        , -0.        , -0.        , -0.        , -0.        ,\n",
              "       -0.        , -0.        , -0.        , -0.        , -0.        ,\n",
              "       -0.        , -0.        , -0.        , -0.        , -0.        ,\n",
              "       -0.        , -0.        , -0.        , -0.        , -0.        ,\n",
              "       -0.        , -0.        , -0.        , -0.        , -0.        ,\n",
              "       -0.        , -0.        , -0.        , -0.        , -0.        ,\n",
              "       -0.        , -0.        , -0.        , -0.        , -0.        ,\n",
              "       -0.        , -0.        , -0.        , -0.        , -0.        ,\n",
              "       -0.        , -0.        , -0.        , -0.        , -0.        ,\n",
              "       -0.        , -0.        , -0.        ], dtype=float32)"
            ]
          },
          "metadata": {},
          "execution_count": 145
        }
      ]
    },
    {
      "cell_type": "code",
      "source": [
        "np.max(posData_posProjSpace[0], axis = 1)"
      ],
      "metadata": {
        "colab": {
          "base_uri": "https://localhost:8080/"
        },
        "id": "pWNBe9FwvKxP",
        "outputId": "0e326ae7-8fe5-4a8f-d54e-3f0b7986a8a0"
      },
      "execution_count": null,
      "outputs": [
        {
          "output_type": "execute_result",
          "data": {
            "text/plain": [
              "array([-0.        ,  0.15535133,  0.19464648,  0.19639128,  0.20567214,\n",
              "        0.2567309 ,  0.25846794,  0.20779014,  0.16864721,  0.19267467,\n",
              "        0.15814804,  0.15729396,  0.16788839,  0.1987663 ,  0.16692606,\n",
              "        0.18468729,  0.222799  ,  0.17360322,  0.16653143,  0.23036386,\n",
              "        0.20542979,  0.23229809,  0.1933001 ,  0.19277774,  0.28367928,\n",
              "        0.15670548,  0.20897613,  0.22909796,  0.21163484,  0.19270825,\n",
              "        0.19203955,  0.19853252,  0.17918457,  0.18111327,  0.18800393,\n",
              "        0.1998684 ,  0.18694088,  0.1882963 ,  0.20029488,  0.16549495,\n",
              "        0.1721769 ,  0.1539587 ,  0.18522975,  0.27361298,  0.18015519,\n",
              "        0.22841337,  0.18915385,  0.19176328,  0.17561908,  0.17444785,\n",
              "        0.18574877,  0.20807424, -0.        , -0.        , -0.        ,\n",
              "       -0.        , -0.        , -0.        , -0.        , -0.        ,\n",
              "       -0.        , -0.        , -0.        , -0.        , -0.        ,\n",
              "       -0.        , -0.        , -0.        , -0.        , -0.        ,\n",
              "       -0.        , -0.        , -0.        , -0.        , -0.        ,\n",
              "       -0.        , -0.        , -0.        , -0.        , -0.        ,\n",
              "       -0.        , -0.        , -0.        , -0.        , -0.        ,\n",
              "       -0.        , -0.        , -0.        , -0.        , -0.        ,\n",
              "       -0.        , -0.        , -0.        , -0.        , -0.        ,\n",
              "       -0.        , -0.        , -0.        , -0.        , -0.        ,\n",
              "       -0.        , -0.        , -0.        , -0.        , -0.        ,\n",
              "       -0.        , -0.        , -0.        , -0.        , -0.        ,\n",
              "       -0.        , -0.        , -0.        , -0.        , -0.        ,\n",
              "       -0.        , -0.        , -0.        , -0.        , -0.        ,\n",
              "       -0.        , -0.        , -0.        , -0.        , -0.        ,\n",
              "       -0.        , -0.        , -0.        ], dtype=float32)"
            ]
          },
          "metadata": {},
          "execution_count": 152
        }
      ]
    },
    {
      "cell_type": "code",
      "source": [
        "wordidx = np.max(posData_posProjSpace[0], axis = 1)\n",
        "\n",
        "for index, value in enumerate(wordidx):\n",
        "\n",
        "  print(tokenizer.batch_decode(t_pos[0][\"input_ids\"][0])[index], value)"
      ],
      "metadata": {
        "colab": {
          "base_uri": "https://localhost:8080/"
        },
        "id": "TslJaLD2slp1",
        "outputId": "6e540bdc-4c57-41a6-f663-3c9ee830bb1c"
      },
      "execution_count": null,
      "outputs": [
        {
          "output_type": "stream",
          "name": "stdout",
          "text": [
            "[CLS] -0.0\n",
            "i 0.15535133\n",
            "just 0.19464648\n",
            "want 0.19639128\n",
            "to 0.20567214\n",
            "comment 0.2567309\n",
            "to 0.25846794\n",
            "the 0.20779014\n",
            "woman 0.16864721\n",
            "above 0.19267467\n",
            "that 0.15814804\n",
            "the 0.15729396\n",
            "movie 0.16788839\n",
            "does 0.1987663\n",
            "credit 0.16692606\n",
            "beethoven 0.18468729\n",
            "in 0.222799\n",
            "the 0.17360322\n",
            "begging 0.16653143\n",
            "in 0.23036386\n",
            "the 0.20542979\n",
            "beginning 0.23229809\n",
            "credits 0.1933001\n",
            "they 0.19277774\n",
            "show 0.28367928\n",
            "it 0.15670548\n",
            "thank 0.20897613\n",
            "you 0.22909796\n",
            "i 0.21163484\n",
            "think 0.19270825\n",
            "this 0.19203955\n",
            "is 0.19853252\n",
            "an 0.17918457\n",
            "amazing 0.18111327\n",
            "movie 0.18800393\n",
            "they 0.1998684\n",
            "picked 0.18694088\n",
            "just 0.1882963\n",
            "the 0.20029488\n",
            "right 0.16549495\n",
            "music 0.1721769\n",
            "for 0.1539587\n",
            "the 0.18522975\n",
            "mood 0.27361298\n",
            "of 0.18015519\n",
            "the 0.22841337\n",
            "movie 0.18915385\n",
            "the 0.19176328\n",
            "animation 0.17561908\n",
            "is 0.17444785\n",
            "wonderful 0.18574877\n",
            "and 0.20807424\n",
            "they -0.0\n",
            "picked -0.0\n",
            "the -0.0\n",
            "voices -0.0\n",
            "for -0.0\n",
            "the -0.0\n",
            "characters -0.0\n",
            "very -0.0\n",
            "well -0.0\n",
            "it -0.0\n",
            "teaches -0.0\n",
            "children -0.0\n",
            "to -0.0\n",
            "never -0.0\n",
            "give -0.0\n",
            "up -0.0\n",
            "and -0.0\n",
            "to -0.0\n",
            "always -0.0\n",
            "have -0.0\n",
            "hope -0.0\n",
            "princess -0.0\n",
            "ann -0.0\n",
            "##ika -0.0\n",
            "doesn -0.0\n",
            "##t -0.0\n",
            "give -0.0\n",
            "up -0.0\n",
            "and -0.0\n",
            "it -0.0\n",
            "shows -0.0\n",
            "children -0.0\n",
            "that -0.0\n",
            "they -0.0\n",
            "can -0.0\n",
            "do -0.0\n",
            "the -0.0\n",
            "same -0.0\n",
            "the -0.0\n",
            "movie -0.0\n",
            "also -0.0\n",
            "has -0.0\n",
            "humor -0.0\n",
            "in -0.0\n",
            "in -0.0\n",
            "for -0.0\n",
            "all -0.0\n",
            "ages -0.0\n",
            "parents -0.0\n",
            "and -0.0\n",
            "children -0.0\n",
            "to -0.0\n",
            "laugh -0.0\n",
            "at -0.0\n",
            "the -0.0\n",
            "colors -0.0\n",
            "in -0.0\n",
            "this -0.0\n",
            "movie -0.0\n",
            "are -0.0\n",
            "great -0.0\n",
            "and -0.0\n",
            "kids -0.0\n",
            "can -0.0\n",
            "really -0.0\n",
            "feel -0.0\n",
            "good -0.0\n",
            "while -0.0\n",
            "they -0.0\n",
            "are -0.0\n",
            "watching -0.0\n",
            "it -0.0\n",
            "i -0.0\n",
            "watched -0.0\n",
            "this -0.0\n",
            "[SEP] -0.0\n"
          ]
        }
      ]
    },
    {
      "cell_type": "code",
      "source": [
        "# for negative projection space\n",
        "fig, ax = plt.subplots(figsize = (10,5))\n",
        "\n",
        "for color in ['RED', 'tab:GREEN']:\n",
        "    n = 750\n",
        "    if color == \"RED\":\n",
        "      x, y = tSNE_combined[:100,0], tSNE_combined[:100,1]\n",
        "\n",
        "    else:\n",
        "      x, y = tSNE_combined[100:,0], tSNE_combined[100:,1]\n",
        "\n",
        "    ax.scatter(x, y, c=color, label= \"Positive\" if color == \"RED\" else \"Negative\",\n",
        "               alpha=0.9, edgecolors='none')\n",
        "\n",
        "ax.legend()\n",
        "ax.set_xlabel(\"dim1\")\n",
        "ax.set_ylabel(\"dim2\")\n",
        "ax.set_title(\"tSNE Representation of Projection Spaces\")\n",
        "\n",
        "plt.show()"
      ],
      "metadata": {
        "colab": {
          "base_uri": "https://localhost:8080/",
          "height": 350
        },
        "id": "MhJDu15S3Ih6",
        "outputId": "9e1bc7cc-37b5-4c91-853e-de82208e978d"
      },
      "execution_count": null,
      "outputs": [
        {
          "output_type": "display_data",
          "data": {
            "text/plain": [
              "<Figure size 720x360 with 1 Axes>"
            ],
            "image/png": "[encoded data removed]"
          },
          "metadata": {
            "needs_background": "light"
          }
        }
      ]
    },
    {
      "cell_type": "markdown",
      "source": [
        "## Vader Sentiment Polarity"
      ],
      "metadata": {
        "id": "rDoTzm9igipa"
      }
    },
    {
      "cell_type": "code",
      "source": [
        "df_sent = pd.read_csv(\"/gdrive/Shareddrives/Thesis/code/Rahul/vaderSentiment-master/vaderSentiment/vader_lexicon.txt\", sep = \"\\t\", header = None)"
      ],
      "metadata": {
        "id": "pzll-Wpn3Jvj"
      },
      "execution_count": null,
      "outputs": []
    },
    {
      "cell_type": "code",
      "source": [
        "df_sent"
      ],
      "metadata": {
        "colab": {
          "base_uri": "https://localhost:8080/",
          "height": 424
        },
        "id": "-un_4Glngs5x",
        "outputId": "eac1a56a-e06a-4361-809c-83978986689c"
      },
      "execution_count": null,
      "outputs": [
        {
          "output_type": "execute_result",
          "data": {
            "text/plain": [
              "         0    1        2                                         3\n",
              "0       $: -1.5  0.80623  [-1, -1, -1, -1, -3, -1, -3, -1, -2, -1]\n",
              "1       %) -0.4  1.01980       [-1, 0, -1, 0, 0, -2, -1, 2, -1, 0]\n",
              "2      %-) -1.5  1.43178    [-2, 0, -2, -2, -1, 2, -2, -3, -2, -3]\n",
              "3      &-: -0.4  1.42829      [-3, -1, 0, 0, -1, -1, -1, 2, -1, 2]\n",
              "4       &: -0.7  0.64031    [0, -1, -1, -1, 1, -1, -1, -1, -1, -1]\n",
              "...    ...  ...      ...                                       ...\n",
              "7515    }: -2.1  0.83066  [-1, -1, -3, -2, -3, -2, -2, -1, -3, -3]\n",
              "7516   }:( -2.0  0.63246  [-3, -1, -2, -1, -3, -2, -2, -2, -2, -2]\n",
              "7517   }:)  0.4  1.42829         [1, 1, -2, 1, 2, -2, 1, -1, 2, 1]\n",
              "7518  }:-( -2.1  0.70000  [-2, -1, -2, -2, -2, -4, -2, -2, -2, -2]\n",
              "7519  }:-)  0.3  1.61555         [1, 1, -2, 1, -1, -3, 2, 2, 1, 1]\n",
              "\n",
              "[7520 rows x 4 columns]"
            ],
            "text/html": [
              "\n",
              "  <div id=\"df-46c44cfe-58cc-4dce-b9e7-add83c624690\">\n",
              "    <div class=\"colab-df-container\">\n",
              "      <div>\n",
              "<style scoped>\n",
              "    .dataframe tbody tr th:only-of-type {\n",
              "        vertical-align: middle;\n",
              "    }\n",
              "\n",
              "    .dataframe tbody tr th {\n",
              "        vertical-align: top;\n",
              "    }\n",
              "\n",
              "    .dataframe thead th {\n",
              "        text-align: right;\n",
              "    }\n",
              "</style>\n",
              "<table border=\"1\" class=\"dataframe\">\n",
              "  <thead>\n",
              "    <tr style=\"text-align: right;\">\n",
              "      <th></th>\n",
              "      <th>0</th>\n",
              "      <th>1</th>\n",
              "      <th>2</th>\n",
              "      <th>3</th>\n",
              "    </tr>\n",
              "  </thead>\n",
              "  <tbody>\n",
              "    <tr>\n",
              "      <th>0</th>\n",
              "      <td>$:</td>\n",
              "      <td>-1.5</td>\n",
              "      <td>0.80623</td>\n",
              "      <td>[-1, -1, -1, -1, -3, -1, -3, -1, -2, -1]</td>\n",
              "    </tr>\n",
              "    <tr>\n",
              "      <th>1</th>\n",
              "      <td>%)</td>\n",
              "      <td>-0.4</td>\n",
              "      <td>1.01980</td>\n",
              "      <td>[-1, 0, -1, 0, 0, -2, -1, 2, -1, 0]</td>\n",
              "    </tr>\n",
              "    <tr>\n",
              "      <th>2</th>\n",
              "      <td>%-)</td>\n",
              "      <td>-1.5</td>\n",
              "      <td>1.43178</td>\n",
              "      <td>[-2, 0, -2, -2, -1, 2, -2, -3, -2, -3]</td>\n",
              "    </tr>\n",
              "    <tr>\n",
              "      <th>3</th>\n",
              "      <td>&amp;-:</td>\n",
              "      <td>-0.4</td>\n",
              "      <td>1.42829</td>\n",
              "      <td>[-3, -1, 0, 0, -1, -1, -1, 2, -1, 2]</td>\n",
              "    </tr>\n",
              "    <tr>\n",
              "      <th>4</th>\n",
              "      <td>&amp;:</td>\n",
              "      <td>-0.7</td>\n",
              "      <td>0.64031</td>\n",
              "      <td>[0, -1, -1, -1, 1, -1, -1, -1, -1, -1]</td>\n",
              "    </tr>\n",
              "    <tr>\n",
              "      <th>...</th>\n",
              "      <td>...</td>\n",
              "      <td>...</td>\n",
              "      <td>...</td>\n",
              "      <td>...</td>\n",
              "    </tr>\n",
              "    <tr>\n",
              "      <th>7515</th>\n",
              "      <td>}:</td>\n",
              "      <td>-2.1</td>\n",
              "      <td>0.83066</td>\n",
              "      <td>[-1, -1, -3, -2, -3, -2, -2, -1, -3, -3]</td>\n",
              "    </tr>\n",
              "    <tr>\n",
              "      <th>7516</th>\n",
              "      <td>}:(</td>\n",
              "      <td>-2.0</td>\n",
              "      <td>0.63246</td>\n",
              "      <td>[-3, -1, -2, -1, -3, -2, -2, -2, -2, -2]</td>\n",
              "    </tr>\n",
              "    <tr>\n",
              "      <th>7517</th>\n",
              "      <td>}:)</td>\n",
              "      <td>0.4</td>\n",
              "      <td>1.42829</td>\n",
              "      <td>[1, 1, -2, 1, 2, -2, 1, -1, 2, 1]</td>\n",
              "    </tr>\n",
              "    <tr>\n",
              "      <th>7518</th>\n",
              "      <td>}:-(</td>\n",
              "      <td>-2.1</td>\n",
              "      <td>0.70000</td>\n",
              "      <td>[-2, -1, -2, -2, -2, -4, -2, -2, -2, -2]</td>\n",
              "    </tr>\n",
              "    <tr>\n",
              "      <th>7519</th>\n",
              "      <td>}:-)</td>\n",
              "      <td>0.3</td>\n",
              "      <td>1.61555</td>\n",
              "      <td>[1, 1, -2, 1, -1, -3, 2, 2, 1, 1]</td>\n",
              "    </tr>\n",
              "  </tbody>\n",
              "</table>\n",
              "<p>7520 rows × 4 columns</p>\n",
              "</div>\n",
              "      <button class=\"colab-df-convert\" onclick=\"convertToInteractive('df-46c44cfe-58cc-4dce-b9e7-add83c624690')\"\n",
              "              title=\"Convert this dataframe to an interactive table.\"\n",
              "              style=\"display:none;\">\n",
              "        \n",
              "  <svg xmlns=\"http://www.w3.org/2000/svg\" height=\"24px\"viewBox=\"0 0 24 24\"\n",
              "       width=\"24px\">\n",
              "    <path d=\"M0 0h24v24H0V0z\" fill=\"none\"/>\n",
              "    <path d=\"M18.56 5.44l.94 2.06.94-2.06 2.06-.94-2.06-.94-.94-2.06-.94 2.06-2.06.94zm-11 1L8.5 8.5l.94-2.06 2.06-.94-2.06-.94L8.5 2.5l-.94 2.06-2.06.94zm10 10l.94 2.06.94-2.06 2.06-.94-2.06-.94-.94-2.06-.94 2.06-2.06.94z\"/><path d=\"M17.41 7.96l-1.37-1.37c-.4-.4-.92-.59-1.43-.59-.52 0-1.04.2-1.43.59L10.3 9.45l-7.72 7.72c-.78.78-.78 2.05 0 2.83L4 21.41c.39.39.9.59 1.41.59.51 0 1.02-.2 1.41-.59l7.78-7.78 2.81-2.81c.8-.78.8-2.07 0-2.86zM5.41 20L4 18.59l7.72-7.72 1.47 1.35L5.41 20z\"/>\n",
              "  </svg>\n",
              "      </button>\n",
              "      \n",
              "  <style>\n",
              "    .colab-df-container {\n",
              "      display:flex;\n",
              "      flex-wrap:wrap;\n",
              "      gap: 12px;\n",
              "    }\n",
              "\n",
              "    .colab-df-convert {\n",
              "      background-color: #E8F0FE;\n",
              "      border: none;\n",
              "      border-radius: 50%;\n",
              "      cursor: pointer;\n",
              "      display: none;\n",
              "      fill: #1967D2;\n",
              "      height: 32px;\n",
              "      padding: 0 0 0 0;\n",
              "      width: 32px;\n",
              "    }\n",
              "\n",
              "    .colab-df-convert:hover {\n",
              "      background-color: #E2EBFA;\n",
              "      box-shadow: 0px 1px 2px rgba(60, 64, 67, 0.3), 0px 1px 3px 1px rgba(60, 64, 67, 0.15);\n",
              "      fill: #174EA6;\n",
              "    }\n",
              "\n",
              "    [theme=dark] .colab-df-convert {\n",
              "      background-color: #3B4455;\n",
              "      fill: #D2E3FC;\n",
              "    }\n",
              "\n",
              "    [theme=dark] .colab-df-convert:hover {\n",
              "      background-color: #434B5C;\n",
              "      box-shadow: 0px 1px 3px 1px rgba(0, 0, 0, 0.15);\n",
              "      filter: drop-shadow(0px 1px 2px rgba(0, 0, 0, 0.3));\n",
              "      fill: #FFFFFF;\n",
              "    }\n",
              "  </style>\n",
              "\n",
              "      <script>\n",
              "        const buttonEl =\n",
              "          document.querySelector('#df-46c44cfe-58cc-4dce-b9e7-add83c624690 button.colab-df-convert');\n",
              "        buttonEl.style.display =\n",
              "          google.colab.kernel.accessAllowed ? 'block' : 'none';\n",
              "\n",
              "        async function convertToInteractive(key) {\n",
              "          const element = document.querySelector('#df-46c44cfe-58cc-4dce-b9e7-add83c624690');\n",
              "          const dataTable =\n",
              "            await google.colab.kernel.invokeFunction('convertToInteractive',\n",
              "                                                     [key], {});\n",
              "          if (!dataTable) return;\n",
              "\n",
              "          const docLinkHtml = 'Like what you see? Visit the ' +\n",
              "            '<a target=\"_blank\" href=https://colab.research.google.com/notebooks/data_table.ipynb>data table notebook</a>'\n",
              "            + ' to learn more about interactive tables.';\n",
              "          element.innerHTML = '';\n",
              "          dataTable['output_type'] = 'display_data';\n",
              "          await google.colab.output.renderOutput(dataTable, element);\n",
              "          const docLink = document.createElement('div');\n",
              "          docLink.innerHTML = docLinkHtml;\n",
              "          element.appendChild(docLink);\n",
              "        }\n",
              "      </script>\n",
              "    </div>\n",
              "  </div>\n",
              "  "
            ]
          },
          "metadata": {},
          "execution_count": 45
        }
      ]
    },
    {
      "cell_type": "code",
      "source": [],
      "metadata": {
        "id": "u2CYGGligtlg"
      },
      "execution_count": null,
      "outputs": []
    }
  ],
  "metadata": {
    "colab": {
      "provenance": [],
      "include_colab_link": true
    },
    "gpuClass": "standard",
    "kernelspec": {
      "display_name": "Python 3",
      "name": "python3"
    },
    "language_info": {
      "name": "python"
    },
    "widgets": {
      "application/vnd.jupyter.widget-state+json": {
        "828ab062064449b386e97d7f4c57440d": {
          "model_module": "@jupyter-widgets/controls",
          "model_name": "HBoxModel",
          "model_module_version": "1.5.0",
          "state": {
            "_dom_classes": [],
            "_model_module": "@jupyter-widgets/controls",
            "_model_module_version": "1.5.0",
            "_model_name": "HBoxModel",
            "_view_count": null,
            "_view_module": "@jupyter-widgets/controls",
            "_view_module_version": "1.5.0",
            "_view_name": "HBoxView",
            "box_style": "",
            "children": [
              "IPY_MODEL_32174451fc214ba49a0b38b5655251b7",
              "IPY_MODEL_a5d3986c3c8d4981ba4b52ae2ccb8a6a",
              "IPY_MODEL_78b9ea0cd0a94368b43bf134fdc466c0"
            ],
            "layout": "IPY_MODEL_90fca10f1a264fc69129137105b9d24f"
          }
        },
        "32174451fc214ba49a0b38b5655251b7": {
          "model_module": "@jupyter-widgets/controls",
          "model_name": "HTMLModel",
          "model_module_version": "1.5.0",
          "state": {
            "_dom_classes": [],
            "_model_module": "@jupyter-widgets/controls",
            "_model_module_version": "1.5.0",
            "_model_name": "HTMLModel",
            "_view_count": null,
            "_view_module": "@jupyter-widgets/controls",
            "_view_module_version": "1.5.0",
            "_view_name": "HTMLView",
            "description": "",
            "description_tooltip": null,
            "layout": "IPY_MODEL_57bcd887540d4fa4a5f24afce4821217",
            "placeholder": "​",
            "style": "IPY_MODEL_a08f4027c30f46589ebffd4cab16922d",
            "value": "Downloading (…)lve/main/config.json: 100%"
          }
        },
        "a5d3986c3c8d4981ba4b52ae2ccb8a6a": {
          "model_module": "@jupyter-widgets/controls",
          "model_name": "FloatProgressModel",
          "model_module_version": "1.5.0",
          "state": {
            "_dom_classes": [],
            "_model_module": "@jupyter-widgets/controls",
            "_model_module_version": "1.5.0",
            "_model_name": "FloatProgressModel",
            "_view_count": null,
            "_view_module": "@jupyter-widgets/controls",
            "_view_module_version": "1.5.0",
            "_view_name": "ProgressView",
            "bar_style": "success",
            "description": "",
            "description_tooltip": null,
            "layout": "IPY_MODEL_db9047b79fd24b58867c6fa37370056c",
            "max": 570,
            "min": 0,
            "orientation": "horizontal",
            "style": "IPY_MODEL_cb40c22a13e1477292ee50b2b483556d",
            "value": 570
          }
        },
        "78b9ea0cd0a94368b43bf134fdc466c0": {
          "model_module": "@jupyter-widgets/controls",
          "model_name": "HTMLModel",
          "model_module_version": "1.5.0",
          "state": {
            "_dom_classes": [],
            "_model_module": "@jupyter-widgets/controls",
            "_model_module_version": "1.5.0",
            "_model_name": "HTMLModel",
            "_view_count": null,
            "_view_module": "@jupyter-widgets/controls",
            "_view_module_version": "1.5.0",
            "_view_name": "HTMLView",
            "description": "",
            "description_tooltip": null,
            "layout": "IPY_MODEL_087b054dbca0409583b671ee32587937",
            "placeholder": "​",
            "style": "IPY_MODEL_e1a1da0fdb234937acc77f7524b12116",
            "value": " 570/570 [00:00&lt;00:00, 12.0kB/s]"
          }
        },
        "90fca10f1a264fc69129137105b9d24f": {
          "model_module": "@jupyter-widgets/base",
          "model_name": "LayoutModel",
          "model_module_version": "1.2.0",
          "state": {
            "_model_module": "@jupyter-widgets/base",
            "_model_module_version": "1.2.0",
            "_model_name": "LayoutModel",
            "_view_count": null,
            "_view_module": "@jupyter-widgets/base",
            "_view_module_version": "1.2.0",
            "_view_name": "LayoutView",
            "align_content": null,
            "align_items": null,
            "align_self": null,
            "border": null,
            "bottom": null,
            "display": null,
            "flex": null,
            "flex_flow": null,
            "grid_area": null,
            "grid_auto_columns": null,
            "grid_auto_flow": null,
            "grid_auto_rows": null,
            "grid_column": null,
            "grid_gap": null,
            "grid_row": null,
            "grid_template_areas": null,
            "grid_template_columns": null,
            "grid_template_rows": null,
            "height": null,
            "justify_content": null,
            "justify_items": null,
            "left": null,
            "margin": null,
            "max_height": null,
            "max_width": null,
            "min_height": null,
            "min_width": null,
            "object_fit": null,
            "object_position": null,
            "order": null,
            "overflow": null,
            "overflow_x": null,
            "overflow_y": null,
            "padding": null,
            "right": null,
            "top": null,
            "visibility": null,
            "width": null
          }
        },
        "57bcd887540d4fa4a5f24afce4821217": {
          "model_module": "@jupyter-widgets/base",
          "model_name": "LayoutModel",
          "model_module_version": "1.2.0",
          "state": {
            "_model_module": "@jupyter-widgets/base",
            "_model_module_version": "1.2.0",
            "_model_name": "LayoutModel",
            "_view_count": null,
            "_view_module": "@jupyter-widgets/base",
            "_view_module_version": "1.2.0",
            "_view_name": "LayoutView",
            "align_content": null,
            "align_items": null,
            "align_self": null,
            "border": null,
            "bottom": null,
            "display": null,
            "flex": null,
            "flex_flow": null,
            "grid_area": null,
            "grid_auto_columns": null,
            "grid_auto_flow": null,
            "grid_auto_rows": null,
            "grid_column": null,
            "grid_gap": null,
            "grid_row": null,
            "grid_template_areas": null,
            "grid_template_columns": null,
            "grid_template_rows": null,
            "height": null,
            "justify_content": null,
            "justify_items": null,
            "left": null,
            "margin": null,
            "max_height": null,
            "max_width": null,
            "min_height": null,
            "min_width": null,
            "object_fit": null,
            "object_position": null,
            "order": null,
            "overflow": null,
            "overflow_x": null,
            "overflow_y": null,
            "padding": null,
            "right": null,
            "top": null,
            "visibility": null,
            "width": null
          }
        },
        "a08f4027c30f46589ebffd4cab16922d": {
          "model_module": "@jupyter-widgets/controls",
          "model_name": "DescriptionStyleModel",
          "model_module_version": "1.5.0",
          "state": {
            "_model_module": "@jupyter-widgets/controls",
            "_model_module_version": "1.5.0",
            "_model_name": "DescriptionStyleModel",
            "_view_count": null,
            "_view_module": "@jupyter-widgets/base",
            "_view_module_version": "1.2.0",
            "_view_name": "StyleView",
            "description_width": ""
          }
        },
        "db9047b79fd24b58867c6fa37370056c": {
          "model_module": "@jupyter-widgets/base",
          "model_name": "LayoutModel",
          "model_module_version": "1.2.0",
          "state": {
            "_model_module": "@jupyter-widgets/base",
            "_model_module_version": "1.2.0",
            "_model_name": "LayoutModel",
            "_view_count": null,
            "_view_module": "@jupyter-widgets/base",
            "_view_module_version": "1.2.0",
            "_view_name": "LayoutView",
            "align_content": null,
            "align_items": null,
            "align_self": null,
            "border": null,
            "bottom": null,
            "display": null,
            "flex": null,
            "flex_flow": null,
            "grid_area": null,
            "grid_auto_columns": null,
            "grid_auto_flow": null,
            "grid_auto_rows": null,
            "grid_column": null,
            "grid_gap": null,
            "grid_row": null,
            "grid_template_areas": null,
            "grid_template_columns": null,
            "grid_template_rows": null,
            "height": null,
            "justify_content": null,
            "justify_items": null,
            "left": null,
            "margin": null,
            "max_height": null,
            "max_width": null,
            "min_height": null,
            "min_width": null,
            "object_fit": null,
            "object_position": null,
            "order": null,
            "overflow": null,
            "overflow_x": null,
            "overflow_y": null,
            "padding": null,
            "right": null,
            "top": null,
            "visibility": null,
            "width": null
          }
        },
        "cb40c22a13e1477292ee50b2b483556d": {
          "model_module": "@jupyter-widgets/controls",
          "model_name": "ProgressStyleModel",
          "model_module_version": "1.5.0",
          "state": {
            "_model_module": "@jupyter-widgets/controls",
            "_model_module_version": "1.5.0",
            "_model_name": "ProgressStyleModel",
            "_view_count": null,
            "_view_module": "@jupyter-widgets/base",
            "_view_module_version": "1.2.0",
            "_view_name": "StyleView",
            "bar_color": null,
            "description_width": ""
          }
        },
        "087b054dbca0409583b671ee32587937": {
          "model_module": "@jupyter-widgets/base",
          "model_name": "LayoutModel",
          "model_module_version": "1.2.0",
          "state": {
            "_model_module": "@jupyter-widgets/base",
            "_model_module_version": "1.2.0",
            "_model_name": "LayoutModel",
            "_view_count": null,
            "_view_module": "@jupyter-widgets/base",
            "_view_module_version": "1.2.0",
            "_view_name": "LayoutView",
            "align_content": null,
            "align_items": null,
            "align_self": null,
            "border": null,
            "bottom": null,
            "display": null,
            "flex": null,
            "flex_flow": null,
            "grid_area": null,
            "grid_auto_columns": null,
            "grid_auto_flow": null,
            "grid_auto_rows": null,
            "grid_column": null,
            "grid_gap": null,
            "grid_row": null,
            "grid_template_areas": null,
            "grid_template_columns": null,
            "grid_template_rows": null,
            "height": null,
            "justify_content": null,
            "justify_items": null,
            "left": null,
            "margin": null,
            "max_height": null,
            "max_width": null,
            "min_height": null,
            "min_width": null,
            "object_fit": null,
            "object_position": null,
            "order": null,
            "overflow": null,
            "overflow_x": null,
            "overflow_y": null,
            "padding": null,
            "right": null,
            "top": null,
            "visibility": null,
            "width": null
          }
        },
        "e1a1da0fdb234937acc77f7524b12116": {
          "model_module": "@jupyter-widgets/controls",
          "model_name": "DescriptionStyleModel",
          "model_module_version": "1.5.0",
          "state": {
            "_model_module": "@jupyter-widgets/controls",
            "_model_module_version": "1.5.0",
            "_model_name": "DescriptionStyleModel",
            "_view_count": null,
            "_view_module": "@jupyter-widgets/base",
            "_view_module_version": "1.2.0",
            "_view_name": "StyleView",
            "description_width": ""
          }
        },
        "eeebcd1420994a8cad90c1f692a31ecf": {
          "model_module": "@jupyter-widgets/controls",
          "model_name": "HBoxModel",
          "model_module_version": "1.5.0",
          "state": {
            "_dom_classes": [],
            "_model_module": "@jupyter-widgets/controls",
            "_model_module_version": "1.5.0",
            "_model_name": "HBoxModel",
            "_view_count": null,
            "_view_module": "@jupyter-widgets/controls",
            "_view_module_version": "1.5.0",
            "_view_name": "HBoxView",
            "box_style": "",
            "children": [
              "IPY_MODEL_bf489b3a4b524f3e857a3e0dba2b713b",
              "IPY_MODEL_acbd7ca807d344c995f7c768cb06e6a7",
              "IPY_MODEL_6db4e1e6a604426089cf0efc96f27a33"
            ],
            "layout": "IPY_MODEL_3b20b215adc34f57b793a721439331e6"
          }
        },
        "bf489b3a4b524f3e857a3e0dba2b713b": {
          "model_module": "@jupyter-widgets/controls",
          "model_name": "HTMLModel",
          "model_module_version": "1.5.0",
          "state": {
            "_dom_classes": [],
            "_model_module": "@jupyter-widgets/controls",
            "_model_module_version": "1.5.0",
            "_model_name": "HTMLModel",
            "_view_count": null,
            "_view_module": "@jupyter-widgets/controls",
            "_view_module_version": "1.5.0",
            "_view_name": "HTMLView",
            "description": "",
            "description_tooltip": null,
            "layout": "IPY_MODEL_08e208a1e3e84e35bc92412e0168f204",
            "placeholder": "​",
            "style": "IPY_MODEL_0149c5988b9f496fb6d741aee5857a03",
            "value": "Downloading tf_model.h5: 100%"
          }
        },
        "acbd7ca807d344c995f7c768cb06e6a7": {
          "model_module": "@jupyter-widgets/controls",
          "model_name": "FloatProgressModel",
          "model_module_version": "1.5.0",
          "state": {
            "_dom_classes": [],
            "_model_module": "@jupyter-widgets/controls",
            "_model_module_version": "1.5.0",
            "_model_name": "FloatProgressModel",
            "_view_count": null,
            "_view_module": "@jupyter-widgets/controls",
            "_view_module_version": "1.5.0",
            "_view_name": "ProgressView",
            "bar_style": "success",
            "description": "",
            "description_tooltip": null,
            "layout": "IPY_MODEL_4009d605b0f547ac90730126e6d194aa",
            "max": 536063208,
            "min": 0,
            "orientation": "horizontal",
            "style": "IPY_MODEL_781a2485b5134ee09e37bc4e23638477",
            "value": 536063208
          }
        },
        "6db4e1e6a604426089cf0efc96f27a33": {
          "model_module": "@jupyter-widgets/controls",
          "model_name": "HTMLModel",
          "model_module_version": "1.5.0",
          "state": {
            "_dom_classes": [],
            "_model_module": "@jupyter-widgets/controls",
            "_model_module_version": "1.5.0",
            "_model_name": "HTMLModel",
            "_view_count": null,
            "_view_module": "@jupyter-widgets/controls",
            "_view_module_version": "1.5.0",
            "_view_name": "HTMLView",
            "description": "",
            "description_tooltip": null,
            "layout": "IPY_MODEL_a26c179ee50c48298111063398ba33f9",
            "placeholder": "​",
            "style": "IPY_MODEL_ba90e8e979734ff89024a4ec4ff5f90e",
            "value": " 536M/536M [00:10&lt;00:00, 45.7MB/s]"
          }
        },
        "3b20b215adc34f57b793a721439331e6": {
          "model_module": "@jupyter-widgets/base",
          "model_name": "LayoutModel",
          "model_module_version": "1.2.0",
          "state": {
            "_model_module": "@jupyter-widgets/base",
            "_model_module_version": "1.2.0",
            "_model_name": "LayoutModel",
            "_view_count": null,
            "_view_module": "@jupyter-widgets/base",
            "_view_module_version": "1.2.0",
            "_view_name": "LayoutView",
            "align_content": null,
            "align_items": null,
            "align_self": null,
            "border": null,
            "bottom": null,
            "display": null,
            "flex": null,
            "flex_flow": null,
            "grid_area": null,
            "grid_auto_columns": null,
            "grid_auto_flow": null,
            "grid_auto_rows": null,
            "grid_column": null,
            "grid_gap": null,
            "grid_row": null,
            "grid_template_areas": null,
            "grid_template_columns": null,
            "grid_template_rows": null,
            "height": null,
            "justify_content": null,
            "justify_items": null,
            "left": null,
            "margin": null,
            "max_height": null,
            "max_width": null,
            "min_height": null,
            "min_width": null,
            "object_fit": null,
            "object_position": null,
            "order": null,
            "overflow": null,
            "overflow_x": null,
            "overflow_y": null,
            "padding": null,
            "right": null,
            "top": null,
            "visibility": null,
            "width": null
          }
        },
        "08e208a1e3e84e35bc92412e0168f204": {
          "model_module": "@jupyter-widgets/base",
          "model_name": "LayoutModel",
          "model_module_version": "1.2.0",
          "state": {
            "_model_module": "@jupyter-widgets/base",
            "_model_module_version": "1.2.0",
            "_model_name": "LayoutModel",
            "_view_count": null,
            "_view_module": "@jupyter-widgets/base",
            "_view_module_version": "1.2.0",
            "_view_name": "LayoutView",
            "align_content": null,
            "align_items": null,
            "align_self": null,
            "border": null,
            "bottom": null,
            "display": null,
            "flex": null,
            "flex_flow": null,
            "grid_area": null,
            "grid_auto_columns": null,
            "grid_auto_flow": null,
            "grid_auto_rows": null,
            "grid_column": null,
            "grid_gap": null,
            "grid_row": null,
            "grid_template_areas": null,
            "grid_template_columns": null,
            "grid_template_rows": null,
            "height": null,
            "justify_content": null,
            "justify_items": null,
            "left": null,
            "margin": null,
            "max_height": null,
            "max_width": null,
            "min_height": null,
            "min_width": null,
            "object_fit": null,
            "object_position": null,
            "order": null,
            "overflow": null,
            "overflow_x": null,
            "overflow_y": null,
            "padding": null,
            "right": null,
            "top": null,
            "visibility": null,
            "width": null
          }
        },
        "0149c5988b9f496fb6d741aee5857a03": {
          "model_module": "@jupyter-widgets/controls",
          "model_name": "DescriptionStyleModel",
          "model_module_version": "1.5.0",
          "state": {
            "_model_module": "@jupyter-widgets/controls",
            "_model_module_version": "1.5.0",
            "_model_name": "DescriptionStyleModel",
            "_view_count": null,
            "_view_module": "@jupyter-widgets/base",
            "_view_module_version": "1.2.0",
            "_view_name": "StyleView",
            "description_width": ""
          }
        },
        "4009d605b0f547ac90730126e6d194aa": {
          "model_module": "@jupyter-widgets/base",
          "model_name": "LayoutModel",
          "model_module_version": "1.2.0",
          "state": {
            "_model_module": "@jupyter-widgets/base",
            "_model_module_version": "1.2.0",
            "_model_name": "LayoutModel",
            "_view_count": null,
            "_view_module": "@jupyter-widgets/base",
            "_view_module_version": "1.2.0",
            "_view_name": "LayoutView",
            "align_content": null,
            "align_items": null,
            "align_self": null,
            "border": null,
            "bottom": null,
            "display": null,
            "flex": null,
            "flex_flow": null,
            "grid_area": null,
            "grid_auto_columns": null,
            "grid_auto_flow": null,
            "grid_auto_rows": null,
            "grid_column": null,
            "grid_gap": null,
            "grid_row": null,
            "grid_template_areas": null,
            "grid_template_columns": null,
            "grid_template_rows": null,
            "height": null,
            "justify_content": null,
            "justify_items": null,
            "left": null,
            "margin": null,
            "max_height": null,
            "max_width": null,
            "min_height": null,
            "min_width": null,
            "object_fit": null,
            "object_position": null,
            "order": null,
            "overflow": null,
            "overflow_x": null,
            "overflow_y": null,
            "padding": null,
            "right": null,
            "top": null,
            "visibility": null,
            "width": null
          }
        },
        "781a2485b5134ee09e37bc4e23638477": {
          "model_module": "@jupyter-widgets/controls",
          "model_name": "ProgressStyleModel",
          "model_module_version": "1.5.0",
          "state": {
            "_model_module": "@jupyter-widgets/controls",
            "_model_module_version": "1.5.0",
            "_model_name": "ProgressStyleModel",
            "_view_count": null,
            "_view_module": "@jupyter-widgets/base",
            "_view_module_version": "1.2.0",
            "_view_name": "StyleView",
            "bar_color": null,
            "description_width": ""
          }
        },
        "a26c179ee50c48298111063398ba33f9": {
          "model_module": "@jupyter-widgets/base",
          "model_name": "LayoutModel",
          "model_module_version": "1.2.0",
          "state": {
            "_model_module": "@jupyter-widgets/base",
            "_model_module_version": "1.2.0",
            "_model_name": "LayoutModel",
            "_view_count": null,
            "_view_module": "@jupyter-widgets/base",
            "_view_module_version": "1.2.0",
            "_view_name": "LayoutView",
            "align_content": null,
            "align_items": null,
            "align_self": null,
            "border": null,
            "bottom": null,
            "display": null,
            "flex": null,
            "flex_flow": null,
            "grid_area": null,
            "grid_auto_columns": null,
            "grid_auto_flow": null,
            "grid_auto_rows": null,
            "grid_column": null,
            "grid_gap": null,
            "grid_row": null,
            "grid_template_areas": null,
            "grid_template_columns": null,
            "grid_template_rows": null,
            "height": null,
            "justify_content": null,
            "justify_items": null,
            "left": null,
            "margin": null,
            "max_height": null,
            "max_width": null,
            "min_height": null,
            "min_width": null,
            "object_fit": null,
            "object_position": null,
            "order": null,
            "overflow": null,
            "overflow_x": null,
            "overflow_y": null,
            "padding": null,
            "right": null,
            "top": null,
            "visibility": null,
            "width": null
          }
        },
        "ba90e8e979734ff89024a4ec4ff5f90e": {
          "model_module": "@jupyter-widgets/controls",
          "model_name": "DescriptionStyleModel",
          "model_module_version": "1.5.0",
          "state": {
            "_model_module": "@jupyter-widgets/controls",
            "_model_module_version": "1.5.0",
            "_model_name": "DescriptionStyleModel",
            "_view_count": null,
            "_view_module": "@jupyter-widgets/base",
            "_view_module_version": "1.2.0",
            "_view_name": "StyleView",
            "description_width": ""
          }
        },
        "774623141ca4404c8dd532108dbecd81": {
          "model_module": "@jupyter-widgets/controls",
          "model_name": "HBoxModel",
          "model_module_version": "1.5.0",
          "state": {
            "_dom_classes": [],
            "_model_module": "@jupyter-widgets/controls",
            "_model_module_version": "1.5.0",
            "_model_name": "HBoxModel",
            "_view_count": null,
            "_view_module": "@jupyter-widgets/controls",
            "_view_module_version": "1.5.0",
            "_view_name": "HBoxView",
            "box_style": "",
            "children": [
              "IPY_MODEL_587644cf82324129b77974fa0edc48e1",
              "IPY_MODEL_6b77562f4bc24b049ff45f763006cb60",
              "IPY_MODEL_883fd9b8ff644a06b8674fc7c73529e4"
            ],
            "layout": "IPY_MODEL_75823fdd13da407c80c40e399eccd8d8"
          }
        },
        "587644cf82324129b77974fa0edc48e1": {
          "model_module": "@jupyter-widgets/controls",
          "model_name": "HTMLModel",
          "model_module_version": "1.5.0",
          "state": {
            "_dom_classes": [],
            "_model_module": "@jupyter-widgets/controls",
            "_model_module_version": "1.5.0",
            "_model_name": "HTMLModel",
            "_view_count": null,
            "_view_module": "@jupyter-widgets/controls",
            "_view_module_version": "1.5.0",
            "_view_name": "HTMLView",
            "description": "",
            "description_tooltip": null,
            "layout": "IPY_MODEL_38429b7296dc4e5f9b1d0d64ab588696",
            "placeholder": "​",
            "style": "IPY_MODEL_2b84d0163eab408c9627de19e252b2a4",
            "value": "Downloading (…)okenizer_config.json: 100%"
          }
        },
        "6b77562f4bc24b049ff45f763006cb60": {
          "model_module": "@jupyter-widgets/controls",
          "model_name": "FloatProgressModel",
          "model_module_version": "1.5.0",
          "state": {
            "_dom_classes": [],
            "_model_module": "@jupyter-widgets/controls",
            "_model_module_version": "1.5.0",
            "_model_name": "FloatProgressModel",
            "_view_count": null,
            "_view_module": "@jupyter-widgets/controls",
            "_view_module_version": "1.5.0",
            "_view_name": "ProgressView",
            "bar_style": "success",
            "description": "",
            "description_tooltip": null,
            "layout": "IPY_MODEL_2ae5d4577093469a8f20cd924c01360d",
            "max": 28,
            "min": 0,
            "orientation": "horizontal",
            "style": "IPY_MODEL_4210fdf1d072465d8b2215d2c47103a5",
            "value": 28
          }
        },
        "883fd9b8ff644a06b8674fc7c73529e4": {
          "model_module": "@jupyter-widgets/controls",
          "model_name": "HTMLModel",
          "model_module_version": "1.5.0",
          "state": {
            "_dom_classes": [],
            "_model_module": "@jupyter-widgets/controls",
            "_model_module_version": "1.5.0",
            "_model_name": "HTMLModel",
            "_view_count": null,
            "_view_module": "@jupyter-widgets/controls",
            "_view_module_version": "1.5.0",
            "_view_name": "HTMLView",
            "description": "",
            "description_tooltip": null,
            "layout": "IPY_MODEL_f4cc11fbb7c24cd3aa5bf3a10c6c82db",
            "placeholder": "​",
            "style": "IPY_MODEL_8d4d5db590294212af39ccfeec2a0cb8",
            "value": " 28.0/28.0 [00:00&lt;00:00, 1.16kB/s]"
          }
        },
        "75823fdd13da407c80c40e399eccd8d8": {
          "model_module": "@jupyter-widgets/base",
          "model_name": "LayoutModel",
          "model_module_version": "1.2.0",
          "state": {
            "_model_module": "@jupyter-widgets/base",
            "_model_module_version": "1.2.0",
            "_model_name": "LayoutModel",
            "_view_count": null,
            "_view_module": "@jupyter-widgets/base",
            "_view_module_version": "1.2.0",
            "_view_name": "LayoutView",
            "align_content": null,
            "align_items": null,
            "align_self": null,
            "border": null,
            "bottom": null,
            "display": null,
            "flex": null,
            "flex_flow": null,
            "grid_area": null,
            "grid_auto_columns": null,
            "grid_auto_flow": null,
            "grid_auto_rows": null,
            "grid_column": null,
            "grid_gap": null,
            "grid_row": null,
            "grid_template_areas": null,
            "grid_template_columns": null,
            "grid_template_rows": null,
            "height": null,
            "justify_content": null,
            "justify_items": null,
            "left": null,
            "margin": null,
            "max_height": null,
            "max_width": null,
            "min_height": null,
            "min_width": null,
            "object_fit": null,
            "object_position": null,
            "order": null,
            "overflow": null,
            "overflow_x": null,
            "overflow_y": null,
            "padding": null,
            "right": null,
            "top": null,
            "visibility": null,
            "width": null
          }
        },
        "38429b7296dc4e5f9b1d0d64ab588696": {
          "model_module": "@jupyter-widgets/base",
          "model_name": "LayoutModel",
          "model_module_version": "1.2.0",
          "state": {
            "_model_module": "@jupyter-widgets/base",
            "_model_module_version": "1.2.0",
            "_model_name": "LayoutModel",
            "_view_count": null,
            "_view_module": "@jupyter-widgets/base",
            "_view_module_version": "1.2.0",
            "_view_name": "LayoutView",
            "align_content": null,
            "align_items": null,
            "align_self": null,
            "border": null,
            "bottom": null,
            "display": null,
            "flex": null,
            "flex_flow": null,
            "grid_area": null,
            "grid_auto_columns": null,
            "grid_auto_flow": null,
            "grid_auto_rows": null,
            "grid_column": null,
            "grid_gap": null,
            "grid_row": null,
            "grid_template_areas": null,
            "grid_template_columns": null,
            "grid_template_rows": null,
            "height": null,
            "justify_content": null,
            "justify_items": null,
            "left": null,
            "margin": null,
            "max_height": null,
            "max_width": null,
            "min_height": null,
            "min_width": null,
            "object_fit": null,
            "object_position": null,
            "order": null,
            "overflow": null,
            "overflow_x": null,
            "overflow_y": null,
            "padding": null,
            "right": null,
            "top": null,
            "visibility": null,
            "width": null
          }
        },
        "2b84d0163eab408c9627de19e252b2a4": {
          "model_module": "@jupyter-widgets/controls",
          "model_name": "DescriptionStyleModel",
          "model_module_version": "1.5.0",
          "state": {
            "_model_module": "@jupyter-widgets/controls",
            "_model_module_version": "1.5.0",
            "_model_name": "DescriptionStyleModel",
            "_view_count": null,
            "_view_module": "@jupyter-widgets/base",
            "_view_module_version": "1.2.0",
            "_view_name": "StyleView",
            "description_width": ""
          }
        },
        "2ae5d4577093469a8f20cd924c01360d": {
          "model_module": "@jupyter-widgets/base",
          "model_name": "LayoutModel",
          "model_module_version": "1.2.0",
          "state": {
            "_model_module": "@jupyter-widgets/base",
            "_model_module_version": "1.2.0",
            "_model_name": "LayoutModel",
            "_view_count": null,
            "_view_module": "@jupyter-widgets/base",
            "_view_module_version": "1.2.0",
            "_view_name": "LayoutView",
            "align_content": null,
            "align_items": null,
            "align_self": null,
            "border": null,
            "bottom": null,
            "display": null,
            "flex": null,
            "flex_flow": null,
            "grid_area": null,
            "grid_auto_columns": null,
            "grid_auto_flow": null,
            "grid_auto_rows": null,
            "grid_column": null,
            "grid_gap": null,
            "grid_row": null,
            "grid_template_areas": null,
            "grid_template_columns": null,
            "grid_template_rows": null,
            "height": null,
            "justify_content": null,
            "justify_items": null,
            "left": null,
            "margin": null,
            "max_height": null,
            "max_width": null,
            "min_height": null,
            "min_width": null,
            "object_fit": null,
            "object_position": null,
            "order": null,
            "overflow": null,
            "overflow_x": null,
            "overflow_y": null,
            "padding": null,
            "right": null,
            "top": null,
            "visibility": null,
            "width": null
          }
        },
        "4210fdf1d072465d8b2215d2c47103a5": {
          "model_module": "@jupyter-widgets/controls",
          "model_name": "ProgressStyleModel",
          "model_module_version": "1.5.0",
          "state": {
            "_model_module": "@jupyter-widgets/controls",
            "_model_module_version": "1.5.0",
            "_model_name": "ProgressStyleModel",
            "_view_count": null,
            "_view_module": "@jupyter-widgets/base",
            "_view_module_version": "1.2.0",
            "_view_name": "StyleView",
            "bar_color": null,
            "description_width": ""
          }
        },
        "f4cc11fbb7c24cd3aa5bf3a10c6c82db": {
          "model_module": "@jupyter-widgets/base",
          "model_name": "LayoutModel",
          "model_module_version": "1.2.0",
          "state": {
            "_model_module": "@jupyter-widgets/base",
            "_model_module_version": "1.2.0",
            "_model_name": "LayoutModel",
            "_view_count": null,
            "_view_module": "@jupyter-widgets/base",
            "_view_module_version": "1.2.0",
            "_view_name": "LayoutView",
            "align_content": null,
            "align_items": null,
            "align_self": null,
            "border": null,
            "bottom": null,
            "display": null,
            "flex": null,
            "flex_flow": null,
            "grid_area": null,
            "grid_auto_columns": null,
            "grid_auto_flow": null,
            "grid_auto_rows": null,
            "grid_column": null,
            "grid_gap": null,
            "grid_row": null,
            "grid_template_areas": null,
            "grid_template_columns": null,
            "grid_template_rows": null,
            "height": null,
            "justify_content": null,
            "justify_items": null,
            "left": null,
            "margin": null,
            "max_height": null,
            "max_width": null,
            "min_height": null,
            "min_width": null,
            "object_fit": null,
            "object_position": null,
            "order": null,
            "overflow": null,
            "overflow_x": null,
            "overflow_y": null,
            "padding": null,
            "right": null,
            "top": null,
            "visibility": null,
            "width": null
          }
        },
        "8d4d5db590294212af39ccfeec2a0cb8": {
          "model_module": "@jupyter-widgets/controls",
          "model_name": "DescriptionStyleModel",
          "model_module_version": "1.5.0",
          "state": {
            "_model_module": "@jupyter-widgets/controls",
            "_model_module_version": "1.5.0",
            "_model_name": "DescriptionStyleModel",
            "_view_count": null,
            "_view_module": "@jupyter-widgets/base",
            "_view_module_version": "1.2.0",
            "_view_name": "StyleView",
            "description_width": ""
          }
        },
        "340a20bae4e845db86e5db0a4a2c8d16": {
          "model_module": "@jupyter-widgets/controls",
          "model_name": "HBoxModel",
          "model_module_version": "1.5.0",
          "state": {
            "_dom_classes": [],
            "_model_module": "@jupyter-widgets/controls",
            "_model_module_version": "1.5.0",
            "_model_name": "HBoxModel",
            "_view_count": null,
            "_view_module": "@jupyter-widgets/controls",
            "_view_module_version": "1.5.0",
            "_view_name": "HBoxView",
            "box_style": "",
            "children": [
              "IPY_MODEL_d352f9a3dcad484e84bb2cdfc269e089",
              "IPY_MODEL_92daa051363f4d9f87348a505f27ff21",
              "IPY_MODEL_a1f03a5d3ebc4e28b223ca5fd7eedc61"
            ],
            "layout": "IPY_MODEL_2d562e969dca456699392202e3d9e539"
          }
        },
        "d352f9a3dcad484e84bb2cdfc269e089": {
          "model_module": "@jupyter-widgets/controls",
          "model_name": "HTMLModel",
          "model_module_version": "1.5.0",
          "state": {
            "_dom_classes": [],
            "_model_module": "@jupyter-widgets/controls",
            "_model_module_version": "1.5.0",
            "_model_name": "HTMLModel",
            "_view_count": null,
            "_view_module": "@jupyter-widgets/controls",
            "_view_module_version": "1.5.0",
            "_view_name": "HTMLView",
            "description": "",
            "description_tooltip": null,
            "layout": "IPY_MODEL_8d48015785074bab89d17bc08efc8b1d",
            "placeholder": "​",
            "style": "IPY_MODEL_34629f6118d34d93b3875eca7c2ed8b7",
            "value": "Downloading (…)solve/main/vocab.txt: 100%"
          }
        },
        "92daa051363f4d9f87348a505f27ff21": {
          "model_module": "@jupyter-widgets/controls",
          "model_name": "FloatProgressModel",
          "model_module_version": "1.5.0",
          "state": {
            "_dom_classes": [],
            "_model_module": "@jupyter-widgets/controls",
            "_model_module_version": "1.5.0",
            "_model_name": "FloatProgressModel",
            "_view_count": null,
            "_view_module": "@jupyter-widgets/controls",
            "_view_module_version": "1.5.0",
            "_view_name": "ProgressView",
            "bar_style": "success",
            "description": "",
            "description_tooltip": null,
            "layout": "IPY_MODEL_7daf3ce5f449414e94f9a7211e1ca418",
            "max": 231508,
            "min": 0,
            "orientation": "horizontal",
            "style": "IPY_MODEL_d0697a1587c64d1da14e2df902fbbfee",
            "value": 231508
          }
        },
        "a1f03a5d3ebc4e28b223ca5fd7eedc61": {
          "model_module": "@jupyter-widgets/controls",
          "model_name": "HTMLModel",
          "model_module_version": "1.5.0",
          "state": {
            "_dom_classes": [],
            "_model_module": "@jupyter-widgets/controls",
            "_model_module_version": "1.5.0",
            "_model_name": "HTMLModel",
            "_view_count": null,
            "_view_module": "@jupyter-widgets/controls",
            "_view_module_version": "1.5.0",
            "_view_name": "HTMLView",
            "description": "",
            "description_tooltip": null,
            "layout": "IPY_MODEL_a89ad866a7ed4029bdef261cb3f0d9c0",
            "placeholder": "​",
            "style": "IPY_MODEL_844ae9016cc54acd81d87550b3413349",
            "value": " 232k/232k [00:00&lt;00:00, 2.63MB/s]"
          }
        },
        "2d562e969dca456699392202e3d9e539": {
          "model_module": "@jupyter-widgets/base",
          "model_name": "LayoutModel",
          "model_module_version": "1.2.0",
          "state": {
            "_model_module": "@jupyter-widgets/base",
            "_model_module_version": "1.2.0",
            "_model_name": "LayoutModel",
            "_view_count": null,
            "_view_module": "@jupyter-widgets/base",
            "_view_module_version": "1.2.0",
            "_view_name": "LayoutView",
            "align_content": null,
            "align_items": null,
            "align_self": null,
            "border": null,
            "bottom": null,
            "display": null,
            "flex": null,
            "flex_flow": null,
            "grid_area": null,
            "grid_auto_columns": null,
            "grid_auto_flow": null,
            "grid_auto_rows": null,
            "grid_column": null,
            "grid_gap": null,
            "grid_row": null,
            "grid_template_areas": null,
            "grid_template_columns": null,
            "grid_template_rows": null,
            "height": null,
            "justify_content": null,
            "justify_items": null,
            "left": null,
            "margin": null,
            "max_height": null,
            "max_width": null,
            "min_height": null,
            "min_width": null,
            "object_fit": null,
            "object_position": null,
            "order": null,
            "overflow": null,
            "overflow_x": null,
            "overflow_y": null,
            "padding": null,
            "right": null,
            "top": null,
            "visibility": null,
            "width": null
          }
        },
        "8d48015785074bab89d17bc08efc8b1d": {
          "model_module": "@jupyter-widgets/base",
          "model_name": "LayoutModel",
          "model_module_version": "1.2.0",
          "state": {
            "_model_module": "@jupyter-widgets/base",
            "_model_module_version": "1.2.0",
            "_model_name": "LayoutModel",
            "_view_count": null,
            "_view_module": "@jupyter-widgets/base",
            "_view_module_version": "1.2.0",
            "_view_name": "LayoutView",
            "align_content": null,
            "align_items": null,
            "align_self": null,
            "border": null,
            "bottom": null,
            "display": null,
            "flex": null,
            "flex_flow": null,
            "grid_area": null,
            "grid_auto_columns": null,
            "grid_auto_flow": null,
            "grid_auto_rows": null,
            "grid_column": null,
            "grid_gap": null,
            "grid_row": null,
            "grid_template_areas": null,
            "grid_template_columns": null,
            "grid_template_rows": null,
            "height": null,
            "justify_content": null,
            "justify_items": null,
            "left": null,
            "margin": null,
            "max_height": null,
            "max_width": null,
            "min_height": null,
            "min_width": null,
            "object_fit": null,
            "object_position": null,
            "order": null,
            "overflow": null,
            "overflow_x": null,
            "overflow_y": null,
            "padding": null,
            "right": null,
            "top": null,
            "visibility": null,
            "width": null
          }
        },
        "34629f6118d34d93b3875eca7c2ed8b7": {
          "model_module": "@jupyter-widgets/controls",
          "model_name": "DescriptionStyleModel",
          "model_module_version": "1.5.0",
          "state": {
            "_model_module": "@jupyter-widgets/controls",
            "_model_module_version": "1.5.0",
            "_model_name": "DescriptionStyleModel",
            "_view_count": null,
            "_view_module": "@jupyter-widgets/base",
            "_view_module_version": "1.2.0",
            "_view_name": "StyleView",
            "description_width": ""
          }
        },
        "7daf3ce5f449414e94f9a7211e1ca418": {
          "model_module": "@jupyter-widgets/base",
          "model_name": "LayoutModel",
          "model_module_version": "1.2.0",
          "state": {
            "_model_module": "@jupyter-widgets/base",
            "_model_module_version": "1.2.0",
            "_model_name": "LayoutModel",
            "_view_count": null,
            "_view_module": "@jupyter-widgets/base",
            "_view_module_version": "1.2.0",
            "_view_name": "LayoutView",
            "align_content": null,
            "align_items": null,
            "align_self": null,
            "border": null,
            "bottom": null,
            "display": null,
            "flex": null,
            "flex_flow": null,
            "grid_area": null,
            "grid_auto_columns": null,
            "grid_auto_flow": null,
            "grid_auto_rows": null,
            "grid_column": null,
            "grid_gap": null,
            "grid_row": null,
            "grid_template_areas": null,
            "grid_template_columns": null,
            "grid_template_rows": null,
            "height": null,
            "justify_content": null,
            "justify_items": null,
            "left": null,
            "margin": null,
            "max_height": null,
            "max_width": null,
            "min_height": null,
            "min_width": null,
            "object_fit": null,
            "object_position": null,
            "order": null,
            "overflow": null,
            "overflow_x": null,
            "overflow_y": null,
            "padding": null,
            "right": null,
            "top": null,
            "visibility": null,
            "width": null
          }
        },
        "d0697a1587c64d1da14e2df902fbbfee": {
          "model_module": "@jupyter-widgets/controls",
          "model_name": "ProgressStyleModel",
          "model_module_version": "1.5.0",
          "state": {
            "_model_module": "@jupyter-widgets/controls",
            "_model_module_version": "1.5.0",
            "_model_name": "ProgressStyleModel",
            "_view_count": null,
            "_view_module": "@jupyter-widgets/base",
            "_view_module_version": "1.2.0",
            "_view_name": "StyleView",
            "bar_color": null,
            "description_width": ""
          }
        },
        "a89ad866a7ed4029bdef261cb3f0d9c0": {
          "model_module": "@jupyter-widgets/base",
          "model_name": "LayoutModel",
          "model_module_version": "1.2.0",
          "state": {
            "_model_module": "@jupyter-widgets/base",
            "_model_module_version": "1.2.0",
            "_model_name": "LayoutModel",
            "_view_count": null,
            "_view_module": "@jupyter-widgets/base",
            "_view_module_version": "1.2.0",
            "_view_name": "LayoutView",
            "align_content": null,
            "align_items": null,
            "align_self": null,
            "border": null,
            "bottom": null,
            "display": null,
            "flex": null,
            "flex_flow": null,
            "grid_area": null,
            "grid_auto_columns": null,
            "grid_auto_flow": null,
            "grid_auto_rows": null,
            "grid_column": null,
            "grid_gap": null,
            "grid_row": null,
            "grid_template_areas": null,
            "grid_template_columns": null,
            "grid_template_rows": null,
            "height": null,
            "justify_content": null,
            "justify_items": null,
            "left": null,
            "margin": null,
            "max_height": null,
            "max_width": null,
            "min_height": null,
            "min_width": null,
            "object_fit": null,
            "object_position": null,
            "order": null,
            "overflow": null,
            "overflow_x": null,
            "overflow_y": null,
            "padding": null,
            "right": null,
            "top": null,
            "visibility": null,
            "width": null
          }
        },
        "844ae9016cc54acd81d87550b3413349": {
          "model_module": "@jupyter-widgets/controls",
          "model_name": "DescriptionStyleModel",
          "model_module_version": "1.5.0",
          "state": {
            "_model_module": "@jupyter-widgets/controls",
            "_model_module_version": "1.5.0",
            "_model_name": "DescriptionStyleModel",
            "_view_count": null,
            "_view_module": "@jupyter-widgets/base",
            "_view_module_version": "1.2.0",
            "_view_name": "StyleView",
            "description_width": ""
          }
        },
        "1d86c062a9964c1bb29ac9937998d693": {
          "model_module": "@jupyter-widgets/controls",
          "model_name": "HBoxModel",
          "model_module_version": "1.5.0",
          "state": {
            "_dom_classes": [],
            "_model_module": "@jupyter-widgets/controls",
            "_model_module_version": "1.5.0",
            "_model_name": "HBoxModel",
            "_view_count": null,
            "_view_module": "@jupyter-widgets/controls",
            "_view_module_version": "1.5.0",
            "_view_name": "HBoxView",
            "box_style": "",
            "children": [
              "IPY_MODEL_9a7fae774a0c48acae71ada8d0952d6d",
              "IPY_MODEL_1025ccd19d8d4fc6bc6069e8e6960575",
              "IPY_MODEL_0371fbb994a5422e973998042ef298ae"
            ],
            "layout": "IPY_MODEL_1ec83d77fe334937a7fe1366c896aaa4"
          }
        },
        "9a7fae774a0c48acae71ada8d0952d6d": {
          "model_module": "@jupyter-widgets/controls",
          "model_name": "HTMLModel",
          "model_module_version": "1.5.0",
          "state": {
            "_dom_classes": [],
            "_model_module": "@jupyter-widgets/controls",
            "_model_module_version": "1.5.0",
            "_model_name": "HTMLModel",
            "_view_count": null,
            "_view_module": "@jupyter-widgets/controls",
            "_view_module_version": "1.5.0",
            "_view_name": "HTMLView",
            "description": "",
            "description_tooltip": null,
            "layout": "IPY_MODEL_a3face93f95446f08f10f1793d0eb171",
            "placeholder": "​",
            "style": "IPY_MODEL_0f6e34a0c0e546ca9fe7f8936729fb81",
            "value": "Downloading (…)/main/tokenizer.json: 100%"
          }
        },
        "1025ccd19d8d4fc6bc6069e8e6960575": {
          "model_module": "@jupyter-widgets/controls",
          "model_name": "FloatProgressModel",
          "model_module_version": "1.5.0",
          "state": {
            "_dom_classes": [],
            "_model_module": "@jupyter-widgets/controls",
            "_model_module_version": "1.5.0",
            "_model_name": "FloatProgressModel",
            "_view_count": null,
            "_view_module": "@jupyter-widgets/controls",
            "_view_module_version": "1.5.0",
            "_view_name": "ProgressView",
            "bar_style": "success",
            "description": "",
            "description_tooltip": null,
            "layout": "IPY_MODEL_70ce434a2e9a4368a1a2b3188ef6f475",
            "max": 466062,
            "min": 0,
            "orientation": "horizontal",
            "style": "IPY_MODEL_a4580b8f2b3a4cfdb007cb801f933a38",
            "value": 466062
          }
        },
        "0371fbb994a5422e973998042ef298ae": {
          "model_module": "@jupyter-widgets/controls",
          "model_name": "HTMLModel",
          "model_module_version": "1.5.0",
          "state": {
            "_dom_classes": [],
            "_model_module": "@jupyter-widgets/controls",
            "_model_module_version": "1.5.0",
            "_model_name": "HTMLModel",
            "_view_count": null,
            "_view_module": "@jupyter-widgets/controls",
            "_view_module_version": "1.5.0",
            "_view_name": "HTMLView",
            "description": "",
            "description_tooltip": null,
            "layout": "IPY_MODEL_57d673894cf9478fa88d899e68cf47bc",
            "placeholder": "​",
            "style": "IPY_MODEL_c6aa395a8a014d67a3e82ac77e5d9a93",
            "value": " 466k/466k [00:00&lt;00:00, 3.97MB/s]"
          }
        },
        "1ec83d77fe334937a7fe1366c896aaa4": {
          "model_module": "@jupyter-widgets/base",
          "model_name": "LayoutModel",
          "model_module_version": "1.2.0",
          "state": {
            "_model_module": "@jupyter-widgets/base",
            "_model_module_version": "1.2.0",
            "_model_name": "LayoutModel",
            "_view_count": null,
            "_view_module": "@jupyter-widgets/base",
            "_view_module_version": "1.2.0",
            "_view_name": "LayoutView",
            "align_content": null,
            "align_items": null,
            "align_self": null,
            "border": null,
            "bottom": null,
            "display": null,
            "flex": null,
            "flex_flow": null,
            "grid_area": null,
            "grid_auto_columns": null,
            "grid_auto_flow": null,
            "grid_auto_rows": null,
            "grid_column": null,
            "grid_gap": null,
            "grid_row": null,
            "grid_template_areas": null,
            "grid_template_columns": null,
            "grid_template_rows": null,
            "height": null,
            "justify_content": null,
            "justify_items": null,
            "left": null,
            "margin": null,
            "max_height": null,
            "max_width": null,
            "min_height": null,
            "min_width": null,
            "object_fit": null,
            "object_position": null,
            "order": null,
            "overflow": null,
            "overflow_x": null,
            "overflow_y": null,
            "padding": null,
            "right": null,
            "top": null,
            "visibility": null,
            "width": null
          }
        },
        "a3face93f95446f08f10f1793d0eb171": {
          "model_module": "@jupyter-widgets/base",
          "model_name": "LayoutModel",
          "model_module_version": "1.2.0",
          "state": {
            "_model_module": "@jupyter-widgets/base",
            "_model_module_version": "1.2.0",
            "_model_name": "LayoutModel",
            "_view_count": null,
            "_view_module": "@jupyter-widgets/base",
            "_view_module_version": "1.2.0",
            "_view_name": "LayoutView",
            "align_content": null,
            "align_items": null,
            "align_self": null,
            "border": null,
            "bottom": null,
            "display": null,
            "flex": null,
            "flex_flow": null,
            "grid_area": null,
            "grid_auto_columns": null,
            "grid_auto_flow": null,
            "grid_auto_rows": null,
            "grid_column": null,
            "grid_gap": null,
            "grid_row": null,
            "grid_template_areas": null,
            "grid_template_columns": null,
            "grid_template_rows": null,
            "height": null,
            "justify_content": null,
            "justify_items": null,
            "left": null,
            "margin": null,
            "max_height": null,
            "max_width": null,
            "min_height": null,
            "min_width": null,
            "object_fit": null,
            "object_position": null,
            "order": null,
            "overflow": null,
            "overflow_x": null,
            "overflow_y": null,
            "padding": null,
            "right": null,
            "top": null,
            "visibility": null,
            "width": null
          }
        },
        "0f6e34a0c0e546ca9fe7f8936729fb81": {
          "model_module": "@jupyter-widgets/controls",
          "model_name": "DescriptionStyleModel",
          "model_module_version": "1.5.0",
          "state": {
            "_model_module": "@jupyter-widgets/controls",
            "_model_module_version": "1.5.0",
            "_model_name": "DescriptionStyleModel",
            "_view_count": null,
            "_view_module": "@jupyter-widgets/base",
            "_view_module_version": "1.2.0",
            "_view_name": "StyleView",
            "description_width": ""
          }
        },
        "70ce434a2e9a4368a1a2b3188ef6f475": {
          "model_module": "@jupyter-widgets/base",
          "model_name": "LayoutModel",
          "model_module_version": "1.2.0",
          "state": {
            "_model_module": "@jupyter-widgets/base",
            "_model_module_version": "1.2.0",
            "_model_name": "LayoutModel",
            "_view_count": null,
            "_view_module": "@jupyter-widgets/base",
            "_view_module_version": "1.2.0",
            "_view_name": "LayoutView",
            "align_content": null,
            "align_items": null,
            "align_self": null,
            "border": null,
            "bottom": null,
            "display": null,
            "flex": null,
            "flex_flow": null,
            "grid_area": null,
            "grid_auto_columns": null,
            "grid_auto_flow": null,
            "grid_auto_rows": null,
            "grid_column": null,
            "grid_gap": null,
            "grid_row": null,
            "grid_template_areas": null,
            "grid_template_columns": null,
            "grid_template_rows": null,
            "height": null,
            "justify_content": null,
            "justify_items": null,
            "left": null,
            "margin": null,
            "max_height": null,
            "max_width": null,
            "min_height": null,
            "min_width": null,
            "object_fit": null,
            "object_position": null,
            "order": null,
            "overflow": null,
            "overflow_x": null,
            "overflow_y": null,
            "padding": null,
            "right": null,
            "top": null,
            "visibility": null,
            "width": null
          }
        },
        "a4580b8f2b3a4cfdb007cb801f933a38": {
          "model_module": "@jupyter-widgets/controls",
          "model_name": "ProgressStyleModel",
          "model_module_version": "1.5.0",
          "state": {
            "_model_module": "@jupyter-widgets/controls",
            "_model_module_version": "1.5.0",
            "_model_name": "ProgressStyleModel",
            "_view_count": null,
            "_view_module": "@jupyter-widgets/base",
            "_view_module_version": "1.2.0",
            "_view_name": "StyleView",
            "bar_color": null,
            "description_width": ""
          }
        },
        "57d673894cf9478fa88d899e68cf47bc": {
          "model_module": "@jupyter-widgets/base",
          "model_name": "LayoutModel",
          "model_module_version": "1.2.0",
          "state": {
            "_model_module": "@jupyter-widgets/base",
            "_model_module_version": "1.2.0",
            "_model_name": "LayoutModel",
            "_view_count": null,
            "_view_module": "@jupyter-widgets/base",
            "_view_module_version": "1.2.0",
            "_view_name": "LayoutView",
            "align_content": null,
            "align_items": null,
            "align_self": null,
            "border": null,
            "bottom": null,
            "display": null,
            "flex": null,
            "flex_flow": null,
            "grid_area": null,
            "grid_auto_columns": null,
            "grid_auto_flow": null,
            "grid_auto_rows": null,
            "grid_column": null,
            "grid_gap": null,
            "grid_row": null,
            "grid_template_areas": null,
            "grid_template_columns": null,
            "grid_template_rows": null,
            "height": null,
            "justify_content": null,
            "justify_items": null,
            "left": null,
            "margin": null,
            "max_height": null,
            "max_width": null,
            "min_height": null,
            "min_width": null,
            "object_fit": null,
            "object_position": null,
            "order": null,
            "overflow": null,
            "overflow_x": null,
            "overflow_y": null,
            "padding": null,
            "right": null,
            "top": null,
            "visibility": null,
            "width": null
          }
        },
        "c6aa395a8a014d67a3e82ac77e5d9a93": {
          "model_module": "@jupyter-widgets/controls",
          "model_name": "DescriptionStyleModel",
          "model_module_version": "1.5.0",
          "state": {
            "_model_module": "@jupyter-widgets/controls",
            "_model_module_version": "1.5.0",
            "_model_name": "DescriptionStyleModel",
            "_view_count": null,
            "_view_module": "@jupyter-widgets/base",
            "_view_module_version": "1.2.0",
            "_view_name": "StyleView",
            "description_width": ""
          }
        }
      }
    },
    "accelerator": "GPU"
  },
  "nbformat": 4,
  "nbformat_minor": 0
}